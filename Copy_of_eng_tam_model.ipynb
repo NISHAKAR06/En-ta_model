{
  "nbformat": 4,
  "nbformat_minor": 0,
  "metadata": {
    "colab": {
      "provenance": [],
      "gpuType": "T4",
      "authorship_tag": "ABX9TyPgdjXlZOS7Wv/6SpVmiGQa",
      "include_colab_link": true
    },
    "kernelspec": {
      "name": "python3",
      "display_name": "Python 3"
    },
    "language_info": {
      "name": "python"
    },
    "accelerator": "GPU",
    "widgets": {
      "application/vnd.jupyter.widget-state+json": {
        "3ace6bcaf87b46cfba70471c20a8037a": {
          "model_module": "@jupyter-widgets/controls",
          "model_name": "HBoxModel",
          "model_module_version": "1.5.0",
          "state": {
            "_dom_classes": [],
            "_model_module": "@jupyter-widgets/controls",
            "_model_module_version": "1.5.0",
            "_model_name": "HBoxModel",
            "_view_count": null,
            "_view_module": "@jupyter-widgets/controls",
            "_view_module_version": "1.5.0",
            "_view_name": "HBoxView",
            "box_style": "",
            "children": [
              "IPY_MODEL_a5ad60417caf46229f94a21c64a14772",
              "IPY_MODEL_ff8e71607b6945129a69a306533c7ae7",
              "IPY_MODEL_284af9a1025e4d2096c01a1cdac1b3e0"
            ],
            "layout": "IPY_MODEL_df0d9d21ebbf47499789a4ca42426e10"
          }
        },
        "a5ad60417caf46229f94a21c64a14772": {
          "model_module": "@jupyter-widgets/controls",
          "model_name": "HTMLModel",
          "model_module_version": "1.5.0",
          "state": {
            "_dom_classes": [],
            "_model_module": "@jupyter-widgets/controls",
            "_model_module_version": "1.5.0",
            "_model_name": "HTMLModel",
            "_view_count": null,
            "_view_module": "@jupyter-widgets/controls",
            "_view_module_version": "1.5.0",
            "_view_name": "HTMLView",
            "description": "",
            "description_tooltip": null,
            "layout": "IPY_MODEL_eade991d75044313b405c57b36e20e51",
            "placeholder": "​",
            "style": "IPY_MODEL_2ba887f085f944899ebc551c56f35d0a",
            "value": "Map: 100%"
          }
        },
        "ff8e71607b6945129a69a306533c7ae7": {
          "model_module": "@jupyter-widgets/controls",
          "model_name": "FloatProgressModel",
          "model_module_version": "1.5.0",
          "state": {
            "_dom_classes": [],
            "_model_module": "@jupyter-widgets/controls",
            "_model_module_version": "1.5.0",
            "_model_name": "FloatProgressModel",
            "_view_count": null,
            "_view_module": "@jupyter-widgets/controls",
            "_view_module_version": "1.5.0",
            "_view_name": "ProgressView",
            "bar_style": "success",
            "description": "",
            "description_tooltip": null,
            "layout": "IPY_MODEL_4f8d9d532b8b407f8674182fd65c50bd",
            "max": 14375,
            "min": 0,
            "orientation": "horizontal",
            "style": "IPY_MODEL_e66f8bbeb09d41198ac5280eaa8ccbb9",
            "value": 14375
          }
        },
        "284af9a1025e4d2096c01a1cdac1b3e0": {
          "model_module": "@jupyter-widgets/controls",
          "model_name": "HTMLModel",
          "model_module_version": "1.5.0",
          "state": {
            "_dom_classes": [],
            "_model_module": "@jupyter-widgets/controls",
            "_model_module_version": "1.5.0",
            "_model_name": "HTMLModel",
            "_view_count": null,
            "_view_module": "@jupyter-widgets/controls",
            "_view_module_version": "1.5.0",
            "_view_name": "HTMLView",
            "description": "",
            "description_tooltip": null,
            "layout": "IPY_MODEL_2374c00f3b3c441ebb1f4fe78d8b87b4",
            "placeholder": "​",
            "style": "IPY_MODEL_9fd4cd136bc4416a825d4f5753d64f8f",
            "value": " 14375/14375 [00:12&lt;00:00, 928.04 examples/s]"
          }
        },
        "df0d9d21ebbf47499789a4ca42426e10": {
          "model_module": "@jupyter-widgets/base",
          "model_name": "LayoutModel",
          "model_module_version": "1.2.0",
          "state": {
            "_model_module": "@jupyter-widgets/base",
            "_model_module_version": "1.2.0",
            "_model_name": "LayoutModel",
            "_view_count": null,
            "_view_module": "@jupyter-widgets/base",
            "_view_module_version": "1.2.0",
            "_view_name": "LayoutView",
            "align_content": null,
            "align_items": null,
            "align_self": null,
            "border": null,
            "bottom": null,
            "display": null,
            "flex": null,
            "flex_flow": null,
            "grid_area": null,
            "grid_auto_columns": null,
            "grid_auto_flow": null,
            "grid_auto_rows": null,
            "grid_column": null,
            "grid_gap": null,
            "grid_row": null,
            "grid_template_areas": null,
            "grid_template_columns": null,
            "grid_template_rows": null,
            "height": null,
            "justify_content": null,
            "justify_items": null,
            "left": null,
            "margin": null,
            "max_height": null,
            "max_width": null,
            "min_height": null,
            "min_width": null,
            "object_fit": null,
            "object_position": null,
            "order": null,
            "overflow": null,
            "overflow_x": null,
            "overflow_y": null,
            "padding": null,
            "right": null,
            "top": null,
            "visibility": null,
            "width": null
          }
        },
        "eade991d75044313b405c57b36e20e51": {
          "model_module": "@jupyter-widgets/base",
          "model_name": "LayoutModel",
          "model_module_version": "1.2.0",
          "state": {
            "_model_module": "@jupyter-widgets/base",
            "_model_module_version": "1.2.0",
            "_model_name": "LayoutModel",
            "_view_count": null,
            "_view_module": "@jupyter-widgets/base",
            "_view_module_version": "1.2.0",
            "_view_name": "LayoutView",
            "align_content": null,
            "align_items": null,
            "align_self": null,
            "border": null,
            "bottom": null,
            "display": null,
            "flex": null,
            "flex_flow": null,
            "grid_area": null,
            "grid_auto_columns": null,
            "grid_auto_flow": null,
            "grid_auto_rows": null,
            "grid_column": null,
            "grid_gap": null,
            "grid_row": null,
            "grid_template_areas": null,
            "grid_template_columns": null,
            "grid_template_rows": null,
            "height": null,
            "justify_content": null,
            "justify_items": null,
            "left": null,
            "margin": null,
            "max_height": null,
            "max_width": null,
            "min_height": null,
            "min_width": null,
            "object_fit": null,
            "object_position": null,
            "order": null,
            "overflow": null,
            "overflow_x": null,
            "overflow_y": null,
            "padding": null,
            "right": null,
            "top": null,
            "visibility": null,
            "width": null
          }
        },
        "2ba887f085f944899ebc551c56f35d0a": {
          "model_module": "@jupyter-widgets/controls",
          "model_name": "DescriptionStyleModel",
          "model_module_version": "1.5.0",
          "state": {
            "_model_module": "@jupyter-widgets/controls",
            "_model_module_version": "1.5.0",
            "_model_name": "DescriptionStyleModel",
            "_view_count": null,
            "_view_module": "@jupyter-widgets/base",
            "_view_module_version": "1.2.0",
            "_view_name": "StyleView",
            "description_width": ""
          }
        },
        "4f8d9d532b8b407f8674182fd65c50bd": {
          "model_module": "@jupyter-widgets/base",
          "model_name": "LayoutModel",
          "model_module_version": "1.2.0",
          "state": {
            "_model_module": "@jupyter-widgets/base",
            "_model_module_version": "1.2.0",
            "_model_name": "LayoutModel",
            "_view_count": null,
            "_view_module": "@jupyter-widgets/base",
            "_view_module_version": "1.2.0",
            "_view_name": "LayoutView",
            "align_content": null,
            "align_items": null,
            "align_self": null,
            "border": null,
            "bottom": null,
            "display": null,
            "flex": null,
            "flex_flow": null,
            "grid_area": null,
            "grid_auto_columns": null,
            "grid_auto_flow": null,
            "grid_auto_rows": null,
            "grid_column": null,
            "grid_gap": null,
            "grid_row": null,
            "grid_template_areas": null,
            "grid_template_columns": null,
            "grid_template_rows": null,
            "height": null,
            "justify_content": null,
            "justify_items": null,
            "left": null,
            "margin": null,
            "max_height": null,
            "max_width": null,
            "min_height": null,
            "min_width": null,
            "object_fit": null,
            "object_position": null,
            "order": null,
            "overflow": null,
            "overflow_x": null,
            "overflow_y": null,
            "padding": null,
            "right": null,
            "top": null,
            "visibility": null,
            "width": null
          }
        },
        "e66f8bbeb09d41198ac5280eaa8ccbb9": {
          "model_module": "@jupyter-widgets/controls",
          "model_name": "ProgressStyleModel",
          "model_module_version": "1.5.0",
          "state": {
            "_model_module": "@jupyter-widgets/controls",
            "_model_module_version": "1.5.0",
            "_model_name": "ProgressStyleModel",
            "_view_count": null,
            "_view_module": "@jupyter-widgets/base",
            "_view_module_version": "1.2.0",
            "_view_name": "StyleView",
            "bar_color": null,
            "description_width": ""
          }
        },
        "2374c00f3b3c441ebb1f4fe78d8b87b4": {
          "model_module": "@jupyter-widgets/base",
          "model_name": "LayoutModel",
          "model_module_version": "1.2.0",
          "state": {
            "_model_module": "@jupyter-widgets/base",
            "_model_module_version": "1.2.0",
            "_model_name": "LayoutModel",
            "_view_count": null,
            "_view_module": "@jupyter-widgets/base",
            "_view_module_version": "1.2.0",
            "_view_name": "LayoutView",
            "align_content": null,
            "align_items": null,
            "align_self": null,
            "border": null,
            "bottom": null,
            "display": null,
            "flex": null,
            "flex_flow": null,
            "grid_area": null,
            "grid_auto_columns": null,
            "grid_auto_flow": null,
            "grid_auto_rows": null,
            "grid_column": null,
            "grid_gap": null,
            "grid_row": null,
            "grid_template_areas": null,
            "grid_template_columns": null,
            "grid_template_rows": null,
            "height": null,
            "justify_content": null,
            "justify_items": null,
            "left": null,
            "margin": null,
            "max_height": null,
            "max_width": null,
            "min_height": null,
            "min_width": null,
            "object_fit": null,
            "object_position": null,
            "order": null,
            "overflow": null,
            "overflow_x": null,
            "overflow_y": null,
            "padding": null,
            "right": null,
            "top": null,
            "visibility": null,
            "width": null
          }
        },
        "9fd4cd136bc4416a825d4f5753d64f8f": {
          "model_module": "@jupyter-widgets/controls",
          "model_name": "DescriptionStyleModel",
          "model_module_version": "1.5.0",
          "state": {
            "_model_module": "@jupyter-widgets/controls",
            "_model_module_version": "1.5.0",
            "_model_name": "DescriptionStyleModel",
            "_view_count": null,
            "_view_module": "@jupyter-widgets/base",
            "_view_module_version": "1.2.0",
            "_view_name": "StyleView",
            "description_width": ""
          }
        },
        "8715fe7c8d14432ba64d7ada2057f597": {
          "model_module": "@jupyter-widgets/controls",
          "model_name": "HBoxModel",
          "model_module_version": "1.5.0",
          "state": {
            "_dom_classes": [],
            "_model_module": "@jupyter-widgets/controls",
            "_model_module_version": "1.5.0",
            "_model_name": "HBoxModel",
            "_view_count": null,
            "_view_module": "@jupyter-widgets/controls",
            "_view_module_version": "1.5.0",
            "_view_name": "HBoxView",
            "box_style": "",
            "children": [
              "IPY_MODEL_007cd6891f4940a0b6466372cefc7968",
              "IPY_MODEL_174ba3dd82ba455685cabf4693b2c7cc",
              "IPY_MODEL_1d113c9195654deaac15ab6f670eba6d"
            ],
            "layout": "IPY_MODEL_b34433d0f53a4c8980cba8f1a21ba294"
          }
        },
        "007cd6891f4940a0b6466372cefc7968": {
          "model_module": "@jupyter-widgets/controls",
          "model_name": "HTMLModel",
          "model_module_version": "1.5.0",
          "state": {
            "_dom_classes": [],
            "_model_module": "@jupyter-widgets/controls",
            "_model_module_version": "1.5.0",
            "_model_name": "HTMLModel",
            "_view_count": null,
            "_view_module": "@jupyter-widgets/controls",
            "_view_module_version": "1.5.0",
            "_view_name": "HTMLView",
            "description": "",
            "description_tooltip": null,
            "layout": "IPY_MODEL_6f6deb8b620e41cc96a7aed952493a6b",
            "placeholder": "​",
            "style": "IPY_MODEL_a053dc04b02448a8888b5584d761d109",
            "value": "Map: 100%"
          }
        },
        "174ba3dd82ba455685cabf4693b2c7cc": {
          "model_module": "@jupyter-widgets/controls",
          "model_name": "FloatProgressModel",
          "model_module_version": "1.5.0",
          "state": {
            "_dom_classes": [],
            "_model_module": "@jupyter-widgets/controls",
            "_model_module_version": "1.5.0",
            "_model_name": "FloatProgressModel",
            "_view_count": null,
            "_view_module": "@jupyter-widgets/controls",
            "_view_module_version": "1.5.0",
            "_view_name": "ProgressView",
            "bar_style": "success",
            "description": "",
            "description_tooltip": null,
            "layout": "IPY_MODEL_bd762d3f71634d3e9964040a6df0c57e",
            "max": 1598,
            "min": 0,
            "orientation": "horizontal",
            "style": "IPY_MODEL_b1e34bde843f485c9268eeb05f85b32f",
            "value": 1598
          }
        },
        "1d113c9195654deaac15ab6f670eba6d": {
          "model_module": "@jupyter-widgets/controls",
          "model_name": "HTMLModel",
          "model_module_version": "1.5.0",
          "state": {
            "_dom_classes": [],
            "_model_module": "@jupyter-widgets/controls",
            "_model_module_version": "1.5.0",
            "_model_name": "HTMLModel",
            "_view_count": null,
            "_view_module": "@jupyter-widgets/controls",
            "_view_module_version": "1.5.0",
            "_view_name": "HTMLView",
            "description": "",
            "description_tooltip": null,
            "layout": "IPY_MODEL_6fee8709c8ef4421912a035eb0b5bf2a",
            "placeholder": "​",
            "style": "IPY_MODEL_1d574ed488fc4078a0e5a4ee6a1a25a4",
            "value": " 1598/1598 [00:01&lt;00:00, 798.15 examples/s]"
          }
        },
        "b34433d0f53a4c8980cba8f1a21ba294": {
          "model_module": "@jupyter-widgets/base",
          "model_name": "LayoutModel",
          "model_module_version": "1.2.0",
          "state": {
            "_model_module": "@jupyter-widgets/base",
            "_model_module_version": "1.2.0",
            "_model_name": "LayoutModel",
            "_view_count": null,
            "_view_module": "@jupyter-widgets/base",
            "_view_module_version": "1.2.0",
            "_view_name": "LayoutView",
            "align_content": null,
            "align_items": null,
            "align_self": null,
            "border": null,
            "bottom": null,
            "display": null,
            "flex": null,
            "flex_flow": null,
            "grid_area": null,
            "grid_auto_columns": null,
            "grid_auto_flow": null,
            "grid_auto_rows": null,
            "grid_column": null,
            "grid_gap": null,
            "grid_row": null,
            "grid_template_areas": null,
            "grid_template_columns": null,
            "grid_template_rows": null,
            "height": null,
            "justify_content": null,
            "justify_items": null,
            "left": null,
            "margin": null,
            "max_height": null,
            "max_width": null,
            "min_height": null,
            "min_width": null,
            "object_fit": null,
            "object_position": null,
            "order": null,
            "overflow": null,
            "overflow_x": null,
            "overflow_y": null,
            "padding": null,
            "right": null,
            "top": null,
            "visibility": null,
            "width": null
          }
        },
        "6f6deb8b620e41cc96a7aed952493a6b": {
          "model_module": "@jupyter-widgets/base",
          "model_name": "LayoutModel",
          "model_module_version": "1.2.0",
          "state": {
            "_model_module": "@jupyter-widgets/base",
            "_model_module_version": "1.2.0",
            "_model_name": "LayoutModel",
            "_view_count": null,
            "_view_module": "@jupyter-widgets/base",
            "_view_module_version": "1.2.0",
            "_view_name": "LayoutView",
            "align_content": null,
            "align_items": null,
            "align_self": null,
            "border": null,
            "bottom": null,
            "display": null,
            "flex": null,
            "flex_flow": null,
            "grid_area": null,
            "grid_auto_columns": null,
            "grid_auto_flow": null,
            "grid_auto_rows": null,
            "grid_column": null,
            "grid_gap": null,
            "grid_row": null,
            "grid_template_areas": null,
            "grid_template_columns": null,
            "grid_template_rows": null,
            "height": null,
            "justify_content": null,
            "justify_items": null,
            "left": null,
            "margin": null,
            "max_height": null,
            "max_width": null,
            "min_height": null,
            "min_width": null,
            "object_fit": null,
            "object_position": null,
            "order": null,
            "overflow": null,
            "overflow_x": null,
            "overflow_y": null,
            "padding": null,
            "right": null,
            "top": null,
            "visibility": null,
            "width": null
          }
        },
        "a053dc04b02448a8888b5584d761d109": {
          "model_module": "@jupyter-widgets/controls",
          "model_name": "DescriptionStyleModel",
          "model_module_version": "1.5.0",
          "state": {
            "_model_module": "@jupyter-widgets/controls",
            "_model_module_version": "1.5.0",
            "_model_name": "DescriptionStyleModel",
            "_view_count": null,
            "_view_module": "@jupyter-widgets/base",
            "_view_module_version": "1.2.0",
            "_view_name": "StyleView",
            "description_width": ""
          }
        },
        "bd762d3f71634d3e9964040a6df0c57e": {
          "model_module": "@jupyter-widgets/base",
          "model_name": "LayoutModel",
          "model_module_version": "1.2.0",
          "state": {
            "_model_module": "@jupyter-widgets/base",
            "_model_module_version": "1.2.0",
            "_model_name": "LayoutModel",
            "_view_count": null,
            "_view_module": "@jupyter-widgets/base",
            "_view_module_version": "1.2.0",
            "_view_name": "LayoutView",
            "align_content": null,
            "align_items": null,
            "align_self": null,
            "border": null,
            "bottom": null,
            "display": null,
            "flex": null,
            "flex_flow": null,
            "grid_area": null,
            "grid_auto_columns": null,
            "grid_auto_flow": null,
            "grid_auto_rows": null,
            "grid_column": null,
            "grid_gap": null,
            "grid_row": null,
            "grid_template_areas": null,
            "grid_template_columns": null,
            "grid_template_rows": null,
            "height": null,
            "justify_content": null,
            "justify_items": null,
            "left": null,
            "margin": null,
            "max_height": null,
            "max_width": null,
            "min_height": null,
            "min_width": null,
            "object_fit": null,
            "object_position": null,
            "order": null,
            "overflow": null,
            "overflow_x": null,
            "overflow_y": null,
            "padding": null,
            "right": null,
            "top": null,
            "visibility": null,
            "width": null
          }
        },
        "b1e34bde843f485c9268eeb05f85b32f": {
          "model_module": "@jupyter-widgets/controls",
          "model_name": "ProgressStyleModel",
          "model_module_version": "1.5.0",
          "state": {
            "_model_module": "@jupyter-widgets/controls",
            "_model_module_version": "1.5.0",
            "_model_name": "ProgressStyleModel",
            "_view_count": null,
            "_view_module": "@jupyter-widgets/base",
            "_view_module_version": "1.2.0",
            "_view_name": "StyleView",
            "bar_color": null,
            "description_width": ""
          }
        },
        "6fee8709c8ef4421912a035eb0b5bf2a": {
          "model_module": "@jupyter-widgets/base",
          "model_name": "LayoutModel",
          "model_module_version": "1.2.0",
          "state": {
            "_model_module": "@jupyter-widgets/base",
            "_model_module_version": "1.2.0",
            "_model_name": "LayoutModel",
            "_view_count": null,
            "_view_module": "@jupyter-widgets/base",
            "_view_module_version": "1.2.0",
            "_view_name": "LayoutView",
            "align_content": null,
            "align_items": null,
            "align_self": null,
            "border": null,
            "bottom": null,
            "display": null,
            "flex": null,
            "flex_flow": null,
            "grid_area": null,
            "grid_auto_columns": null,
            "grid_auto_flow": null,
            "grid_auto_rows": null,
            "grid_column": null,
            "grid_gap": null,
            "grid_row": null,
            "grid_template_areas": null,
            "grid_template_columns": null,
            "grid_template_rows": null,
            "height": null,
            "justify_content": null,
            "justify_items": null,
            "left": null,
            "margin": null,
            "max_height": null,
            "max_width": null,
            "min_height": null,
            "min_width": null,
            "object_fit": null,
            "object_position": null,
            "order": null,
            "overflow": null,
            "overflow_x": null,
            "overflow_y": null,
            "padding": null,
            "right": null,
            "top": null,
            "visibility": null,
            "width": null
          }
        },
        "1d574ed488fc4078a0e5a4ee6a1a25a4": {
          "model_module": "@jupyter-widgets/controls",
          "model_name": "DescriptionStyleModel",
          "model_module_version": "1.5.0",
          "state": {
            "_model_module": "@jupyter-widgets/controls",
            "_model_module_version": "1.5.0",
            "_model_name": "DescriptionStyleModel",
            "_view_count": null,
            "_view_module": "@jupyter-widgets/base",
            "_view_module_version": "1.2.0",
            "_view_name": "StyleView",
            "description_width": ""
          }
        },
        "0a8302832ee64891939ab2ab24b333c0": {
          "model_module": "@jupyter-widgets/controls",
          "model_name": "HBoxModel",
          "model_module_version": "1.5.0",
          "state": {
            "_dom_classes": [],
            "_model_module": "@jupyter-widgets/controls",
            "_model_module_version": "1.5.0",
            "_model_name": "HBoxModel",
            "_view_count": null,
            "_view_module": "@jupyter-widgets/controls",
            "_view_module_version": "1.5.0",
            "_view_name": "HBoxView",
            "box_style": "",
            "children": [
              "IPY_MODEL_0a3052f8eed94b459c2002115e8199f4",
              "IPY_MODEL_e77ef1218408457fa2eca6dacad918a9",
              "IPY_MODEL_2f61475e537743908bdeb7f52d35f2c1"
            ],
            "layout": "IPY_MODEL_3c9f7dda7e854c779ec58c9dd67b243a"
          }
        },
        "0a3052f8eed94b459c2002115e8199f4": {
          "model_module": "@jupyter-widgets/controls",
          "model_name": "HTMLModel",
          "model_module_version": "1.5.0",
          "state": {
            "_dom_classes": [],
            "_model_module": "@jupyter-widgets/controls",
            "_model_module_version": "1.5.0",
            "_model_name": "HTMLModel",
            "_view_count": null,
            "_view_module": "@jupyter-widgets/controls",
            "_view_module_version": "1.5.0",
            "_view_name": "HTMLView",
            "description": "",
            "description_tooltip": null,
            "layout": "IPY_MODEL_2101439e094245f9967a6d0cd9f00007",
            "placeholder": "​",
            "style": "IPY_MODEL_a36c4d60dcc941b9b3a947ce9f8c010d",
            "value": "spiece.model: 100%"
          }
        },
        "e77ef1218408457fa2eca6dacad918a9": {
          "model_module": "@jupyter-widgets/controls",
          "model_name": "FloatProgressModel",
          "model_module_version": "1.5.0",
          "state": {
            "_dom_classes": [],
            "_model_module": "@jupyter-widgets/controls",
            "_model_module_version": "1.5.0",
            "_model_name": "FloatProgressModel",
            "_view_count": null,
            "_view_module": "@jupyter-widgets/controls",
            "_view_module_version": "1.5.0",
            "_view_name": "ProgressView",
            "bar_style": "success",
            "description": "",
            "description_tooltip": null,
            "layout": "IPY_MODEL_6ad1b0ddb4dc4010a835c0b01e1e54c1",
            "max": 791656,
            "min": 0,
            "orientation": "horizontal",
            "style": "IPY_MODEL_fd6ed016735b4e5680f8c4bcd96966d1",
            "value": 791656
          }
        },
        "2f61475e537743908bdeb7f52d35f2c1": {
          "model_module": "@jupyter-widgets/controls",
          "model_name": "HTMLModel",
          "model_module_version": "1.5.0",
          "state": {
            "_dom_classes": [],
            "_model_module": "@jupyter-widgets/controls",
            "_model_module_version": "1.5.0",
            "_model_name": "HTMLModel",
            "_view_count": null,
            "_view_module": "@jupyter-widgets/controls",
            "_view_module_version": "1.5.0",
            "_view_name": "HTMLView",
            "description": "",
            "description_tooltip": null,
            "layout": "IPY_MODEL_ee6f572067a9484e898d067363ad4d16",
            "placeholder": "​",
            "style": "IPY_MODEL_4bf208770eda49f58ea644d92434dd10",
            "value": " 792k/792k [00:00&lt;00:00, 4.20MB/s]"
          }
        },
        "3c9f7dda7e854c779ec58c9dd67b243a": {
          "model_module": "@jupyter-widgets/base",
          "model_name": "LayoutModel",
          "model_module_version": "1.2.0",
          "state": {
            "_model_module": "@jupyter-widgets/base",
            "_model_module_version": "1.2.0",
            "_model_name": "LayoutModel",
            "_view_count": null,
            "_view_module": "@jupyter-widgets/base",
            "_view_module_version": "1.2.0",
            "_view_name": "LayoutView",
            "align_content": null,
            "align_items": null,
            "align_self": null,
            "border": null,
            "bottom": null,
            "display": null,
            "flex": null,
            "flex_flow": null,
            "grid_area": null,
            "grid_auto_columns": null,
            "grid_auto_flow": null,
            "grid_auto_rows": null,
            "grid_column": null,
            "grid_gap": null,
            "grid_row": null,
            "grid_template_areas": null,
            "grid_template_columns": null,
            "grid_template_rows": null,
            "height": null,
            "justify_content": null,
            "justify_items": null,
            "left": null,
            "margin": null,
            "max_height": null,
            "max_width": null,
            "min_height": null,
            "min_width": null,
            "object_fit": null,
            "object_position": null,
            "order": null,
            "overflow": null,
            "overflow_x": null,
            "overflow_y": null,
            "padding": null,
            "right": null,
            "top": null,
            "visibility": null,
            "width": null
          }
        },
        "2101439e094245f9967a6d0cd9f00007": {
          "model_module": "@jupyter-widgets/base",
          "model_name": "LayoutModel",
          "model_module_version": "1.2.0",
          "state": {
            "_model_module": "@jupyter-widgets/base",
            "_model_module_version": "1.2.0",
            "_model_name": "LayoutModel",
            "_view_count": null,
            "_view_module": "@jupyter-widgets/base",
            "_view_module_version": "1.2.0",
            "_view_name": "LayoutView",
            "align_content": null,
            "align_items": null,
            "align_self": null,
            "border": null,
            "bottom": null,
            "display": null,
            "flex": null,
            "flex_flow": null,
            "grid_area": null,
            "grid_auto_columns": null,
            "grid_auto_flow": null,
            "grid_auto_rows": null,
            "grid_column": null,
            "grid_gap": null,
            "grid_row": null,
            "grid_template_areas": null,
            "grid_template_columns": null,
            "grid_template_rows": null,
            "height": null,
            "justify_content": null,
            "justify_items": null,
            "left": null,
            "margin": null,
            "max_height": null,
            "max_width": null,
            "min_height": null,
            "min_width": null,
            "object_fit": null,
            "object_position": null,
            "order": null,
            "overflow": null,
            "overflow_x": null,
            "overflow_y": null,
            "padding": null,
            "right": null,
            "top": null,
            "visibility": null,
            "width": null
          }
        },
        "a36c4d60dcc941b9b3a947ce9f8c010d": {
          "model_module": "@jupyter-widgets/controls",
          "model_name": "DescriptionStyleModel",
          "model_module_version": "1.5.0",
          "state": {
            "_model_module": "@jupyter-widgets/controls",
            "_model_module_version": "1.5.0",
            "_model_name": "DescriptionStyleModel",
            "_view_count": null,
            "_view_module": "@jupyter-widgets/base",
            "_view_module_version": "1.2.0",
            "_view_name": "StyleView",
            "description_width": ""
          }
        },
        "6ad1b0ddb4dc4010a835c0b01e1e54c1": {
          "model_module": "@jupyter-widgets/base",
          "model_name": "LayoutModel",
          "model_module_version": "1.2.0",
          "state": {
            "_model_module": "@jupyter-widgets/base",
            "_model_module_version": "1.2.0",
            "_model_name": "LayoutModel",
            "_view_count": null,
            "_view_module": "@jupyter-widgets/base",
            "_view_module_version": "1.2.0",
            "_view_name": "LayoutView",
            "align_content": null,
            "align_items": null,
            "align_self": null,
            "border": null,
            "bottom": null,
            "display": null,
            "flex": null,
            "flex_flow": null,
            "grid_area": null,
            "grid_auto_columns": null,
            "grid_auto_flow": null,
            "grid_auto_rows": null,
            "grid_column": null,
            "grid_gap": null,
            "grid_row": null,
            "grid_template_areas": null,
            "grid_template_columns": null,
            "grid_template_rows": null,
            "height": null,
            "justify_content": null,
            "justify_items": null,
            "left": null,
            "margin": null,
            "max_height": null,
            "max_width": null,
            "min_height": null,
            "min_width": null,
            "object_fit": null,
            "object_position": null,
            "order": null,
            "overflow": null,
            "overflow_x": null,
            "overflow_y": null,
            "padding": null,
            "right": null,
            "top": null,
            "visibility": null,
            "width": null
          }
        },
        "fd6ed016735b4e5680f8c4bcd96966d1": {
          "model_module": "@jupyter-widgets/controls",
          "model_name": "ProgressStyleModel",
          "model_module_version": "1.5.0",
          "state": {
            "_model_module": "@jupyter-widgets/controls",
            "_model_module_version": "1.5.0",
            "_model_name": "ProgressStyleModel",
            "_view_count": null,
            "_view_module": "@jupyter-widgets/base",
            "_view_module_version": "1.2.0",
            "_view_name": "StyleView",
            "bar_color": null,
            "description_width": ""
          }
        },
        "ee6f572067a9484e898d067363ad4d16": {
          "model_module": "@jupyter-widgets/base",
          "model_name": "LayoutModel",
          "model_module_version": "1.2.0",
          "state": {
            "_model_module": "@jupyter-widgets/base",
            "_model_module_version": "1.2.0",
            "_model_name": "LayoutModel",
            "_view_count": null,
            "_view_module": "@jupyter-widgets/base",
            "_view_module_version": "1.2.0",
            "_view_name": "LayoutView",
            "align_content": null,
            "align_items": null,
            "align_self": null,
            "border": null,
            "bottom": null,
            "display": null,
            "flex": null,
            "flex_flow": null,
            "grid_area": null,
            "grid_auto_columns": null,
            "grid_auto_flow": null,
            "grid_auto_rows": null,
            "grid_column": null,
            "grid_gap": null,
            "grid_row": null,
            "grid_template_areas": null,
            "grid_template_columns": null,
            "grid_template_rows": null,
            "height": null,
            "justify_content": null,
            "justify_items": null,
            "left": null,
            "margin": null,
            "max_height": null,
            "max_width": null,
            "min_height": null,
            "min_width": null,
            "object_fit": null,
            "object_position": null,
            "order": null,
            "overflow": null,
            "overflow_x": null,
            "overflow_y": null,
            "padding": null,
            "right": null,
            "top": null,
            "visibility": null,
            "width": null
          }
        },
        "4bf208770eda49f58ea644d92434dd10": {
          "model_module": "@jupyter-widgets/controls",
          "model_name": "DescriptionStyleModel",
          "model_module_version": "1.5.0",
          "state": {
            "_model_module": "@jupyter-widgets/controls",
            "_model_module_version": "1.5.0",
            "_model_name": "DescriptionStyleModel",
            "_view_count": null,
            "_view_module": "@jupyter-widgets/base",
            "_view_module_version": "1.2.0",
            "_view_name": "StyleView",
            "description_width": ""
          }
        },
        "c90d7131a93f45d2b00d73236a6ab9a3": {
          "model_module": "@jupyter-widgets/controls",
          "model_name": "HBoxModel",
          "model_module_version": "1.5.0",
          "state": {
            "_dom_classes": [],
            "_model_module": "@jupyter-widgets/controls",
            "_model_module_version": "1.5.0",
            "_model_name": "HBoxModel",
            "_view_count": null,
            "_view_module": "@jupyter-widgets/controls",
            "_view_module_version": "1.5.0",
            "_view_name": "HBoxView",
            "box_style": "",
            "children": [
              "IPY_MODEL_1b388ce2bb794b79add6e58fcaaea94d",
              "IPY_MODEL_b1cef46e0f0f40e3b65d7203b7f5bb14",
              "IPY_MODEL_2fbc353919b54b1c8dcf4cec460af90e"
            ],
            "layout": "IPY_MODEL_fcf4dc9543254fcf84d42bdfc75131fc"
          }
        },
        "1b388ce2bb794b79add6e58fcaaea94d": {
          "model_module": "@jupyter-widgets/controls",
          "model_name": "HTMLModel",
          "model_module_version": "1.5.0",
          "state": {
            "_dom_classes": [],
            "_model_module": "@jupyter-widgets/controls",
            "_model_module_version": "1.5.0",
            "_model_name": "HTMLModel",
            "_view_count": null,
            "_view_module": "@jupyter-widgets/controls",
            "_view_module_version": "1.5.0",
            "_view_name": "HTMLView",
            "description": "",
            "description_tooltip": null,
            "layout": "IPY_MODEL_6ae96a032c174dbeb1aa3ddfafee315b",
            "placeholder": "​",
            "style": "IPY_MODEL_5b566b581b204719baed0e3f02d198b0",
            "value": "tokenizer.json: 100%"
          }
        },
        "b1cef46e0f0f40e3b65d7203b7f5bb14": {
          "model_module": "@jupyter-widgets/controls",
          "model_name": "FloatProgressModel",
          "model_module_version": "1.5.0",
          "state": {
            "_dom_classes": [],
            "_model_module": "@jupyter-widgets/controls",
            "_model_module_version": "1.5.0",
            "_model_name": "FloatProgressModel",
            "_view_count": null,
            "_view_module": "@jupyter-widgets/controls",
            "_view_module_version": "1.5.0",
            "_view_name": "ProgressView",
            "bar_style": "success",
            "description": "",
            "description_tooltip": null,
            "layout": "IPY_MODEL_bf13793ecc5f4ba4a6cd04681646458d",
            "max": 1389353,
            "min": 0,
            "orientation": "horizontal",
            "style": "IPY_MODEL_7be8b7328ede4c7199adbd18cd9e44b9",
            "value": 1389353
          }
        },
        "2fbc353919b54b1c8dcf4cec460af90e": {
          "model_module": "@jupyter-widgets/controls",
          "model_name": "HTMLModel",
          "model_module_version": "1.5.0",
          "state": {
            "_dom_classes": [],
            "_model_module": "@jupyter-widgets/controls",
            "_model_module_version": "1.5.0",
            "_model_name": "HTMLModel",
            "_view_count": null,
            "_view_module": "@jupyter-widgets/controls",
            "_view_module_version": "1.5.0",
            "_view_name": "HTMLView",
            "description": "",
            "description_tooltip": null,
            "layout": "IPY_MODEL_2f80af7462b84108a44aef92498d1edd",
            "placeholder": "​",
            "style": "IPY_MODEL_34d9ae0163c04569b1878a260476eb10",
            "value": " 1.39M/1.39M [00:00&lt;00:00, 4.57MB/s]"
          }
        },
        "fcf4dc9543254fcf84d42bdfc75131fc": {
          "model_module": "@jupyter-widgets/base",
          "model_name": "LayoutModel",
          "model_module_version": "1.2.0",
          "state": {
            "_model_module": "@jupyter-widgets/base",
            "_model_module_version": "1.2.0",
            "_model_name": "LayoutModel",
            "_view_count": null,
            "_view_module": "@jupyter-widgets/base",
            "_view_module_version": "1.2.0",
            "_view_name": "LayoutView",
            "align_content": null,
            "align_items": null,
            "align_self": null,
            "border": null,
            "bottom": null,
            "display": null,
            "flex": null,
            "flex_flow": null,
            "grid_area": null,
            "grid_auto_columns": null,
            "grid_auto_flow": null,
            "grid_auto_rows": null,
            "grid_column": null,
            "grid_gap": null,
            "grid_row": null,
            "grid_template_areas": null,
            "grid_template_columns": null,
            "grid_template_rows": null,
            "height": null,
            "justify_content": null,
            "justify_items": null,
            "left": null,
            "margin": null,
            "max_height": null,
            "max_width": null,
            "min_height": null,
            "min_width": null,
            "object_fit": null,
            "object_position": null,
            "order": null,
            "overflow": null,
            "overflow_x": null,
            "overflow_y": null,
            "padding": null,
            "right": null,
            "top": null,
            "visibility": null,
            "width": null
          }
        },
        "6ae96a032c174dbeb1aa3ddfafee315b": {
          "model_module": "@jupyter-widgets/base",
          "model_name": "LayoutModel",
          "model_module_version": "1.2.0",
          "state": {
            "_model_module": "@jupyter-widgets/base",
            "_model_module_version": "1.2.0",
            "_model_name": "LayoutModel",
            "_view_count": null,
            "_view_module": "@jupyter-widgets/base",
            "_view_module_version": "1.2.0",
            "_view_name": "LayoutView",
            "align_content": null,
            "align_items": null,
            "align_self": null,
            "border": null,
            "bottom": null,
            "display": null,
            "flex": null,
            "flex_flow": null,
            "grid_area": null,
            "grid_auto_columns": null,
            "grid_auto_flow": null,
            "grid_auto_rows": null,
            "grid_column": null,
            "grid_gap": null,
            "grid_row": null,
            "grid_template_areas": null,
            "grid_template_columns": null,
            "grid_template_rows": null,
            "height": null,
            "justify_content": null,
            "justify_items": null,
            "left": null,
            "margin": null,
            "max_height": null,
            "max_width": null,
            "min_height": null,
            "min_width": null,
            "object_fit": null,
            "object_position": null,
            "order": null,
            "overflow": null,
            "overflow_x": null,
            "overflow_y": null,
            "padding": null,
            "right": null,
            "top": null,
            "visibility": null,
            "width": null
          }
        },
        "5b566b581b204719baed0e3f02d198b0": {
          "model_module": "@jupyter-widgets/controls",
          "model_name": "DescriptionStyleModel",
          "model_module_version": "1.5.0",
          "state": {
            "_model_module": "@jupyter-widgets/controls",
            "_model_module_version": "1.5.0",
            "_model_name": "DescriptionStyleModel",
            "_view_count": null,
            "_view_module": "@jupyter-widgets/base",
            "_view_module_version": "1.2.0",
            "_view_name": "StyleView",
            "description_width": ""
          }
        },
        "bf13793ecc5f4ba4a6cd04681646458d": {
          "model_module": "@jupyter-widgets/base",
          "model_name": "LayoutModel",
          "model_module_version": "1.2.0",
          "state": {
            "_model_module": "@jupyter-widgets/base",
            "_model_module_version": "1.2.0",
            "_model_name": "LayoutModel",
            "_view_count": null,
            "_view_module": "@jupyter-widgets/base",
            "_view_module_version": "1.2.0",
            "_view_name": "LayoutView",
            "align_content": null,
            "align_items": null,
            "align_self": null,
            "border": null,
            "bottom": null,
            "display": null,
            "flex": null,
            "flex_flow": null,
            "grid_area": null,
            "grid_auto_columns": null,
            "grid_auto_flow": null,
            "grid_auto_rows": null,
            "grid_column": null,
            "grid_gap": null,
            "grid_row": null,
            "grid_template_areas": null,
            "grid_template_columns": null,
            "grid_template_rows": null,
            "height": null,
            "justify_content": null,
            "justify_items": null,
            "left": null,
            "margin": null,
            "max_height": null,
            "max_width": null,
            "min_height": null,
            "min_width": null,
            "object_fit": null,
            "object_position": null,
            "order": null,
            "overflow": null,
            "overflow_x": null,
            "overflow_y": null,
            "padding": null,
            "right": null,
            "top": null,
            "visibility": null,
            "width": null
          }
        },
        "7be8b7328ede4c7199adbd18cd9e44b9": {
          "model_module": "@jupyter-widgets/controls",
          "model_name": "ProgressStyleModel",
          "model_module_version": "1.5.0",
          "state": {
            "_model_module": "@jupyter-widgets/controls",
            "_model_module_version": "1.5.0",
            "_model_name": "ProgressStyleModel",
            "_view_count": null,
            "_view_module": "@jupyter-widgets/base",
            "_view_module_version": "1.2.0",
            "_view_name": "StyleView",
            "bar_color": null,
            "description_width": ""
          }
        },
        "2f80af7462b84108a44aef92498d1edd": {
          "model_module": "@jupyter-widgets/base",
          "model_name": "LayoutModel",
          "model_module_version": "1.2.0",
          "state": {
            "_model_module": "@jupyter-widgets/base",
            "_model_module_version": "1.2.0",
            "_model_name": "LayoutModel",
            "_view_count": null,
            "_view_module": "@jupyter-widgets/base",
            "_view_module_version": "1.2.0",
            "_view_name": "LayoutView",
            "align_content": null,
            "align_items": null,
            "align_self": null,
            "border": null,
            "bottom": null,
            "display": null,
            "flex": null,
            "flex_flow": null,
            "grid_area": null,
            "grid_auto_columns": null,
            "grid_auto_flow": null,
            "grid_auto_rows": null,
            "grid_column": null,
            "grid_gap": null,
            "grid_row": null,
            "grid_template_areas": null,
            "grid_template_columns": null,
            "grid_template_rows": null,
            "height": null,
            "justify_content": null,
            "justify_items": null,
            "left": null,
            "margin": null,
            "max_height": null,
            "max_width": null,
            "min_height": null,
            "min_width": null,
            "object_fit": null,
            "object_position": null,
            "order": null,
            "overflow": null,
            "overflow_x": null,
            "overflow_y": null,
            "padding": null,
            "right": null,
            "top": null,
            "visibility": null,
            "width": null
          }
        },
        "34d9ae0163c04569b1878a260476eb10": {
          "model_module": "@jupyter-widgets/controls",
          "model_name": "DescriptionStyleModel",
          "model_module_version": "1.5.0",
          "state": {
            "_model_module": "@jupyter-widgets/controls",
            "_model_module_version": "1.5.0",
            "_model_name": "DescriptionStyleModel",
            "_view_count": null,
            "_view_module": "@jupyter-widgets/base",
            "_view_module_version": "1.2.0",
            "_view_name": "StyleView",
            "description_width": ""
          }
        },
        "794d2fb88e4c4d5aa68ef523b1f813e1": {
          "model_module": "@jupyter-widgets/controls",
          "model_name": "HBoxModel",
          "model_module_version": "1.5.0",
          "state": {
            "_dom_classes": [],
            "_model_module": "@jupyter-widgets/controls",
            "_model_module_version": "1.5.0",
            "_model_name": "HBoxModel",
            "_view_count": null,
            "_view_module": "@jupyter-widgets/controls",
            "_view_module_version": "1.5.0",
            "_view_name": "HBoxView",
            "box_style": "",
            "children": [
              "IPY_MODEL_2c30adb3c915454bbb72d7268ef0cd60",
              "IPY_MODEL_fd5d31f590c44ac680dc88330a0f7b9b",
              "IPY_MODEL_e068a2e1755245c58c7599f6c7361177"
            ],
            "layout": "IPY_MODEL_2246bb1516db488092b15a64bf723cd2"
          }
        },
        "2c30adb3c915454bbb72d7268ef0cd60": {
          "model_module": "@jupyter-widgets/controls",
          "model_name": "HTMLModel",
          "model_module_version": "1.5.0",
          "state": {
            "_dom_classes": [],
            "_model_module": "@jupyter-widgets/controls",
            "_model_module_version": "1.5.0",
            "_model_name": "HTMLModel",
            "_view_count": null,
            "_view_module": "@jupyter-widgets/controls",
            "_view_module_version": "1.5.0",
            "_view_name": "HTMLView",
            "description": "",
            "description_tooltip": null,
            "layout": "IPY_MODEL_075bee3d7a5643728e761d1355fd2de0",
            "placeholder": "​",
            "style": "IPY_MODEL_986935dec1f44357935adbe5548a5357",
            "value": "config.json: 100%"
          }
        },
        "fd5d31f590c44ac680dc88330a0f7b9b": {
          "model_module": "@jupyter-widgets/controls",
          "model_name": "FloatProgressModel",
          "model_module_version": "1.5.0",
          "state": {
            "_dom_classes": [],
            "_model_module": "@jupyter-widgets/controls",
            "_model_module_version": "1.5.0",
            "_model_name": "FloatProgressModel",
            "_view_count": null,
            "_view_module": "@jupyter-widgets/controls",
            "_view_module_version": "1.5.0",
            "_view_name": "ProgressView",
            "bar_style": "success",
            "description": "",
            "description_tooltip": null,
            "layout": "IPY_MODEL_e8652e97ea5a4a70a60d12b514b9e97b",
            "max": 1208,
            "min": 0,
            "orientation": "horizontal",
            "style": "IPY_MODEL_cbd34546a93546e58055759a31e61785",
            "value": 1208
          }
        },
        "e068a2e1755245c58c7599f6c7361177": {
          "model_module": "@jupyter-widgets/controls",
          "model_name": "HTMLModel",
          "model_module_version": "1.5.0",
          "state": {
            "_dom_classes": [],
            "_model_module": "@jupyter-widgets/controls",
            "_model_module_version": "1.5.0",
            "_model_name": "HTMLModel",
            "_view_count": null,
            "_view_module": "@jupyter-widgets/controls",
            "_view_module_version": "1.5.0",
            "_view_name": "HTMLView",
            "description": "",
            "description_tooltip": null,
            "layout": "IPY_MODEL_31303c244af3451991fada90a9081811",
            "placeholder": "​",
            "style": "IPY_MODEL_aca76e6c64994ab9893a15c193115dca",
            "value": " 1.21k/1.21k [00:00&lt;00:00, 49.9kB/s]"
          }
        },
        "2246bb1516db488092b15a64bf723cd2": {
          "model_module": "@jupyter-widgets/base",
          "model_name": "LayoutModel",
          "model_module_version": "1.2.0",
          "state": {
            "_model_module": "@jupyter-widgets/base",
            "_model_module_version": "1.2.0",
            "_model_name": "LayoutModel",
            "_view_count": null,
            "_view_module": "@jupyter-widgets/base",
            "_view_module_version": "1.2.0",
            "_view_name": "LayoutView",
            "align_content": null,
            "align_items": null,
            "align_self": null,
            "border": null,
            "bottom": null,
            "display": null,
            "flex": null,
            "flex_flow": null,
            "grid_area": null,
            "grid_auto_columns": null,
            "grid_auto_flow": null,
            "grid_auto_rows": null,
            "grid_column": null,
            "grid_gap": null,
            "grid_row": null,
            "grid_template_areas": null,
            "grid_template_columns": null,
            "grid_template_rows": null,
            "height": null,
            "justify_content": null,
            "justify_items": null,
            "left": null,
            "margin": null,
            "max_height": null,
            "max_width": null,
            "min_height": null,
            "min_width": null,
            "object_fit": null,
            "object_position": null,
            "order": null,
            "overflow": null,
            "overflow_x": null,
            "overflow_y": null,
            "padding": null,
            "right": null,
            "top": null,
            "visibility": null,
            "width": null
          }
        },
        "075bee3d7a5643728e761d1355fd2de0": {
          "model_module": "@jupyter-widgets/base",
          "model_name": "LayoutModel",
          "model_module_version": "1.2.0",
          "state": {
            "_model_module": "@jupyter-widgets/base",
            "_model_module_version": "1.2.0",
            "_model_name": "LayoutModel",
            "_view_count": null,
            "_view_module": "@jupyter-widgets/base",
            "_view_module_version": "1.2.0",
            "_view_name": "LayoutView",
            "align_content": null,
            "align_items": null,
            "align_self": null,
            "border": null,
            "bottom": null,
            "display": null,
            "flex": null,
            "flex_flow": null,
            "grid_area": null,
            "grid_auto_columns": null,
            "grid_auto_flow": null,
            "grid_auto_rows": null,
            "grid_column": null,
            "grid_gap": null,
            "grid_row": null,
            "grid_template_areas": null,
            "grid_template_columns": null,
            "grid_template_rows": null,
            "height": null,
            "justify_content": null,
            "justify_items": null,
            "left": null,
            "margin": null,
            "max_height": null,
            "max_width": null,
            "min_height": null,
            "min_width": null,
            "object_fit": null,
            "object_position": null,
            "order": null,
            "overflow": null,
            "overflow_x": null,
            "overflow_y": null,
            "padding": null,
            "right": null,
            "top": null,
            "visibility": null,
            "width": null
          }
        },
        "986935dec1f44357935adbe5548a5357": {
          "model_module": "@jupyter-widgets/controls",
          "model_name": "DescriptionStyleModel",
          "model_module_version": "1.5.0",
          "state": {
            "_model_module": "@jupyter-widgets/controls",
            "_model_module_version": "1.5.0",
            "_model_name": "DescriptionStyleModel",
            "_view_count": null,
            "_view_module": "@jupyter-widgets/base",
            "_view_module_version": "1.2.0",
            "_view_name": "StyleView",
            "description_width": ""
          }
        },
        "e8652e97ea5a4a70a60d12b514b9e97b": {
          "model_module": "@jupyter-widgets/base",
          "model_name": "LayoutModel",
          "model_module_version": "1.2.0",
          "state": {
            "_model_module": "@jupyter-widgets/base",
            "_model_module_version": "1.2.0",
            "_model_name": "LayoutModel",
            "_view_count": null,
            "_view_module": "@jupyter-widgets/base",
            "_view_module_version": "1.2.0",
            "_view_name": "LayoutView",
            "align_content": null,
            "align_items": null,
            "align_self": null,
            "border": null,
            "bottom": null,
            "display": null,
            "flex": null,
            "flex_flow": null,
            "grid_area": null,
            "grid_auto_columns": null,
            "grid_auto_flow": null,
            "grid_auto_rows": null,
            "grid_column": null,
            "grid_gap": null,
            "grid_row": null,
            "grid_template_areas": null,
            "grid_template_columns": null,
            "grid_template_rows": null,
            "height": null,
            "justify_content": null,
            "justify_items": null,
            "left": null,
            "margin": null,
            "max_height": null,
            "max_width": null,
            "min_height": null,
            "min_width": null,
            "object_fit": null,
            "object_position": null,
            "order": null,
            "overflow": null,
            "overflow_x": null,
            "overflow_y": null,
            "padding": null,
            "right": null,
            "top": null,
            "visibility": null,
            "width": null
          }
        },
        "cbd34546a93546e58055759a31e61785": {
          "model_module": "@jupyter-widgets/controls",
          "model_name": "ProgressStyleModel",
          "model_module_version": "1.5.0",
          "state": {
            "_model_module": "@jupyter-widgets/controls",
            "_model_module_version": "1.5.0",
            "_model_name": "ProgressStyleModel",
            "_view_count": null,
            "_view_module": "@jupyter-widgets/base",
            "_view_module_version": "1.2.0",
            "_view_name": "StyleView",
            "bar_color": null,
            "description_width": ""
          }
        },
        "31303c244af3451991fada90a9081811": {
          "model_module": "@jupyter-widgets/base",
          "model_name": "LayoutModel",
          "model_module_version": "1.2.0",
          "state": {
            "_model_module": "@jupyter-widgets/base",
            "_model_module_version": "1.2.0",
            "_model_name": "LayoutModel",
            "_view_count": null,
            "_view_module": "@jupyter-widgets/base",
            "_view_module_version": "1.2.0",
            "_view_name": "LayoutView",
            "align_content": null,
            "align_items": null,
            "align_self": null,
            "border": null,
            "bottom": null,
            "display": null,
            "flex": null,
            "flex_flow": null,
            "grid_area": null,
            "grid_auto_columns": null,
            "grid_auto_flow": null,
            "grid_auto_rows": null,
            "grid_column": null,
            "grid_gap": null,
            "grid_row": null,
            "grid_template_areas": null,
            "grid_template_columns": null,
            "grid_template_rows": null,
            "height": null,
            "justify_content": null,
            "justify_items": null,
            "left": null,
            "margin": null,
            "max_height": null,
            "max_width": null,
            "min_height": null,
            "min_width": null,
            "object_fit": null,
            "object_position": null,
            "order": null,
            "overflow": null,
            "overflow_x": null,
            "overflow_y": null,
            "padding": null,
            "right": null,
            "top": null,
            "visibility": null,
            "width": null
          }
        },
        "aca76e6c64994ab9893a15c193115dca": {
          "model_module": "@jupyter-widgets/controls",
          "model_name": "DescriptionStyleModel",
          "model_module_version": "1.5.0",
          "state": {
            "_model_module": "@jupyter-widgets/controls",
            "_model_module_version": "1.5.0",
            "_model_name": "DescriptionStyleModel",
            "_view_count": null,
            "_view_module": "@jupyter-widgets/base",
            "_view_module_version": "1.2.0",
            "_view_name": "StyleView",
            "description_width": ""
          }
        },
        "a184407ca41644d29be8ae5b6abe7746": {
          "model_module": "@jupyter-widgets/controls",
          "model_name": "HBoxModel",
          "model_module_version": "1.5.0",
          "state": {
            "_dom_classes": [],
            "_model_module": "@jupyter-widgets/controls",
            "_model_module_version": "1.5.0",
            "_model_name": "HBoxModel",
            "_view_count": null,
            "_view_module": "@jupyter-widgets/controls",
            "_view_module_version": "1.5.0",
            "_view_name": "HBoxView",
            "box_style": "",
            "children": [
              "IPY_MODEL_5d4c9114c91c415390f37eda4f1d7ae6",
              "IPY_MODEL_8959324eb8eb4544af9ff9e46fc86c6f",
              "IPY_MODEL_1e94484d326e4721b6fad918b6cdf2a8"
            ],
            "layout": "IPY_MODEL_58056cc3e379429e9fffa730a8f34b78"
          }
        },
        "5d4c9114c91c415390f37eda4f1d7ae6": {
          "model_module": "@jupyter-widgets/controls",
          "model_name": "HTMLModel",
          "model_module_version": "1.5.0",
          "state": {
            "_dom_classes": [],
            "_model_module": "@jupyter-widgets/controls",
            "_model_module_version": "1.5.0",
            "_model_name": "HTMLModel",
            "_view_count": null,
            "_view_module": "@jupyter-widgets/controls",
            "_view_module_version": "1.5.0",
            "_view_name": "HTMLView",
            "description": "",
            "description_tooltip": null,
            "layout": "IPY_MODEL_6af166bf389b43e4928f280e3482e81a",
            "placeholder": "​",
            "style": "IPY_MODEL_197434c8af254b1aac98f6b4a0cdca4f",
            "value": "model.safetensors: 100%"
          }
        },
        "8959324eb8eb4544af9ff9e46fc86c6f": {
          "model_module": "@jupyter-widgets/controls",
          "model_name": "FloatProgressModel",
          "model_module_version": "1.5.0",
          "state": {
            "_dom_classes": [],
            "_model_module": "@jupyter-widgets/controls",
            "_model_module_version": "1.5.0",
            "_model_name": "FloatProgressModel",
            "_view_count": null,
            "_view_module": "@jupyter-widgets/controls",
            "_view_module_version": "1.5.0",
            "_view_name": "ProgressView",
            "bar_style": "success",
            "description": "",
            "description_tooltip": null,
            "layout": "IPY_MODEL_4a97978f8ebe40008ec0203324305761",
            "max": 891646390,
            "min": 0,
            "orientation": "horizontal",
            "style": "IPY_MODEL_243ece791df34fc0a249481c97a8dd76",
            "value": 891646390
          }
        },
        "1e94484d326e4721b6fad918b6cdf2a8": {
          "model_module": "@jupyter-widgets/controls",
          "model_name": "HTMLModel",
          "model_module_version": "1.5.0",
          "state": {
            "_dom_classes": [],
            "_model_module": "@jupyter-widgets/controls",
            "_model_module_version": "1.5.0",
            "_model_name": "HTMLModel",
            "_view_count": null,
            "_view_module": "@jupyter-widgets/controls",
            "_view_module_version": "1.5.0",
            "_view_name": "HTMLView",
            "description": "",
            "description_tooltip": null,
            "layout": "IPY_MODEL_272d9395c38f450f8caa93e347447154",
            "placeholder": "​",
            "style": "IPY_MODEL_221339d138bf4e4badf7b2856194fc78",
            "value": " 892M/892M [00:09&lt;00:00, 123MB/s]"
          }
        },
        "58056cc3e379429e9fffa730a8f34b78": {
          "model_module": "@jupyter-widgets/base",
          "model_name": "LayoutModel",
          "model_module_version": "1.2.0",
          "state": {
            "_model_module": "@jupyter-widgets/base",
            "_model_module_version": "1.2.0",
            "_model_name": "LayoutModel",
            "_view_count": null,
            "_view_module": "@jupyter-widgets/base",
            "_view_module_version": "1.2.0",
            "_view_name": "LayoutView",
            "align_content": null,
            "align_items": null,
            "align_self": null,
            "border": null,
            "bottom": null,
            "display": null,
            "flex": null,
            "flex_flow": null,
            "grid_area": null,
            "grid_auto_columns": null,
            "grid_auto_flow": null,
            "grid_auto_rows": null,
            "grid_column": null,
            "grid_gap": null,
            "grid_row": null,
            "grid_template_areas": null,
            "grid_template_columns": null,
            "grid_template_rows": null,
            "height": null,
            "justify_content": null,
            "justify_items": null,
            "left": null,
            "margin": null,
            "max_height": null,
            "max_width": null,
            "min_height": null,
            "min_width": null,
            "object_fit": null,
            "object_position": null,
            "order": null,
            "overflow": null,
            "overflow_x": null,
            "overflow_y": null,
            "padding": null,
            "right": null,
            "top": null,
            "visibility": null,
            "width": null
          }
        },
        "6af166bf389b43e4928f280e3482e81a": {
          "model_module": "@jupyter-widgets/base",
          "model_name": "LayoutModel",
          "model_module_version": "1.2.0",
          "state": {
            "_model_module": "@jupyter-widgets/base",
            "_model_module_version": "1.2.0",
            "_model_name": "LayoutModel",
            "_view_count": null,
            "_view_module": "@jupyter-widgets/base",
            "_view_module_version": "1.2.0",
            "_view_name": "LayoutView",
            "align_content": null,
            "align_items": null,
            "align_self": null,
            "border": null,
            "bottom": null,
            "display": null,
            "flex": null,
            "flex_flow": null,
            "grid_area": null,
            "grid_auto_columns": null,
            "grid_auto_flow": null,
            "grid_auto_rows": null,
            "grid_column": null,
            "grid_gap": null,
            "grid_row": null,
            "grid_template_areas": null,
            "grid_template_columns": null,
            "grid_template_rows": null,
            "height": null,
            "justify_content": null,
            "justify_items": null,
            "left": null,
            "margin": null,
            "max_height": null,
            "max_width": null,
            "min_height": null,
            "min_width": null,
            "object_fit": null,
            "object_position": null,
            "order": null,
            "overflow": null,
            "overflow_x": null,
            "overflow_y": null,
            "padding": null,
            "right": null,
            "top": null,
            "visibility": null,
            "width": null
          }
        },
        "197434c8af254b1aac98f6b4a0cdca4f": {
          "model_module": "@jupyter-widgets/controls",
          "model_name": "DescriptionStyleModel",
          "model_module_version": "1.5.0",
          "state": {
            "_model_module": "@jupyter-widgets/controls",
            "_model_module_version": "1.5.0",
            "_model_name": "DescriptionStyleModel",
            "_view_count": null,
            "_view_module": "@jupyter-widgets/base",
            "_view_module_version": "1.2.0",
            "_view_name": "StyleView",
            "description_width": ""
          }
        },
        "4a97978f8ebe40008ec0203324305761": {
          "model_module": "@jupyter-widgets/base",
          "model_name": "LayoutModel",
          "model_module_version": "1.2.0",
          "state": {
            "_model_module": "@jupyter-widgets/base",
            "_model_module_version": "1.2.0",
            "_model_name": "LayoutModel",
            "_view_count": null,
            "_view_module": "@jupyter-widgets/base",
            "_view_module_version": "1.2.0",
            "_view_name": "LayoutView",
            "align_content": null,
            "align_items": null,
            "align_self": null,
            "border": null,
            "bottom": null,
            "display": null,
            "flex": null,
            "flex_flow": null,
            "grid_area": null,
            "grid_auto_columns": null,
            "grid_auto_flow": null,
            "grid_auto_rows": null,
            "grid_column": null,
            "grid_gap": null,
            "grid_row": null,
            "grid_template_areas": null,
            "grid_template_columns": null,
            "grid_template_rows": null,
            "height": null,
            "justify_content": null,
            "justify_items": null,
            "left": null,
            "margin": null,
            "max_height": null,
            "max_width": null,
            "min_height": null,
            "min_width": null,
            "object_fit": null,
            "object_position": null,
            "order": null,
            "overflow": null,
            "overflow_x": null,
            "overflow_y": null,
            "padding": null,
            "right": null,
            "top": null,
            "visibility": null,
            "width": null
          }
        },
        "243ece791df34fc0a249481c97a8dd76": {
          "model_module": "@jupyter-widgets/controls",
          "model_name": "ProgressStyleModel",
          "model_module_version": "1.5.0",
          "state": {
            "_model_module": "@jupyter-widgets/controls",
            "_model_module_version": "1.5.0",
            "_model_name": "ProgressStyleModel",
            "_view_count": null,
            "_view_module": "@jupyter-widgets/base",
            "_view_module_version": "1.2.0",
            "_view_name": "StyleView",
            "bar_color": null,
            "description_width": ""
          }
        },
        "272d9395c38f450f8caa93e347447154": {
          "model_module": "@jupyter-widgets/base",
          "model_name": "LayoutModel",
          "model_module_version": "1.2.0",
          "state": {
            "_model_module": "@jupyter-widgets/base",
            "_model_module_version": "1.2.0",
            "_model_name": "LayoutModel",
            "_view_count": null,
            "_view_module": "@jupyter-widgets/base",
            "_view_module_version": "1.2.0",
            "_view_name": "LayoutView",
            "align_content": null,
            "align_items": null,
            "align_self": null,
            "border": null,
            "bottom": null,
            "display": null,
            "flex": null,
            "flex_flow": null,
            "grid_area": null,
            "grid_auto_columns": null,
            "grid_auto_flow": null,
            "grid_auto_rows": null,
            "grid_column": null,
            "grid_gap": null,
            "grid_row": null,
            "grid_template_areas": null,
            "grid_template_columns": null,
            "grid_template_rows": null,
            "height": null,
            "justify_content": null,
            "justify_items": null,
            "left": null,
            "margin": null,
            "max_height": null,
            "max_width": null,
            "min_height": null,
            "min_width": null,
            "object_fit": null,
            "object_position": null,
            "order": null,
            "overflow": null,
            "overflow_x": null,
            "overflow_y": null,
            "padding": null,
            "right": null,
            "top": null,
            "visibility": null,
            "width": null
          }
        },
        "221339d138bf4e4badf7b2856194fc78": {
          "model_module": "@jupyter-widgets/controls",
          "model_name": "DescriptionStyleModel",
          "model_module_version": "1.5.0",
          "state": {
            "_model_module": "@jupyter-widgets/controls",
            "_model_module_version": "1.5.0",
            "_model_name": "DescriptionStyleModel",
            "_view_count": null,
            "_view_module": "@jupyter-widgets/base",
            "_view_module_version": "1.2.0",
            "_view_name": "StyleView",
            "description_width": ""
          }
        },
        "0c668be7cab64640a726e6da4106ca6e": {
          "model_module": "@jupyter-widgets/controls",
          "model_name": "HBoxModel",
          "model_module_version": "1.5.0",
          "state": {
            "_dom_classes": [],
            "_model_module": "@jupyter-widgets/controls",
            "_model_module_version": "1.5.0",
            "_model_name": "HBoxModel",
            "_view_count": null,
            "_view_module": "@jupyter-widgets/controls",
            "_view_module_version": "1.5.0",
            "_view_name": "HBoxView",
            "box_style": "",
            "children": [
              "IPY_MODEL_6a304127981b4ee5b8e4f66683f1a714",
              "IPY_MODEL_ce4c8171ab8e4d5ebcd44c5c8b58b23e",
              "IPY_MODEL_d6e5b3a578b544d89a083c8de0f5acaf"
            ],
            "layout": "IPY_MODEL_d0c6d14abb0f49d9912dd077dd1798db"
          }
        },
        "6a304127981b4ee5b8e4f66683f1a714": {
          "model_module": "@jupyter-widgets/controls",
          "model_name": "HTMLModel",
          "model_module_version": "1.5.0",
          "state": {
            "_dom_classes": [],
            "_model_module": "@jupyter-widgets/controls",
            "_model_module_version": "1.5.0",
            "_model_name": "HTMLModel",
            "_view_count": null,
            "_view_module": "@jupyter-widgets/controls",
            "_view_module_version": "1.5.0",
            "_view_name": "HTMLView",
            "description": "",
            "description_tooltip": null,
            "layout": "IPY_MODEL_7478646319724f538ec2d0c9f960bd5d",
            "placeholder": "​",
            "style": "IPY_MODEL_8e38905ff03b47bca5ed85f43824d2c4",
            "value": "generation_config.json: 100%"
          }
        },
        "ce4c8171ab8e4d5ebcd44c5c8b58b23e": {
          "model_module": "@jupyter-widgets/controls",
          "model_name": "FloatProgressModel",
          "model_module_version": "1.5.0",
          "state": {
            "_dom_classes": [],
            "_model_module": "@jupyter-widgets/controls",
            "_model_module_version": "1.5.0",
            "_model_name": "FloatProgressModel",
            "_view_count": null,
            "_view_module": "@jupyter-widgets/controls",
            "_view_module_version": "1.5.0",
            "_view_name": "ProgressView",
            "bar_style": "success",
            "description": "",
            "description_tooltip": null,
            "layout": "IPY_MODEL_d5d7bc3c71f14ccaa10a36b341abe81c",
            "max": 147,
            "min": 0,
            "orientation": "horizontal",
            "style": "IPY_MODEL_aee8a36e9ccb4f99b4a8d3585bc7e1cd",
            "value": 147
          }
        },
        "d6e5b3a578b544d89a083c8de0f5acaf": {
          "model_module": "@jupyter-widgets/controls",
          "model_name": "HTMLModel",
          "model_module_version": "1.5.0",
          "state": {
            "_dom_classes": [],
            "_model_module": "@jupyter-widgets/controls",
            "_model_module_version": "1.5.0",
            "_model_name": "HTMLModel",
            "_view_count": null,
            "_view_module": "@jupyter-widgets/controls",
            "_view_module_version": "1.5.0",
            "_view_name": "HTMLView",
            "description": "",
            "description_tooltip": null,
            "layout": "IPY_MODEL_254a8b36e9454783bffa23410e7c5b37",
            "placeholder": "​",
            "style": "IPY_MODEL_a1df28a95c7648948cc31a580bcea0ce",
            "value": " 147/147 [00:00&lt;00:00, 9.79kB/s]"
          }
        },
        "d0c6d14abb0f49d9912dd077dd1798db": {
          "model_module": "@jupyter-widgets/base",
          "model_name": "LayoutModel",
          "model_module_version": "1.2.0",
          "state": {
            "_model_module": "@jupyter-widgets/base",
            "_model_module_version": "1.2.0",
            "_model_name": "LayoutModel",
            "_view_count": null,
            "_view_module": "@jupyter-widgets/base",
            "_view_module_version": "1.2.0",
            "_view_name": "LayoutView",
            "align_content": null,
            "align_items": null,
            "align_self": null,
            "border": null,
            "bottom": null,
            "display": null,
            "flex": null,
            "flex_flow": null,
            "grid_area": null,
            "grid_auto_columns": null,
            "grid_auto_flow": null,
            "grid_auto_rows": null,
            "grid_column": null,
            "grid_gap": null,
            "grid_row": null,
            "grid_template_areas": null,
            "grid_template_columns": null,
            "grid_template_rows": null,
            "height": null,
            "justify_content": null,
            "justify_items": null,
            "left": null,
            "margin": null,
            "max_height": null,
            "max_width": null,
            "min_height": null,
            "min_width": null,
            "object_fit": null,
            "object_position": null,
            "order": null,
            "overflow": null,
            "overflow_x": null,
            "overflow_y": null,
            "padding": null,
            "right": null,
            "top": null,
            "visibility": null,
            "width": null
          }
        },
        "7478646319724f538ec2d0c9f960bd5d": {
          "model_module": "@jupyter-widgets/base",
          "model_name": "LayoutModel",
          "model_module_version": "1.2.0",
          "state": {
            "_model_module": "@jupyter-widgets/base",
            "_model_module_version": "1.2.0",
            "_model_name": "LayoutModel",
            "_view_count": null,
            "_view_module": "@jupyter-widgets/base",
            "_view_module_version": "1.2.0",
            "_view_name": "LayoutView",
            "align_content": null,
            "align_items": null,
            "align_self": null,
            "border": null,
            "bottom": null,
            "display": null,
            "flex": null,
            "flex_flow": null,
            "grid_area": null,
            "grid_auto_columns": null,
            "grid_auto_flow": null,
            "grid_auto_rows": null,
            "grid_column": null,
            "grid_gap": null,
            "grid_row": null,
            "grid_template_areas": null,
            "grid_template_columns": null,
            "grid_template_rows": null,
            "height": null,
            "justify_content": null,
            "justify_items": null,
            "left": null,
            "margin": null,
            "max_height": null,
            "max_width": null,
            "min_height": null,
            "min_width": null,
            "object_fit": null,
            "object_position": null,
            "order": null,
            "overflow": null,
            "overflow_x": null,
            "overflow_y": null,
            "padding": null,
            "right": null,
            "top": null,
            "visibility": null,
            "width": null
          }
        },
        "8e38905ff03b47bca5ed85f43824d2c4": {
          "model_module": "@jupyter-widgets/controls",
          "model_name": "DescriptionStyleModel",
          "model_module_version": "1.5.0",
          "state": {
            "_model_module": "@jupyter-widgets/controls",
            "_model_module_version": "1.5.0",
            "_model_name": "DescriptionStyleModel",
            "_view_count": null,
            "_view_module": "@jupyter-widgets/base",
            "_view_module_version": "1.2.0",
            "_view_name": "StyleView",
            "description_width": ""
          }
        },
        "d5d7bc3c71f14ccaa10a36b341abe81c": {
          "model_module": "@jupyter-widgets/base",
          "model_name": "LayoutModel",
          "model_module_version": "1.2.0",
          "state": {
            "_model_module": "@jupyter-widgets/base",
            "_model_module_version": "1.2.0",
            "_model_name": "LayoutModel",
            "_view_count": null,
            "_view_module": "@jupyter-widgets/base",
            "_view_module_version": "1.2.0",
            "_view_name": "LayoutView",
            "align_content": null,
            "align_items": null,
            "align_self": null,
            "border": null,
            "bottom": null,
            "display": null,
            "flex": null,
            "flex_flow": null,
            "grid_area": null,
            "grid_auto_columns": null,
            "grid_auto_flow": null,
            "grid_auto_rows": null,
            "grid_column": null,
            "grid_gap": null,
            "grid_row": null,
            "grid_template_areas": null,
            "grid_template_columns": null,
            "grid_template_rows": null,
            "height": null,
            "justify_content": null,
            "justify_items": null,
            "left": null,
            "margin": null,
            "max_height": null,
            "max_width": null,
            "min_height": null,
            "min_width": null,
            "object_fit": null,
            "object_position": null,
            "order": null,
            "overflow": null,
            "overflow_x": null,
            "overflow_y": null,
            "padding": null,
            "right": null,
            "top": null,
            "visibility": null,
            "width": null
          }
        },
        "aee8a36e9ccb4f99b4a8d3585bc7e1cd": {
          "model_module": "@jupyter-widgets/controls",
          "model_name": "ProgressStyleModel",
          "model_module_version": "1.5.0",
          "state": {
            "_model_module": "@jupyter-widgets/controls",
            "_model_module_version": "1.5.0",
            "_model_name": "ProgressStyleModel",
            "_view_count": null,
            "_view_module": "@jupyter-widgets/base",
            "_view_module_version": "1.2.0",
            "_view_name": "StyleView",
            "bar_color": null,
            "description_width": ""
          }
        },
        "254a8b36e9454783bffa23410e7c5b37": {
          "model_module": "@jupyter-widgets/base",
          "model_name": "LayoutModel",
          "model_module_version": "1.2.0",
          "state": {
            "_model_module": "@jupyter-widgets/base",
            "_model_module_version": "1.2.0",
            "_model_name": "LayoutModel",
            "_view_count": null,
            "_view_module": "@jupyter-widgets/base",
            "_view_module_version": "1.2.0",
            "_view_name": "LayoutView",
            "align_content": null,
            "align_items": null,
            "align_self": null,
            "border": null,
            "bottom": null,
            "display": null,
            "flex": null,
            "flex_flow": null,
            "grid_area": null,
            "grid_auto_columns": null,
            "grid_auto_flow": null,
            "grid_auto_rows": null,
            "grid_column": null,
            "grid_gap": null,
            "grid_row": null,
            "grid_template_areas": null,
            "grid_template_columns": null,
            "grid_template_rows": null,
            "height": null,
            "justify_content": null,
            "justify_items": null,
            "left": null,
            "margin": null,
            "max_height": null,
            "max_width": null,
            "min_height": null,
            "min_width": null,
            "object_fit": null,
            "object_position": null,
            "order": null,
            "overflow": null,
            "overflow_x": null,
            "overflow_y": null,
            "padding": null,
            "right": null,
            "top": null,
            "visibility": null,
            "width": null
          }
        },
        "a1df28a95c7648948cc31a580bcea0ce": {
          "model_module": "@jupyter-widgets/controls",
          "model_name": "DescriptionStyleModel",
          "model_module_version": "1.5.0",
          "state": {
            "_model_module": "@jupyter-widgets/controls",
            "_model_module_version": "1.5.0",
            "_model_name": "DescriptionStyleModel",
            "_view_count": null,
            "_view_module": "@jupyter-widgets/base",
            "_view_module_version": "1.2.0",
            "_view_name": "StyleView",
            "description_width": ""
          }
        },
        "62af5f10ccc047c5b379f3b5ad305db0": {
          "model_module": "@jupyter-widgets/controls",
          "model_name": "HBoxModel",
          "model_module_version": "1.5.0",
          "state": {
            "_dom_classes": [],
            "_model_module": "@jupyter-widgets/controls",
            "_model_module_version": "1.5.0",
            "_model_name": "HBoxModel",
            "_view_count": null,
            "_view_module": "@jupyter-widgets/controls",
            "_view_module_version": "1.5.0",
            "_view_name": "HBoxView",
            "box_style": "",
            "children": [
              "IPY_MODEL_cc832f99abc64c669ddbc07671047102",
              "IPY_MODEL_45b4c4d3906e4843874118defc24ebf1",
              "IPY_MODEL_b06059e380d946438d36c0155170c709"
            ],
            "layout": "IPY_MODEL_0ca127ed1b7c402b9d95eca5f45a9671"
          }
        },
        "cc832f99abc64c669ddbc07671047102": {
          "model_module": "@jupyter-widgets/controls",
          "model_name": "HTMLModel",
          "model_module_version": "1.5.0",
          "state": {
            "_dom_classes": [],
            "_model_module": "@jupyter-widgets/controls",
            "_model_module_version": "1.5.0",
            "_model_name": "HTMLModel",
            "_view_count": null,
            "_view_module": "@jupyter-widgets/controls",
            "_view_module_version": "1.5.0",
            "_view_name": "HTMLView",
            "description": "",
            "description_tooltip": null,
            "layout": "IPY_MODEL_a858b32c00604818a6b5fd9f393ab2b2",
            "placeholder": "​",
            "style": "IPY_MODEL_410a4e231b084eb5a549d250d1ddc5f9",
            "value": "Map: 100%"
          }
        },
        "45b4c4d3906e4843874118defc24ebf1": {
          "model_module": "@jupyter-widgets/controls",
          "model_name": "FloatProgressModel",
          "model_module_version": "1.5.0",
          "state": {
            "_dom_classes": [],
            "_model_module": "@jupyter-widgets/controls",
            "_model_module_version": "1.5.0",
            "_model_name": "FloatProgressModel",
            "_view_count": null,
            "_view_module": "@jupyter-widgets/controls",
            "_view_module_version": "1.5.0",
            "_view_name": "ProgressView",
            "bar_style": "success",
            "description": "",
            "description_tooltip": null,
            "layout": "IPY_MODEL_7b50b9c3f3d14560972d13ed6cb9d49e",
            "max": 14375,
            "min": 0,
            "orientation": "horizontal",
            "style": "IPY_MODEL_e8a4f80d0da5420a93c0618ec0c9b190",
            "value": 14375
          }
        },
        "b06059e380d946438d36c0155170c709": {
          "model_module": "@jupyter-widgets/controls",
          "model_name": "HTMLModel",
          "model_module_version": "1.5.0",
          "state": {
            "_dom_classes": [],
            "_model_module": "@jupyter-widgets/controls",
            "_model_module_version": "1.5.0",
            "_model_name": "HTMLModel",
            "_view_count": null,
            "_view_module": "@jupyter-widgets/controls",
            "_view_module_version": "1.5.0",
            "_view_name": "HTMLView",
            "description": "",
            "description_tooltip": null,
            "layout": "IPY_MODEL_21e79fb238bf4bd394c71d45f2043813",
            "placeholder": "​",
            "style": "IPY_MODEL_b91b12a16a8e42e38207fdef373f9545",
            "value": " 14375/14375 [00:13&lt;00:00, 1351.88 examples/s]"
          }
        },
        "0ca127ed1b7c402b9d95eca5f45a9671": {
          "model_module": "@jupyter-widgets/base",
          "model_name": "LayoutModel",
          "model_module_version": "1.2.0",
          "state": {
            "_model_module": "@jupyter-widgets/base",
            "_model_module_version": "1.2.0",
            "_model_name": "LayoutModel",
            "_view_count": null,
            "_view_module": "@jupyter-widgets/base",
            "_view_module_version": "1.2.0",
            "_view_name": "LayoutView",
            "align_content": null,
            "align_items": null,
            "align_self": null,
            "border": null,
            "bottom": null,
            "display": null,
            "flex": null,
            "flex_flow": null,
            "grid_area": null,
            "grid_auto_columns": null,
            "grid_auto_flow": null,
            "grid_auto_rows": null,
            "grid_column": null,
            "grid_gap": null,
            "grid_row": null,
            "grid_template_areas": null,
            "grid_template_columns": null,
            "grid_template_rows": null,
            "height": null,
            "justify_content": null,
            "justify_items": null,
            "left": null,
            "margin": null,
            "max_height": null,
            "max_width": null,
            "min_height": null,
            "min_width": null,
            "object_fit": null,
            "object_position": null,
            "order": null,
            "overflow": null,
            "overflow_x": null,
            "overflow_y": null,
            "padding": null,
            "right": null,
            "top": null,
            "visibility": null,
            "width": null
          }
        },
        "a858b32c00604818a6b5fd9f393ab2b2": {
          "model_module": "@jupyter-widgets/base",
          "model_name": "LayoutModel",
          "model_module_version": "1.2.0",
          "state": {
            "_model_module": "@jupyter-widgets/base",
            "_model_module_version": "1.2.0",
            "_model_name": "LayoutModel",
            "_view_count": null,
            "_view_module": "@jupyter-widgets/base",
            "_view_module_version": "1.2.0",
            "_view_name": "LayoutView",
            "align_content": null,
            "align_items": null,
            "align_self": null,
            "border": null,
            "bottom": null,
            "display": null,
            "flex": null,
            "flex_flow": null,
            "grid_area": null,
            "grid_auto_columns": null,
            "grid_auto_flow": null,
            "grid_auto_rows": null,
            "grid_column": null,
            "grid_gap": null,
            "grid_row": null,
            "grid_template_areas": null,
            "grid_template_columns": null,
            "grid_template_rows": null,
            "height": null,
            "justify_content": null,
            "justify_items": null,
            "left": null,
            "margin": null,
            "max_height": null,
            "max_width": null,
            "min_height": null,
            "min_width": null,
            "object_fit": null,
            "object_position": null,
            "order": null,
            "overflow": null,
            "overflow_x": null,
            "overflow_y": null,
            "padding": null,
            "right": null,
            "top": null,
            "visibility": null,
            "width": null
          }
        },
        "410a4e231b084eb5a549d250d1ddc5f9": {
          "model_module": "@jupyter-widgets/controls",
          "model_name": "DescriptionStyleModel",
          "model_module_version": "1.5.0",
          "state": {
            "_model_module": "@jupyter-widgets/controls",
            "_model_module_version": "1.5.0",
            "_model_name": "DescriptionStyleModel",
            "_view_count": null,
            "_view_module": "@jupyter-widgets/base",
            "_view_module_version": "1.2.0",
            "_view_name": "StyleView",
            "description_width": ""
          }
        },
        "7b50b9c3f3d14560972d13ed6cb9d49e": {
          "model_module": "@jupyter-widgets/base",
          "model_name": "LayoutModel",
          "model_module_version": "1.2.0",
          "state": {
            "_model_module": "@jupyter-widgets/base",
            "_model_module_version": "1.2.0",
            "_model_name": "LayoutModel",
            "_view_count": null,
            "_view_module": "@jupyter-widgets/base",
            "_view_module_version": "1.2.0",
            "_view_name": "LayoutView",
            "align_content": null,
            "align_items": null,
            "align_self": null,
            "border": null,
            "bottom": null,
            "display": null,
            "flex": null,
            "flex_flow": null,
            "grid_area": null,
            "grid_auto_columns": null,
            "grid_auto_flow": null,
            "grid_auto_rows": null,
            "grid_column": null,
            "grid_gap": null,
            "grid_row": null,
            "grid_template_areas": null,
            "grid_template_columns": null,
            "grid_template_rows": null,
            "height": null,
            "justify_content": null,
            "justify_items": null,
            "left": null,
            "margin": null,
            "max_height": null,
            "max_width": null,
            "min_height": null,
            "min_width": null,
            "object_fit": null,
            "object_position": null,
            "order": null,
            "overflow": null,
            "overflow_x": null,
            "overflow_y": null,
            "padding": null,
            "right": null,
            "top": null,
            "visibility": null,
            "width": null
          }
        },
        "e8a4f80d0da5420a93c0618ec0c9b190": {
          "model_module": "@jupyter-widgets/controls",
          "model_name": "ProgressStyleModel",
          "model_module_version": "1.5.0",
          "state": {
            "_model_module": "@jupyter-widgets/controls",
            "_model_module_version": "1.5.0",
            "_model_name": "ProgressStyleModel",
            "_view_count": null,
            "_view_module": "@jupyter-widgets/base",
            "_view_module_version": "1.2.0",
            "_view_name": "StyleView",
            "bar_color": null,
            "description_width": ""
          }
        },
        "21e79fb238bf4bd394c71d45f2043813": {
          "model_module": "@jupyter-widgets/base",
          "model_name": "LayoutModel",
          "model_module_version": "1.2.0",
          "state": {
            "_model_module": "@jupyter-widgets/base",
            "_model_module_version": "1.2.0",
            "_model_name": "LayoutModel",
            "_view_count": null,
            "_view_module": "@jupyter-widgets/base",
            "_view_module_version": "1.2.0",
            "_view_name": "LayoutView",
            "align_content": null,
            "align_items": null,
            "align_self": null,
            "border": null,
            "bottom": null,
            "display": null,
            "flex": null,
            "flex_flow": null,
            "grid_area": null,
            "grid_auto_columns": null,
            "grid_auto_flow": null,
            "grid_auto_rows": null,
            "grid_column": null,
            "grid_gap": null,
            "grid_row": null,
            "grid_template_areas": null,
            "grid_template_columns": null,
            "grid_template_rows": null,
            "height": null,
            "justify_content": null,
            "justify_items": null,
            "left": null,
            "margin": null,
            "max_height": null,
            "max_width": null,
            "min_height": null,
            "min_width": null,
            "object_fit": null,
            "object_position": null,
            "order": null,
            "overflow": null,
            "overflow_x": null,
            "overflow_y": null,
            "padding": null,
            "right": null,
            "top": null,
            "visibility": null,
            "width": null
          }
        },
        "b91b12a16a8e42e38207fdef373f9545": {
          "model_module": "@jupyter-widgets/controls",
          "model_name": "DescriptionStyleModel",
          "model_module_version": "1.5.0",
          "state": {
            "_model_module": "@jupyter-widgets/controls",
            "_model_module_version": "1.5.0",
            "_model_name": "DescriptionStyleModel",
            "_view_count": null,
            "_view_module": "@jupyter-widgets/base",
            "_view_module_version": "1.2.0",
            "_view_name": "StyleView",
            "description_width": ""
          }
        },
        "b9af4a4a207444ea99eda3054146d71d": {
          "model_module": "@jupyter-widgets/controls",
          "model_name": "HBoxModel",
          "model_module_version": "1.5.0",
          "state": {
            "_dom_classes": [],
            "_model_module": "@jupyter-widgets/controls",
            "_model_module_version": "1.5.0",
            "_model_name": "HBoxModel",
            "_view_count": null,
            "_view_module": "@jupyter-widgets/controls",
            "_view_module_version": "1.5.0",
            "_view_name": "HBoxView",
            "box_style": "",
            "children": [
              "IPY_MODEL_b85a089def464536b6d9453a0f0ab7ee",
              "IPY_MODEL_ffd3bb1c495d4d79b5691984b72c6618",
              "IPY_MODEL_5cc5a02967c94eb582c60bfecbe0d778"
            ],
            "layout": "IPY_MODEL_a6c47a920fed43d1906172fb0a6cff3e"
          }
        },
        "b85a089def464536b6d9453a0f0ab7ee": {
          "model_module": "@jupyter-widgets/controls",
          "model_name": "HTMLModel",
          "model_module_version": "1.5.0",
          "state": {
            "_dom_classes": [],
            "_model_module": "@jupyter-widgets/controls",
            "_model_module_version": "1.5.0",
            "_model_name": "HTMLModel",
            "_view_count": null,
            "_view_module": "@jupyter-widgets/controls",
            "_view_module_version": "1.5.0",
            "_view_name": "HTMLView",
            "description": "",
            "description_tooltip": null,
            "layout": "IPY_MODEL_bc4af6c19dd34bb49ad88e137cf38c06",
            "placeholder": "​",
            "style": "IPY_MODEL_1e02b526a3014abea7d81ee47a8254c6",
            "value": "Map: 100%"
          }
        },
        "ffd3bb1c495d4d79b5691984b72c6618": {
          "model_module": "@jupyter-widgets/controls",
          "model_name": "FloatProgressModel",
          "model_module_version": "1.5.0",
          "state": {
            "_dom_classes": [],
            "_model_module": "@jupyter-widgets/controls",
            "_model_module_version": "1.5.0",
            "_model_name": "FloatProgressModel",
            "_view_count": null,
            "_view_module": "@jupyter-widgets/controls",
            "_view_module_version": "1.5.0",
            "_view_name": "ProgressView",
            "bar_style": "success",
            "description": "",
            "description_tooltip": null,
            "layout": "IPY_MODEL_d1d86e1d00e443d9859f9413d66d9dec",
            "max": 1598,
            "min": 0,
            "orientation": "horizontal",
            "style": "IPY_MODEL_e410dcbcaf914ca4a4091c5505580490",
            "value": 1598
          }
        },
        "5cc5a02967c94eb582c60bfecbe0d778": {
          "model_module": "@jupyter-widgets/controls",
          "model_name": "HTMLModel",
          "model_module_version": "1.5.0",
          "state": {
            "_dom_classes": [],
            "_model_module": "@jupyter-widgets/controls",
            "_model_module_version": "1.5.0",
            "_model_name": "HTMLModel",
            "_view_count": null,
            "_view_module": "@jupyter-widgets/controls",
            "_view_module_version": "1.5.0",
            "_view_name": "HTMLView",
            "description": "",
            "description_tooltip": null,
            "layout": "IPY_MODEL_b8c4c91cf3544974b193b2e98090b5cb",
            "placeholder": "​",
            "style": "IPY_MODEL_3fbf4dd922274bd59cab7a0aa400f5b5",
            "value": " 1598/1598 [00:01&lt;00:00, 1411.28 examples/s]"
          }
        },
        "a6c47a920fed43d1906172fb0a6cff3e": {
          "model_module": "@jupyter-widgets/base",
          "model_name": "LayoutModel",
          "model_module_version": "1.2.0",
          "state": {
            "_model_module": "@jupyter-widgets/base",
            "_model_module_version": "1.2.0",
            "_model_name": "LayoutModel",
            "_view_count": null,
            "_view_module": "@jupyter-widgets/base",
            "_view_module_version": "1.2.0",
            "_view_name": "LayoutView",
            "align_content": null,
            "align_items": null,
            "align_self": null,
            "border": null,
            "bottom": null,
            "display": null,
            "flex": null,
            "flex_flow": null,
            "grid_area": null,
            "grid_auto_columns": null,
            "grid_auto_flow": null,
            "grid_auto_rows": null,
            "grid_column": null,
            "grid_gap": null,
            "grid_row": null,
            "grid_template_areas": null,
            "grid_template_columns": null,
            "grid_template_rows": null,
            "height": null,
            "justify_content": null,
            "justify_items": null,
            "left": null,
            "margin": null,
            "max_height": null,
            "max_width": null,
            "min_height": null,
            "min_width": null,
            "object_fit": null,
            "object_position": null,
            "order": null,
            "overflow": null,
            "overflow_x": null,
            "overflow_y": null,
            "padding": null,
            "right": null,
            "top": null,
            "visibility": null,
            "width": null
          }
        },
        "bc4af6c19dd34bb49ad88e137cf38c06": {
          "model_module": "@jupyter-widgets/base",
          "model_name": "LayoutModel",
          "model_module_version": "1.2.0",
          "state": {
            "_model_module": "@jupyter-widgets/base",
            "_model_module_version": "1.2.0",
            "_model_name": "LayoutModel",
            "_view_count": null,
            "_view_module": "@jupyter-widgets/base",
            "_view_module_version": "1.2.0",
            "_view_name": "LayoutView",
            "align_content": null,
            "align_items": null,
            "align_self": null,
            "border": null,
            "bottom": null,
            "display": null,
            "flex": null,
            "flex_flow": null,
            "grid_area": null,
            "grid_auto_columns": null,
            "grid_auto_flow": null,
            "grid_auto_rows": null,
            "grid_column": null,
            "grid_gap": null,
            "grid_row": null,
            "grid_template_areas": null,
            "grid_template_columns": null,
            "grid_template_rows": null,
            "height": null,
            "justify_content": null,
            "justify_items": null,
            "left": null,
            "margin": null,
            "max_height": null,
            "max_width": null,
            "min_height": null,
            "min_width": null,
            "object_fit": null,
            "object_position": null,
            "order": null,
            "overflow": null,
            "overflow_x": null,
            "overflow_y": null,
            "padding": null,
            "right": null,
            "top": null,
            "visibility": null,
            "width": null
          }
        },
        "1e02b526a3014abea7d81ee47a8254c6": {
          "model_module": "@jupyter-widgets/controls",
          "model_name": "DescriptionStyleModel",
          "model_module_version": "1.5.0",
          "state": {
            "_model_module": "@jupyter-widgets/controls",
            "_model_module_version": "1.5.0",
            "_model_name": "DescriptionStyleModel",
            "_view_count": null,
            "_view_module": "@jupyter-widgets/base",
            "_view_module_version": "1.2.0",
            "_view_name": "StyleView",
            "description_width": ""
          }
        },
        "d1d86e1d00e443d9859f9413d66d9dec": {
          "model_module": "@jupyter-widgets/base",
          "model_name": "LayoutModel",
          "model_module_version": "1.2.0",
          "state": {
            "_model_module": "@jupyter-widgets/base",
            "_model_module_version": "1.2.0",
            "_model_name": "LayoutModel",
            "_view_count": null,
            "_view_module": "@jupyter-widgets/base",
            "_view_module_version": "1.2.0",
            "_view_name": "LayoutView",
            "align_content": null,
            "align_items": null,
            "align_self": null,
            "border": null,
            "bottom": null,
            "display": null,
            "flex": null,
            "flex_flow": null,
            "grid_area": null,
            "grid_auto_columns": null,
            "grid_auto_flow": null,
            "grid_auto_rows": null,
            "grid_column": null,
            "grid_gap": null,
            "grid_row": null,
            "grid_template_areas": null,
            "grid_template_columns": null,
            "grid_template_rows": null,
            "height": null,
            "justify_content": null,
            "justify_items": null,
            "left": null,
            "margin": null,
            "max_height": null,
            "max_width": null,
            "min_height": null,
            "min_width": null,
            "object_fit": null,
            "object_position": null,
            "order": null,
            "overflow": null,
            "overflow_x": null,
            "overflow_y": null,
            "padding": null,
            "right": null,
            "top": null,
            "visibility": null,
            "width": null
          }
        },
        "e410dcbcaf914ca4a4091c5505580490": {
          "model_module": "@jupyter-widgets/controls",
          "model_name": "ProgressStyleModel",
          "model_module_version": "1.5.0",
          "state": {
            "_model_module": "@jupyter-widgets/controls",
            "_model_module_version": "1.5.0",
            "_model_name": "ProgressStyleModel",
            "_view_count": null,
            "_view_module": "@jupyter-widgets/base",
            "_view_module_version": "1.2.0",
            "_view_name": "StyleView",
            "bar_color": null,
            "description_width": ""
          }
        },
        "b8c4c91cf3544974b193b2e98090b5cb": {
          "model_module": "@jupyter-widgets/base",
          "model_name": "LayoutModel",
          "model_module_version": "1.2.0",
          "state": {
            "_model_module": "@jupyter-widgets/base",
            "_model_module_version": "1.2.0",
            "_model_name": "LayoutModel",
            "_view_count": null,
            "_view_module": "@jupyter-widgets/base",
            "_view_module_version": "1.2.0",
            "_view_name": "LayoutView",
            "align_content": null,
            "align_items": null,
            "align_self": null,
            "border": null,
            "bottom": null,
            "display": null,
            "flex": null,
            "flex_flow": null,
            "grid_area": null,
            "grid_auto_columns": null,
            "grid_auto_flow": null,
            "grid_auto_rows": null,
            "grid_column": null,
            "grid_gap": null,
            "grid_row": null,
            "grid_template_areas": null,
            "grid_template_columns": null,
            "grid_template_rows": null,
            "height": null,
            "justify_content": null,
            "justify_items": null,
            "left": null,
            "margin": null,
            "max_height": null,
            "max_width": null,
            "min_height": null,
            "min_width": null,
            "object_fit": null,
            "object_position": null,
            "order": null,
            "overflow": null,
            "overflow_x": null,
            "overflow_y": null,
            "padding": null,
            "right": null,
            "top": null,
            "visibility": null,
            "width": null
          }
        },
        "3fbf4dd922274bd59cab7a0aa400f5b5": {
          "model_module": "@jupyter-widgets/controls",
          "model_name": "DescriptionStyleModel",
          "model_module_version": "1.5.0",
          "state": {
            "_model_module": "@jupyter-widgets/controls",
            "_model_module_version": "1.5.0",
            "_model_name": "DescriptionStyleModel",
            "_view_count": null,
            "_view_module": "@jupyter-widgets/base",
            "_view_module_version": "1.2.0",
            "_view_name": "StyleView",
            "description_width": ""
          }
        }
      }
    }
  },
  "cells": [
    {
      "cell_type": "markdown",
      "metadata": {
        "id": "view-in-github",
        "colab_type": "text"
      },
      "source": [
        "<a href=\"https://colab.research.google.com/github/NISHAKAR06/En-ta_model/blob/main/Copy_of_eng_tam_model.ipynb\" target=\"_parent\"><img src=\"https://colab.research.google.com/assets/colab-badge.svg\" alt=\"Open In Colab\"/></a>"
      ]
    },
    {
      "cell_type": "markdown",
      "source": [
        "**Model-1**"
      ],
      "metadata": {
        "id": "bi9auaSZPnpV"
      }
    },
    {
      "cell_type": "code",
      "source": [
        "!pip install datasets"
      ],
      "metadata": {
        "id": "DxL5o_g8t2jz"
      },
      "execution_count": null,
      "outputs": []
    },
    {
      "cell_type": "code",
      "source": [
        "from transformers import T5Tokenizer, T5ForConditionalGeneration, Trainer, TrainingArguments\n",
        "from datasets import load_dataset, Dataset\n",
        "import json\n",
        "import torch\n",
        "\n",
        "# Load and prepare dataset\n",
        "with open(\"/content/en_ta_instruct.json\", \"r\", encoding=\"utf-8\") as f:\n",
        "    raw_data = json.load(f)\n",
        "\n",
        "data = [{\"english\": d[\"input\"], \"thanglish\": d[\"output\"]} for d in raw_data if d.get(\"input\") and d.get(\"output\")]\n",
        "dataset = Dataset.from_list(data).train_test_split(test_size=0.1)\n",
        "\n",
        "# Load tokenizer and model\n",
        "model_name = \"t5-base\"\n",
        "tokenizer = T5Tokenizer.from_pretrained(model_name, legacy=False)  # Set legacy=False to avoid legacy behavior\n",
        "model = T5ForConditionalGeneration.from_pretrained(model_name)\n",
        "\n",
        "# Preprocessing function\n",
        "def preprocess(example):\n",
        "    input_text = \"translate English to Thanglish: \" + example[\"english\"]\n",
        "    target_text = example[\"thanglish\"]\n",
        "    inputs = tokenizer(input_text, padding=\"max_length\", truncation=True, max_length=128)\n",
        "    targets = tokenizer(target_text, padding=\"max_length\", truncation=True, max_length=128)\n",
        "    inputs[\"labels\"] = targets[\"input_ids\"]\n",
        "    return inputs\n",
        "\n",
        "tokenized_dataset = dataset.map(preprocess, remove_columns=[\"english\", \"thanglish\"])\n",
        "\n",
        "# Training arguments (without evaluation_strategy)\n",
        "training_args = TrainingArguments(\n",
        "    output_dir=\"./t5-thanglish\",\n",
        "    learning_rate=3e-4,\n",
        "    per_device_train_batch_size=8,\n",
        "    per_device_eval_batch_size=8,\n",
        "    num_train_epochs=3,\n",
        "    weight_decay=0.01,\n",
        "    save_total_limit=2,\n",
        "    logging_dir=\"./logs\",\n",
        "    fp16=torch.cuda.is_available(),\n",
        "    # Removed evaluation_strategy\n",
        ")\n",
        "\n",
        "# Trainer initialization\n",
        "trainer = Trainer(\n",
        "    model=model,\n",
        "    args=training_args,\n",
        "    train_dataset=tokenized_dataset[\"train\"],\n",
        "    eval_dataset=tokenized_dataset[\"test\"],\n",
        "    tokenizer=tokenizer,\n",
        ")\n",
        "\n",
        "# Train the model\n",
        "trainer.train()\n",
        "\n",
        "# Save final model\n",
        "model.save_pretrained(\"t5-thanglish-final\")\n",
        "tokenizer.save_pretrained(\"t5-thanglish-final\")\n"
      ],
      "metadata": {
        "id": "r9-vQu_Oc5b6",
        "colab": {
          "base_uri": "https://localhost:8080/",
          "height": 257,
          "referenced_widgets": [
            "3ace6bcaf87b46cfba70471c20a8037a",
            "a5ad60417caf46229f94a21c64a14772",
            "ff8e71607b6945129a69a306533c7ae7",
            "284af9a1025e4d2096c01a1cdac1b3e0",
            "df0d9d21ebbf47499789a4ca42426e10",
            "eade991d75044313b405c57b36e20e51",
            "2ba887f085f944899ebc551c56f35d0a",
            "4f8d9d532b8b407f8674182fd65c50bd",
            "e66f8bbeb09d41198ac5280eaa8ccbb9",
            "2374c00f3b3c441ebb1f4fe78d8b87b4",
            "9fd4cd136bc4416a825d4f5753d64f8f",
            "8715fe7c8d14432ba64d7ada2057f597",
            "007cd6891f4940a0b6466372cefc7968",
            "174ba3dd82ba455685cabf4693b2c7cc",
            "1d113c9195654deaac15ab6f670eba6d",
            "b34433d0f53a4c8980cba8f1a21ba294",
            "6f6deb8b620e41cc96a7aed952493a6b",
            "a053dc04b02448a8888b5584d761d109",
            "bd762d3f71634d3e9964040a6df0c57e",
            "b1e34bde843f485c9268eeb05f85b32f",
            "6fee8709c8ef4421912a035eb0b5bf2a",
            "1d574ed488fc4078a0e5a4ee6a1a25a4"
          ]
        },
        "outputId": "28a731a6-6231-4b7c-8293-572c610c89ac"
      },
      "execution_count": null,
      "outputs": [
        {
          "output_type": "display_data",
          "data": {
            "text/plain": [
              "Map:   0%|          | 0/14375 [00:00<?, ? examples/s]"
            ],
            "application/vnd.jupyter.widget-view+json": {
              "version_major": 2,
              "version_minor": 0,
              "model_id": "3ace6bcaf87b46cfba70471c20a8037a"
            }
          },
          "metadata": {}
        },
        {
          "output_type": "display_data",
          "data": {
            "text/plain": [
              "Map:   0%|          | 0/1598 [00:00<?, ? examples/s]"
            ],
            "application/vnd.jupyter.widget-view+json": {
              "version_major": 2,
              "version_minor": 0,
              "model_id": "8715fe7c8d14432ba64d7ada2057f597"
            }
          },
          "metadata": {}
        },
        {
          "output_type": "stream",
          "name": "stderr",
          "text": [
            "<ipython-input-5-45d258c37814>:44: FutureWarning: `tokenizer` is deprecated and will be removed in version 5.0.0 for `Trainer.__init__`. Use `processing_class` instead.\n",
            "  trainer = Trainer(\n"
          ]
        },
        {
          "output_type": "display_data",
          "data": {
            "text/plain": [
              "<IPython.core.display.HTML object>"
            ],
            "text/html": [
              "\n",
              "    <div>\n",
              "      \n",
              "      <progress value='1501' max='5391' style='width:300px; height:20px; vertical-align: middle;'></progress>\n",
              "      [1501/5391 07:56 < 20:35, 3.15 it/s, Epoch 0.83/3]\n",
              "    </div>\n",
              "    <table border=\"1\" class=\"dataframe\">\n",
              "  <thead>\n",
              " <tr style=\"text-align: left;\">\n",
              "      <th>Step</th>\n",
              "      <th>Training Loss</th>\n",
              "    </tr>\n",
              "  </thead>\n",
              "  <tbody>\n",
              "    <tr>\n",
              "      <td>500</td>\n",
              "      <td>0.236200</td>\n",
              "    </tr>\n",
              "    <tr>\n",
              "      <td>1000</td>\n",
              "      <td>0.091900</td>\n",
              "    </tr>\n",
              "  </tbody>\n",
              "</table><p>"
            ]
          },
          "metadata": {}
        }
      ]
    },
    {
      "cell_type": "markdown",
      "source": [
        "**Accuracy**"
      ],
      "metadata": {
        "id": "OJEDp0s5PzgF"
      }
    },
    {
      "cell_type": "code",
      "source": [
        "from datasets import load_metric\n",
        "from datasets import load_dataset, Dataset\n",
        "import json\n",
        "import torch\n",
        "import numpy as np  # Import numpy\n",
        "\n",
        "\n",
        "metric = load_metric(\"accuracy\")\n",
        "\n",
        "def compute_metrics(eval_pred):\n",
        "    logits, labels = eval_pred\n",
        "    predictions = np.argmax(logits, axis=-1)\n",
        "    return metric.compute(predictions=predictions, references=labels)"
      ],
      "metadata": {
        "id": "7wjGnrsbsTBB"
      },
      "execution_count": null,
      "outputs": []
    },
    {
      "cell_type": "markdown",
      "source": [
        "**testing**"
      ],
      "metadata": {
        "id": "MXED4UL0tS7V"
      }
    },
    {
      "cell_type": "code",
      "source": [
        "from transformers import T5Tokenizer, T5ForConditionalGeneration\n",
        "\n",
        "# Load model & tokenizer\n",
        "model = T5ForConditionalGeneration.from_pretrained(\"t5-thanglish-final\")\n",
        "tokenizer = T5Tokenizer.from_pretrained(\"t5-thanglish-final\")\n",
        "\n",
        "# Translation function\n",
        "def translate(text):\n",
        "    input_text = \"translate English to Thanglish: \" + text\n",
        "    input_ids = tokenizer.encode(input_text, return_tensors=\"pt\", truncation=True, max_length=128).to(model.device)\n",
        "    output_ids = model.generate(input_ids, max_length=50, num_beams=4)\n",
        "    return tokenizer.decode(output_ids[0], skip_special_tokens=True)\n",
        "\n",
        "# Try a sample\n",
        "print(translate(\"I will call you later.\"))\n",
        "print(translate(\"How are you doing today?\"))\n",
        "print(translate(\"I am going to the office now.\"))\n",
        "print(translate(\"What is your favorite movie?\"))\n",
        "print(translate(\"Can we meet at 5 PM today?\"))\n",
        "print(translate(\"I have a meeting with the team at 3 PM.\"))\n",
        "print(translate(\"We have a conference call scheduled for 2 PM.\"))\n",
        "print(translate(\"Let's brainstorm ideas for the upcoming project.\"))\n",
        "\n"
      ],
      "metadata": {
        "colab": {
          "base_uri": "https://localhost:8080/"
        },
        "id": "KiMF4H_Kon_h",
        "outputId": "dc0327e3-aa18-4a82-e03a-c0e3f1ef2682"
      },
      "execution_count": null,
      "outputs": [
        {
          "output_type": "stream",
          "name": "stdout",
          "text": [
            "call .\n",
            "?\n",
            "office-  .\n",
            "favorite movie?\n",
            "5 PM- meet  ?\n",
            "3 PM-  team- meeting .\n",
            "2 PM-  conference call schedule .\n",
            "project- brainstorm ideas .\n"
          ]
        }
      ]
    },
    {
      "cell_type": "markdown",
      "source": [
        "**Model-2**"
      ],
      "metadata": {
        "id": "O8QFAhE9Pfaq"
      }
    },
    {
      "cell_type": "code",
      "source": [
        "from transformers import T5Tokenizer, T5ForConditionalGeneration, Trainer, TrainingArguments\n",
        "from datasets import Dataset\n",
        "import json\n",
        "import torch\n",
        "\n",
        "# Step 1: Load Dataset\n",
        "with open(\"/content/en_ta_instruct.json\", \"r\", encoding=\"utf-8\") as f:\n",
        "    raw_data = json.load(f)\n",
        "\n",
        "data = [{\"english\": d[\"input\"], \"thanglish\": d[\"output\"]} for d in raw_data if d.get(\"input\") and d.get(\"output\")]\n",
        "dataset = Dataset.from_list(data).train_test_split(test_size=0.1)\n",
        "\n",
        "# Step 2: Load Model & Tokenizer\n",
        "model_name = \"t5-base\"\n",
        "tokenizer = T5Tokenizer.from_pretrained(model_name, legacy=False)\n",
        "model = T5ForConditionalGeneration.from_pretrained(model_name)\n",
        "\n",
        "# Step 3: Preprocessing\n",
        "def preprocess(example):\n",
        "    input_text = \"translate English to Thanglish: \" + example[\"english\"]\n",
        "    target_text = example[\"thanglish\"]\n",
        "    inputs = tokenizer(input_text, max_length=128, padding=\"max_length\", truncation=True)\n",
        "    targets = tokenizer(target_text, max_length=128, padding=\"max_length\", truncation=True)\n",
        "    inputs[\"labels\"] = targets[\"input_ids\"]\n",
        "    return inputs\n",
        "\n",
        "tokenized_dataset = dataset.map(preprocess, remove_columns=[\"english\", \"thanglish\"])\n",
        "\n",
        "# Step 4: Training Configuration\n",
        "training_args = TrainingArguments(\n",
        "    output_dir=\"./t5-thanglish1\",\n",
        "    learning_rate=3e-4,\n",
        "    per_device_train_batch_size=8,\n",
        "    per_device_eval_batch_size=8,\n",
        "    num_train_epochs=5,                          # Increased epochs for better learning\n",
        "    weight_decay=0.01,\n",
        "    save_total_limit=2,\n",
        "    logging_dir=\"./logs1\",\n",
        "    logging_steps=100,\n",
        "    evaluation_strategy=\"epoch\",                 # Back in!\n",
        "    save_strategy=\"epoch\",\n",
        "    # Removed predict_with_generate\n",
        "    fp16=torch.cuda.is_available()               # Enable mixed precision if GPU supports it\n",
        ")\n",
        "\n",
        "# Step 5: Initialize Trainer\n",
        "trainer = Trainer(\n",
        "    model=model,\n",
        "    args=training_args,\n",
        "    train_dataset=tokenized_dataset[\"train\"],\n",
        "    eval_dataset=tokenized_dataset[\"test\"],\n",
        "    tokenizer=tokenizer,\n",
        ")\n",
        "\n",
        "# Step 6: Train the Model\n",
        "trainer.train()\n",
        "\n",
        "# Step 7: Save the Final Model\n",
        "model.save_pretrained(\"t5-thanglish-final1\")\n",
        "tokenizer.save_pretrained(\"t5-thanglish-final1\")\n"
      ],
      "metadata": {
        "colab": {
          "base_uri": "https://localhost:8080/",
          "height": 1000,
          "referenced_widgets": [
            "0a8302832ee64891939ab2ab24b333c0",
            "0a3052f8eed94b459c2002115e8199f4",
            "e77ef1218408457fa2eca6dacad918a9",
            "2f61475e537743908bdeb7f52d35f2c1",
            "3c9f7dda7e854c779ec58c9dd67b243a",
            "2101439e094245f9967a6d0cd9f00007",
            "a36c4d60dcc941b9b3a947ce9f8c010d",
            "6ad1b0ddb4dc4010a835c0b01e1e54c1",
            "fd6ed016735b4e5680f8c4bcd96966d1",
            "ee6f572067a9484e898d067363ad4d16",
            "4bf208770eda49f58ea644d92434dd10",
            "c90d7131a93f45d2b00d73236a6ab9a3",
            "1b388ce2bb794b79add6e58fcaaea94d",
            "b1cef46e0f0f40e3b65d7203b7f5bb14",
            "2fbc353919b54b1c8dcf4cec460af90e",
            "fcf4dc9543254fcf84d42bdfc75131fc",
            "6ae96a032c174dbeb1aa3ddfafee315b",
            "5b566b581b204719baed0e3f02d198b0",
            "bf13793ecc5f4ba4a6cd04681646458d",
            "7be8b7328ede4c7199adbd18cd9e44b9",
            "2f80af7462b84108a44aef92498d1edd",
            "34d9ae0163c04569b1878a260476eb10",
            "794d2fb88e4c4d5aa68ef523b1f813e1",
            "2c30adb3c915454bbb72d7268ef0cd60",
            "fd5d31f590c44ac680dc88330a0f7b9b",
            "e068a2e1755245c58c7599f6c7361177",
            "2246bb1516db488092b15a64bf723cd2",
            "075bee3d7a5643728e761d1355fd2de0",
            "986935dec1f44357935adbe5548a5357",
            "e8652e97ea5a4a70a60d12b514b9e97b",
            "cbd34546a93546e58055759a31e61785",
            "31303c244af3451991fada90a9081811",
            "aca76e6c64994ab9893a15c193115dca",
            "a184407ca41644d29be8ae5b6abe7746",
            "5d4c9114c91c415390f37eda4f1d7ae6",
            "8959324eb8eb4544af9ff9e46fc86c6f",
            "1e94484d326e4721b6fad918b6cdf2a8",
            "58056cc3e379429e9fffa730a8f34b78",
            "6af166bf389b43e4928f280e3482e81a",
            "197434c8af254b1aac98f6b4a0cdca4f",
            "4a97978f8ebe40008ec0203324305761",
            "243ece791df34fc0a249481c97a8dd76",
            "272d9395c38f450f8caa93e347447154",
            "221339d138bf4e4badf7b2856194fc78",
            "0c668be7cab64640a726e6da4106ca6e",
            "6a304127981b4ee5b8e4f66683f1a714",
            "ce4c8171ab8e4d5ebcd44c5c8b58b23e",
            "d6e5b3a578b544d89a083c8de0f5acaf",
            "d0c6d14abb0f49d9912dd077dd1798db",
            "7478646319724f538ec2d0c9f960bd5d",
            "8e38905ff03b47bca5ed85f43824d2c4",
            "d5d7bc3c71f14ccaa10a36b341abe81c",
            "aee8a36e9ccb4f99b4a8d3585bc7e1cd",
            "254a8b36e9454783bffa23410e7c5b37",
            "a1df28a95c7648948cc31a580bcea0ce",
            "62af5f10ccc047c5b379f3b5ad305db0",
            "cc832f99abc64c669ddbc07671047102",
            "45b4c4d3906e4843874118defc24ebf1",
            "b06059e380d946438d36c0155170c709",
            "0ca127ed1b7c402b9d95eca5f45a9671",
            "a858b32c00604818a6b5fd9f393ab2b2",
            "410a4e231b084eb5a549d250d1ddc5f9",
            "7b50b9c3f3d14560972d13ed6cb9d49e",
            "e8a4f80d0da5420a93c0618ec0c9b190",
            "21e79fb238bf4bd394c71d45f2043813",
            "b91b12a16a8e42e38207fdef373f9545",
            "b9af4a4a207444ea99eda3054146d71d",
            "b85a089def464536b6d9453a0f0ab7ee",
            "ffd3bb1c495d4d79b5691984b72c6618",
            "5cc5a02967c94eb582c60bfecbe0d778",
            "a6c47a920fed43d1906172fb0a6cff3e",
            "bc4af6c19dd34bb49ad88e137cf38c06",
            "1e02b526a3014abea7d81ee47a8254c6",
            "d1d86e1d00e443d9859f9413d66d9dec",
            "e410dcbcaf914ca4a4091c5505580490",
            "b8c4c91cf3544974b193b2e98090b5cb",
            "3fbf4dd922274bd59cab7a0aa400f5b5"
          ]
        },
        "id": "3bB2MepzroS_",
        "outputId": "207cdcac-4a57-42d8-a126-96783962132e"
      },
      "execution_count": null,
      "outputs": [
        {
          "output_type": "stream",
          "name": "stderr",
          "text": [
            "/usr/local/lib/python3.11/dist-packages/huggingface_hub/utils/_auth.py:94: UserWarning: \n",
            "The secret `HF_TOKEN` does not exist in your Colab secrets.\n",
            "To authenticate with the Hugging Face Hub, create a token in your settings tab (https://huggingface.co/settings/tokens), set it as secret in your Google Colab and restart your session.\n",
            "You will be able to reuse this secret in all of your notebooks.\n",
            "Please note that authentication is recommended but still optional to access public models or datasets.\n",
            "  warnings.warn(\n"
          ]
        },
        {
          "output_type": "display_data",
          "data": {
            "text/plain": [
              "spiece.model:   0%|          | 0.00/792k [00:00<?, ?B/s]"
            ],
            "application/vnd.jupyter.widget-view+json": {
              "version_major": 2,
              "version_minor": 0,
              "model_id": "0a8302832ee64891939ab2ab24b333c0"
            }
          },
          "metadata": {}
        },
        {
          "output_type": "display_data",
          "data": {
            "text/plain": [
              "tokenizer.json:   0%|          | 0.00/1.39M [00:00<?, ?B/s]"
            ],
            "application/vnd.jupyter.widget-view+json": {
              "version_major": 2,
              "version_minor": 0,
              "model_id": "c90d7131a93f45d2b00d73236a6ab9a3"
            }
          },
          "metadata": {}
        },
        {
          "output_type": "display_data",
          "data": {
            "text/plain": [
              "config.json:   0%|          | 0.00/1.21k [00:00<?, ?B/s]"
            ],
            "application/vnd.jupyter.widget-view+json": {
              "version_major": 2,
              "version_minor": 0,
              "model_id": "794d2fb88e4c4d5aa68ef523b1f813e1"
            }
          },
          "metadata": {}
        },
        {
          "output_type": "stream",
          "name": "stderr",
          "text": [
            "Xet Storage is enabled for this repo, but the 'hf_xet' package is not installed. Falling back to regular HTTP download. For better performance, install the package with: `pip install huggingface_hub[hf_xet]` or `pip install hf_xet`\n",
            "WARNING:huggingface_hub.file_download:Xet Storage is enabled for this repo, but the 'hf_xet' package is not installed. Falling back to regular HTTP download. For better performance, install the package with: `pip install huggingface_hub[hf_xet]` or `pip install hf_xet`\n"
          ]
        },
        {
          "output_type": "display_data",
          "data": {
            "text/plain": [
              "model.safetensors:   0%|          | 0.00/892M [00:00<?, ?B/s]"
            ],
            "application/vnd.jupyter.widget-view+json": {
              "version_major": 2,
              "version_minor": 0,
              "model_id": "a184407ca41644d29be8ae5b6abe7746"
            }
          },
          "metadata": {}
        },
        {
          "output_type": "display_data",
          "data": {
            "text/plain": [
              "generation_config.json:   0%|          | 0.00/147 [00:00<?, ?B/s]"
            ],
            "application/vnd.jupyter.widget-view+json": {
              "version_major": 2,
              "version_minor": 0,
              "model_id": "0c668be7cab64640a726e6da4106ca6e"
            }
          },
          "metadata": {}
        },
        {
          "output_type": "display_data",
          "data": {
            "text/plain": [
              "Map:   0%|          | 0/14375 [00:00<?, ? examples/s]"
            ],
            "application/vnd.jupyter.widget-view+json": {
              "version_major": 2,
              "version_minor": 0,
              "model_id": "62af5f10ccc047c5b379f3b5ad305db0"
            }
          },
          "metadata": {}
        },
        {
          "output_type": "display_data",
          "data": {
            "text/plain": [
              "Map:   0%|          | 0/1598 [00:00<?, ? examples/s]"
            ],
            "application/vnd.jupyter.widget-view+json": {
              "version_major": 2,
              "version_minor": 0,
              "model_id": "b9af4a4a207444ea99eda3054146d71d"
            }
          },
          "metadata": {}
        },
        {
          "output_type": "stream",
          "name": "stderr",
          "text": [
            "/usr/local/lib/python3.11/dist-packages/transformers/training_args.py:1611: FutureWarning: `evaluation_strategy` is deprecated and will be removed in version 4.46 of 🤗 Transformers. Use `eval_strategy` instead\n",
            "  warnings.warn(\n",
            "<ipython-input-3-7a290847b553>:47: FutureWarning: `tokenizer` is deprecated and will be removed in version 5.0.0 for `Trainer.__init__`. Use `processing_class` instead.\n",
            "  trainer = Trainer(\n",
            "\u001b[34m\u001b[1mwandb\u001b[0m: \u001b[33mWARNING\u001b[0m The `run_name` is currently set to the same value as `TrainingArguments.output_dir`. If this was not intended, please specify a different run name by setting the `TrainingArguments.run_name` parameter.\n",
            "\u001b[34m\u001b[1mwandb\u001b[0m: Using wandb-core as the SDK backend.  Please refer to https://wandb.me/wandb-core for more information.\n"
          ]
        },
        {
          "output_type": "display_data",
          "data": {
            "text/plain": [
              "<IPython.core.display.Javascript object>"
            ],
            "application/javascript": [
              "\n",
              "        window._wandbApiKey = new Promise((resolve, reject) => {\n",
              "            function loadScript(url) {\n",
              "            return new Promise(function(resolve, reject) {\n",
              "                let newScript = document.createElement(\"script\");\n",
              "                newScript.onerror = reject;\n",
              "                newScript.onload = resolve;\n",
              "                document.body.appendChild(newScript);\n",
              "                newScript.src = url;\n",
              "            });\n",
              "            }\n",
              "            loadScript(\"https://cdn.jsdelivr.net/npm/postmate/build/postmate.min.js\").then(() => {\n",
              "            const iframe = document.createElement('iframe')\n",
              "            iframe.style.cssText = \"width:0;height:0;border:none\"\n",
              "            document.body.appendChild(iframe)\n",
              "            const handshake = new Postmate({\n",
              "                container: iframe,\n",
              "                url: 'https://wandb.ai/authorize'\n",
              "            });\n",
              "            const timeout = setTimeout(() => reject(\"Couldn't auto authenticate\"), 5000)\n",
              "            handshake.then(function(child) {\n",
              "                child.on('authorize', data => {\n",
              "                    clearTimeout(timeout)\n",
              "                    resolve(data)\n",
              "                });\n",
              "            });\n",
              "            })\n",
              "        });\n",
              "    "
            ]
          },
          "metadata": {}
        },
        {
          "output_type": "stream",
          "name": "stderr",
          "text": [
            "\u001b[34m\u001b[1mwandb\u001b[0m: Logging into wandb.ai. (Learn how to deploy a W&B server locally: https://wandb.me/wandb-server)\n",
            "\u001b[34m\u001b[1mwandb\u001b[0m: You can find your API key in your browser here: https://wandb.ai/authorize\n",
            "wandb: Paste an API key from your profile and hit enter:"
          ]
        },
        {
          "name": "stdout",
          "output_type": "stream",
          "text": [
            " ··········\n"
          ]
        },
        {
          "output_type": "stream",
          "name": "stderr",
          "text": [
            "\u001b[34m\u001b[1mwandb\u001b[0m: \u001b[33mWARNING\u001b[0m If you're specifying your api key in code, ensure this code is not shared publicly.\n",
            "\u001b[34m\u001b[1mwandb\u001b[0m: \u001b[33mWARNING\u001b[0m Consider setting the WANDB_API_KEY environment variable, or running `wandb login` from the command line.\n",
            "\u001b[34m\u001b[1mwandb\u001b[0m: No netrc file found, creating one.\n",
            "\u001b[34m\u001b[1mwandb\u001b[0m: Appending key for api.wandb.ai to your netrc file: /root/.netrc\n",
            "\u001b[34m\u001b[1mwandb\u001b[0m: Currently logged in as: \u001b[33mnishakar055\u001b[0m (\u001b[33mnishakar055-nonolive\u001b[0m) to \u001b[32mhttps://api.wandb.ai\u001b[0m. Use \u001b[1m`wandb login --relogin`\u001b[0m to force relogin\n"
          ]
        },
        {
          "output_type": "display_data",
          "data": {
            "text/plain": [
              "<IPython.core.display.HTML object>"
            ],
            "text/html": [
              "Tracking run with wandb version 0.19.9"
            ]
          },
          "metadata": {}
        },
        {
          "output_type": "display_data",
          "data": {
            "text/plain": [
              "<IPython.core.display.HTML object>"
            ],
            "text/html": [
              "Run data is saved locally in <code>/content/wandb/run-20250413_174105-sol4wpts</code>"
            ]
          },
          "metadata": {}
        },
        {
          "output_type": "display_data",
          "data": {
            "text/plain": [
              "<IPython.core.display.HTML object>"
            ],
            "text/html": [
              "Syncing run <strong><a href='https://wandb.ai/nishakar055-nonolive/huggingface/runs/sol4wpts' target=\"_blank\">./t5-thanglish1</a></strong> to <a href='https://wandb.ai/nishakar055-nonolive/huggingface' target=\"_blank\">Weights & Biases</a> (<a href='https://wandb.me/developer-guide' target=\"_blank\">docs</a>)<br>"
            ]
          },
          "metadata": {}
        },
        {
          "output_type": "display_data",
          "data": {
            "text/plain": [
              "<IPython.core.display.HTML object>"
            ],
            "text/html": [
              " View project at <a href='https://wandb.ai/nishakar055-nonolive/huggingface' target=\"_blank\">https://wandb.ai/nishakar055-nonolive/huggingface</a>"
            ]
          },
          "metadata": {}
        },
        {
          "output_type": "display_data",
          "data": {
            "text/plain": [
              "<IPython.core.display.HTML object>"
            ],
            "text/html": [
              " View run at <a href='https://wandb.ai/nishakar055-nonolive/huggingface/runs/sol4wpts' target=\"_blank\">https://wandb.ai/nishakar055-nonolive/huggingface/runs/sol4wpts</a>"
            ]
          },
          "metadata": {}
        },
        {
          "output_type": "stream",
          "name": "stderr",
          "text": [
            "Passing a tuple of `past_key_values` is deprecated and will be removed in Transformers v4.48.0. You should pass an instance of `EncoderDecoderCache` instead, e.g. `past_key_values=EncoderDecoderCache.from_legacy_cache(past_key_values)`.\n"
          ]
        },
        {
          "output_type": "display_data",
          "data": {
            "text/plain": [
              "<IPython.core.display.HTML object>"
            ],
            "text/html": [
              "\n",
              "    <div>\n",
              "      \n",
              "      <progress value='8985' max='8985' style='width:300px; height:20px; vertical-align: middle;'></progress>\n",
              "      [8985/8985 43:57, Epoch 5/5]\n",
              "    </div>\n",
              "    <table border=\"1\" class=\"dataframe\">\n",
              "  <thead>\n",
              " <tr style=\"text-align: left;\">\n",
              "      <th>Epoch</th>\n",
              "      <th>Training Loss</th>\n",
              "      <th>Validation Loss</th>\n",
              "    </tr>\n",
              "  </thead>\n",
              "  <tbody>\n",
              "    <tr>\n",
              "      <td>1</td>\n",
              "      <td>0.085900</td>\n",
              "      <td>0.075311</td>\n",
              "    </tr>\n",
              "    <tr>\n",
              "      <td>2</td>\n",
              "      <td>0.066400</td>\n",
              "      <td>0.080154</td>\n",
              "    </tr>\n",
              "    <tr>\n",
              "      <td>3</td>\n",
              "      <td>0.066700</td>\n",
              "      <td>0.080091</td>\n",
              "    </tr>\n",
              "    <tr>\n",
              "      <td>4</td>\n",
              "      <td>0.068600</td>\n",
              "      <td>0.080056</td>\n",
              "    </tr>\n",
              "    <tr>\n",
              "      <td>5</td>\n",
              "      <td>0.000000</td>\n",
              "      <td>nan</td>\n",
              "    </tr>\n",
              "  </tbody>\n",
              "</table><p>"
            ]
          },
          "metadata": {}
        },
        {
          "output_type": "execute_result",
          "data": {
            "text/plain": [
              "('t5-thanglish-final1/tokenizer_config.json',\n",
              " 't5-thanglish-final1/special_tokens_map.json',\n",
              " 't5-thanglish-final1/spiece.model',\n",
              " 't5-thanglish-final1/added_tokens.json')"
            ]
          },
          "metadata": {},
          "execution_count": 3
        }
      ]
    },
    {
      "cell_type": "markdown",
      "source": [
        "**Accuracy**"
      ],
      "metadata": {
        "id": "2A_k-Byy70Is"
      }
    },
    {
      "cell_type": "code",
      "source": [
        "#!pip install evaluate\n",
        "!pip install rouge_score"
      ],
      "metadata": {
        "id": "obqn9iXJ8Rxp",
        "colab": {
          "base_uri": "https://localhost:8080/"
        },
        "outputId": "9d6a2ae9-2c28-4a27-95c8-ef62eb63eab3"
      },
      "execution_count": null,
      "outputs": [
        {
          "output_type": "stream",
          "name": "stdout",
          "text": [
            "Collecting rouge_score\n",
            "  Downloading rouge_score-0.1.2.tar.gz (17 kB)\n",
            "  Preparing metadata (setup.py) ... \u001b[?25l\u001b[?25hdone\n",
            "Requirement already satisfied: absl-py in /usr/local/lib/python3.11/dist-packages (from rouge_score) (1.4.0)\n",
            "Requirement already satisfied: nltk in /usr/local/lib/python3.11/dist-packages (from rouge_score) (3.9.1)\n",
            "Requirement already satisfied: numpy in /usr/local/lib/python3.11/dist-packages (from rouge_score) (2.0.2)\n",
            "Requirement already satisfied: six>=1.14.0 in /usr/local/lib/python3.11/dist-packages (from rouge_score) (1.17.0)\n",
            "Requirement already satisfied: click in /usr/local/lib/python3.11/dist-packages (from nltk->rouge_score) (8.1.8)\n",
            "Requirement already satisfied: joblib in /usr/local/lib/python3.11/dist-packages (from nltk->rouge_score) (1.4.2)\n",
            "Requirement already satisfied: regex>=2021.8.3 in /usr/local/lib/python3.11/dist-packages (from nltk->rouge_score) (2024.11.6)\n",
            "Requirement already satisfied: tqdm in /usr/local/lib/python3.11/dist-packages (from nltk->rouge_score) (4.67.1)\n",
            "Building wheels for collected packages: rouge_score\n",
            "  Building wheel for rouge_score (setup.py) ... \u001b[?25l\u001b[?25hdone\n",
            "  Created wheel for rouge_score: filename=rouge_score-0.1.2-py3-none-any.whl size=24934 sha256=d0398e6218e48ee6a43b9241e49c7084e9cbaec2b7ed47d285068bbdc1aafc52\n",
            "  Stored in directory: /root/.cache/pip/wheels/1e/19/43/8a442dc83660ca25e163e1bd1f89919284ab0d0c1475475148\n",
            "Successfully built rouge_score\n",
            "Installing collected packages: rouge_score\n",
            "Successfully installed rouge_score-0.1.2\n"
          ]
        }
      ]
    },
    {
      "cell_type": "code",
      "source": [
        "from transformers import T5ForConditionalGeneration, T5Tokenizer\n",
        "from datasets import Dataset\n",
        "import evaluate\n",
        "import json\n",
        "from tqdm import tqdm\n",
        "\n",
        "# Load test dataset\n",
        "with open(\"en_ta_instruct.json\", \"r\", encoding=\"utf-8\") as f:\n",
        "    raw_data = json.load(f)\n",
        "\n",
        "# Prepare data\n",
        "data = [{\"english\": d[\"input\"], \"thanglish\": d[\"output\"]} for d in raw_data if d.get(\"input\") and d.get(\"output\")]\n",
        "dataset = Dataset.from_list(data).train_test_split(test_size=0.1)\n",
        "test_data = dataset[\"test\"]\n",
        "\n",
        "# Load model\n",
        "model = T5ForConditionalGeneration.from_pretrained(\"t5-thanglish-final1\")\n",
        "tokenizer = T5Tokenizer.from_pretrained(\"t5-thanglish-final1\")\n",
        "model.eval()\n",
        "\n",
        "# Load evaluation metrics\n",
        "bleu = evaluate.load(\"bleu\")\n",
        "rouge = evaluate.load(\"rouge\")\n",
        "\n",
        "# Generate predictions\n",
        "predictions = []\n",
        "references = []\n",
        "\n",
        "for example in tqdm(test_data, desc=\"Generating translations\"):\n",
        "    input_text = \"translate English to Thanglish: \" + example[\"english\"]\n",
        "    input_ids = tokenizer.encode(input_text, return_tensors=\"pt\", truncation=True, max_length=128)\n",
        "    output_ids = model.generate(input_ids, max_length=128, num_beams=4)\n",
        "    pred = tokenizer.decode(output_ids[0], skip_special_tokens=True)\n",
        "\n",
        "    # Check if prediction is empty and handle it\n",
        "    if not pred.strip():  # If prediction is empty\n",
        "        print(f\"Warning: Empty prediction for input: {example['english']}\")\n",
        "        # Option 1: Assign a default value to avoid zero length\n",
        "        pred = \" \"  # Or any placeholder\n",
        "        # Option 2: Skip this example for BLEU calculation\n",
        "        # continue\n",
        "\n",
        "    predictions.append(pred.strip())\n",
        "    references.append(example[\"thanglish\"].strip())\n",
        "\n",
        "# Compute metrics\n",
        "bleu_result = bleu.compute(predictions=predictions, references=[[ref] for ref in references])\n",
        "rouge_result = rouge.compute(predictions=predictions, references=references)\n",
        "\n",
        "# Print results\n",
        "print(\"\\n=== Evaluation Results ===\")\n",
        "print(f\"BLEU Score    : {bleu_result['bleu'] * 100:.2f}\")\n",
        "print(f\"ROUGE-L Score : {rouge_result['rougeL'] * 100:.2f}\")\n"
      ],
      "metadata": {
        "id": "yOKgj-0d7xou",
        "colab": {
          "base_uri": "https://localhost:8080/",
          "height": 1000
        },
        "outputId": "91f4e899-0602-4308-a37a-20c574a3a074"
      },
      "execution_count": null,
      "outputs": [
        {
          "output_type": "stream",
          "name": "stderr",
          "text": [
            "Generating translations:   0%|          | 1/1598 [00:00<22:55,  1.16it/s]"
          ]
        },
        {
          "output_type": "stream",
          "name": "stdout",
          "text": [
            "Warning: Empty prediction for input: That He may reveal to them the truth of the difference in which they make a difference, and that those who do not believe (in Resurrection and Allah's Likeness) may know that they are liars.\n"
          ]
        },
        {
          "output_type": "stream",
          "name": "stderr",
          "text": [
            "\rGenerating translations:   0%|          | 2/1598 [00:01<16:05,  1.65it/s]"
          ]
        },
        {
          "output_type": "stream",
          "name": "stdout",
          "text": [
            "Warning: Empty prediction for input: No one knows when school will reopen.\n"
          ]
        },
        {
          "output_type": "stream",
          "name": "stderr",
          "text": [
            "\rGenerating translations:   0%|          | 3/1598 [00:01<13:29,  1.97it/s]"
          ]
        },
        {
          "output_type": "stream",
          "name": "stdout",
          "text": [
            "Warning: Empty prediction for input: Here's the battle between Congress and BJP.\n"
          ]
        },
        {
          "output_type": "stream",
          "name": "stderr",
          "text": [
            "\rGenerating translations:   0%|          | 4/1598 [00:02<12:30,  2.12it/s]"
          ]
        },
        {
          "output_type": "stream",
          "name": "stdout",
          "text": [
            "Warning: Empty prediction for input: There are three driving modes in the car: Eco, Comfort and Sport.\n"
          ]
        },
        {
          "output_type": "stream",
          "name": "stderr",
          "text": [
            "\rGenerating translations:   0%|          | 5/1598 [00:02<12:10,  2.18it/s]"
          ]
        },
        {
          "output_type": "stream",
          "name": "stdout",
          "text": [
            "Warning: Empty prediction for input: But nothing works.\n"
          ]
        },
        {
          "output_type": "stream",
          "name": "stderr",
          "text": [
            "\rGenerating translations:   0%|          | 6/1598 [00:02<10:26,  2.54it/s]"
          ]
        },
        {
          "output_type": "stream",
          "name": "stdout",
          "text": [
            "Warning: Empty prediction for input: It doesn't matter if you think it's important.\n"
          ]
        },
        {
          "output_type": "stream",
          "name": "stderr",
          "text": [
            "\rGenerating translations:   0%|          | 7/1598 [00:03<09:27,  2.80it/s]"
          ]
        },
        {
          "output_type": "stream",
          "name": "stdout",
          "text": [
            "Warning: Empty prediction for input: It's sad that young people in the developing countries are dying of diarrheic diseases.\n"
          ]
        },
        {
          "output_type": "stream",
          "name": "stderr",
          "text": [
            "\rGenerating translations:   1%|          | 8/1598 [00:03<08:17,  3.19it/s]"
          ]
        },
        {
          "output_type": "stream",
          "name": "stdout",
          "text": [
            "Warning: Empty prediction for input: Man and Monkey\n"
          ]
        },
        {
          "output_type": "stream",
          "name": "stderr",
          "text": [
            "\rGenerating translations:   1%|          | 9/1598 [00:03<07:32,  3.51it/s]"
          ]
        },
        {
          "output_type": "stream",
          "name": "stdout",
          "text": [
            "Warning: Empty prediction for input: Follow the guidelines for hand washing.\n"
          ]
        },
        {
          "output_type": "stream",
          "name": "stderr",
          "text": [
            "Generating translations:   1%|          | 11/1598 [00:03<06:44,  3.92it/s]"
          ]
        },
        {
          "output_type": "stream",
          "name": "stdout",
          "text": [
            "Warning: Empty prediction for input: The Netherlands and Argentina are at loggerheads and there's a lot of history.\n",
            "Warning: Empty prediction for input: Mailbox 7\n"
          ]
        },
        {
          "output_type": "stream",
          "name": "stderr",
          "text": [
            "\rGenerating translations:   1%|          | 12/1598 [00:04<06:26,  4.10it/s]"
          ]
        },
        {
          "output_type": "stream",
          "name": "stdout",
          "text": [
            "Warning: Empty prediction for input: Password is successfully reset.\n"
          ]
        },
        {
          "output_type": "stream",
          "name": "stderr",
          "text": [
            "\rGenerating translations:   1%|          | 13/1598 [00:04<06:15,  4.22it/s]"
          ]
        },
        {
          "output_type": "stream",
          "name": "stdout",
          "text": [
            "Warning: Empty prediction for input: The difficulty is increasing.\n"
          ]
        },
        {
          "output_type": "stream",
          "name": "stderr",
          "text": [
            "\rGenerating translations:   1%|          | 14/1598 [00:04<06:49,  3.87it/s]"
          ]
        },
        {
          "output_type": "stream",
          "name": "stdout",
          "text": [
            "Warning: Empty prediction for input: India is committed not only to allocate resources in our country but also to help the world and all countries that need support.\n"
          ]
        },
        {
          "output_type": "stream",
          "name": "stderr",
          "text": [
            "\rGenerating translations:   1%|          | 15/1598 [00:04<06:27,  4.08it/s]"
          ]
        },
        {
          "output_type": "stream",
          "name": "stdout",
          "text": [
            "Warning: Empty prediction for input: And the children...\n"
          ]
        },
        {
          "output_type": "stream",
          "name": "stderr",
          "text": [
            "\rGenerating translations:   1%|          | 16/1598 [00:05<06:40,  3.95it/s]"
          ]
        },
        {
          "output_type": "stream",
          "name": "stdout",
          "text": [
            "Warning: Empty prediction for input: Can you tell me what an explosive (n) is?\n"
          ]
        },
        {
          "output_type": "stream",
          "name": "stderr",
          "text": [
            "\rGenerating translations:   1%|          | 17/1598 [00:05<06:29,  4.06it/s]"
          ]
        },
        {
          "output_type": "stream",
          "name": "stdout",
          "text": [
            "Warning: Empty prediction for input: What hope can you give them?\n"
          ]
        },
        {
          "output_type": "stream",
          "name": "stderr",
          "text": [
            "\rGenerating translations:   1%|          | 18/1598 [00:05<06:24,  4.11it/s]"
          ]
        },
        {
          "output_type": "stream",
          "name": "stdout",
          "text": [
            "Warning: Empty prediction for input: They're too high on the horizon.\n"
          ]
        },
        {
          "output_type": "stream",
          "name": "stderr",
          "text": [
            "\rGenerating translations:   1%|          | 19/1598 [00:05<06:12,  4.24it/s]"
          ]
        },
        {
          "output_type": "stream",
          "name": "stdout",
          "text": [
            "Warning: Empty prediction for input: Okay grandpa.\n"
          ]
        },
        {
          "output_type": "stream",
          "name": "stderr",
          "text": [
            "\rGenerating translations:   1%|▏         | 20/1598 [00:06<06:41,  3.93it/s]"
          ]
        },
        {
          "output_type": "stream",
          "name": "stdout",
          "text": [
            "Warning: Empty prediction for input: No need...\n"
          ]
        },
        {
          "output_type": "stream",
          "name": "stderr",
          "text": [
            "\rGenerating translations:   1%|▏         | 21/1598 [00:06<06:58,  3.77it/s]"
          ]
        },
        {
          "output_type": "stream",
          "name": "stdout",
          "text": [
            "Warning: Empty prediction for input: Pakistan refused.\n"
          ]
        },
        {
          "output_type": "stream",
          "name": "stderr",
          "text": [
            "\rGenerating translations:   1%|▏         | 22/1598 [00:07<08:52,  2.96it/s]"
          ]
        },
        {
          "output_type": "stream",
          "name": "stdout",
          "text": [
            "Warning: Empty prediction for input: But in the then Rajiv Gandhi Government Parliament, they used their strength to prevent the Supreme Court from becoming effective and even took away the constitutional and fundamental rights of Muslim women.\n"
          ]
        },
        {
          "output_type": "stream",
          "name": "stderr",
          "text": [
            "\rGenerating translations:   1%|▏         | 23/1598 [00:07<08:51,  2.97it/s]"
          ]
        },
        {
          "output_type": "stream",
          "name": "stdout",
          "text": [
            "Warning: Empty prediction for input: The investigation has confirmed that the allegations are true.\n"
          ]
        },
        {
          "output_type": "stream",
          "name": "stderr",
          "text": [
            "\rGenerating translations:   2%|▏         | 24/1598 [00:07<09:18,  2.82it/s]"
          ]
        },
        {
          "output_type": "stream",
          "name": "stdout",
          "text": [
            "Warning: Empty prediction for input: Selection Process: Candidates will be selected through Online Examination (Preliminary and Main).\n"
          ]
        },
        {
          "output_type": "stream",
          "name": "stderr",
          "text": [
            "\rGenerating translations:   2%|▏         | 25/1598 [00:08<08:50,  2.97it/s]"
          ]
        },
        {
          "output_type": "stream",
          "name": "stdout",
          "text": [
            "Warning: Empty prediction for input: Shrink the image.\n"
          ]
        },
        {
          "output_type": "stream",
          "name": "stderr",
          "text": [
            "\rGenerating translations:   2%|▏         | 26/1598 [00:08<08:57,  2.93it/s]"
          ]
        },
        {
          "output_type": "stream",
          "name": "stdout",
          "text": [
            "Warning: Empty prediction for input: Thank you ma'am. (Thank you).\n"
          ]
        },
        {
          "output_type": "stream",
          "name": "stderr",
          "text": [
            "\rGenerating translations:   2%|▏         | 27/1598 [00:08<08:51,  2.96it/s]"
          ]
        },
        {
          "output_type": "stream",
          "name": "stdout",
          "text": [
            "Warning: Empty prediction for input: Before _Previous definition\n"
          ]
        },
        {
          "output_type": "stream",
          "name": "stderr",
          "text": [
            "\rGenerating translations:   2%|▏         | 28/1598 [00:09<10:18,  2.54it/s]"
          ]
        },
        {
          "output_type": "stream",
          "name": "stdout",
          "text": [
            "Warning: Empty prediction for input: In this region, the flow accelerates but tries to decelerate, so next to the boundary, in the boundary layer region, shear stresses or friction, try to decelerate the skin friction flow, help the pressure gradient flow.\n"
          ]
        },
        {
          "output_type": "stream",
          "name": "stderr",
          "text": [
            "\rGenerating translations:   2%|▏         | 29/1598 [00:09<09:24,  2.78it/s]"
          ]
        },
        {
          "output_type": "stream",
          "name": "stdout",
          "text": [
            "Warning: Empty prediction for input: In the first fixture, the reigning champions Chennai Super Kings and Royal Challengers Bangalore will clash.\n"
          ]
        },
        {
          "output_type": "stream",
          "name": "stderr",
          "text": [
            "\rGenerating translations:   2%|▏         | 30/1598 [00:09<08:31,  3.06it/s]"
          ]
        },
        {
          "output_type": "stream",
          "name": "stdout",
          "text": [
            "Warning: Empty prediction for input: He does not give any allowance to His will.\n"
          ]
        },
        {
          "output_type": "stream",
          "name": "stderr",
          "text": [
            "\rGenerating translations:   2%|▏         | 31/1598 [00:10<07:57,  3.28it/s]"
          ]
        },
        {
          "output_type": "stream",
          "name": "stdout",
          "text": [
            "Warning: Empty prediction for input: Hyundai Motors India has inaugurated their first digital outlet in India.\n"
          ]
        },
        {
          "output_type": "stream",
          "name": "stderr",
          "text": [
            "\rGenerating translations:   2%|▏         | 32/1598 [00:10<07:52,  3.32it/s]"
          ]
        },
        {
          "output_type": "stream",
          "name": "stdout",
          "text": [
            "Warning: Empty prediction for input: Mysuru Mithra is an Indian Kannada language morning daily newspaper published from Mysore, India.\n"
          ]
        },
        {
          "output_type": "stream",
          "name": "stderr",
          "text": [
            "\rGenerating translations:   2%|▏         | 33/1598 [00:10<07:23,  3.53it/s]"
          ]
        },
        {
          "output_type": "stream",
          "name": "stdout",
          "text": [
            "Warning: Empty prediction for input: 1825: The United Kingdom recognized Argentina independence from Spain.\n"
          ]
        },
        {
          "output_type": "stream",
          "name": "stderr",
          "text": [
            "\rGenerating translations:   2%|▏         | 34/1598 [00:10<06:56,  3.76it/s]"
          ]
        },
        {
          "output_type": "stream",
          "name": "stdout",
          "text": [
            "Warning: Empty prediction for input: Everyone got into the water.\n"
          ]
        },
        {
          "output_type": "stream",
          "name": "stderr",
          "text": [
            "\rGenerating translations:   2%|▏         | 35/1598 [00:10<06:33,  3.97it/s]"
          ]
        },
        {
          "output_type": "stream",
          "name": "stdout",
          "text": [
            "Warning: Empty prediction for input: After that, you can change.\n"
          ]
        },
        {
          "output_type": "stream",
          "name": "stderr",
          "text": [
            "\rGenerating translations:   2%|▏         | 36/1598 [00:11<06:50,  3.80it/s]"
          ]
        },
        {
          "output_type": "stream",
          "name": "stdout",
          "text": [
            "Warning: Empty prediction for input: But compared to what Roman power was ruling centuries ago, it won't be long. Revelation 17: 10.\n"
          ]
        },
        {
          "output_type": "stream",
          "name": "stderr",
          "text": [
            "\rGenerating translations:   2%|▏         | 37/1598 [00:11<06:31,  3.98it/s]"
          ]
        },
        {
          "output_type": "stream",
          "name": "stdout",
          "text": [
            "Warning: Empty prediction for input: Total project cost Rs.\n"
          ]
        },
        {
          "output_type": "stream",
          "name": "stderr",
          "text": [
            "\rGenerating translations:   2%|▏         | 38/1598 [00:11<06:19,  4.11it/s]"
          ]
        },
        {
          "output_type": "stream",
          "name": "stdout",
          "text": [
            "Warning: Empty prediction for input: Forty or fifty minutes.\n"
          ]
        },
        {
          "output_type": "stream",
          "name": "stderr",
          "text": [
            "\rGenerating translations:   2%|▏         | 39/1598 [00:12<08:39,  3.00it/s]"
          ]
        },
        {
          "output_type": "stream",
          "name": "stdout",
          "text": [
            "Warning: Empty prediction for input: Sign MoU on Cultural Exchange Program for Culture First, 2018-22 Music and Dance, Theatre, Exhibitions, Seminars and Conference, Archeology, Archives, Library, Museums, Literature, Research and Documentation etc. Mr. T.S. Secretary, Department of Economic Relations, Ministry of Agriculture, Shri. Tirumurti ji,\n"
          ]
        },
        {
          "output_type": "stream",
          "name": "stderr",
          "text": [
            "\rGenerating translations:   3%|▎         | 40/1598 [00:12<08:03,  3.22it/s]"
          ]
        },
        {
          "output_type": "stream",
          "name": "stdout",
          "text": [
            "Warning: Empty prediction for input: On the third day, the play was a cracking start.\n"
          ]
        },
        {
          "output_type": "stream",
          "name": "stderr",
          "text": [
            "\rGenerating translations:   3%|▎         | 41/1598 [00:12<07:46,  3.34it/s]"
          ]
        },
        {
          "output_type": "stream",
          "name": "stdout",
          "text": [
            "Warning: Empty prediction for input: Sivakumar, Surya and Karthi's family members have all given donation.\n"
          ]
        },
        {
          "output_type": "stream",
          "name": "stderr",
          "text": [
            "\rGenerating translations:   3%|▎         | 42/1598 [00:13<07:02,  3.68it/s]"
          ]
        },
        {
          "output_type": "stream",
          "name": "stdout",
          "text": [
            "Warning: Empty prediction for input: There is evidence.\n"
          ]
        },
        {
          "output_type": "stream",
          "name": "stderr",
          "text": [
            "\rGenerating translations:   3%|▎         | 43/1598 [00:13<06:31,  3.97it/s]"
          ]
        },
        {
          "output_type": "stream",
          "name": "stdout",
          "text": [
            "Warning: Empty prediction for input: Same Rs.\n"
          ]
        },
        {
          "output_type": "stream",
          "name": "stderr",
          "text": [
            "\rGenerating translations:   3%|▎         | 44/1598 [00:13<06:58,  3.72it/s]"
          ]
        },
        {
          "output_type": "stream",
          "name": "stdout",
          "text": [
            "Warning: Empty prediction for input: But if you're talking about social practices like nonmaterial goods, teaching and learning, civic life, this isn't the case.\n"
          ]
        },
        {
          "output_type": "stream",
          "name": "stderr",
          "text": [
            "\rGenerating translations:   3%|▎         | 45/1598 [00:13<07:13,  3.58it/s]"
          ]
        },
        {
          "output_type": "stream",
          "name": "stdout",
          "text": [
            "Warning: Empty prediction for input: I'm fine, thank you. Ravi, didn't I see you yesterday during cricket practice?\n"
          ]
        },
        {
          "output_type": "stream",
          "name": "stderr",
          "text": [
            "\rGenerating translations:   3%|▎         | 46/1598 [00:14<07:29,  3.45it/s]"
          ]
        },
        {
          "output_type": "stream",
          "name": "stdout",
          "text": [
            "Warning: Empty prediction for input: I can't take leave on Friday. Go with your friend Nalini in our apartment. We'll go to town on Sunday.\n"
          ]
        },
        {
          "output_type": "stream",
          "name": "stderr",
          "text": [
            "\rGenerating translations:   3%|▎         | 47/1598 [00:14<06:56,  3.72it/s]"
          ]
        },
        {
          "output_type": "stream",
          "name": "stdout",
          "text": [
            "Warning: Empty prediction for input: Students have to study hard.\n"
          ]
        },
        {
          "output_type": "stream",
          "name": "stderr",
          "text": [
            "\rGenerating translations:   3%|▎         | 48/1598 [00:14<06:34,  3.93it/s]"
          ]
        },
        {
          "output_type": "stream",
          "name": "stdout",
          "text": [
            "Warning: Empty prediction for input: Oil - 25 g\n"
          ]
        },
        {
          "output_type": "stream",
          "name": "stderr",
          "text": [
            "\rGenerating translations:   3%|▎         | 49/1598 [00:14<07:27,  3.46it/s]"
          ]
        },
        {
          "output_type": "stream",
          "name": "stdout",
          "text": [
            "Warning: Empty prediction for input: Pachadi (Telugu: , Kannada: , Tamil: , Malayalam: ) is a traditional South Indian fresh pickle that serves side dish.\n"
          ]
        },
        {
          "output_type": "stream",
          "name": "stderr",
          "text": [
            "\rGenerating translations:   3%|▎         | 50/1598 [00:15<07:03,  3.66it/s]"
          ]
        },
        {
          "output_type": "stream",
          "name": "stdout",
          "text": [
            "Warning: Empty prediction for input: Lucky Number: 9. Lucky Colour: Yellow\n"
          ]
        },
        {
          "output_type": "stream",
          "name": "stderr",
          "text": [
            "\rGenerating translations:   3%|▎         | 51/1598 [00:15<07:08,  3.61it/s]"
          ]
        },
        {
          "output_type": "stream",
          "name": "stdout",
          "text": [
            "Warning: Empty prediction for input: Superintending Engineer (Electrical) U.P. (East) Electricity Circle\n"
          ]
        },
        {
          "output_type": "stream",
          "name": "stderr",
          "text": [
            "\rGenerating translations:   3%|▎         | 52/1598 [00:15<07:20,  3.51it/s]"
          ]
        },
        {
          "output_type": "stream",
          "name": "stdout",
          "text": [
            "Warning: Empty prediction for input: I think you understand that the principles mentioned in the Bible are very helpful in setting priorities and taking wise decisions.\n"
          ]
        },
        {
          "output_type": "stream",
          "name": "stderr",
          "text": [
            "\rGenerating translations:   3%|▎         | 53/1598 [00:16<07:06,  3.62it/s]"
          ]
        },
        {
          "output_type": "stream",
          "name": "stdout",
          "text": [
            "Warning: Empty prediction for input: The pandemic in the U.S. is even worse.\n"
          ]
        },
        {
          "output_type": "stream",
          "name": "stderr",
          "text": [
            "\rGenerating translations:   3%|▎         | 54/1598 [00:16<06:46,  3.80it/s]"
          ]
        },
        {
          "output_type": "stream",
          "name": "stdout",
          "text": [
            "Warning: Empty prediction for input: I don't like it very much.\n"
          ]
        },
        {
          "output_type": "stream",
          "name": "stderr",
          "text": [
            "\rGenerating translations:   3%|▎         | 55/1598 [00:16<07:20,  3.50it/s]"
          ]
        },
        {
          "output_type": "stream",
          "name": "stdout",
          "text": [
            "Warning: Empty prediction for input: Naimangalam is a township in Tiruvannamalai taluk of Tiruvannamalai district in Tamil Nadu.\n"
          ]
        },
        {
          "output_type": "stream",
          "name": "stderr",
          "text": [
            "\rGenerating translations:   4%|▎         | 56/1598 [00:16<06:48,  3.77it/s]"
          ]
        },
        {
          "output_type": "stream",
          "name": "stdout",
          "text": [
            "Warning: Empty prediction for input: When to sell?\n"
          ]
        },
        {
          "output_type": "stream",
          "name": "stderr",
          "text": [
            "\rGenerating translations:   4%|▎         | 57/1598 [00:17<06:35,  3.89it/s]"
          ]
        },
        {
          "output_type": "stream",
          "name": "stdout",
          "text": [
            "Warning: Empty prediction for input: Every election season is a minimum of five years.\n"
          ]
        },
        {
          "output_type": "stream",
          "name": "stderr",
          "text": [
            "\rGenerating translations:   4%|▎         | 58/1598 [00:17<06:22,  4.03it/s]"
          ]
        },
        {
          "output_type": "stream",
          "name": "stdout",
          "text": [
            "Warning: Empty prediction for input: But that's not our demand.\n"
          ]
        },
        {
          "output_type": "stream",
          "name": "stderr",
          "text": [
            "\rGenerating translations:   4%|▎         | 59/1598 [00:17<06:11,  4.14it/s]"
          ]
        },
        {
          "output_type": "stream",
          "name": "stdout",
          "text": [
            "Warning: Empty prediction for input: Return and Return to Life\n"
          ]
        },
        {
          "output_type": "stream",
          "name": "stderr",
          "text": [
            "\rGenerating translations:   4%|▍         | 60/1598 [00:17<06:12,  4.13it/s]"
          ]
        },
        {
          "output_type": "stream",
          "name": "stdout",
          "text": [
            "Warning: Empty prediction for input: It's reduced the loss of life.\n"
          ]
        },
        {
          "output_type": "stream",
          "name": "stderr",
          "text": [
            "\rGenerating translations:   4%|▍         | 61/1598 [00:18<06:15,  4.09it/s]"
          ]
        },
        {
          "output_type": "stream",
          "name": "stdout",
          "text": [
            "Warning: Empty prediction for input: The police will take strong action.\n"
          ]
        },
        {
          "output_type": "stream",
          "name": "stderr",
          "text": [
            "\rGenerating translations:   4%|▍         | 62/1598 [00:18<06:41,  3.83it/s]"
          ]
        },
        {
          "output_type": "stream",
          "name": "stdout",
          "text": [
            "Warning: Empty prediction for input: The Bible opposes those behaviors. It prohibits some sexual conduct, especially homosexuality. 1 Corinthians 6:9 – 11.\n"
          ]
        },
        {
          "output_type": "stream",
          "name": "stderr",
          "text": [
            "\rGenerating translations:   4%|▍         | 63/1598 [00:18<06:23,  4.00it/s]"
          ]
        },
        {
          "output_type": "stream",
          "name": "stdout",
          "text": [
            "Warning: Empty prediction for input: This problem is still solved.\n"
          ]
        },
        {
          "output_type": "stream",
          "name": "stderr",
          "text": [
            "\rGenerating translations:   4%|▍         | 64/1598 [00:18<07:24,  3.45it/s]"
          ]
        },
        {
          "output_type": "stream",
          "name": "stdout",
          "text": [
            "Warning: Empty prediction for input: Even if we have a network for AI monitoring stations, we need to strengthen and expand this with the geographical area to cover the air-shed areas so that we can make it more robust and accurate.\n"
          ]
        },
        {
          "output_type": "stream",
          "name": "stderr",
          "text": [
            "\rGenerating translations:   4%|▍         | 65/1598 [00:19<07:42,  3.32it/s]"
          ]
        },
        {
          "output_type": "stream",
          "name": "stdout",
          "text": [
            "Warning: Empty prediction for input: What is this pandemonium?\n"
          ]
        },
        {
          "output_type": "stream",
          "name": "stderr",
          "text": [
            "\rGenerating translations:   4%|▍         | 66/1598 [00:19<07:51,  3.25it/s]"
          ]
        },
        {
          "output_type": "stream",
          "name": "stdout",
          "text": [
            "Warning: Empty prediction for input: Others don't have to worry.\n"
          ]
        },
        {
          "output_type": "stream",
          "name": "stderr",
          "text": [
            "\rGenerating translations:   4%|▍         | 67/1598 [00:19<08:01,  3.18it/s]"
          ]
        },
        {
          "output_type": "stream",
          "name": "stdout",
          "text": [
            "Warning: Empty prediction for input: The accused reported the incident to the police.\n"
          ]
        },
        {
          "output_type": "stream",
          "name": "stderr",
          "text": [
            "\rGenerating translations:   4%|▍         | 68/1598 [00:20<08:51,  2.88it/s]"
          ]
        },
        {
          "output_type": "stream",
          "name": "stdout",
          "text": [
            "Warning: Empty prediction for input: The French 'left' in supporting Villepin shows that there are no genuine differences to the established parties.\n"
          ]
        },
        {
          "output_type": "stream",
          "name": "stderr",
          "text": [
            "\rGenerating translations:   4%|▍         | 69/1598 [00:20<08:44,  2.92it/s]"
          ]
        },
        {
          "output_type": "stream",
          "name": "stdout",
          "text": [
            "Warning: Empty prediction for input: First, let me clear one thing.\n"
          ]
        },
        {
          "output_type": "stream",
          "name": "stderr",
          "text": [
            "\rGenerating translations:   4%|▍         | 70/1598 [00:21<08:43,  2.92it/s]"
          ]
        },
        {
          "output_type": "stream",
          "name": "stdout",
          "text": [
            "Warning: Empty prediction for input: (Photo: Burhaan Kinu)\n"
          ]
        },
        {
          "output_type": "stream",
          "name": "stderr",
          "text": [
            "\rGenerating translations:   4%|▍         | 71/1598 [00:21<08:19,  3.06it/s]"
          ]
        },
        {
          "output_type": "stream",
          "name": "stdout",
          "text": [
            "Warning: Empty prediction for input: Truth will act.\n"
          ]
        },
        {
          "output_type": "stream",
          "name": "stderr",
          "text": [
            "\rGenerating translations:   5%|▍         | 72/1598 [00:21<08:09,  3.12it/s]"
          ]
        },
        {
          "output_type": "stream",
          "name": "stdout",
          "text": [
            "Warning: Empty prediction for input: Drink water.\n"
          ]
        },
        {
          "output_type": "stream",
          "name": "stderr",
          "text": [
            "\rGenerating translations:   5%|▍         | 73/1598 [00:21<08:25,  3.02it/s]"
          ]
        },
        {
          "output_type": "stream",
          "name": "stdout",
          "text": [
            "Warning: Empty prediction for input: It belongs to the cactus family.\n"
          ]
        },
        {
          "output_type": "stream",
          "name": "stderr",
          "text": [
            "\rGenerating translations:   5%|▍         | 74/1598 [00:22<08:52,  2.86it/s]"
          ]
        },
        {
          "output_type": "stream",
          "name": "stdout",
          "text": [
            "Warning: Empty prediction for input: She started a music college called Satguru Sangeetha Vidyalayam as part of her Sabha.\n"
          ]
        },
        {
          "output_type": "stream",
          "name": "stderr",
          "text": [
            "\rGenerating translations:   5%|▍         | 75/1598 [00:22<07:58,  3.19it/s]"
          ]
        },
        {
          "output_type": "stream",
          "name": "stdout",
          "text": [
            "Warning: Empty prediction for input: It is our duty to protect them.\n"
          ]
        },
        {
          "output_type": "stream",
          "name": "stderr",
          "text": [
            "\rGenerating translations:   5%|▍         | 76/1598 [00:22<07:25,  3.41it/s]"
          ]
        },
        {
          "output_type": "stream",
          "name": "stdout",
          "text": [
            "Warning: Empty prediction for input: It's very difficult to go to law school now.\n"
          ]
        },
        {
          "output_type": "stream",
          "name": "stderr",
          "text": [
            "\rGenerating translations:   5%|▍         | 77/1598 [00:23<07:04,  3.58it/s]"
          ]
        },
        {
          "output_type": "stream",
          "name": "stdout",
          "text": [
            "Warning: Empty prediction for input: Are we paralyzed in our own town?\n"
          ]
        },
        {
          "output_type": "stream",
          "name": "stderr",
          "text": [
            "\rGenerating translations:   5%|▍         | 78/1598 [00:23<06:39,  3.80it/s]"
          ]
        },
        {
          "output_type": "stream",
          "name": "stdout",
          "text": [
            "Warning: Empty prediction for input: I don't have a choice.\n"
          ]
        },
        {
          "output_type": "stream",
          "name": "stderr",
          "text": [
            "\rGenerating translations:   5%|▍         | 79/1598 [00:23<06:12,  4.08it/s]"
          ]
        },
        {
          "output_type": "stream",
          "name": "stdout",
          "text": [
            "Warning: Empty prediction for input: Just saying:\n"
          ]
        },
        {
          "output_type": "stream",
          "name": "stderr",
          "text": [
            "\rGenerating translations:   5%|▌         | 80/1598 [00:23<05:54,  4.28it/s]"
          ]
        },
        {
          "output_type": "stream",
          "name": "stdout",
          "text": [
            "Warning: Empty prediction for input: Green and Black tea\n"
          ]
        },
        {
          "output_type": "stream",
          "name": "stderr",
          "text": [
            "\rGenerating translations:   5%|▌         | 81/1598 [00:24<06:40,  3.79it/s]"
          ]
        },
        {
          "output_type": "stream",
          "name": "stdout",
          "text": [
            "Warning: Empty prediction for input: Conservation, sustainable lifestyle, green development model. Our initiatives include using 450 MW of renewable energy as an ambitious target to promote electric vehicles, Smart Cities, Conservation of Water, etc.\n"
          ]
        },
        {
          "output_type": "stream",
          "name": "stderr",
          "text": [
            "\rGenerating translations:   5%|▌         | 82/1598 [00:24<07:12,  3.50it/s]"
          ]
        },
        {
          "output_type": "stream",
          "name": "stdout",
          "text": [
            "Warning: Empty prediction for input: It will provide more employment to women in the region and develop infrastructure similar to the construction of roads, power, water supply and offices in the North Eastern states.\n"
          ]
        },
        {
          "output_type": "stream",
          "name": "stderr",
          "text": [
            "\rGenerating translations:   5%|▌         | 83/1598 [00:24<07:42,  3.28it/s]"
          ]
        },
        {
          "output_type": "stream",
          "name": "stdout",
          "text": [
            "Warning: Empty prediction for input: In 2019-20, the National Fishermen Saving Relief scheme, Tamil Nadu Fisherwomen Savings Relief scheme, Fishing Ban Period Relief, Lean Period Relief Assistance were given through online services.\n"
          ]
        },
        {
          "output_type": "stream",
          "name": "stderr",
          "text": [
            "\rGenerating translations:   5%|▌         | 84/1598 [00:25<08:52,  2.84it/s]"
          ]
        },
        {
          "output_type": "stream",
          "name": "stdout",
          "text": [
            "Warning: Empty prediction for input: [Iblis (Satan)] said: See? You have honored him above me, and if you give me a respite till the Day of Resurrection, I will catch all but a few people and lead them astray!\n"
          ]
        },
        {
          "output_type": "stream",
          "name": "stderr",
          "text": [
            "\rGenerating translations:   5%|▌         | 85/1598 [00:25<07:59,  3.15it/s]"
          ]
        },
        {
          "output_type": "stream",
          "name": "stdout",
          "text": [
            "Warning: Empty prediction for input: Then they got into the police very well.\n"
          ]
        },
        {
          "output_type": "stream",
          "name": "stderr",
          "text": [
            "\rGenerating translations:   5%|▌         | 86/1598 [00:25<07:17,  3.46it/s]"
          ]
        },
        {
          "output_type": "stream",
          "name": "stdout",
          "text": [
            "Warning: Empty prediction for input: The government will take note of this immediately.\n"
          ]
        },
        {
          "output_type": "stream",
          "name": "stderr",
          "text": [
            "\rGenerating translations:   5%|▌         | 87/1598 [00:25<06:40,  3.77it/s]"
          ]
        },
        {
          "output_type": "stream",
          "name": "stdout",
          "text": [
            "Warning: Empty prediction for input: BJP and Congress!\n"
          ]
        },
        {
          "output_type": "stream",
          "name": "stderr",
          "text": [
            "\rGenerating translations:   6%|▌         | 88/1598 [00:26<06:32,  3.85it/s]"
          ]
        },
        {
          "output_type": "stream",
          "name": "stdout",
          "text": [
            "Warning: Empty prediction for input: The factory worker died in the accident.\n"
          ]
        },
        {
          "output_type": "stream",
          "name": "stderr",
          "text": [
            "\rGenerating translations:   6%|▌         | 89/1598 [00:26<06:49,  3.69it/s]"
          ]
        },
        {
          "output_type": "stream",
          "name": "stdout",
          "text": [
            "Warning: Empty prediction for input: At the 2018 Auto Expo from Honda, they revealed their all-new premium commuter motorcycle, the X-Blade.\n"
          ]
        },
        {
          "output_type": "stream",
          "name": "stderr",
          "text": [
            "\rGenerating translations:   6%|▌         | 90/1598 [00:26<07:12,  3.48it/s]"
          ]
        },
        {
          "output_type": "stream",
          "name": "stdout",
          "text": [
            "Warning: Empty prediction for input: If Freedom Fighters have a Central or State pension, their widows and legal heirs are given a free bus pass to travel in State Transport Corporation buses.\n"
          ]
        },
        {
          "output_type": "stream",
          "name": "stderr",
          "text": [
            "\rGenerating translations:   6%|▌         | 91/1598 [00:26<06:41,  3.75it/s]"
          ]
        },
        {
          "output_type": "stream",
          "name": "stdout",
          "text": [
            "Warning: Empty prediction for input: They don't have coaching experience.\n"
          ]
        },
        {
          "output_type": "stream",
          "name": "stderr",
          "text": [
            "\rGenerating translations:   6%|▌         | 92/1598 [00:27<06:28,  3.87it/s]"
          ]
        },
        {
          "output_type": "stream",
          "name": "stdout",
          "text": [
            "Warning: Empty prediction for input: Eventually, they decided to get married.\n"
          ]
        },
        {
          "output_type": "stream",
          "name": "stderr",
          "text": [
            "\rGenerating translations:   6%|▌         | 93/1598 [00:27<06:26,  3.89it/s]"
          ]
        },
        {
          "output_type": "stream",
          "name": "stdout",
          "text": [
            "Warning: Empty prediction for input: Get the application form from Hostel Warden/Matron.\n"
          ]
        },
        {
          "output_type": "stream",
          "name": "stderr",
          "text": [
            "\rGenerating translations:   6%|▌         | 94/1598 [00:27<06:24,  3.91it/s]"
          ]
        },
        {
          "output_type": "stream",
          "name": "stdout",
          "text": [
            "Warning: Empty prediction for input: We can see the center of our Galaxy by observing the radio waves.\n"
          ]
        },
        {
          "output_type": "stream",
          "name": "stderr",
          "text": [
            "\rGenerating translations:   6%|▌         | 95/1598 [00:27<06:24,  3.91it/s]"
          ]
        },
        {
          "output_type": "stream",
          "name": "stdout",
          "text": [
            "Warning: Empty prediction for input: The film stars Shah Rukh Khan and Anushka Sharma in lead roles.\n"
          ]
        },
        {
          "output_type": "stream",
          "name": "stderr",
          "text": [
            "\rGenerating translations:   6%|▌         | 96/1598 [00:28<06:24,  3.91it/s]"
          ]
        },
        {
          "output_type": "stream",
          "name": "stdout",
          "text": [
            "Warning: Empty prediction for input: Thank you very much my friends, thank you very much.\n"
          ]
        },
        {
          "output_type": "stream",
          "name": "stderr",
          "text": [
            "\rGenerating translations:   6%|▌         | 97/1598 [00:28<06:33,  3.81it/s]"
          ]
        },
        {
          "output_type": "stream",
          "name": "stdout",
          "text": [
            "Warning: Empty prediction for input: The UK High Court has dismissed the plea against Vijay Mallya's extradition to India.\n"
          ]
        },
        {
          "output_type": "stream",
          "name": "stderr",
          "text": [
            "\rGenerating translations:   6%|▌         | 98/1598 [00:28<07:07,  3.51it/s]"
          ]
        },
        {
          "output_type": "stream",
          "name": "stdout",
          "text": [
            "Warning: Empty prediction for input: Meanwhile, BJP's Mumbai unit chief Mangal Prabhat Lodha has said that no decision has been taken on this issue yet.\n"
          ]
        },
        {
          "output_type": "stream",
          "name": "stderr",
          "text": [
            "\rGenerating translations:   6%|▌         | 99/1598 [00:29<06:36,  3.78it/s]"
          ]
        },
        {
          "output_type": "stream",
          "name": "stdout",
          "text": [
            "Warning: Empty prediction for input: You are a gem.\n"
          ]
        },
        {
          "output_type": "stream",
          "name": "stderr",
          "text": [
            "\rGenerating translations:   6%|▋         | 100/1598 [00:29<06:20,  3.94it/s]"
          ]
        },
        {
          "output_type": "stream",
          "name": "stdout",
          "text": [
            "Warning: Empty prediction for input: He refused to listen.\n"
          ]
        },
        {
          "output_type": "stream",
          "name": "stderr",
          "text": [
            "\rGenerating translations:   6%|▋         | 101/1598 [00:29<06:15,  3.99it/s]"
          ]
        },
        {
          "output_type": "stream",
          "name": "stdout",
          "text": [
            "Warning: Empty prediction for input: We are waiting for the medical examination report of the victims.\n"
          ]
        },
        {
          "output_type": "stream",
          "name": "stderr",
          "text": [
            "\rGenerating translations:   6%|▋         | 102/1598 [00:29<06:01,  4.14it/s]"
          ]
        },
        {
          "output_type": "stream",
          "name": "stdout",
          "text": [
            "Warning: Empty prediction for input: What are technology-based initiatives?\n"
          ]
        },
        {
          "output_type": "stream",
          "name": "stderr",
          "text": [
            "\rGenerating translations:   6%|▋         | 103/1598 [00:29<06:09,  4.04it/s]"
          ]
        },
        {
          "output_type": "stream",
          "name": "stdout",
          "text": [
            "Warning: Empty prediction for input: But the mystery of their deaths is still unsolved.\n"
          ]
        },
        {
          "output_type": "stream",
          "name": "stderr",
          "text": [
            "\rGenerating translations:   7%|▋         | 104/1598 [00:30<06:10,  4.03it/s]"
          ]
        },
        {
          "output_type": "stream",
          "name": "stdout",
          "text": [
            "Warning: Empty prediction for input: There's a lot of problems here.\n"
          ]
        },
        {
          "output_type": "stream",
          "name": "stderr",
          "text": [
            "\rGenerating translations:   7%|▋         | 105/1598 [00:30<05:53,  4.22it/s]"
          ]
        },
        {
          "output_type": "stream",
          "name": "stdout",
          "text": [
            "Warning: Empty prediction for input: He was arrested.\n"
          ]
        },
        {
          "output_type": "stream",
          "name": "stderr",
          "text": [
            "\rGenerating translations:   7%|▋         | 106/1598 [00:30<05:39,  4.39it/s]"
          ]
        },
        {
          "output_type": "stream",
          "name": "stdout",
          "text": [
            "Warning: Empty prediction for input: Shame on you.\n"
          ]
        },
        {
          "output_type": "stream",
          "name": "stderr",
          "text": [
            "\rGenerating translations:   7%|▋         | 107/1598 [00:30<05:35,  4.45it/s]"
          ]
        },
        {
          "output_type": "stream",
          "name": "stdout",
          "text": [
            "Warning: Empty prediction for input: What other reasons were there?\n"
          ]
        },
        {
          "output_type": "stream",
          "name": "stderr",
          "text": [
            "\rGenerating translations:   7%|▋         | 108/1598 [00:31<05:30,  4.50it/s]"
          ]
        },
        {
          "output_type": "stream",
          "name": "stdout",
          "text": [
            "Warning: Empty prediction for input: This incident is very sad.\n"
          ]
        },
        {
          "output_type": "stream",
          "name": "stderr",
          "text": [
            "\rGenerating translations:   7%|▋         | 109/1598 [00:31<06:06,  4.06it/s]"
          ]
        },
        {
          "output_type": "stream",
          "name": "stdout",
          "text": [
            "Warning: Empty prediction for input: Among those who sent their congratulations were the leaders of Kazakhstan, Belarus, Venezuela, Boliva and Cuba.\n"
          ]
        },
        {
          "output_type": "stream",
          "name": "stderr",
          "text": [
            "\rGenerating translations:   7%|▋         | 110/1598 [00:31<06:15,  3.97it/s]"
          ]
        },
        {
          "output_type": "stream",
          "name": "stdout",
          "text": [
            "Warning: Empty prediction for input: And then let's say that the creator can't accept God's approval or money.\n"
          ]
        },
        {
          "output_type": "stream",
          "name": "stderr",
          "text": [
            "\rGenerating translations:   7%|▋         | 111/1598 [00:31<06:03,  4.09it/s]"
          ]
        },
        {
          "output_type": "stream",
          "name": "stdout",
          "text": [
            "Warning: Empty prediction for input: Up to 50 students participated in the camp.\n"
          ]
        },
        {
          "output_type": "stream",
          "name": "stderr",
          "text": [
            "\rGenerating translations:   7%|▋         | 112/1598 [00:32<06:09,  4.02it/s]"
          ]
        },
        {
          "output_type": "stream",
          "name": "stdout",
          "text": [
            "Warning: Empty prediction for input: They also set up a committee to look into it.\n"
          ]
        },
        {
          "output_type": "stream",
          "name": "stderr",
          "text": [
            "\rGenerating translations:   7%|▋         | 113/1598 [00:32<06:45,  3.66it/s]"
          ]
        },
        {
          "output_type": "stream",
          "name": "stdout",
          "text": [
            "Warning: Empty prediction for input: We proved to everyone that we were a good team.\n"
          ]
        },
        {
          "output_type": "stream",
          "name": "stderr",
          "text": [
            "\rGenerating translations:   7%|▋         | 114/1598 [00:32<07:11,  3.44it/s]"
          ]
        },
        {
          "output_type": "stream",
          "name": "stdout",
          "text": [
            "Warning: Empty prediction for input: Vacancies: There are 10.\n"
          ]
        },
        {
          "output_type": "stream",
          "name": "stderr",
          "text": [
            "\rGenerating translations:   7%|▋         | 115/1598 [00:33<07:01,  3.52it/s]"
          ]
        },
        {
          "output_type": "stream",
          "name": "stdout",
          "text": [
            "Warning: Empty prediction for input: Local Election\n"
          ]
        },
        {
          "output_type": "stream",
          "name": "stderr",
          "text": [
            "\rGenerating translations:   7%|▋         | 116/1598 [00:33<08:15,  2.99it/s]"
          ]
        },
        {
          "output_type": "stream",
          "name": "stdout",
          "text": [
            "Warning: Empty prediction for input: If you call them for guidance, they won't follow you. Whether you call them or are silent, this is it.\n"
          ]
        },
        {
          "output_type": "stream",
          "name": "stderr",
          "text": [
            "\rGenerating translations:   7%|▋         | 117/1598 [00:33<08:56,  2.76it/s]"
          ]
        },
        {
          "output_type": "stream",
          "name": "stdout",
          "text": [
            "Warning: Empty prediction for input: Pulse production has increased from 19.25 million tonnes in 2013-14 to 22.95 million tonnes in 2016-17.\n"
          ]
        },
        {
          "output_type": "stream",
          "name": "stderr",
          "text": [
            "\rGenerating translations:   7%|▋         | 118/1598 [00:34<08:37,  2.86it/s]"
          ]
        },
        {
          "output_type": "stream",
          "name": "stdout",
          "text": [
            "Warning: Empty prediction for input: It's a real experience.\n"
          ]
        },
        {
          "output_type": "stream",
          "name": "stderr",
          "text": [
            "\rGenerating translations:   7%|▋         | 119/1598 [00:34<08:27,  2.92it/s]"
          ]
        },
        {
          "output_type": "stream",
          "name": "stdout",
          "text": [
            "Warning: Empty prediction for input: Tell him to run away.\n"
          ]
        },
        {
          "output_type": "stream",
          "name": "stderr",
          "text": [
            "\rGenerating translations:   8%|▊         | 120/1598 [00:34<08:17,  2.97it/s]"
          ]
        },
        {
          "output_type": "stream",
          "name": "stdout",
          "text": [
            "Warning: Empty prediction for input: The government is making all efforts.\n"
          ]
        },
        {
          "output_type": "stream",
          "name": "stderr",
          "text": [
            "\rGenerating translations:   8%|▊         | 121/1598 [00:35<08:14,  2.99it/s]"
          ]
        },
        {
          "output_type": "stream",
          "name": "stdout",
          "text": [
            "Warning: Empty prediction for input: I can't do that either.\n"
          ]
        },
        {
          "output_type": "stream",
          "name": "stderr",
          "text": [
            "\rGenerating translations:   8%|▊         | 122/1598 [00:35<08:14,  2.99it/s]"
          ]
        },
        {
          "output_type": "stream",
          "name": "stdout",
          "text": [
            "Warning: Empty prediction for input: It was disarmed when Suharto seized power, slaughtering between 500,000 and 1,000,000 PKI members.\n"
          ]
        },
        {
          "output_type": "stream",
          "name": "stderr",
          "text": [
            "\rGenerating translations:   8%|▊         | 123/1598 [00:36<09:03,  2.71it/s]"
          ]
        },
        {
          "output_type": "stream",
          "name": "stdout",
          "text": [
            "Warning: Empty prediction for input: Islam is considered to be the incarnation of all evil forces, so killing an enemy Christian soldier will buy a Christian soldier forty days penance, but killing a Muslim is an example of all penances. The rationalization of terrorism.\n"
          ]
        },
        {
          "output_type": "stream",
          "name": "stderr",
          "text": [
            "\rGenerating translations:   8%|▊         | 124/1598 [00:36<08:23,  2.93it/s]"
          ]
        },
        {
          "output_type": "stream",
          "name": "stdout",
          "text": [
            "Warning: Empty prediction for input: She's married to Parveen, and she has a son named Mohamed Raihan.\n"
          ]
        },
        {
          "output_type": "stream",
          "name": "stderr",
          "text": [
            "\rGenerating translations:   8%|▊         | 125/1598 [00:36<07:39,  3.21it/s]"
          ]
        },
        {
          "output_type": "stream",
          "name": "stdout",
          "text": [
            "Warning: Empty prediction for input: Former Australia captain Ricky Ponting.\n"
          ]
        },
        {
          "output_type": "stream",
          "name": "stderr",
          "text": [
            "\rGenerating translations:   8%|▊         | 126/1598 [00:36<07:13,  3.40it/s]"
          ]
        },
        {
          "output_type": "stream",
          "name": "stdout",
          "text": [
            "Warning: Empty prediction for input: I haven't seen the movie yet.\n"
          ]
        },
        {
          "output_type": "stream",
          "name": "stderr",
          "text": [
            "\rGenerating translations:   8%|▊         | 127/1598 [00:37<06:39,  3.68it/s]"
          ]
        },
        {
          "output_type": "stream",
          "name": "stdout",
          "text": [
            "Warning: Empty prediction for input: What treatment should I do?\n"
          ]
        },
        {
          "output_type": "stream",
          "name": "stderr",
          "text": [
            "\rGenerating translations:   8%|▊         | 128/1598 [00:37<07:03,  3.47it/s]"
          ]
        },
        {
          "output_type": "stream",
          "name": "stdout",
          "text": [
            "Warning: Empty prediction for input: Not long before that, at a congregation meeting in a neighboring village, I met a modest dark-haired girl Lidiya.\n"
          ]
        },
        {
          "output_type": "stream",
          "name": "stderr",
          "text": [
            "\rGenerating translations:   8%|▊         | 129/1598 [00:37<07:08,  3.43it/s]"
          ]
        },
        {
          "output_type": "stream",
          "name": "stdout",
          "text": [
            "Warning: Empty prediction for input: According to Daniel's prophecy, a big tree grows seven times when it falls.\n"
          ]
        },
        {
          "output_type": "stream",
          "name": "stderr",
          "text": [
            "Generating translations:   8%|▊         | 131/1598 [00:38<07:30,  3.25it/s]"
          ]
        },
        {
          "output_type": "stream",
          "name": "stdout",
          "text": [
            "Warning: Empty prediction for input: According to Alexander Vovin (2015), the Northern Tungusic languages spoken in eastern Siberia and northeast China have Eskimo-Aleut loanwords, but not in Southern Tungusic. This means that Eskimo-Aleut is the most widely spoken language in eastern Siberia.\n",
            "Warning: Empty prediction for input: Related stories...\n"
          ]
        },
        {
          "output_type": "stream",
          "name": "stderr",
          "text": [
            "\rGenerating translations:   8%|▊         | 132/1598 [00:38<07:19,  3.33it/s]"
          ]
        },
        {
          "output_type": "stream",
          "name": "stdout",
          "text": [
            "Warning: Empty prediction for input: We may get some advantages from the friendship of the world, but it's short-lived.\n"
          ]
        },
        {
          "output_type": "stream",
          "name": "stderr",
          "text": [
            "\rGenerating translations:   8%|▊         | 133/1598 [00:38<06:50,  3.57it/s]"
          ]
        },
        {
          "output_type": "stream",
          "name": "stdout",
          "text": [
            "Warning: Empty prediction for input: Information Anxiety, say 1/8.\n"
          ]
        },
        {
          "output_type": "stream",
          "name": "stderr",
          "text": [
            "\rGenerating translations:   8%|▊         | 134/1598 [00:39<06:34,  3.71it/s]"
          ]
        },
        {
          "output_type": "stream",
          "name": "stdout",
          "text": [
            "Warning: Empty prediction for input: But after a few days, they stopped working.\n"
          ]
        },
        {
          "output_type": "stream",
          "name": "stderr",
          "text": [
            "\rGenerating translations:   8%|▊         | 135/1598 [00:39<06:21,  3.83it/s]"
          ]
        },
        {
          "output_type": "stream",
          "name": "stdout",
          "text": [
            "Warning: Empty prediction for input: The film's music launch will take place soon.\n"
          ]
        },
        {
          "output_type": "stream",
          "name": "stderr",
          "text": [
            "\rGenerating translations:   9%|▊         | 136/1598 [00:39<06:08,  3.97it/s]"
          ]
        },
        {
          "output_type": "stream",
          "name": "stdout",
          "text": [
            "Warning: Empty prediction for input: But I'm very happy.\n"
          ]
        },
        {
          "output_type": "stream",
          "name": "stderr",
          "text": [
            "\rGenerating translations:   9%|▊         | 137/1598 [00:39<05:54,  4.12it/s]"
          ]
        },
        {
          "output_type": "stream",
          "name": "stdout",
          "text": [
            "Warning: Empty prediction for input: His two children were in school.\n"
          ]
        },
        {
          "output_type": "stream",
          "name": "stderr",
          "text": [
            "\rGenerating translations:   9%|▊         | 138/1598 [00:40<05:56,  4.10it/s]"
          ]
        },
        {
          "output_type": "stream",
          "name": "stdout",
          "text": [
            "Warning: Empty prediction for input: Sunlight is good for bone strength, skin and health.\n"
          ]
        },
        {
          "output_type": "stream",
          "name": "stderr",
          "text": [
            "\rGenerating translations:   9%|▊         | 139/1598 [00:40<06:11,  3.93it/s]"
          ]
        },
        {
          "output_type": "stream",
          "name": "stdout",
          "text": [
            "Warning: Empty prediction for input: What is Assistant Medical Officer/Lecturer Grade-II (Yoga and Naturopathy)?\n"
          ]
        },
        {
          "output_type": "stream",
          "name": "stderr",
          "text": [
            "\rGenerating translations:   9%|▉         | 140/1598 [00:40<05:55,  4.10it/s]"
          ]
        },
        {
          "output_type": "stream",
          "name": "stdout",
          "text": [
            "Warning: Empty prediction for input: Regional bosses.\n"
          ]
        },
        {
          "output_type": "stream",
          "name": "stderr",
          "text": [
            "\rGenerating translations:   9%|▉         | 141/1598 [00:40<05:45,  4.21it/s]"
          ]
        },
        {
          "output_type": "stream",
          "name": "stdout",
          "text": [
            "Warning: Empty prediction for input: Do you respect the authorities?\n"
          ]
        },
        {
          "output_type": "stream",
          "name": "stderr",
          "text": [
            "\rGenerating translations:   9%|▉         | 142/1598 [00:41<05:44,  4.22it/s]"
          ]
        },
        {
          "output_type": "stream",
          "name": "stdout",
          "text": [
            "Warning: Empty prediction for input: Otherwise, they would have gone the other way.\n"
          ]
        },
        {
          "output_type": "stream",
          "name": "stderr",
          "text": [
            "\rGenerating translations:   9%|▉         | 143/1598 [00:41<05:51,  4.14it/s]"
          ]
        },
        {
          "output_type": "stream",
          "name": "stdout",
          "text": [
            "Warning: Empty prediction for input: There's another reason to compare God's knowledge with hidden things.\n"
          ]
        },
        {
          "output_type": "stream",
          "name": "stderr",
          "text": [
            "\rGenerating translations:   9%|▉         | 144/1598 [00:41<08:56,  2.71it/s]"
          ]
        },
        {
          "output_type": "stream",
          "name": "stdout",
          "text": [
            "Warning: Empty prediction for input: The official language (Legislative) wing and the Tamil Cell of Law Department are almost the same. So, to make the translation work more efficient, to achieve a better turnout, we also need to effectively control the translation staff in the Official Language (Legislative) Wing. So, they have ordered the Tamil cell in this department by merging it with the Official Language (Legislative) Wing and restructured the Official Language (Legislative) Wing.\n"
          ]
        },
        {
          "output_type": "stream",
          "name": "stderr",
          "text": [
            "\rGenerating translations:   9%|▉         | 145/1598 [00:42<07:56,  3.05it/s]"
          ]
        },
        {
          "output_type": "stream",
          "name": "stdout",
          "text": [
            "Warning: Empty prediction for input: No one was injured in the fire.\n"
          ]
        },
        {
          "output_type": "stream",
          "name": "stderr",
          "text": [
            "\rGenerating translations:   9%|▉         | 146/1598 [00:42<07:09,  3.38it/s]"
          ]
        },
        {
          "output_type": "stream",
          "name": "stdout",
          "text": [
            "Warning: Empty prediction for input: Don't vote for that.\n"
          ]
        },
        {
          "output_type": "stream",
          "name": "stderr",
          "text": [
            "\rGenerating translations:   9%|▉         | 147/1598 [00:42<06:53,  3.51it/s]"
          ]
        },
        {
          "output_type": "stream",
          "name": "stdout",
          "text": [
            "Warning: Empty prediction for input: We don't believe in political parties like that.\n"
          ]
        },
        {
          "output_type": "stream",
          "name": "stderr",
          "text": [
            "\rGenerating translations:   9%|▉         | 148/1598 [00:42<07:21,  3.29it/s]"
          ]
        },
        {
          "output_type": "stream",
          "name": "stdout",
          "text": [
            "Warning: Empty prediction for input: Paramarikam Karangal, No.2-A, Perumpalayam, Emappilly Post, Tiruchengode Taluk, Namakkal District-637.\n"
          ]
        },
        {
          "output_type": "stream",
          "name": "stderr",
          "text": [
            "\rGenerating translations:   9%|▉         | 149/1598 [00:43<06:50,  3.53it/s]"
          ]
        },
        {
          "output_type": "stream",
          "name": "stdout",
          "text": [
            "Warning: Empty prediction for input: Ananthur School Girls Hostel\n"
          ]
        },
        {
          "output_type": "stream",
          "name": "stderr",
          "text": [
            "\rGenerating translations:   9%|▉         | 150/1598 [00:43<06:30,  3.71it/s]"
          ]
        },
        {
          "output_type": "stream",
          "name": "stdout",
          "text": [
            "Warning: Empty prediction for input: But I didn't see it.\n"
          ]
        },
        {
          "output_type": "stream",
          "name": "stderr",
          "text": [
            "\rGenerating translations:   9%|▉         | 151/1598 [00:43<06:21,  3.79it/s]"
          ]
        },
        {
          "output_type": "stream",
          "name": "stdout",
          "text": [
            "Warning: Empty prediction for input: Four people died and many were injured in the explosion.\n"
          ]
        },
        {
          "output_type": "stream",
          "name": "stderr",
          "text": [
            "\rGenerating translations:  10%|▉         | 152/1598 [00:43<06:00,  4.01it/s]"
          ]
        },
        {
          "output_type": "stream",
          "name": "stdout",
          "text": [
            "Warning: Empty prediction for input: Become Prime Minister?\n"
          ]
        },
        {
          "output_type": "stream",
          "name": "stderr",
          "text": [
            "\rGenerating translations:  10%|▉         | 153/1598 [00:44<06:29,  3.71it/s]"
          ]
        },
        {
          "output_type": "stream",
          "name": "stdout",
          "text": [
            "Warning: Empty prediction for input: If you really worship God, eat the good, lawful things he has given you, and give thanks for God's favor.\n"
          ]
        },
        {
          "output_type": "stream",
          "name": "stderr",
          "text": [
            "\rGenerating translations:  10%|▉         | 154/1598 [00:44<06:26,  3.74it/s]"
          ]
        },
        {
          "output_type": "stream",
          "name": "stdout",
          "text": [
            "Warning: Empty prediction for input: If the situation is too serious, ask the person to go for medical attention.\n"
          ]
        },
        {
          "output_type": "stream",
          "name": "stderr",
          "text": [
            "\rGenerating translations:  10%|▉         | 155/1598 [00:44<06:13,  3.86it/s]"
          ]
        },
        {
          "output_type": "stream",
          "name": "stdout",
          "text": [
            "Warning: Empty prediction for input: Shri G.S. Sathkurthi\n"
          ]
        },
        {
          "output_type": "stream",
          "name": "stderr",
          "text": [
            "\rGenerating translations:  10%|▉         | 156/1598 [00:45<06:13,  3.86it/s]"
          ]
        },
        {
          "output_type": "stream",
          "name": "stdout",
          "text": [
            "Warning: Empty prediction for input: They have received a lot of appreciation for their performance in the film.\n"
          ]
        },
        {
          "output_type": "stream",
          "name": "stderr",
          "text": [
            "\rGenerating translations:  10%|▉         | 157/1598 [00:45<05:55,  4.06it/s]"
          ]
        },
        {
          "output_type": "stream",
          "name": "stdout",
          "text": [
            "Warning: Empty prediction for input: There will be pain.\n"
          ]
        },
        {
          "output_type": "stream",
          "name": "stderr",
          "text": [
            "\rGenerating translations:  10%|▉         | 158/1598 [00:45<06:07,  3.92it/s]"
          ]
        },
        {
          "output_type": "stream",
          "name": "stdout",
          "text": [
            "Warning: Empty prediction for input: What happened here doesn't have to happen.\n"
          ]
        },
        {
          "output_type": "stream",
          "name": "stderr",
          "text": [
            "\rGenerating translations:  10%|▉         | 159/1598 [00:45<07:29,  3.20it/s]"
          ]
        },
        {
          "output_type": "stream",
          "name": "stdout",
          "text": [
            "Warning: Empty prediction for input: God loves what is good so that He can support those who love Him by destroying the cruel world that oppresses them.\n"
          ]
        },
        {
          "output_type": "stream",
          "name": "stderr",
          "text": [
            "\rGenerating translations:  10%|█         | 160/1598 [00:46<10:03,  2.38it/s]"
          ]
        },
        {
          "output_type": "stream",
          "name": "stdout",
          "text": [
            "Warning: Empty prediction for input: Ramban district has seven tehsils, Banihal, Khari, Ukhrahal, Ramban, Rajgarhandgool, and four community development blocks, Banihal, Gool, Ramban and Ramsoo.\n"
          ]
        },
        {
          "output_type": "stream",
          "name": "stderr",
          "text": [
            "\rGenerating translations:  10%|█         | 161/1598 [00:46<09:25,  2.54it/s]"
          ]
        },
        {
          "output_type": "stream",
          "name": "stdout",
          "text": [
            "Warning: Empty prediction for input: No other transactions have taken place.\n"
          ]
        },
        {
          "output_type": "stream",
          "name": "stderr",
          "text": [
            "\rGenerating translations:  10%|█         | 162/1598 [00:47<08:51,  2.70it/s]"
          ]
        },
        {
          "output_type": "stream",
          "name": "stdout",
          "text": [
            "Warning: Empty prediction for input: The answer is negative.\n"
          ]
        },
        {
          "output_type": "stream",
          "name": "stderr",
          "text": [
            "\rGenerating translations:  10%|█         | 163/1598 [00:47<09:59,  2.39it/s]"
          ]
        },
        {
          "output_type": "stream",
          "name": "stdout",
          "text": [
            "Warning: Empty prediction for input: Both agree that developing good trade and economic engagement is a strategic objective, a core element of a Comprehensive Strategic Partnership, and that it is very important to strengthen bilateral ties.\n"
          ]
        },
        {
          "output_type": "stream",
          "name": "stderr",
          "text": [
            "\rGenerating translations:  10%|█         | 164/1598 [00:48<09:42,  2.46it/s]"
          ]
        },
        {
          "output_type": "stream",
          "name": "stdout",
          "text": [
            "Warning: Empty prediction for input: They have also extended an invitation to the Prime Minister to visit India.\n"
          ]
        },
        {
          "output_type": "stream",
          "name": "stderr",
          "text": [
            "\rGenerating translations:  10%|█         | 165/1598 [00:48<09:49,  2.43it/s]"
          ]
        },
        {
          "output_type": "stream",
          "name": "stdout",
          "text": [
            "Warning: Empty prediction for input: Legal divorce, which is not a result of sexual immorality, does not mean that you cannot marry.\n"
          ]
        },
        {
          "output_type": "stream",
          "name": "stderr",
          "text": [
            "\rGenerating translations:  10%|█         | 166/1598 [00:48<08:50,  2.70it/s]"
          ]
        },
        {
          "output_type": "stream",
          "name": "stdout",
          "text": [
            "Warning: Empty prediction for input: Jasprit Bumrah has done well in death bowling.\n"
          ]
        },
        {
          "output_type": "stream",
          "name": "stderr",
          "text": [
            "\rGenerating translations:  10%|█         | 167/1598 [00:49<07:48,  3.06it/s]"
          ]
        },
        {
          "output_type": "stream",
          "name": "stdout",
          "text": [
            "Warning: Empty prediction for input: Sorry, leave us alone.\n"
          ]
        },
        {
          "output_type": "stream",
          "name": "stderr",
          "text": [
            "\rGenerating translations:  11%|█         | 168/1598 [00:49<07:01,  3.39it/s]"
          ]
        },
        {
          "output_type": "stream",
          "name": "stdout",
          "text": [
            "Warning: Empty prediction for input: They don't have land.\n"
          ]
        },
        {
          "output_type": "stream",
          "name": "stderr",
          "text": [
            "\rGenerating translations:  11%|█         | 169/1598 [00:49<06:28,  3.68it/s]"
          ]
        },
        {
          "output_type": "stream",
          "name": "stdout",
          "text": [
            "Warning: Empty prediction for input: Do you think you should?\n"
          ]
        },
        {
          "output_type": "stream",
          "name": "stderr",
          "text": [
            "\rGenerating translations:  11%|█         | 170/1598 [00:49<06:01,  3.95it/s]"
          ]
        },
        {
          "output_type": "stream",
          "name": "stdout",
          "text": [
            "Warning: Empty prediction for input: The water has fallen!\n"
          ]
        },
        {
          "output_type": "stream",
          "name": "stderr",
          "text": [
            "\rGenerating translations:  11%|█         | 171/1598 [00:49<05:57,  3.99it/s]"
          ]
        },
        {
          "output_type": "stream",
          "name": "stdout",
          "text": [
            "Warning: Empty prediction for input: Blow the drink on the tarp.\n"
          ]
        },
        {
          "output_type": "stream",
          "name": "stderr",
          "text": [
            "\rGenerating translations:  11%|█         | 172/1598 [00:50<06:03,  3.92it/s]"
          ]
        },
        {
          "output_type": "stream",
          "name": "stdout",
          "text": [
            "Warning: Empty prediction for input: The Home Minister is in a state of pain that terror and talks don't matter.\n"
          ]
        },
        {
          "output_type": "stream",
          "name": "stderr",
          "text": [
            "\rGenerating translations:  11%|█         | 173/1598 [00:50<05:52,  4.04it/s]"
          ]
        },
        {
          "output_type": "stream",
          "name": "stdout",
          "text": [
            "Warning: Empty prediction for input: Anxiety is high.\n"
          ]
        },
        {
          "output_type": "stream",
          "name": "stderr",
          "text": [
            "\rGenerating translations:  11%|█         | 174/1598 [00:50<05:46,  4.11it/s]"
          ]
        },
        {
          "output_type": "stream",
          "name": "stdout",
          "text": [
            "Warning: Empty prediction for input: Is it 40,000 mark?\n"
          ]
        },
        {
          "output_type": "stream",
          "name": "stderr",
          "text": [
            "\rGenerating translations:  11%|█         | 175/1598 [00:50<06:05,  3.90it/s]"
          ]
        },
        {
          "output_type": "stream",
          "name": "stdout",
          "text": [
            "Warning: Empty prediction for input: Technology can help us walk these new paths.\n"
          ]
        },
        {
          "output_type": "stream",
          "name": "stderr",
          "text": [
            "\rGenerating translations:  11%|█         | 176/1598 [00:51<08:41,  2.73it/s]"
          ]
        },
        {
          "output_type": "stream",
          "name": "stdout",
          "text": [
            "Warning: Empty prediction for input: Because of the global effects of climate change, economists have been appointing to calculate economic drawbacks. Some data is missing from these calculations. In a report with 100 estimations, 1ton UShBc10 is carbon and 1ton UShBc3-tC costs carbon-dioxide US$350 (carbon-dioxide is one ton of US5), normally it is US3 (Carbon-dioxide is one ton of US2).\n"
          ]
        },
        {
          "output_type": "stream",
          "name": "stderr",
          "text": [
            "\rGenerating translations:  11%|█         | 177/1598 [00:51<07:44,  3.06it/s]"
          ]
        },
        {
          "output_type": "stream",
          "name": "stdout",
          "text": [
            "Warning: Empty prediction for input: He's in isolation at home right now.\n"
          ]
        },
        {
          "output_type": "stream",
          "name": "stderr",
          "text": [
            "\rGenerating translations:  11%|█         | 178/1598 [00:52<07:20,  3.22it/s]"
          ]
        },
        {
          "output_type": "stream",
          "name": "stdout",
          "text": [
            "Warning: Empty prediction for input: At the same time, the two families are preparing for the upcoming wedding.\n"
          ]
        },
        {
          "output_type": "stream",
          "name": "stderr",
          "text": [
            "\rGenerating translations:  11%|█         | 179/1598 [00:52<06:59,  3.38it/s]"
          ]
        },
        {
          "output_type": "stream",
          "name": "stdout",
          "text": [
            "Warning: Empty prediction for input: Loving-kindness means loyalty to a person until their purpose is fulfilled.\n"
          ]
        },
        {
          "output_type": "stream",
          "name": "stderr",
          "text": [
            "\rGenerating translations:  11%|█▏        | 180/1598 [00:52<06:34,  3.59it/s]"
          ]
        },
        {
          "output_type": "stream",
          "name": "stdout",
          "text": [
            "Warning: Empty prediction for input: Then he got a fatal cardiac arrest.\n"
          ]
        },
        {
          "output_type": "stream",
          "name": "stderr",
          "text": [
            "\rGenerating translations:  11%|█▏        | 181/1598 [00:52<06:41,  3.53it/s]"
          ]
        },
        {
          "output_type": "stream",
          "name": "stdout",
          "text": [
            "Warning: Empty prediction for input: India last won a hockey gold medal when Dhanraj Pillay was the captain of the Asian Games in Bangkok in 1998.\n"
          ]
        },
        {
          "output_type": "stream",
          "name": "stderr",
          "text": [
            "\rGenerating translations:  11%|█▏        | 182/1598 [00:53<06:59,  3.38it/s]"
          ]
        },
        {
          "output_type": "stream",
          "name": "stdout",
          "text": [
            "Warning: Empty prediction for input: He sent a herald to the Delians and said, Holy Men, why did you all flee and think my intent was wrong?\n"
          ]
        },
        {
          "output_type": "stream",
          "name": "stderr",
          "text": [
            "\rGenerating translations:  11%|█▏        | 183/1598 [00:53<07:13,  3.27it/s]"
          ]
        },
        {
          "output_type": "stream",
          "name": "stdout",
          "text": [
            "Warning: Empty prediction for input: Second, over the last hundred years, Earth's average surface temperature has increased from 0.5 to 1.1 degrees Fahrenheit [0.3 to 0.6 C].\n"
          ]
        },
        {
          "output_type": "stream",
          "name": "stderr",
          "text": [
            "\rGenerating translations:  12%|█▏        | 184/1598 [00:53<06:33,  3.59it/s]"
          ]
        },
        {
          "output_type": "stream",
          "name": "stdout",
          "text": [
            "Warning: Empty prediction for input: Application's address:\n"
          ]
        },
        {
          "output_type": "stream",
          "name": "stderr",
          "text": [
            "\rGenerating translations:  12%|█▏        | 185/1598 [00:54<06:08,  3.83it/s]"
          ]
        },
        {
          "output_type": "stream",
          "name": "stdout",
          "text": [
            "Warning: Empty prediction for input: He said in the recent interview.\n"
          ]
        },
        {
          "output_type": "stream",
          "name": "stderr",
          "text": [
            "\rGenerating translations:  12%|█▏        | 186/1598 [00:54<05:54,  3.98it/s]"
          ]
        },
        {
          "output_type": "stream",
          "name": "stdout",
          "text": [
            "Warning: Empty prediction for input: I couldn't stand it.\n"
          ]
        },
        {
          "output_type": "stream",
          "name": "stderr",
          "text": [
            "\rGenerating translations:  12%|█▏        | 187/1598 [00:54<06:29,  3.62it/s]"
          ]
        },
        {
          "output_type": "stream",
          "name": "stdout",
          "text": [
            "Warning: Empty prediction for input: If Jehovah's Witnesses strive to be honest and trust one another, why would it be so important for them to have written contracts in business dealings?\n"
          ]
        },
        {
          "output_type": "stream",
          "name": "stderr",
          "text": [
            "\rGenerating translations:  12%|█▏        | 188/1598 [00:54<06:14,  3.77it/s]"
          ]
        },
        {
          "output_type": "stream",
          "name": "stdout",
          "text": [
            "Warning: Empty prediction for input: For now, I'll tell you something else.\n"
          ]
        },
        {
          "output_type": "stream",
          "name": "stderr",
          "text": [
            "\rGenerating translations:  12%|█▏        | 189/1598 [00:55<06:12,  3.78it/s]"
          ]
        },
        {
          "output_type": "stream",
          "name": "stdout",
          "text": [
            "Warning: Empty prediction for input: Prabhas is currently busy shooting for Saaho in Dubai.\n"
          ]
        },
        {
          "output_type": "stream",
          "name": "stderr",
          "text": [
            "\rGenerating translations:  12%|█▏        | 190/1598 [00:55<06:12,  3.78it/s]"
          ]
        },
        {
          "output_type": "stream",
          "name": "stdout",
          "text": [
            "Warning: Empty prediction for input: Okay. Go and see. Tell me if you have an order.\n"
          ]
        },
        {
          "output_type": "stream",
          "name": "stderr",
          "text": [
            "\rGenerating translations:  12%|█▏        | 191/1598 [00:55<06:05,  3.85it/s]"
          ]
        },
        {
          "output_type": "stream",
          "name": "stdout",
          "text": [
            "Warning: Empty prediction for input: I think it's going to be a great series.\n"
          ]
        },
        {
          "output_type": "stream",
          "name": "stderr",
          "text": [
            "\rGenerating translations:  12%|█▏        | 192/1598 [00:55<05:49,  4.02it/s]"
          ]
        },
        {
          "output_type": "stream",
          "name": "stdout",
          "text": [
            "Warning: Empty prediction for input: And the Gibeonites.\n"
          ]
        },
        {
          "output_type": "stream",
          "name": "stderr",
          "text": [
            "\rGenerating translations:  12%|█▏        | 193/1598 [00:56<06:02,  3.88it/s]"
          ]
        },
        {
          "output_type": "stream",
          "name": "stdout",
          "text": [
            "Warning: Empty prediction for input: The Tiware Dam in Ratnagiri district was breached by heavy rains last night.\n"
          ]
        },
        {
          "output_type": "stream",
          "name": "stderr",
          "text": [
            "\rGenerating translations:  12%|█▏        | 194/1598 [00:56<05:54,  3.96it/s]"
          ]
        },
        {
          "output_type": "stream",
          "name": "stdout",
          "text": [
            "Warning: Empty prediction for input: Don't see any such problems here.\n"
          ]
        },
        {
          "output_type": "stream",
          "name": "stderr",
          "text": [
            "\rGenerating translations:  12%|█▏        | 195/1598 [00:56<05:46,  4.05it/s]"
          ]
        },
        {
          "output_type": "stream",
          "name": "stdout",
          "text": [
            "Warning: Empty prediction for input: In this regard, it is also said:\n"
          ]
        },
        {
          "output_type": "stream",
          "name": "stderr",
          "text": [
            "\rGenerating translations:  12%|█▏        | 196/1598 [00:56<05:56,  3.94it/s]"
          ]
        },
        {
          "output_type": "stream",
          "name": "stdout",
          "text": [
            "Warning: Empty prediction for input: So you'll have the strength to endure even if you're discouraged. Gal.\n"
          ]
        },
        {
          "output_type": "stream",
          "name": "stderr",
          "text": [
            "\rGenerating translations:  12%|█▏        | 197/1598 [00:57<06:15,  3.73it/s]"
          ]
        },
        {
          "output_type": "stream",
          "name": "stdout",
          "text": [
            "Warning: Empty prediction for input: The Delhi government has promised to give ₹1 crore to families of healthcare workers who died while handling coronavirus cases.\n"
          ]
        },
        {
          "output_type": "stream",
          "name": "stderr",
          "text": [
            "\rGenerating translations:  12%|█▏        | 198/1598 [00:57<06:01,  3.87it/s]"
          ]
        },
        {
          "output_type": "stream",
          "name": "stdout",
          "text": [
            "Warning: Empty prediction for input: Where is this located?\n"
          ]
        },
        {
          "output_type": "stream",
          "name": "stderr",
          "text": [
            "\rGenerating translations:  12%|█▏        | 199/1598 [00:57<05:52,  3.97it/s]"
          ]
        },
        {
          "output_type": "stream",
          "name": "stdout",
          "text": [
            "Warning: Empty prediction for input: The government has to take all steps for this.\n"
          ]
        },
        {
          "output_type": "stream",
          "name": "stderr",
          "text": [
            "\rGenerating translations:  13%|█▎        | 200/1598 [00:57<05:40,  4.11it/s]"
          ]
        },
        {
          "output_type": "stream",
          "name": "stdout",
          "text": [
            "Warning: Empty prediction for input: All three were removed.\n"
          ]
        },
        {
          "output_type": "stream",
          "name": "stderr",
          "text": [
            "\rGenerating translations:  13%|█▎        | 201/1598 [00:58<05:47,  4.02it/s]"
          ]
        },
        {
          "output_type": "stream",
          "name": "stdout",
          "text": [
            "Warning: Empty prediction for input: But what is good parenting? You may have asked for advice in this subject.\n"
          ]
        },
        {
          "output_type": "stream",
          "name": "stderr",
          "text": [
            "\rGenerating translations:  13%|█▎        | 202/1598 [00:58<07:22,  3.16it/s]"
          ]
        },
        {
          "output_type": "stream",
          "name": "stdout",
          "text": [
            "Warning: Empty prediction for input: If two groups of Muslims fight, fix them. If one of them oppresses the other, fight against the oppressors until it returns to Allah's command. So, if it's returned, you've got to reconcile them with justice and be fair. Indeed, Allah loves the equitable.\n"
          ]
        },
        {
          "output_type": "stream",
          "name": "stderr",
          "text": [
            "\rGenerating translations:  13%|█▎        | 203/1598 [00:58<07:27,  3.12it/s]"
          ]
        },
        {
          "output_type": "stream",
          "name": "stdout",
          "text": [
            "Warning: Empty prediction for input: That's how big changes happen.\n"
          ]
        },
        {
          "output_type": "stream",
          "name": "stderr",
          "text": [
            "\rGenerating translations:  13%|█▎        | 204/1598 [00:59<07:18,  3.18it/s]"
          ]
        },
        {
          "output_type": "stream",
          "name": "stdout",
          "text": [
            "Warning: Empty prediction for input: Reduces weight.\n"
          ]
        },
        {
          "output_type": "stream",
          "name": "stderr",
          "text": [
            "\rGenerating translations:  13%|█▎        | 205/1598 [00:59<07:39,  3.03it/s]"
          ]
        },
        {
          "output_type": "stream",
          "name": "stdout",
          "text": [
            "Warning: Empty prediction for input: We are watching what is happening in PMC Bank: RBI Governor\n"
          ]
        },
        {
          "output_type": "stream",
          "name": "stderr",
          "text": [
            "\rGenerating translations:  13%|█▎        | 206/1598 [00:59<07:33,  3.07it/s]"
          ]
        },
        {
          "output_type": "stream",
          "name": "stdout",
          "text": [
            "Warning: Empty prediction for input: Are you worried about your health?\n"
          ]
        },
        {
          "output_type": "stream",
          "name": "stderr",
          "text": [
            "\rGenerating translations:  13%|█▎        | 207/1598 [01:00<08:47,  2.64it/s]"
          ]
        },
        {
          "output_type": "stream",
          "name": "stdout",
          "text": [
            "Warning: Empty prediction for input: The objective of PMGSY II is to consolidate the Rural Road Network in the service of people, goods and services and to improve overall efficiency.\n"
          ]
        },
        {
          "output_type": "stream",
          "name": "stderr",
          "text": [
            "\rGenerating translations:  13%|█▎        | 208/1598 [01:00<09:14,  2.51it/s]"
          ]
        },
        {
          "output_type": "stream",
          "name": "stdout",
          "text": [
            "Warning: Empty prediction for input: I am the living bread from heaven. If anyone eats this bread, they will live forever. John 6:50, 51.\n"
          ]
        },
        {
          "output_type": "stream",
          "name": "stderr",
          "text": [
            "\rGenerating translations:  13%|█▎        | 209/1598 [01:01<09:02,  2.56it/s]"
          ]
        },
        {
          "output_type": "stream",
          "name": "stdout",
          "text": [
            "Warning: Empty prediction for input: Along with this, a video has also been released.\n"
          ]
        },
        {
          "output_type": "stream",
          "name": "stderr",
          "text": [
            "\rGenerating translations:  13%|█▎        | 210/1598 [01:01<09:06,  2.54it/s]"
          ]
        },
        {
          "output_type": "stream",
          "name": "stdout",
          "text": [
            "Warning: Empty prediction for input: Choudhury Mohan Jatua is an Indian politician.\n"
          ]
        },
        {
          "output_type": "stream",
          "name": "stderr",
          "text": [
            "\rGenerating translations:  13%|█▎        | 211/1598 [01:02<09:08,  2.53it/s]"
          ]
        },
        {
          "output_type": "stream",
          "name": "stdout",
          "text": [
            "Warning: Empty prediction for input: But the propagators of this tradition, Brahmins, are not in the dominant position in the area where they think Buddha sent the message, so there is no opposition to this message brahmanical thought and culture.\n"
          ]
        },
        {
          "output_type": "stream",
          "name": "stderr",
          "text": [
            "\rGenerating translations:  13%|█▎        | 212/1598 [01:02<08:43,  2.65it/s]"
          ]
        },
        {
          "output_type": "stream",
          "name": "stdout",
          "text": [
            "Warning: Empty prediction for input: What was a spot in director Boopathy Pandian's imagination has become Vairamuthu's lyrics's full fledged kolam.\n"
          ]
        },
        {
          "output_type": "stream",
          "name": "stderr",
          "text": [
            "\rGenerating translations:  13%|█▎        | 213/1598 [01:02<08:31,  2.71it/s]"
          ]
        },
        {
          "output_type": "stream",
          "name": "stdout",
          "text": [
            "Warning: Empty prediction for input: Gangamma Circle is a junction of roads connecting Jalalli East, Jalalli West, Jalalli Village, and Jalalli Cross.\n"
          ]
        },
        {
          "output_type": "stream",
          "name": "stderr",
          "text": [
            "\rGenerating translations:  13%|█▎        | 214/1598 [01:03<08:09,  2.83it/s]"
          ]
        },
        {
          "output_type": "stream",
          "name": "stdout",
          "text": [
            "Warning: Empty prediction for input: 13 TASMAC retail shops install billing machines to easily maintain accounts for retail sales and closing stock to avoid delays and mistakes while preparing manual cash bills.\n"
          ]
        },
        {
          "output_type": "stream",
          "name": "stderr",
          "text": [
            "\rGenerating translations:  13%|█▎        | 215/1598 [01:03<07:13,  3.19it/s]"
          ]
        },
        {
          "output_type": "stream",
          "name": "stdout",
          "text": [
            "Warning: Empty prediction for input: So the traffic is blocked.\n"
          ]
        },
        {
          "output_type": "stream",
          "name": "stderr",
          "text": [
            "\rGenerating translations:  14%|█▎        | 216/1598 [01:03<06:39,  3.46it/s]"
          ]
        },
        {
          "output_type": "stream",
          "name": "stdout",
          "text": [
            "Warning: Empty prediction for input: The incident is under investigation.\n"
          ]
        },
        {
          "output_type": "stream",
          "name": "stderr",
          "text": [
            "\rGenerating translations:  14%|█▎        | 217/1598 [01:03<06:16,  3.67it/s]"
          ]
        },
        {
          "output_type": "stream",
          "name": "stdout",
          "text": [
            "Warning: Empty prediction for input: The file format is not correct.\n"
          ]
        },
        {
          "output_type": "stream",
          "name": "stderr",
          "text": [
            "\rGenerating translations:  14%|█▎        | 218/1598 [01:03<05:49,  3.95it/s]"
          ]
        },
        {
          "output_type": "stream",
          "name": "stdout",
          "text": [
            "Warning: Empty prediction for input: He was sleeping.\n"
          ]
        },
        {
          "output_type": "stream",
          "name": "stderr",
          "text": [
            "\rGenerating translations:  14%|█▎        | 219/1598 [01:04<05:36,  4.10it/s]"
          ]
        },
        {
          "output_type": "stream",
          "name": "stdout",
          "text": [
            "Warning: Empty prediction for input: He doesn't care.\n"
          ]
        },
        {
          "output_type": "stream",
          "name": "stderr",
          "text": [
            "\rGenerating translations:  14%|█▍        | 220/1598 [01:04<06:11,  3.70it/s]"
          ]
        },
        {
          "output_type": "stream",
          "name": "stdout",
          "text": [
            "Warning: Empty prediction for input: The egg is round in shape, light is yellowish in colour, flat in base, smooth-surfaced, and 1.5 mm in height.\n"
          ]
        },
        {
          "output_type": "stream",
          "name": "stderr",
          "text": [
            "\rGenerating translations:  14%|█▍        | 221/1598 [01:04<05:50,  3.93it/s]"
          ]
        },
        {
          "output_type": "stream",
          "name": "stdout",
          "text": [
            "Warning: Empty prediction for input: Have you ever tried?\n"
          ]
        },
        {
          "output_type": "stream",
          "name": "stderr",
          "text": [
            "\rGenerating translations:  14%|█▍        | 222/1598 [01:04<05:43,  4.00it/s]"
          ]
        },
        {
          "output_type": "stream",
          "name": "stdout",
          "text": [
            "Warning: Empty prediction for input: So the hydrophobic effect is very important for life.\n"
          ]
        },
        {
          "output_type": "stream",
          "name": "stderr",
          "text": [
            "\rGenerating translations:  14%|█▍        | 223/1598 [01:05<05:30,  4.16it/s]"
          ]
        },
        {
          "output_type": "stream",
          "name": "stdout",
          "text": [
            "Warning: Empty prediction for input: I don't know.\"\n"
          ]
        },
        {
          "output_type": "stream",
          "name": "stderr",
          "text": [
            "\rGenerating translations:  14%|█▍        | 224/1598 [01:05<05:55,  3.87it/s]"
          ]
        },
        {
          "output_type": "stream",
          "name": "stdout",
          "text": [
            "Warning: Empty prediction for input: As 1 Peter 2:21-24 says, what model or model did Christ give us, and how should that affect us?\n"
          ]
        },
        {
          "output_type": "stream",
          "name": "stderr",
          "text": [
            "\rGenerating translations:  14%|█▍        | 225/1598 [01:05<06:00,  3.80it/s]"
          ]
        },
        {
          "output_type": "stream",
          "name": "stdout",
          "text": [
            "Warning: Empty prediction for input: A lot of people in the charity work are critical of food drives' inefficiency.\n"
          ]
        },
        {
          "output_type": "stream",
          "name": "stderr",
          "text": [
            "\rGenerating translations:  14%|█▍        | 226/1598 [01:05<05:42,  4.01it/s]"
          ]
        },
        {
          "output_type": "stream",
          "name": "stdout",
          "text": [
            "Warning: Empty prediction for input: They were wearing skirts.\n"
          ]
        },
        {
          "output_type": "stream",
          "name": "stderr",
          "text": [
            "\rGenerating translations:  14%|█▍        | 227/1598 [01:06<05:47,  3.94it/s]"
          ]
        },
        {
          "output_type": "stream",
          "name": "stdout",
          "text": [
            "Warning: Empty prediction for input: Xi Jinping has told the Chinese army to be battle-ready.\n"
          ]
        },
        {
          "output_type": "stream",
          "name": "stderr",
          "text": [
            "\rGenerating translations:  14%|█▍        | 228/1598 [01:06<05:47,  3.94it/s]"
          ]
        },
        {
          "output_type": "stream",
          "name": "stdout",
          "text": [
            "Warning: Empty prediction for input: State Municipal Administration Minister S P Velumani inaugurated the event.\n"
          ]
        },
        {
          "output_type": "stream",
          "name": "stderr",
          "text": [
            "\rGenerating translations:  14%|█▍        | 229/1598 [01:06<05:33,  4.10it/s]"
          ]
        },
        {
          "output_type": "stream",
          "name": "stdout",
          "text": [
            "Warning: Empty prediction for input: Wedding Dresses\n"
          ]
        },
        {
          "output_type": "stream",
          "name": "stderr",
          "text": [
            "\rGenerating translations:  14%|█▍        | 230/1598 [01:06<05:22,  4.24it/s]"
          ]
        },
        {
          "output_type": "stream",
          "name": "stdout",
          "text": [
            "Warning: Empty prediction for input: What is audacity?\n"
          ]
        },
        {
          "output_type": "stream",
          "name": "stderr",
          "text": [
            "\rGenerating translations:  14%|█▍        | 231/1598 [01:07<05:50,  3.91it/s]"
          ]
        },
        {
          "output_type": "stream",
          "name": "stdout",
          "text": [
            "Warning: Empty prediction for input: They will deploy 12,000 police officers in the province - twice as many as previous numbers - and deploy 6,000 home guards.\n"
          ]
        },
        {
          "output_type": "stream",
          "name": "stderr",
          "text": [
            "\rGenerating translations:  15%|█▍        | 232/1598 [01:07<05:43,  3.98it/s]"
          ]
        },
        {
          "output_type": "stream",
          "name": "stdout",
          "text": [
            "Warning: Empty prediction for input: But the earthquake didn't cost any lives.\n"
          ]
        },
        {
          "output_type": "stream",
          "name": "stderr",
          "text": [
            "\rGenerating translations:  15%|█▍        | 233/1598 [01:07<05:44,  3.96it/s]"
          ]
        },
        {
          "output_type": "stream",
          "name": "stdout",
          "text": [
            "Warning: Empty prediction for input: But 5% of students could not complete the eighth grade.\n"
          ]
        },
        {
          "output_type": "stream",
          "name": "stderr",
          "text": [
            "\rGenerating translations:  15%|█▍        | 234/1598 [01:07<05:29,  4.14it/s]"
          ]
        },
        {
          "output_type": "stream",
          "name": "stdout",
          "text": [
            "Warning: Empty prediction for input: Tell me what to do.\n"
          ]
        },
        {
          "output_type": "stream",
          "name": "stderr",
          "text": [
            "\rGenerating translations:  15%|█▍        | 235/1598 [01:08<05:29,  4.14it/s]"
          ]
        },
        {
          "output_type": "stream",
          "name": "stdout",
          "text": [
            "Warning: Empty prediction for input: Your efforts will bear fruit.\n"
          ]
        },
        {
          "output_type": "stream",
          "name": "stderr",
          "text": [
            "\rGenerating translations:  15%|█▍        | 236/1598 [01:08<05:25,  4.18it/s]"
          ]
        },
        {
          "output_type": "stream",
          "name": "stdout",
          "text": [
            "Warning: Empty prediction for input: Then rinse well with cold water.\n"
          ]
        },
        {
          "output_type": "stream",
          "name": "stderr",
          "text": [
            "\rGenerating translations:  15%|█▍        | 237/1598 [01:08<05:25,  4.18it/s]"
          ]
        },
        {
          "output_type": "stream",
          "name": "stdout",
          "text": [
            "Warning: Empty prediction for input: The castle is being investigated by the police.\n"
          ]
        },
        {
          "output_type": "stream",
          "name": "stderr",
          "text": [
            "\rGenerating translations:  15%|█▍        | 238/1598 [01:08<05:24,  4.20it/s]"
          ]
        },
        {
          "output_type": "stream",
          "name": "stdout",
          "text": [
            "Warning: Empty prediction for input: Symptoms of tuberculosis\n"
          ]
        },
        {
          "output_type": "stream",
          "name": "stderr",
          "text": [
            "\rGenerating translations:  15%|█▍        | 239/1598 [01:09<05:25,  4.17it/s]"
          ]
        },
        {
          "output_type": "stream",
          "name": "stdout",
          "text": [
            "Warning: Empty prediction for input: Cyclone-Hit Areas in West Bengal\n"
          ]
        },
        {
          "output_type": "stream",
          "name": "stderr",
          "text": [
            "\rGenerating translations:  15%|█▌        | 240/1598 [01:09<05:22,  4.21it/s]"
          ]
        },
        {
          "output_type": "stream",
          "name": "stdout",
          "text": [
            "Warning: Empty prediction for input: He refused to meet me.\n"
          ]
        },
        {
          "output_type": "stream",
          "name": "stderr",
          "text": [
            "\rGenerating translations:  15%|█▌        | 241/1598 [01:09<06:01,  3.76it/s]"
          ]
        },
        {
          "output_type": "stream",
          "name": "stdout",
          "text": [
            "Warning: Empty prediction for input: Now they can use public welfare schemes of state and central governments. The Prime Minister called this agreement special because it symbolises the spirit of cooperative federalism.\n"
          ]
        },
        {
          "output_type": "stream",
          "name": "stderr",
          "text": [
            "\rGenerating translations:  15%|█▌        | 242/1598 [01:09<06:07,  3.69it/s]"
          ]
        },
        {
          "output_type": "stream",
          "name": "stdout",
          "text": [
            "Warning: Empty prediction for input: According to the National Disaster Agency, more than 152,000 people were displaced and 75 injured in that storm.\n"
          ]
        },
        {
          "output_type": "stream",
          "name": "stderr",
          "text": [
            "\rGenerating translations:  15%|█▌        | 243/1598 [01:10<06:04,  3.72it/s]"
          ]
        },
        {
          "output_type": "stream",
          "name": "stdout",
          "text": [
            "Warning: Empty prediction for input: Unable to open %s file by using %s character encoding.\n"
          ]
        },
        {
          "output_type": "stream",
          "name": "stderr",
          "text": [
            "\rGenerating translations:  15%|█▌        | 244/1598 [01:10<05:49,  3.87it/s]"
          ]
        },
        {
          "output_type": "stream",
          "name": "stdout",
          "text": [
            "Warning: Empty prediction for input: What a heavy price they have paid!\n"
          ]
        },
        {
          "output_type": "stream",
          "name": "stderr",
          "text": [
            "\rGenerating translations:  15%|█▌        | 245/1598 [01:10<05:32,  4.06it/s]"
          ]
        },
        {
          "output_type": "stream",
          "name": "stdout",
          "text": [
            "Warning: Empty prediction for input: You're right.\n"
          ]
        },
        {
          "output_type": "stream",
          "name": "stderr",
          "text": [
            "\rGenerating translations:  15%|█▌        | 246/1598 [01:10<05:25,  4.15it/s]"
          ]
        },
        {
          "output_type": "stream",
          "name": "stdout",
          "text": [
            "Warning: Empty prediction for input: Isn't she a goddess?\n"
          ]
        },
        {
          "output_type": "stream",
          "name": "stderr",
          "text": [
            "\rGenerating translations:  15%|█▌        | 247/1598 [01:11<05:34,  4.04it/s]"
          ]
        },
        {
          "output_type": "stream",
          "name": "stdout",
          "text": [
            "Warning: Empty prediction for input: I didn't do anything wrong, I didn't do anything wrong.\n"
          ]
        },
        {
          "output_type": "stream",
          "name": "stderr",
          "text": [
            "\rGenerating translations:  16%|█▌        | 248/1598 [01:11<05:48,  3.87it/s]"
          ]
        },
        {
          "output_type": "stream",
          "name": "stdout",
          "text": [
            "Warning: Empty prediction for input: Their philosophies and ideas are not in harmony with Jehovah's way of thinking.\n"
          ]
        },
        {
          "output_type": "stream",
          "name": "stderr",
          "text": [
            "\rGenerating translations:  16%|█▌        | 249/1598 [01:11<06:23,  3.52it/s]"
          ]
        },
        {
          "output_type": "stream",
          "name": "stdout",
          "text": [
            "Warning: Empty prediction for input: But, as mentioned in recent findings, there are some serious drawbacks in this operation. For example, it is impossible to predict how much vision will improve.\n"
          ]
        },
        {
          "output_type": "stream",
          "name": "stderr",
          "text": [
            "\rGenerating translations:  16%|█▌        | 250/1598 [01:12<06:49,  3.30it/s]"
          ]
        },
        {
          "output_type": "stream",
          "name": "stdout",
          "text": [
            "Warning: Empty prediction for input: Congress-JDS alliance in Karnataka\n"
          ]
        },
        {
          "output_type": "stream",
          "name": "stderr",
          "text": [
            "\rGenerating translations:  16%|█▌        | 251/1598 [01:12<07:38,  2.94it/s]"
          ]
        },
        {
          "output_type": "stream",
          "name": "stdout",
          "text": [
            "Warning: Empty prediction for input: There are a lot of African students in Chennai and some of them may be addicted to KHAT.\n"
          ]
        },
        {
          "output_type": "stream",
          "name": "stderr",
          "text": [
            "\rGenerating translations:  16%|█▌        | 252/1598 [01:13<08:31,  2.63it/s]"
          ]
        },
        {
          "output_type": "stream",
          "name": "stdout",
          "text": [
            "Warning: Empty prediction for input: In previous referendums, they refused to reduce the workweek to 40 hours, even when asked to add a five-week paid vacation.\n"
          ]
        },
        {
          "output_type": "stream",
          "name": "stderr",
          "text": [
            "\rGenerating translations:  16%|█▌        | 253/1598 [01:13<08:45,  2.56it/s]"
          ]
        },
        {
          "output_type": "stream",
          "name": "stdout",
          "text": [
            "Warning: Empty prediction for input: Jehovah's Witnesses happily help people to get to know God's Word better.\n"
          ]
        },
        {
          "output_type": "stream",
          "name": "stderr",
          "text": [
            "\rGenerating translations:  16%|█▌        | 254/1598 [01:13<08:11,  2.73it/s]"
          ]
        },
        {
          "output_type": "stream",
          "name": "stdout",
          "text": [
            "Warning: Empty prediction for input: Hello, we welcome you.\n"
          ]
        },
        {
          "output_type": "stream",
          "name": "stderr",
          "text": [
            "\rGenerating translations:  16%|█▌        | 255/1598 [01:14<08:24,  2.66it/s]"
          ]
        },
        {
          "output_type": "stream",
          "name": "stdout",
          "text": [
            "Warning: Empty prediction for input: Even if we get good reviews, the film doesn't do as well as expected.\n"
          ]
        },
        {
          "output_type": "stream",
          "name": "stderr",
          "text": [
            "\rGenerating translations:  16%|█▌        | 256/1598 [01:14<08:05,  2.77it/s]"
          ]
        },
        {
          "output_type": "stream",
          "name": "stdout",
          "text": [
            "Warning: Empty prediction for input: I can't explain that.\n"
          ]
        },
        {
          "output_type": "stream",
          "name": "stderr",
          "text": [
            "\rGenerating translations:  16%|█▌        | 257/1598 [01:14<07:36,  2.94it/s]"
          ]
        },
        {
          "output_type": "stream",
          "name": "stdout",
          "text": [
            "Warning: Empty prediction for input: What love!\n"
          ]
        },
        {
          "output_type": "stream",
          "name": "stderr",
          "text": [
            "\rGenerating translations:  16%|█▌        | 258/1598 [01:14<06:49,  3.27it/s]"
          ]
        },
        {
          "output_type": "stream",
          "name": "stdout",
          "text": [
            "Warning: Empty prediction for input: 12 Crore\n"
          ]
        },
        {
          "output_type": "stream",
          "name": "stderr",
          "text": [
            "\rGenerating translations:  16%|█▌        | 259/1598 [01:15<06:46,  3.30it/s]"
          ]
        },
        {
          "output_type": "stream",
          "name": "stdout",
          "text": [
            "Warning: Empty prediction for input: If you buy a 35GB plan for Rs 2,499, you will get 70GB of free WiFi data.\n"
          ]
        },
        {
          "output_type": "stream",
          "name": "stderr",
          "text": [
            "\rGenerating translations:  16%|█▋        | 260/1598 [01:15<07:02,  3.17it/s]"
          ]
        },
        {
          "output_type": "stream",
          "name": "stdout",
          "text": [
            "Warning: Empty prediction for input: They raised a lot of issues like liquidity crunch, orders cancellation, labour scarcity, state and district authorities interpreting differently, trucks stopping, spare parts being available.\n"
          ]
        },
        {
          "output_type": "stream",
          "name": "stderr",
          "text": [
            "\rGenerating translations:  16%|█▋        | 261/1598 [01:15<06:52,  3.24it/s]"
          ]
        },
        {
          "output_type": "stream",
          "name": "stdout",
          "text": [
            "Warning: Empty prediction for input: With the rupee depreciating and international oil rates rising, the prices of petrol and diesel are still rising.\n"
          ]
        },
        {
          "output_type": "stream",
          "name": "stderr",
          "text": [
            "\rGenerating translations:  16%|█▋        | 262/1598 [01:16<06:30,  3.42it/s]"
          ]
        },
        {
          "output_type": "stream",
          "name": "stdout",
          "text": [
            "Warning: Empty prediction for input: When he got home, he got Rs.\n"
          ]
        },
        {
          "output_type": "stream",
          "name": "stderr",
          "text": [
            "\rGenerating translations:  16%|█▋        | 263/1598 [01:16<06:06,  3.64it/s]"
          ]
        },
        {
          "output_type": "stream",
          "name": "stdout",
          "text": [
            "Warning: Empty prediction for input: It's a very dangerous situation.\n"
          ]
        },
        {
          "output_type": "stream",
          "name": "stderr",
          "text": [
            "\rGenerating translations:  17%|█▋        | 264/1598 [01:16<05:41,  3.90it/s]"
          ]
        },
        {
          "output_type": "stream",
          "name": "stdout",
          "text": [
            "Warning: Empty prediction for input: Thank you, Doctor.\n"
          ]
        },
        {
          "output_type": "stream",
          "name": "stderr",
          "text": [
            "\rGenerating translations:  17%|█▋        | 265/1598 [01:16<06:19,  3.51it/s]"
          ]
        },
        {
          "output_type": "stream",
          "name": "stdout",
          "text": [
            "Warning: Empty prediction for input: Mumbai: The wife of a police inspector who was on the team investigating the Sheena Bora murder case was stabbed to death at her home in Mumbai.\n"
          ]
        },
        {
          "output_type": "stream",
          "name": "stderr",
          "text": [
            "\rGenerating translations:  17%|█▋        | 266/1598 [01:17<05:56,  3.74it/s]"
          ]
        },
        {
          "output_type": "stream",
          "name": "stdout",
          "text": [
            "Warning: Empty prediction for input: The price of this attachment is Rs.\n"
          ]
        },
        {
          "output_type": "stream",
          "name": "stderr",
          "text": [
            "\rGenerating translations:  17%|█▋        | 267/1598 [01:17<05:38,  3.93it/s]"
          ]
        },
        {
          "output_type": "stream",
          "name": "stdout",
          "text": [
            "Warning: Empty prediction for input: Cancer is increasing day by day.\n"
          ]
        },
        {
          "output_type": "stream",
          "name": "stderr",
          "text": [
            "\rGenerating translations:  17%|█▋        | 268/1598 [01:17<05:30,  4.03it/s]"
          ]
        },
        {
          "output_type": "stream",
          "name": "stdout",
          "text": [
            "Warning: Empty prediction for input: But she's a super learner.\n"
          ]
        },
        {
          "output_type": "stream",
          "name": "stderr",
          "text": [
            "\rGenerating translations:  17%|█▋        | 269/1598 [01:17<05:39,  3.91it/s]"
          ]
        },
        {
          "output_type": "stream",
          "name": "stdout",
          "text": [
            "Warning: Empty prediction for input: Fill the application, print it and forward it to the documents mentioned below. Address:\n"
          ]
        },
        {
          "output_type": "stream",
          "name": "stderr",
          "text": [
            "\rGenerating translations:  17%|█▋        | 270/1598 [01:18<05:44,  3.85it/s]"
          ]
        },
        {
          "output_type": "stream",
          "name": "stdout",
          "text": [
            "Warning: Empty prediction for input: yes, I just need to be alone, process my thoughts, give me a good cry.\n"
          ]
        },
        {
          "output_type": "stream",
          "name": "stderr",
          "text": [
            "\rGenerating translations:  17%|█▋        | 271/1598 [01:18<05:32,  4.00it/s]"
          ]
        },
        {
          "output_type": "stream",
          "name": "stdout",
          "text": [
            "Warning: Empty prediction for input: %s and %s\n"
          ]
        },
        {
          "output_type": "stream",
          "name": "stderr",
          "text": [
            "\rGenerating translations:  17%|█▋        | 272/1598 [01:18<05:43,  3.86it/s]"
          ]
        },
        {
          "output_type": "stream",
          "name": "stdout",
          "text": [
            "Warning: Empty prediction for input: But it's nice to be a companion to such faithful spiritual people at Jehovah's Service.\n"
          ]
        },
        {
          "output_type": "stream",
          "name": "stderr",
          "text": [
            "\rGenerating translations:  17%|█▋        | 273/1598 [01:18<05:31,  4.00it/s]"
          ]
        },
        {
          "output_type": "stream",
          "name": "stdout",
          "text": [
            "Warning: Empty prediction for input: In the Update Channel:\n"
          ]
        },
        {
          "output_type": "stream",
          "name": "stderr",
          "text": [
            "\rGenerating translations:  17%|█▋        | 274/1598 [01:19<05:30,  4.00it/s]"
          ]
        },
        {
          "output_type": "stream",
          "name": "stdout",
          "text": [
            "Warning: Empty prediction for input: They couldn't ignore it for long.\n"
          ]
        },
        {
          "output_type": "stream",
          "name": "stderr",
          "text": [
            "\rGenerating translations:  17%|█▋        | 275/1598 [01:19<05:28,  4.02it/s]"
          ]
        },
        {
          "output_type": "stream",
          "name": "stdout",
          "text": [
            "Warning: Empty prediction for input: We are deeply saddened by his demise.\n"
          ]
        },
        {
          "output_type": "stream",
          "name": "stderr",
          "text": [
            "\rGenerating translations:  17%|█▋        | 276/1598 [01:19<05:13,  4.22it/s]"
          ]
        },
        {
          "output_type": "stream",
          "name": "stdout",
          "text": [
            "Warning: Empty prediction for input: Ok ok.\n"
          ]
        },
        {
          "output_type": "stream",
          "name": "stderr",
          "text": [
            "\rGenerating translations:  17%|█▋        | 277/1598 [01:19<05:14,  4.20it/s]"
          ]
        },
        {
          "output_type": "stream",
          "name": "stdout",
          "text": [
            "Warning: Empty prediction for input: UT players beat Tamil Nadu by 3-0 goals.\n"
          ]
        },
        {
          "output_type": "stream",
          "name": "stderr",
          "text": [
            "\rGenerating translations:  17%|█▋        | 278/1598 [01:20<05:18,  4.14it/s]"
          ]
        },
        {
          "output_type": "stream",
          "name": "stdout",
          "text": [
            "Warning: Empty prediction for input: But the investigation is not over yet.\n"
          ]
        },
        {
          "output_type": "stream",
          "name": "stderr",
          "text": [
            "\rGenerating translations:  17%|█▋        | 279/1598 [01:20<05:15,  4.18it/s]"
          ]
        },
        {
          "output_type": "stream",
          "name": "stdout",
          "text": [
            "Warning: Empty prediction for input: And then they pushed them into prostitution.\n"
          ]
        },
        {
          "output_type": "stream",
          "name": "stderr",
          "text": [
            "\rGenerating translations:  18%|█▊        | 280/1598 [01:20<05:14,  4.19it/s]"
          ]
        },
        {
          "output_type": "stream",
          "name": "stdout",
          "text": [
            "Warning: Empty prediction for input: That's all in the past.\n"
          ]
        },
        {
          "output_type": "stream",
          "name": "stderr",
          "text": [
            "\rGenerating translations:  18%|█▊        | 281/1598 [01:20<05:28,  4.01it/s]"
          ]
        },
        {
          "output_type": "stream",
          "name": "stdout",
          "text": [
            "Warning: Empty prediction for input: Prime Minister Imran Khan lashed out at India over the alleged atrocities in Kashmir.\n"
          ]
        },
        {
          "output_type": "stream",
          "name": "stderr",
          "text": [
            "\rGenerating translations:  18%|█▊        | 282/1598 [01:21<05:36,  3.91it/s]"
          ]
        },
        {
          "output_type": "stream",
          "name": "stdout",
          "text": [
            "Warning: Empty prediction for input: But this incident will never be forgotten.\n"
          ]
        },
        {
          "output_type": "stream",
          "name": "stderr",
          "text": [
            "\rGenerating translations:  18%|█▊        | 283/1598 [01:21<05:34,  3.93it/s]"
          ]
        },
        {
          "output_type": "stream",
          "name": "stdout",
          "text": [
            "Warning: Empty prediction for input: This is the last budget ahead of the general elections in May.\n"
          ]
        },
        {
          "output_type": "stream",
          "name": "stderr",
          "text": [
            "\rGenerating translations:  18%|█▊        | 284/1598 [01:21<05:35,  3.92it/s]"
          ]
        },
        {
          "output_type": "stream",
          "name": "stdout",
          "text": [
            "Warning: Empty prediction for input: I haven't been able to see his face one last time.\n"
          ]
        },
        {
          "output_type": "stream",
          "name": "stderr",
          "text": [
            "\rGenerating translations:  18%|█▊        | 285/1598 [01:21<05:39,  3.87it/s]"
          ]
        },
        {
          "output_type": "stream",
          "name": "stdout",
          "text": [
            "Warning: Empty prediction for input: We're very excited to collaborate with them and create revolutionary content in all the screens and languages.\n"
          ]
        },
        {
          "output_type": "stream",
          "name": "stderr",
          "text": [
            "\rGenerating translations:  18%|█▊        | 286/1598 [01:22<05:21,  4.08it/s]"
          ]
        },
        {
          "output_type": "stream",
          "name": "stdout",
          "text": [
            "Warning: Empty prediction for input: Very good.\n"
          ]
        },
        {
          "output_type": "stream",
          "name": "stderr",
          "text": [
            "\rGenerating translations:  18%|█▊        | 287/1598 [01:22<06:34,  3.32it/s]"
          ]
        },
        {
          "output_type": "stream",
          "name": "stdout",
          "text": [
            "Warning: Empty prediction for input: This Government has established 1,539 new child centres and 3,168 mini-centres to enable more number of beneficiaries to benefit under the Integrated Child Development Scheme (CDS) aimed at providing nutritious food to children, pregnant women and adolescents.\n"
          ]
        },
        {
          "output_type": "stream",
          "name": "stderr",
          "text": [
            "\rGenerating translations:  18%|█▊        | 288/1598 [01:22<06:16,  3.48it/s]"
          ]
        },
        {
          "output_type": "stream",
          "name": "stdout",
          "text": [
            "Warning: Empty prediction for input: Former cricketer Chetan Chauhan has been diagnosed with COVID-19.\n"
          ]
        },
        {
          "output_type": "stream",
          "name": "stderr",
          "text": [
            "\rGenerating translations:  18%|█▊        | 289/1598 [01:23<06:10,  3.54it/s]"
          ]
        },
        {
          "output_type": "stream",
          "name": "stdout",
          "text": [
            "Warning: Empty prediction for input: More than 299,000 people became infected and 91,500 were recovered.\n"
          ]
        },
        {
          "output_type": "stream",
          "name": "stderr",
          "text": [
            "\rGenerating translations:  18%|█▊        | 290/1598 [01:23<06:01,  3.62it/s]"
          ]
        },
        {
          "output_type": "stream",
          "name": "stdout",
          "text": [
            "Warning: Empty prediction for input: May those who have been hurt in the slightest thing recover quickly.\n"
          ]
        },
        {
          "output_type": "stream",
          "name": "stderr",
          "text": [
            "\rGenerating translations:  18%|█▊        | 291/1598 [01:23<05:52,  3.71it/s]"
          ]
        },
        {
          "output_type": "stream",
          "name": "stdout",
          "text": [
            "Warning: Empty prediction for input: There's nothing like it anywhere else in the world.\n"
          ]
        },
        {
          "output_type": "stream",
          "name": "stderr",
          "text": [
            "\rGenerating translations:  18%|█▊        | 292/1598 [01:23<05:58,  3.64it/s]"
          ]
        },
        {
          "output_type": "stream",
          "name": "stdout",
          "text": [
            "Warning: Empty prediction for input: My lord, why should I be any longer a burden to your work? Barzillai asked.\n"
          ]
        },
        {
          "output_type": "stream",
          "name": "stderr",
          "text": [
            "\rGenerating translations:  18%|█▊        | 293/1598 [01:24<06:12,  3.50it/s]"
          ]
        },
        {
          "output_type": "stream",
          "name": "stdout",
          "text": [
            "Warning: Empty prediction for input: TNSFAC promotes Farmer Producer Organizations (FPOs) and Collective Farming to empower small and marginal farmers.\n"
          ]
        },
        {
          "output_type": "stream",
          "name": "stderr",
          "text": [
            "\rGenerating translations:  18%|█▊        | 294/1598 [01:24<05:49,  3.73it/s]"
          ]
        },
        {
          "output_type": "stream",
          "name": "stdout",
          "text": [
            "Warning: Empty prediction for input: Ajay Verma\n"
          ]
        },
        {
          "output_type": "stream",
          "name": "stderr",
          "text": [
            "\rGenerating translations:  18%|█▊        | 295/1598 [01:24<05:50,  3.72it/s]"
          ]
        },
        {
          "output_type": "stream",
          "name": "stdout",
          "text": [
            "Warning: Empty prediction for input: Opposition parties like Congress, AIMIM and Trinamool Congress have opposed this bill.\n"
          ]
        },
        {
          "output_type": "stream",
          "name": "stderr",
          "text": [
            "\rGenerating translations:  19%|█▊        | 296/1598 [01:25<06:12,  3.49it/s]"
          ]
        },
        {
          "output_type": "stream",
          "name": "stdout",
          "text": [
            "Warning: Empty prediction for input: It's just the media that's got the news.\n"
          ]
        },
        {
          "output_type": "stream",
          "name": "stderr",
          "text": [
            "\rGenerating translations:  19%|█▊        | 297/1598 [01:25<06:24,  3.38it/s]"
          ]
        },
        {
          "output_type": "stream",
          "name": "stdout",
          "text": [
            "Warning: Empty prediction for input: Farmers are not happy.\n"
          ]
        },
        {
          "output_type": "stream",
          "name": "stderr",
          "text": [
            "\rGenerating translations:  19%|█▊        | 298/1598 [01:25<06:25,  3.38it/s]"
          ]
        },
        {
          "output_type": "stream",
          "name": "stdout",
          "text": [
            "Warning: Empty prediction for input: They were struggling.\n"
          ]
        },
        {
          "output_type": "stream",
          "name": "stderr",
          "text": [
            "\rGenerating translations:  19%|█▊        | 299/1598 [01:26<09:31,  2.27it/s]"
          ]
        },
        {
          "output_type": "stream",
          "name": "stdout",
          "text": [
            "Warning: Empty prediction for input: Intelli MAST, Hospital Care Assistive Robotic Device, Touchless Soap Water Dispenser, Battery Operated Disinfectant Sprayers & Mechanized Ventilator with Oxygen Concentrator - all these have been developed by technology to sustain it to the MSME sector.\n"
          ]
        },
        {
          "output_type": "stream",
          "name": "stderr",
          "text": [
            "\rGenerating translations:  19%|█▉        | 300/1598 [01:26<08:55,  2.43it/s]"
          ]
        },
        {
          "output_type": "stream",
          "name": "stdout",
          "text": [
            "Warning: Empty prediction for input: Tears welled up in his eyes.\n"
          ]
        },
        {
          "output_type": "stream",
          "name": "stderr",
          "text": [
            "\rGenerating translations:  19%|█▉        | 301/1598 [01:27<08:16,  2.61it/s]"
          ]
        },
        {
          "output_type": "stream",
          "name": "stdout",
          "text": [
            "Warning: Empty prediction for input: Dad, what's wrong?\n"
          ]
        },
        {
          "output_type": "stream",
          "name": "stderr",
          "text": [
            "\rGenerating translations:  19%|█▉        | 302/1598 [01:27<08:05,  2.67it/s]"
          ]
        },
        {
          "output_type": "stream",
          "name": "stdout",
          "text": [
            "Warning: Empty prediction for input: There's a method to that.\n"
          ]
        },
        {
          "output_type": "stream",
          "name": "stderr",
          "text": [
            "\rGenerating translations:  19%|█▉        | 303/1598 [01:27<08:19,  2.59it/s]"
          ]
        },
        {
          "output_type": "stream",
          "name": "stdout",
          "text": [
            "Warning: Empty prediction for input: Paul writes in inspiration. So we're happy to hear what he says about these types.\n"
          ]
        },
        {
          "output_type": "stream",
          "name": "stderr",
          "text": [
            "\rGenerating translations:  19%|█▉        | 304/1598 [01:28<07:33,  2.85it/s]"
          ]
        },
        {
          "output_type": "stream",
          "name": "stdout",
          "text": [
            "Warning: Empty prediction for input: Don't like the cold?\n"
          ]
        },
        {
          "output_type": "stream",
          "name": "stderr",
          "text": [
            "\rGenerating translations:  19%|█▉        | 305/1598 [01:28<07:06,  3.03it/s]"
          ]
        },
        {
          "output_type": "stream",
          "name": "stdout",
          "text": [
            "Warning: Empty prediction for input: Baptism is an important step in taking on responsibilities for true worship.\n"
          ]
        },
        {
          "output_type": "stream",
          "name": "stderr",
          "text": [
            "\rGenerating translations:  19%|█▉        | 306/1598 [01:28<06:27,  3.34it/s]"
          ]
        },
        {
          "output_type": "stream",
          "name": "stdout",
          "text": [
            "Warning: Empty prediction for input: Take care of the health of the elderly.\n"
          ]
        },
        {
          "output_type": "stream",
          "name": "stderr",
          "text": [
            "\rGenerating translations:  19%|█▉        | 307/1598 [01:28<06:03,  3.55it/s]"
          ]
        },
        {
          "output_type": "stream",
          "name": "stdout",
          "text": [
            "Warning: Empty prediction for input: That conversation led to her regular home Bible study.\n"
          ]
        },
        {
          "output_type": "stream",
          "name": "stderr",
          "text": [
            "\rGenerating translations:  19%|█▉        | 308/1598 [01:29<05:43,  3.76it/s]"
          ]
        },
        {
          "output_type": "stream",
          "name": "stdout",
          "text": [
            "Warning: Empty prediction for input: India is a democratic country.\n"
          ]
        },
        {
          "output_type": "stream",
          "name": "stderr",
          "text": [
            "\rGenerating translations:  19%|█▉        | 309/1598 [01:29<05:32,  3.87it/s]"
          ]
        },
        {
          "output_type": "stream",
          "name": "stdout",
          "text": [
            "Warning: Empty prediction for input: His base price is Rs 2 crore.\n"
          ]
        },
        {
          "output_type": "stream",
          "name": "stderr",
          "text": [
            "\rGenerating translations:  19%|█▉        | 310/1598 [01:29<05:35,  3.83it/s]"
          ]
        },
        {
          "output_type": "stream",
          "name": "stdout",
          "text": [
            "Warning: Empty prediction for input: You are expected to have a profit in your business.\n"
          ]
        },
        {
          "output_type": "stream",
          "name": "stderr",
          "text": [
            "\rGenerating translations:  19%|█▉        | 311/1598 [01:29<06:06,  3.51it/s]"
          ]
        },
        {
          "output_type": "stream",
          "name": "stdout",
          "text": [
            "Warning: Empty prediction for input: Whoever does good, whether male or female, is a believer -- will go into their garden and they will not be punished with a single property.\n"
          ]
        },
        {
          "output_type": "stream",
          "name": "stderr",
          "text": [
            "\rGenerating translations:  20%|█▉        | 312/1598 [01:30<05:39,  3.79it/s]"
          ]
        },
        {
          "output_type": "stream",
          "name": "stdout",
          "text": [
            "Warning: Empty prediction for input: See how.\n"
          ]
        },
        {
          "output_type": "stream",
          "name": "stderr",
          "text": [
            "\rGenerating translations:  20%|█▉        | 313/1598 [01:30<05:58,  3.58it/s]"
          ]
        },
        {
          "output_type": "stream",
          "name": "stdout",
          "text": [
            "Warning: Empty prediction for input: Friends, the transition from Siddhartha to Gautam Buddha, is not just about achieving Nirvana.\n"
          ]
        },
        {
          "output_type": "stream",
          "name": "stderr",
          "text": [
            "\rGenerating translations:  20%|█▉        | 314/1598 [01:30<05:35,  3.83it/s]"
          ]
        },
        {
          "output_type": "stream",
          "name": "stdout",
          "text": [
            "Warning: Empty prediction for input: Rs. 500 per house\n"
          ]
        },
        {
          "output_type": "stream",
          "name": "stderr",
          "text": [
            "\rGenerating translations:  20%|█▉        | 315/1598 [01:30<05:31,  3.87it/s]"
          ]
        },
        {
          "output_type": "stream",
          "name": "stdout",
          "text": [
            "Warning: Empty prediction for input: Heeba Shah actor Naseeruddin Shah's daughter.\n"
          ]
        },
        {
          "output_type": "stream",
          "name": "stderr",
          "text": [
            "\rGenerating translations:  20%|█▉        | 316/1598 [01:31<05:26,  3.93it/s]"
          ]
        },
        {
          "output_type": "stream",
          "name": "stdout",
          "text": [
            "Warning: Empty prediction for input: It's a cultural problem.\n"
          ]
        },
        {
          "output_type": "stream",
          "name": "stderr",
          "text": [
            "\rGenerating translations:  20%|█▉        | 317/1598 [01:31<05:25,  3.94it/s]"
          ]
        },
        {
          "output_type": "stream",
          "name": "stdout",
          "text": [
            "Warning: Empty prediction for input: And then there's the traditional feast process.\n"
          ]
        },
        {
          "output_type": "stream",
          "name": "stderr",
          "text": [
            "\rGenerating translations:  20%|█▉        | 318/1598 [01:31<05:37,  3.80it/s]"
          ]
        },
        {
          "output_type": "stream",
          "name": "stdout",
          "text": [
            "Warning: Empty prediction for input: If they join the revolt, they will have violated Jehovah's counsel at Romans 13:1.\n"
          ]
        },
        {
          "output_type": "stream",
          "name": "stderr",
          "text": [
            "\rGenerating translations:  20%|█▉        | 319/1598 [01:31<05:29,  3.89it/s]"
          ]
        },
        {
          "output_type": "stream",
          "name": "stdout",
          "text": [
            "Warning: Empty prediction for input: The name Judah means speaking, publishing.\n"
          ]
        },
        {
          "output_type": "stream",
          "name": "stderr",
          "text": [
            "\rGenerating translations:  20%|██        | 320/1598 [01:32<05:16,  4.03it/s]"
          ]
        },
        {
          "output_type": "stream",
          "name": "stdout",
          "text": [
            "Warning: Empty prediction for input: Some rules have to be followed.\n"
          ]
        },
        {
          "output_type": "stream",
          "name": "stderr",
          "text": [
            "\rGenerating translations:  20%|██        | 321/1598 [01:32<05:17,  4.02it/s]"
          ]
        },
        {
          "output_type": "stream",
          "name": "stdout",
          "text": [
            "Warning: Empty prediction for input: He's my dad's best friend.\n"
          ]
        },
        {
          "output_type": "stream",
          "name": "stderr",
          "text": [
            "\rGenerating translations:  20%|██        | 322/1598 [01:32<05:02,  4.22it/s]"
          ]
        },
        {
          "output_type": "stream",
          "name": "stdout",
          "text": [
            "Warning: Empty prediction for input: But this fails.\n"
          ]
        },
        {
          "output_type": "stream",
          "name": "stderr",
          "text": [
            "\rGenerating translations:  20%|██        | 323/1598 [01:32<05:11,  4.10it/s]"
          ]
        },
        {
          "output_type": "stream",
          "name": "stdout",
          "text": [
            "Warning: Empty prediction for input: At elevation level (EL), Mandal dam has 190 MCM of storage.\n"
          ]
        },
        {
          "output_type": "stream",
          "name": "stderr",
          "text": [
            "\rGenerating translations:  20%|██        | 324/1598 [01:33<06:39,  3.19it/s]"
          ]
        },
        {
          "output_type": "stream",
          "name": "stdout",
          "text": [
            "Warning: Empty prediction for input: Directed by Lokesh Kanakarajm, the film stars Vijay, Vijay Sethupathi, Malavika Mohan, Andrea, Gowri Kishan, Arjun Das and Shantanu Bhagyaraj.\n"
          ]
        },
        {
          "output_type": "stream",
          "name": "stderr",
          "text": [
            "\rGenerating translations:  20%|██        | 325/1598 [01:33<06:32,  3.24it/s]"
          ]
        },
        {
          "output_type": "stream",
          "name": "stdout",
          "text": [
            "Warning: Empty prediction for input: He also wanted an advanced agricultural insurance scheme to protect against crop losses as a result of natural calamities.\n"
          ]
        },
        {
          "output_type": "stream",
          "name": "stderr",
          "text": [
            "\rGenerating translations:  20%|██        | 326/1598 [01:33<06:27,  3.28it/s]"
          ]
        },
        {
          "output_type": "stream",
          "name": "stdout",
          "text": [
            "Warning: Empty prediction for input: We live in democracy, and those in power should not forget that this country is 'sevaks' without their owners.\n"
          ]
        },
        {
          "output_type": "stream",
          "name": "stderr",
          "text": [
            "\rGenerating translations:  20%|██        | 327/1598 [01:34<05:54,  3.59it/s]"
          ]
        },
        {
          "output_type": "stream",
          "name": "stdout",
          "text": [
            "Warning: Empty prediction for input: You can take care.\n"
          ]
        },
        {
          "output_type": "stream",
          "name": "stderr",
          "text": [
            "\rGenerating translations:  21%|██        | 328/1598 [01:34<05:49,  3.63it/s]"
          ]
        },
        {
          "output_type": "stream",
          "name": "stdout",
          "text": [
            "Warning: Empty prediction for input: Read it aloud. Some students try to study the new language quietly.\n"
          ]
        },
        {
          "output_type": "stream",
          "name": "stderr",
          "text": [
            "\rGenerating translations:  21%|██        | 329/1598 [01:34<05:35,  3.79it/s]"
          ]
        },
        {
          "output_type": "stream",
          "name": "stdout",
          "text": [
            "Warning: Empty prediction for input: They have recovered Rs 25 lakh crore.\n"
          ]
        },
        {
          "output_type": "stream",
          "name": "stderr",
          "text": [
            "\rGenerating translations:  21%|██        | 330/1598 [01:34<05:21,  3.94it/s]"
          ]
        },
        {
          "output_type": "stream",
          "name": "stdout",
          "text": [
            "Warning: Empty prediction for input: My brain cells are starting to work.\n"
          ]
        },
        {
          "output_type": "stream",
          "name": "stderr",
          "text": [
            "\rGenerating translations:  21%|██        | 331/1598 [01:35<05:17,  3.99it/s]"
          ]
        },
        {
          "output_type": "stream",
          "name": "stdout",
          "text": [
            "Warning: Empty prediction for input: Three others were seriously injured.\n"
          ]
        },
        {
          "output_type": "stream",
          "name": "stderr",
          "text": [
            "\rGenerating translations:  21%|██        | 332/1598 [01:35<05:12,  4.05it/s]"
          ]
        },
        {
          "output_type": "stream",
          "name": "stdout",
          "text": [
            "Warning: Empty prediction for input: They're in case pending.\n"
          ]
        },
        {
          "output_type": "stream",
          "name": "stderr",
          "text": [
            "\rGenerating translations:  21%|██        | 333/1598 [01:35<05:15,  4.00it/s]"
          ]
        },
        {
          "output_type": "stream",
          "name": "stdout",
          "text": [
            "Warning: Empty prediction for input: People with strength walk from vital energy to vital energy.\n"
          ]
        },
        {
          "output_type": "stream",
          "name": "stderr",
          "text": [
            "\rGenerating translations:  21%|██        | 334/1598 [01:35<05:08,  4.10it/s]"
          ]
        },
        {
          "output_type": "stream",
          "name": "stdout",
          "text": [
            "Warning: Empty prediction for input: Nothing is what we think.\n"
          ]
        },
        {
          "output_type": "stream",
          "name": "stderr",
          "text": [
            "\rGenerating translations:  21%|██        | 335/1598 [01:36<05:01,  4.18it/s]"
          ]
        },
        {
          "output_type": "stream",
          "name": "stdout",
          "text": [
            "Warning: Empty prediction for input: 4500 Crores.\n"
          ]
        },
        {
          "output_type": "stream",
          "name": "stderr",
          "text": [
            "\rGenerating translations:  21%|██        | 336/1598 [01:36<05:48,  3.62it/s]"
          ]
        },
        {
          "output_type": "stream",
          "name": "stdout",
          "text": [
            "Warning: Empty prediction for input: Gold smuggling case: Due to the involvement of the main suspect, M Sivasankar, who was the secretary of Kerala CM, has been removed from that post.\n"
          ]
        },
        {
          "output_type": "stream",
          "name": "stderr",
          "text": [
            "\rGenerating translations:  21%|██        | 337/1598 [01:36<06:13,  3.38it/s]"
          ]
        },
        {
          "output_type": "stream",
          "name": "stdout",
          "text": [
            "Warning: Empty prediction for input: It will help you know what to expect about the patient and yourself, and how to take care of the patient. Joan has Alzheimer's disease, her husband.\n"
          ]
        },
        {
          "output_type": "stream",
          "name": "stderr",
          "text": [
            "\rGenerating translations:  21%|██        | 338/1598 [01:37<07:36,  2.76it/s]"
          ]
        },
        {
          "output_type": "stream",
          "name": "stdout",
          "text": [
            "Warning: Empty prediction for input: Not only that, without Pharaoh knowing Sarai's true marital status, he gave Abram many gifts, so he got a goat, a cow, a horse, a maidservant, a maidservant, a horse, a camel.\n"
          ]
        },
        {
          "output_type": "stream",
          "name": "stderr",
          "text": [
            "\rGenerating translations:  21%|██        | 339/1598 [01:37<07:11,  2.92it/s]"
          ]
        },
        {
          "output_type": "stream",
          "name": "stdout",
          "text": [
            "Warning: Empty prediction for input: Uttar Pradesh is ruled by the BJP and Yogi Adityantha is the Chief Minister.\n"
          ]
        },
        {
          "output_type": "stream",
          "name": "stderr",
          "text": [
            "\rGenerating translations:  21%|██▏       | 340/1598 [01:38<07:29,  2.80it/s]"
          ]
        },
        {
          "output_type": "stream",
          "name": "stdout",
          "text": [
            "Warning: Empty prediction for input: Nishchal Chaudhary, Founder of BattRE Electric Mobility, says, With more awareness to protect the environment, what better way to switch to electric scooters this Diwali?\n"
          ]
        },
        {
          "output_type": "stream",
          "name": "stderr",
          "text": [
            "\rGenerating translations:  21%|██▏       | 341/1598 [01:38<07:41,  2.72it/s]"
          ]
        },
        {
          "output_type": "stream",
          "name": "stdout",
          "text": [
            "Warning: Empty prediction for input: 3: Superscription What is the purpose of the heading for some Psalms?\n"
          ]
        },
        {
          "output_type": "stream",
          "name": "stderr",
          "text": [
            "\rGenerating translations:  21%|██▏       | 342/1598 [01:38<07:48,  2.68it/s]"
          ]
        },
        {
          "output_type": "stream",
          "name": "stdout",
          "text": [
            "Warning: Empty prediction for input: Well, Christianity is not the only religion that says bloodguilty.\n"
          ]
        },
        {
          "output_type": "stream",
          "name": "stderr",
          "text": [
            "\rGenerating translations:  21%|██▏       | 343/1598 [01:39<07:32,  2.77it/s]"
          ]
        },
        {
          "output_type": "stream",
          "name": "stdout",
          "text": [
            "Warning: Empty prediction for input: Kottampatti police are investigating.\n"
          ]
        },
        {
          "output_type": "stream",
          "name": "stderr",
          "text": [
            "\rGenerating translations:  22%|██▏       | 344/1598 [01:39<07:20,  2.85it/s]"
          ]
        },
        {
          "output_type": "stream",
          "name": "stdout",
          "text": [
            "Warning: Empty prediction for input: In some countries, yes.\n"
          ]
        },
        {
          "output_type": "stream",
          "name": "stderr",
          "text": [
            "\rGenerating translations:  22%|██▏       | 345/1598 [01:39<07:51,  2.66it/s]"
          ]
        },
        {
          "output_type": "stream",
          "name": "stdout",
          "text": [
            "Warning: Empty prediction for input: Prime Minister Manmohan Singh spoke to Chief Minister Nitish Kumar and asked him to condemn the blasts and maintain peace.\n"
          ]
        },
        {
          "output_type": "stream",
          "name": "stderr",
          "text": [
            "\rGenerating translations:  22%|██▏       | 346/1598 [01:40<08:42,  2.40it/s]"
          ]
        },
        {
          "output_type": "stream",
          "name": "stdout",
          "text": [
            "Warning: Empty prediction for input: Give two garlands for Saamy's film, one cubit of jasmine flower, five extra (extra) yellow rose and five red roses.\n"
          ]
        },
        {
          "output_type": "stream",
          "name": "stderr",
          "text": [
            "\rGenerating translations:  22%|██▏       | 347/1598 [01:40<08:02,  2.60it/s]"
          ]
        },
        {
          "output_type": "stream",
          "name": "stdout",
          "text": [
            "Warning: Empty prediction for input: Department of Socialism\n"
          ]
        },
        {
          "output_type": "stream",
          "name": "stderr",
          "text": [
            "\rGenerating translations:  22%|██▏       | 348/1598 [01:41<07:49,  2.66it/s]"
          ]
        },
        {
          "output_type": "stream",
          "name": "stdout",
          "text": [
            "Warning: Empty prediction for input: The two of them didn't speak after that.\n"
          ]
        },
        {
          "output_type": "stream",
          "name": "stderr",
          "text": [
            "\rGenerating translations:  22%|██▏       | 349/1598 [01:41<06:48,  3.06it/s]"
          ]
        },
        {
          "output_type": "stream",
          "name": "stdout",
          "text": [
            "Warning: Empty prediction for input: I am he.\n"
          ]
        },
        {
          "output_type": "stream",
          "name": "stderr",
          "text": [
            "\rGenerating translations:  22%|██▏       | 350/1598 [01:41<06:26,  3.22it/s]"
          ]
        },
        {
          "output_type": "stream",
          "name": "stdout",
          "text": [
            "Warning: Empty prediction for input: 17 Vellacherry: Exploiting Air Space Over MRTS Station CONCLUSION\n"
          ]
        },
        {
          "output_type": "stream",
          "name": "stderr",
          "text": [
            "\rGenerating translations:  22%|██▏       | 351/1598 [01:41<06:30,  3.19it/s]"
          ]
        },
        {
          "output_type": "stream",
          "name": "stdout",
          "text": [
            "Warning: Empty prediction for input: In some polling centres, the voting started a little late due to technical glitches in Electronic Voting Machines (EVMs).\n"
          ]
        },
        {
          "output_type": "stream",
          "name": "stderr",
          "text": [
            "\rGenerating translations:  22%|██▏       | 352/1598 [01:42<06:49,  3.04it/s]"
          ]
        },
        {
          "output_type": "stream",
          "name": "stdout",
          "text": [
            "Warning: Empty prediction for input: According to La Repubblica, 36 out of 100 students recognized Genesis as belonging to an English rock group, but not the first book in the Bible. I don't know what useless guns are.\n"
          ]
        },
        {
          "output_type": "stream",
          "name": "stderr",
          "text": [
            "\rGenerating translations:  22%|██▏       | 353/1598 [01:42<06:10,  3.36it/s]"
          ]
        },
        {
          "output_type": "stream",
          "name": "stdout",
          "text": [
            "Warning: Empty prediction for input: Is this new?\n"
          ]
        },
        {
          "output_type": "stream",
          "name": "stderr",
          "text": [
            "\rGenerating translations:  22%|██▏       | 354/1598 [01:42<06:24,  3.24it/s]"
          ]
        },
        {
          "output_type": "stream",
          "name": "stdout",
          "text": [
            "Warning: Empty prediction for input: The film has been directed by Karan Johar, Zoya Akhtar, Anurag Kashyap and Dibakar Banerjee.\n"
          ]
        },
        {
          "output_type": "stream",
          "name": "stderr",
          "text": [
            "\rGenerating translations:  22%|██▏       | 355/1598 [01:43<05:49,  3.55it/s]"
          ]
        },
        {
          "output_type": "stream",
          "name": "stdout",
          "text": [
            "Warning: Empty prediction for input: This is the way!\n"
          ]
        },
        {
          "output_type": "stream",
          "name": "stderr",
          "text": [
            "\rGenerating translations:  22%|██▏       | 356/1598 [01:43<05:42,  3.63it/s]"
          ]
        },
        {
          "output_type": "stream",
          "name": "stdout",
          "text": [
            "Warning: Empty prediction for input: If he doesn't, the Prime Minister should remove them from the ministry.\n"
          ]
        },
        {
          "output_type": "stream",
          "name": "stderr",
          "text": [
            "\rGenerating translations:  22%|██▏       | 357/1598 [01:43<05:29,  3.77it/s]"
          ]
        },
        {
          "output_type": "stream",
          "name": "stdout",
          "text": [
            "Warning: Empty prediction for input: Mr. Raut ji,\n"
          ]
        },
        {
          "output_type": "stream",
          "name": "stderr",
          "text": [
            "\rGenerating translations:  22%|██▏       | 358/1598 [01:43<05:36,  3.68it/s]"
          ]
        },
        {
          "output_type": "stream",
          "name": "stdout",
          "text": [
            "Warning: Empty prediction for input: According to The New York Times, these plans have been abandoned by time limits and financial considerations. The late Dr.\n"
          ]
        },
        {
          "output_type": "stream",
          "name": "stderr",
          "text": [
            "\rGenerating translations:  22%|██▏       | 359/1598 [01:44<05:49,  3.55it/s]"
          ]
        },
        {
          "output_type": "stream",
          "name": "stdout",
          "text": [
            "Warning: Empty prediction for input: Today evening (evening) I am going to a birthday function (event) with my friends (friends).\n"
          ]
        },
        {
          "output_type": "stream",
          "name": "stderr",
          "text": [
            "\rGenerating translations:  23%|██▎       | 360/1598 [01:44<05:31,  3.73it/s]"
          ]
        },
        {
          "output_type": "stream",
          "name": "stdout",
          "text": [
            "Warning: Empty prediction for input: That's why we went out.\n"
          ]
        },
        {
          "output_type": "stream",
          "name": "stderr",
          "text": [
            "\rGenerating translations:  23%|██▎       | 361/1598 [01:44<05:48,  3.55it/s]"
          ]
        },
        {
          "output_type": "stream",
          "name": "stdout",
          "text": [
            "Warning: Empty prediction for input: The State Evaluation Committee (SEC) has been reconstituted to reconstruct DEAR's operations and resolve the list of courses to be reviewed.\n"
          ]
        },
        {
          "output_type": "stream",
          "name": "stderr",
          "text": [
            "\rGenerating translations:  23%|██▎       | 362/1598 [01:44<05:31,  3.73it/s]"
          ]
        },
        {
          "output_type": "stream",
          "name": "stdout",
          "text": [
            "Warning: Empty prediction for input: Thank you so much to everyone involved.\n"
          ]
        },
        {
          "output_type": "stream",
          "name": "stderr",
          "text": [
            "\rGenerating translations:  23%|██▎       | 363/1598 [01:45<05:18,  3.88it/s]"
          ]
        },
        {
          "output_type": "stream",
          "name": "stdout",
          "text": [
            "Warning: Empty prediction for input: So far, 11 people have died.\n"
          ]
        },
        {
          "output_type": "stream",
          "name": "stderr",
          "text": [
            "\rGenerating translations:  23%|██▎       | 364/1598 [01:45<05:27,  3.77it/s]"
          ]
        },
        {
          "output_type": "stream",
          "name": "stdout",
          "text": [
            "Warning: Empty prediction for input: India's Mohammed Shami on the right is happy to have finished Australia's Pat Cummins.\n"
          ]
        },
        {
          "output_type": "stream",
          "name": "stderr",
          "text": [
            "\rGenerating translations:  23%|██▎       | 365/1598 [01:45<05:35,  3.68it/s]"
          ]
        },
        {
          "output_type": "stream",
          "name": "stdout",
          "text": [
            "Warning: Empty prediction for input: Warren Anderson, the former chairman of US-based Union Carbide Corporations, is yet to be brought to justice.\n"
          ]
        },
        {
          "output_type": "stream",
          "name": "stderr",
          "text": [
            "\rGenerating translations:  23%|██▎       | 366/1598 [01:45<05:27,  3.76it/s]"
          ]
        },
        {
          "output_type": "stream",
          "name": "stdout",
          "text": [
            "Warning: Empty prediction for input: Okay. I will buy everything my mother gives me.\n"
          ]
        },
        {
          "output_type": "stream",
          "name": "stderr",
          "text": [
            "\rGenerating translations:  23%|██▎       | 367/1598 [01:46<05:27,  3.76it/s]"
          ]
        },
        {
          "output_type": "stream",
          "name": "stdout",
          "text": [
            "Warning: Empty prediction for input: It is available in India, Nepal, Sri Lanka, Bhutan and Andaman Islands.\n"
          ]
        },
        {
          "output_type": "stream",
          "name": "stderr",
          "text": [
            "\rGenerating translations:  23%|██▎       | 368/1598 [01:46<05:38,  3.63it/s]"
          ]
        },
        {
          "output_type": "stream",
          "name": "stdout",
          "text": [
            "Warning: Empty prediction for input: I don't know. They've put a fence around it. We saw the lion with its cub.\n"
          ]
        },
        {
          "output_type": "stream",
          "name": "stderr",
          "text": [
            "\rGenerating translations:  23%|██▎       | 369/1598 [01:46<05:14,  3.91it/s]"
          ]
        },
        {
          "output_type": "stream",
          "name": "stdout",
          "text": [
            "Warning: Empty prediction for input: There is no explanation.\n"
          ]
        },
        {
          "output_type": "stream",
          "name": "stderr",
          "text": [
            "\rGenerating translations:  23%|██▎       | 370/1598 [01:46<05:07,  3.99it/s]"
          ]
        },
        {
          "output_type": "stream",
          "name": "stdout",
          "text": [
            "Warning: Empty prediction for input: But who am I to listen to?\n"
          ]
        },
        {
          "output_type": "stream",
          "name": "stderr",
          "text": [
            "\rGenerating translations:  23%|██▎       | 371/1598 [01:47<06:10,  3.32it/s]"
          ]
        },
        {
          "output_type": "stream",
          "name": "stdout",
          "text": [
            "Warning: Empty prediction for input: Ingredients: everything is vegetable oil, garlic, ginger, chilli, lemongrass, cumin powder, asafoetida, chopped tomatoes, tamarind, basmati rice, salt, coriander.\n"
          ]
        },
        {
          "output_type": "stream",
          "name": "stderr",
          "text": [
            "\rGenerating translations:  23%|██▎       | 372/1598 [01:47<06:00,  3.40it/s]"
          ]
        },
        {
          "output_type": "stream",
          "name": "stdout",
          "text": [
            "Warning: Empty prediction for input: For example, the owner may pledge his property to a bank or financial institution.\n"
          ]
        },
        {
          "output_type": "stream",
          "name": "stderr",
          "text": [
            "\rGenerating translations:  23%|██▎       | 373/1598 [01:47<05:27,  3.75it/s]"
          ]
        },
        {
          "output_type": "stream",
          "name": "stdout",
          "text": [
            "Warning: Empty prediction for input: These 11...\n"
          ]
        },
        {
          "output_type": "stream",
          "name": "stderr",
          "text": [
            "\rGenerating translations:  23%|██▎       | 374/1598 [01:48<05:16,  3.87it/s]"
          ]
        },
        {
          "output_type": "stream",
          "name": "stdout",
          "text": [
            "Warning: Empty prediction for input: How much water do you want?\n"
          ]
        },
        {
          "output_type": "stream",
          "name": "stderr",
          "text": [
            "\rGenerating translations:  23%|██▎       | 375/1598 [01:48<05:27,  3.73it/s]"
          ]
        },
        {
          "output_type": "stream",
          "name": "stdout",
          "text": [
            "Warning: Empty prediction for input: He can ask for training from adults and be ready to help him in any way he can if needed.\n"
          ]
        },
        {
          "output_type": "stream",
          "name": "stderr",
          "text": [
            "\rGenerating translations:  24%|██▎       | 376/1598 [01:48<05:08,  3.96it/s]"
          ]
        },
        {
          "output_type": "stream",
          "name": "stdout",
          "text": [
            "Warning: Empty prediction for input: There was doubt.\n"
          ]
        },
        {
          "output_type": "stream",
          "name": "stderr",
          "text": [
            "\rGenerating translations:  24%|██▎       | 377/1598 [01:48<05:42,  3.57it/s]"
          ]
        },
        {
          "output_type": "stream",
          "name": "stdout",
          "text": [
            "Warning: Empty prediction for input: And then Joshua bought the land, the mountains, the whole South Country, the whole Goshen land, the valley, the plain, the mountain of Israel, the valley.\n"
          ]
        },
        {
          "output_type": "stream",
          "name": "stderr",
          "text": [
            "\rGenerating translations:  24%|██▎       | 378/1598 [01:49<05:31,  3.68it/s]"
          ]
        },
        {
          "output_type": "stream",
          "name": "stdout",
          "text": [
            "Warning: Empty prediction for input: At the time, unemployment was at unprecedented levels.\n"
          ]
        },
        {
          "output_type": "stream",
          "name": "stderr",
          "text": [
            "\rGenerating translations:  24%|██▎       | 379/1598 [01:49<05:35,  3.64it/s]"
          ]
        },
        {
          "output_type": "stream",
          "name": "stdout",
          "text": [
            "Warning: Empty prediction for input: After evening (evening) school (school), we can sit down and watch maths.\n"
          ]
        },
        {
          "output_type": "stream",
          "name": "stderr",
          "text": [
            "\rGenerating translations:  24%|██▍       | 380/1598 [01:49<05:22,  3.77it/s]"
          ]
        },
        {
          "output_type": "stream",
          "name": "stdout",
          "text": [
            "Warning: Empty prediction for input: All states should implement the law to pass Parliament.\n"
          ]
        },
        {
          "output_type": "stream",
          "name": "stderr",
          "text": [
            "\rGenerating translations:  24%|██▍       | 381/1598 [01:50<05:23,  3.76it/s]"
          ]
        },
        {
          "output_type": "stream",
          "name": "stdout",
          "text": [
            "Warning: Empty prediction for input: It was a wonderful experience, ma'am. We had a lot of fun.\n"
          ]
        },
        {
          "output_type": "stream",
          "name": "stderr",
          "text": [
            "\rGenerating translations:  24%|██▍       | 382/1598 [01:50<05:13,  3.87it/s]"
          ]
        },
        {
          "output_type": "stream",
          "name": "stdout",
          "text": [
            "Warning: Empty prediction for input: Do you know what removable devices are?\n"
          ]
        },
        {
          "output_type": "stream",
          "name": "stderr",
          "text": [
            "\rGenerating translations:  24%|██▍       | 383/1598 [01:50<05:12,  3.88it/s]"
          ]
        },
        {
          "output_type": "stream",
          "name": "stdout",
          "text": [
            "Warning: Empty prediction for input: This includes time to browse the web for personal use during working hours.\n"
          ]
        },
        {
          "output_type": "stream",
          "name": "stderr",
          "text": [
            "\rGenerating translations:  24%|██▍       | 384/1598 [01:50<04:59,  4.05it/s]"
          ]
        },
        {
          "output_type": "stream",
          "name": "stdout",
          "text": [
            "Warning: Empty prediction for input: How long will you need sleep?\n"
          ]
        },
        {
          "output_type": "stream",
          "name": "stderr",
          "text": [
            "\rGenerating translations:  24%|██▍       | 385/1598 [01:50<04:52,  4.14it/s]"
          ]
        },
        {
          "output_type": "stream",
          "name": "stdout",
          "text": [
            "Warning: Empty prediction for input: He didn't come back to work.\n"
          ]
        },
        {
          "output_type": "stream",
          "name": "stderr",
          "text": [
            "\rGenerating translations:  24%|██▍       | 386/1598 [01:51<05:18,  3.80it/s]"
          ]
        },
        {
          "output_type": "stream",
          "name": "stdout",
          "text": [
            "Warning: Empty prediction for input: His character is very important.\n"
          ]
        },
        {
          "output_type": "stream",
          "name": "stderr",
          "text": [
            "\rGenerating translations:  24%|██▍       | 387/1598 [01:51<05:51,  3.44it/s]"
          ]
        },
        {
          "output_type": "stream",
          "name": "stdout",
          "text": [
            "Warning: Empty prediction for input: When I was talking to reporters, he said:\n"
          ]
        },
        {
          "output_type": "stream",
          "name": "stderr",
          "text": [
            "\rGenerating translations:  24%|██▍       | 388/1598 [01:52<06:53,  2.93it/s]"
          ]
        },
        {
          "output_type": "stream",
          "name": "stdout",
          "text": [
            "Warning: Empty prediction for input: Prime Minister Narendra Modi congratulated Indian tennis player Leander Paes for winning the Mixed Doubles at the Australian Open.\n"
          ]
        },
        {
          "output_type": "stream",
          "name": "stderr",
          "text": [
            "\rGenerating translations:  24%|██▍       | 389/1598 [01:52<06:38,  3.03it/s]"
          ]
        },
        {
          "output_type": "stream",
          "name": "stdout",
          "text": [
            "Warning: Empty prediction for input: They asked.\n"
          ]
        },
        {
          "output_type": "stream",
          "name": "stderr",
          "text": [
            "\rGenerating translations:  24%|██▍       | 390/1598 [01:52<06:50,  2.94it/s]"
          ]
        },
        {
          "output_type": "stream",
          "name": "stdout",
          "text": [
            "Warning: Empty prediction for input: The party's MPs and many party workers participated in the ceremony.\n"
          ]
        },
        {
          "output_type": "stream",
          "name": "stderr",
          "text": [
            "\rGenerating translations:  24%|██▍       | 391/1598 [01:53<06:40,  3.01it/s]"
          ]
        },
        {
          "output_type": "stream",
          "name": "stdout",
          "text": [
            "Warning: Empty prediction for input: Can I pay through Paytm?\n"
          ]
        },
        {
          "output_type": "stream",
          "name": "stderr",
          "text": [
            "\rGenerating translations:  25%|██▍       | 392/1598 [01:53<07:49,  2.57it/s]"
          ]
        },
        {
          "output_type": "stream",
          "name": "stdout",
          "text": [
            "Warning: Empty prediction for input: UGC has declared 24 self-styled, unrecognized institutions fake, which are working against the UGC Act, and they cannot give any degrees.\n"
          ]
        },
        {
          "output_type": "stream",
          "name": "stderr",
          "text": [
            "\rGenerating translations:  25%|██▍       | 393/1598 [01:54<08:16,  2.43it/s]"
          ]
        },
        {
          "output_type": "stream",
          "name": "stdout",
          "text": [
            "Warning: Empty prediction for input: The spread of apostate teachings in Timothy's day explains why Paul emphasized the importance of teaching healthful words.\n"
          ]
        },
        {
          "output_type": "stream",
          "name": "stderr",
          "text": [
            "\rGenerating translations:  25%|██▍       | 394/1598 [01:54<08:00,  2.51it/s]"
          ]
        },
        {
          "output_type": "stream",
          "name": "stdout",
          "text": [
            "Warning: Empty prediction for input: Out of the total population, 1184 were literate.\n"
          ]
        },
        {
          "output_type": "stream",
          "name": "stderr",
          "text": [
            "\rGenerating translations:  25%|██▍       | 395/1598 [01:54<07:09,  2.80it/s]"
          ]
        },
        {
          "output_type": "stream",
          "name": "stdout",
          "text": [
            "Warning: Empty prediction for input: Can you tell me who's back-up and what their reputation is?\n"
          ]
        },
        {
          "output_type": "stream",
          "name": "stderr",
          "text": [
            "\rGenerating translations:  25%|██▍       | 396/1598 [01:54<06:22,  3.14it/s]"
          ]
        },
        {
          "output_type": "stream",
          "name": "stdout",
          "text": [
            "Warning: Empty prediction for input: I don't have any such desire.\n"
          ]
        },
        {
          "output_type": "stream",
          "name": "stderr",
          "text": [
            "\rGenerating translations:  25%|██▍       | 397/1598 [01:55<05:56,  3.37it/s]"
          ]
        },
        {
          "output_type": "stream",
          "name": "stdout",
          "text": [
            "Warning: Empty prediction for input: Rs. 100 The loss is estimated at Rs 2 lakh.\n"
          ]
        },
        {
          "output_type": "stream",
          "name": "stderr",
          "text": [
            "\rGenerating translations:  25%|██▍       | 398/1598 [01:55<05:56,  3.37it/s]"
          ]
        },
        {
          "output_type": "stream",
          "name": "stdout",
          "text": [
            "Warning: Empty prediction for input: Produced by Sathya Jyothi Films and composed by D. Imman Music.\n"
          ]
        },
        {
          "output_type": "stream",
          "name": "stderr",
          "text": [
            "\rGenerating translations:  25%|██▍       | 399/1598 [01:55<05:40,  3.53it/s]"
          ]
        },
        {
          "output_type": "stream",
          "name": "stdout",
          "text": [
            "Warning: Empty prediction for input: Hero Xtreme 200R deliveries have been launched in North East India.\n"
          ]
        },
        {
          "output_type": "stream",
          "name": "stderr",
          "text": [
            "\rGenerating translations:  25%|██▌       | 400/1598 [01:56<06:07,  3.26it/s]"
          ]
        },
        {
          "output_type": "stream",
          "name": "stdout",
          "text": [
            "Warning: Empty prediction for input: When we go on tours in Sharjah, we are in the same hotel, and often I watch the players in the teams sit in each other's room, talk, joke and eat.\n"
          ]
        },
        {
          "output_type": "stream",
          "name": "stderr",
          "text": [
            "\rGenerating translations:  25%|██▌       | 401/1598 [01:56<05:35,  3.57it/s]"
          ]
        },
        {
          "output_type": "stream",
          "name": "stdout",
          "text": [
            "Warning: Empty prediction for input: There's democracy there.\n"
          ]
        },
        {
          "output_type": "stream",
          "name": "stderr",
          "text": [
            "\rGenerating translations:  25%|██▌       | 402/1598 [01:56<05:18,  3.76it/s]"
          ]
        },
        {
          "output_type": "stream",
          "name": "stdout",
          "text": [
            "Warning: Empty prediction for input: (3) Use your illustrations well.\n"
          ]
        },
        {
          "output_type": "stream",
          "name": "stderr",
          "text": [
            "\rGenerating translations:  25%|██▌       | 403/1598 [01:56<05:03,  3.94it/s]"
          ]
        },
        {
          "output_type": "stream",
          "name": "stdout",
          "text": [
            "Warning: Empty prediction for input: Your opinion is very important to us.\n"
          ]
        },
        {
          "output_type": "stream",
          "name": "stderr",
          "text": [
            "\rGenerating translations:  25%|██▌       | 404/1598 [01:56<04:54,  4.06it/s]"
          ]
        },
        {
          "output_type": "stream",
          "name": "stdout",
          "text": [
            "Warning: Empty prediction for input: Seek and Follow God's Direction\n"
          ]
        },
        {
          "output_type": "stream",
          "name": "stderr",
          "text": [
            "\rGenerating translations:  25%|██▌       | 405/1598 [01:57<04:44,  4.20it/s]"
          ]
        },
        {
          "output_type": "stream",
          "name": "stdout",
          "text": [
            "Warning: Empty prediction for input: Nineteen people have died.\n"
          ]
        },
        {
          "output_type": "stream",
          "name": "stderr",
          "text": [
            "\rGenerating translations:  25%|██▌       | 406/1598 [01:57<04:42,  4.22it/s]"
          ]
        },
        {
          "output_type": "stream",
          "name": "stdout",
          "text": [
            "Warning: Empty prediction for input: You have no place here.\n"
          ]
        },
        {
          "output_type": "stream",
          "name": "stderr",
          "text": [
            "\rGenerating translations:  25%|██▌       | 407/1598 [01:57<06:03,  3.28it/s]"
          ]
        },
        {
          "output_type": "stream",
          "name": "stdout",
          "text": [
            "Warning: Empty prediction for input: While welcoming the establishment of a new National Investigation Agency in the Union Government to ensure speedy investigation and appropriate punishment for those involved in terrorist activity, this Government stresses that it is very important that the State Government does not interfere with its powers and do not affect individual liberty.\n"
          ]
        },
        {
          "output_type": "stream",
          "name": "stderr",
          "text": [
            "\rGenerating translations:  26%|██▌       | 408/1598 [01:58<05:58,  3.32it/s]"
          ]
        },
        {
          "output_type": "stream",
          "name": "stdout",
          "text": [
            "Warning: Empty prediction for input: It takes 7 nights to see the entire country performed in the courts of South Kadajatsa in Odisha.\n"
          ]
        },
        {
          "output_type": "stream",
          "name": "stderr",
          "text": [
            "\rGenerating translations:  26%|██▌       | 409/1598 [01:58<06:00,  3.30it/s]"
          ]
        },
        {
          "output_type": "stream",
          "name": "stdout",
          "text": [
            "Warning: Empty prediction for input: See the explanation of error codes in See'man pppd, or also the kppp FAQ in %1.\n"
          ]
        },
        {
          "output_type": "stream",
          "name": "stderr",
          "text": [
            "\rGenerating translations:  26%|██▌       | 410/1598 [01:58<05:31,  3.58it/s]"
          ]
        },
        {
          "output_type": "stream",
          "name": "stdout",
          "text": [
            "Warning: Empty prediction for input: We need a solution for this.\n"
          ]
        },
        {
          "output_type": "stream",
          "name": "stderr",
          "text": [
            "\rGenerating translations:  26%|██▌       | 411/1598 [01:58<05:23,  3.67it/s]"
          ]
        },
        {
          "output_type": "stream",
          "name": "stdout",
          "text": [
            "Warning: Empty prediction for input: So, how could he know what's going on?\n"
          ]
        },
        {
          "output_type": "stream",
          "name": "stderr",
          "text": [
            "\rGenerating translations:  26%|██▌       | 412/1598 [01:59<05:12,  3.79it/s]"
          ]
        },
        {
          "output_type": "stream",
          "name": "stdout",
          "text": [
            "Warning: Empty prediction for input: Commitment is very important to me.\n"
          ]
        },
        {
          "output_type": "stream",
          "name": "stderr",
          "text": [
            "\rGenerating translations:  26%|██▌       | 413/1598 [01:59<05:35,  3.53it/s]"
          ]
        },
        {
          "output_type": "stream",
          "name": "stdout",
          "text": [
            "Warning: Empty prediction for input: Actresses Samuthirakanna, Aishwarya Rajesh and Andrea Jeremiah play female leads.\n"
          ]
        },
        {
          "output_type": "stream",
          "name": "stderr",
          "text": [
            "\rGenerating translations:  26%|██▌       | 414/1598 [01:59<05:16,  3.74it/s]"
          ]
        },
        {
          "output_type": "stream",
          "name": "stdout",
          "text": [
            "Warning: Empty prediction for input: They have also increased the price of materials.\n"
          ]
        },
        {
          "output_type": "stream",
          "name": "stderr",
          "text": [
            "\rGenerating translations:  26%|██▌       | 415/1598 [02:00<05:27,  3.61it/s]"
          ]
        },
        {
          "output_type": "stream",
          "name": "stdout",
          "text": [
            "Warning: Empty prediction for input: Then I realized that if I want to have true faith in the Bible, I need to do more.\n"
          ]
        },
        {
          "output_type": "stream",
          "name": "stderr",
          "text": [
            "\rGenerating translations:  26%|██▌       | 416/1598 [02:00<05:10,  3.81it/s]"
          ]
        },
        {
          "output_type": "stream",
          "name": "stdout",
          "text": [
            "Warning: Empty prediction for input: I strongly condemn this.\n"
          ]
        },
        {
          "output_type": "stream",
          "name": "stderr",
          "text": [
            "\rGenerating translations:  26%|██▌       | 417/1598 [02:00<06:22,  3.09it/s]"
          ]
        },
        {
          "output_type": "stream",
          "name": "stdout",
          "text": [
            "Warning: Empty prediction for input: Dr. Harsh Vardhan from the Ministry of Science Technology has told our scientists to get up from the slumber. Science Technology Minister Dr Harsh Vardhan has told our scientists to come out of routine work culture and think out of the box.\n"
          ]
        },
        {
          "output_type": "stream",
          "name": "stderr",
          "text": [
            "\rGenerating translations:  26%|██▌       | 418/1598 [02:01<05:46,  3.40it/s]"
          ]
        },
        {
          "output_type": "stream",
          "name": "stdout",
          "text": [
            "Warning: Empty prediction for input: Reply to the answer answer.\n"
          ]
        },
        {
          "output_type": "stream",
          "name": "stderr",
          "text": [
            "\rGenerating translations:  26%|██▌       | 419/1598 [02:01<05:16,  3.72it/s]"
          ]
        },
        {
          "output_type": "stream",
          "name": "stdout",
          "text": [
            "Warning: Empty prediction for input: Super discount.\n"
          ]
        },
        {
          "output_type": "stream",
          "name": "stderr",
          "text": [
            "\rGenerating translations:  26%|██▋       | 420/1598 [02:01<05:25,  3.62it/s]"
          ]
        },
        {
          "output_type": "stream",
          "name": "stdout",
          "text": [
            "Warning: Empty prediction for input: Produced by Michael Rayappan, the film has music by Yuvan Shankar Raja.\n"
          ]
        },
        {
          "output_type": "stream",
          "name": "stderr",
          "text": [
            "\rGenerating translations:  26%|██▋       | 421/1598 [02:01<05:02,  3.89it/s]"
          ]
        },
        {
          "output_type": "stream",
          "name": "stdout",
          "text": [
            "Warning: Empty prediction for input: What nonsense.\n"
          ]
        },
        {
          "output_type": "stream",
          "name": "stderr",
          "text": [
            "\rGenerating translations:  26%|██▋       | 422/1598 [02:01<04:57,  3.96it/s]"
          ]
        },
        {
          "output_type": "stream",
          "name": "stdout",
          "text": [
            "Warning: Empty prediction for input: Farmers are suffering a lot because of this.\n"
          ]
        },
        {
          "output_type": "stream",
          "name": "stderr",
          "text": [
            "\rGenerating translations:  26%|██▋       | 423/1598 [02:02<05:14,  3.73it/s]"
          ]
        },
        {
          "output_type": "stream",
          "name": "stdout",
          "text": [
            "Warning: Empty prediction for input: Vidyullekha Raman is the daughter of actor Mohan Raman.\n"
          ]
        },
        {
          "output_type": "stream",
          "name": "stderr",
          "text": [
            "\rGenerating translations:  27%|██▋       | 424/1598 [02:02<05:06,  3.83it/s]"
          ]
        },
        {
          "output_type": "stream",
          "name": "stdout",
          "text": [
            "Warning: Empty prediction for input: My son is also in college.\n"
          ]
        },
        {
          "output_type": "stream",
          "name": "stderr",
          "text": [
            "\rGenerating translations:  27%|██▋       | 425/1598 [02:02<05:08,  3.80it/s]"
          ]
        },
        {
          "output_type": "stream",
          "name": "stdout",
          "text": [
            "Warning: Empty prediction for input: Malayalam superstar Mohanlal is also donning important roles in the film.\n"
          ]
        },
        {
          "output_type": "stream",
          "name": "stderr",
          "text": [
            "\rGenerating translations:  27%|██▋       | 426/1598 [02:03<04:55,  3.97it/s]"
          ]
        },
        {
          "output_type": "stream",
          "name": "stdout",
          "text": [
            "Warning: Empty prediction for input: Court of the District concerned\n"
          ]
        },
        {
          "output_type": "stream",
          "name": "stderr",
          "text": [
            "\rGenerating translations:  27%|██▋       | 427/1598 [02:03<04:44,  4.11it/s]"
          ]
        },
        {
          "output_type": "stream",
          "name": "stdout",
          "text": [
            "Warning: Empty prediction for input: The string is terminated.\n"
          ]
        },
        {
          "output_type": "stream",
          "name": "stderr",
          "text": [
            "\rGenerating translations:  27%|██▋       | 428/1598 [02:03<04:54,  3.98it/s]"
          ]
        },
        {
          "output_type": "stream",
          "name": "stdout",
          "text": [
            "Warning: Empty prediction for input: All of this adds up to one of the biggest building projects ever made.\n"
          ]
        },
        {
          "output_type": "stream",
          "name": "stderr",
          "text": [
            "\rGenerating translations:  27%|██▋       | 429/1598 [02:03<05:28,  3.56it/s]"
          ]
        },
        {
          "output_type": "stream",
          "name": "stdout",
          "text": [
            "Warning: Empty prediction for input: Wicked parents work very hard to provide for their children. They've set aside regular money or material goods so they can help their kids start their families in time.\n"
          ]
        },
        {
          "output_type": "stream",
          "name": "stderr",
          "text": [
            "\rGenerating translations:  27%|██▋       | 430/1598 [02:04<07:15,  2.68it/s]"
          ]
        },
        {
          "output_type": "stream",
          "name": "stdout",
          "text": [
            "Warning: Empty prediction for input: For example, MSNBC says the US flu vaccine manufacturing system is a partnership between the federal government and drug-makers such as GlaxoSmithKline, Novartis, Sanofi Pasteur and MedImmune. If you look at the flu vaccine shortage in 2004-05, you can tell that vaccine supply is good only if you look at the profitability of vaccine production.\n"
          ]
        },
        {
          "output_type": "stream",
          "name": "stderr",
          "text": [
            "\rGenerating translations:  27%|██▋       | 431/1598 [02:04<07:41,  2.53it/s]"
          ]
        },
        {
          "output_type": "stream",
          "name": "stdout",
          "text": [
            "Warning: Empty prediction for input: This is the first election in Tamil Nadu without J Jayalalithaa and Karunanidhi.\n"
          ]
        },
        {
          "output_type": "stream",
          "name": "stderr",
          "text": [
            "\rGenerating translations:  27%|██▋       | 432/1598 [02:05<07:25,  2.62it/s]"
          ]
        },
        {
          "output_type": "stream",
          "name": "stdout",
          "text": [
            "Warning: Empty prediction for input: The court has upheld the high court decision.\n"
          ]
        },
        {
          "output_type": "stream",
          "name": "stderr",
          "text": [
            "\rGenerating translations:  27%|██▋       | 433/1598 [02:05<07:03,  2.75it/s]"
          ]
        },
        {
          "output_type": "stream",
          "name": "stdout",
          "text": [
            "Warning: Empty prediction for input:  - I am asking.\n"
          ]
        },
        {
          "output_type": "stream",
          "name": "stderr",
          "text": [
            "\rGenerating translations:  27%|██▋       | 434/1598 [02:05<06:51,  2.83it/s]"
          ]
        },
        {
          "output_type": "stream",
          "name": "stdout",
          "text": [
            "Warning: Empty prediction for input: Special prayers in the temple.\n"
          ]
        },
        {
          "output_type": "stream",
          "name": "stderr",
          "text": [
            "\rGenerating translations:  27%|██▋       | 435/1598 [02:06<07:31,  2.57it/s]"
          ]
        },
        {
          "output_type": "stream",
          "name": "stdout",
          "text": [
            "Warning: Empty prediction for input: In addition, 240 farmers have been trained in silkworm rearing for three days under the ATMA (Agricultural Technological Management Agency) scheme.\n"
          ]
        },
        {
          "output_type": "stream",
          "name": "stderr",
          "text": [
            "\rGenerating translations:  27%|██▋       | 436/1598 [02:06<07:25,  2.61it/s]"
          ]
        },
        {
          "output_type": "stream",
          "name": "stdout",
          "text": [
            "Warning: Empty prediction for input: There have been a lot of incidents like this before.\n"
          ]
        },
        {
          "output_type": "stream",
          "name": "stderr",
          "text": [
            "\rGenerating translations:  27%|██▋       | 437/1598 [02:07<07:01,  2.75it/s]"
          ]
        },
        {
          "output_type": "stream",
          "name": "stdout",
          "text": [
            "Warning: Empty prediction for input: Let's see who wins.\n"
          ]
        },
        {
          "output_type": "stream",
          "name": "stderr",
          "text": [
            "\rGenerating translations:  27%|██▋       | 438/1598 [02:07<07:23,  2.62it/s]"
          ]
        },
        {
          "output_type": "stream",
          "name": "stdout",
          "text": [
            "Warning: Empty prediction for input: The power and torque are sent to the rear wheel via a 5-speed manual gearbox.\n"
          ]
        },
        {
          "output_type": "stream",
          "name": "stderr",
          "text": [
            "\rGenerating translations:  27%|██▋       | 439/1598 [02:07<06:47,  2.84it/s]"
          ]
        },
        {
          "output_type": "stream",
          "name": "stdout",
          "text": [
            "Warning: Empty prediction for input: Good morning Grandma.\n"
          ]
        },
        {
          "output_type": "stream",
          "name": "stderr",
          "text": [
            "\rGenerating translations:  28%|██▊       | 440/1598 [02:07<06:06,  3.16it/s]"
          ]
        },
        {
          "output_type": "stream",
          "name": "stdout",
          "text": [
            "Warning: Empty prediction for input: In this case, he said,\n"
          ]
        },
        {
          "output_type": "stream",
          "name": "stderr",
          "text": [
            "\rGenerating translations:  28%|██▊       | 441/1598 [02:08<05:39,  3.40it/s]"
          ]
        },
        {
          "output_type": "stream",
          "name": "stdout",
          "text": [
            "Warning: Empty prediction for input: He's framed in this case.\n"
          ]
        },
        {
          "output_type": "stream",
          "name": "stderr",
          "text": [
            "\rGenerating translations:  28%|██▊       | 442/1598 [02:08<06:16,  3.07it/s]"
          ]
        },
        {
          "output_type": "stream",
          "name": "stdout",
          "text": [
            "Warning: Empty prediction for input: He expressed confidence that NDA Government's flagship welfare schemes like Pradhan Mantri Fasal Bima Yojana and Mudra Yojana can do a lot of good for the Muslim community in India.\n"
          ]
        },
        {
          "output_type": "stream",
          "name": "stderr",
          "text": [
            "\rGenerating translations:  28%|██▊       | 443/1598 [02:08<05:57,  3.23it/s]"
          ]
        },
        {
          "output_type": "stream",
          "name": "stdout",
          "text": [
            "Warning: Empty prediction for input: Another person who was injured in the accident has also been admitted to the hospital.\n"
          ]
        },
        {
          "output_type": "stream",
          "name": "stderr",
          "text": [
            "\rGenerating translations:  28%|██▊       | 444/1598 [02:09<05:52,  3.27it/s]"
          ]
        },
        {
          "output_type": "stream",
          "name": "stdout",
          "text": [
            "Warning: Empty prediction for input: Some are looking for a way to reach out to the foreign-speaking people in their congregation's area.\n"
          ]
        },
        {
          "output_type": "stream",
          "name": "stderr",
          "text": [
            "\rGenerating translations:  28%|██▊       | 445/1598 [02:09<05:18,  3.62it/s]"
          ]
        },
        {
          "output_type": "stream",
          "name": "stdout",
          "text": [
            "Warning: Empty prediction for input: Press Conference\n"
          ]
        },
        {
          "output_type": "stream",
          "name": "stderr",
          "text": [
            "\rGenerating translations:  28%|██▊       | 446/1598 [02:09<05:00,  3.83it/s]"
          ]
        },
        {
          "output_type": "stream",
          "name": "stdout",
          "text": [
            "Warning: Empty prediction for input: What was it needed for?\n"
          ]
        },
        {
          "output_type": "stream",
          "name": "stderr",
          "text": [
            "\rGenerating translations:  28%|██▊       | 447/1598 [02:09<05:04,  3.78it/s]"
          ]
        },
        {
          "output_type": "stream",
          "name": "stdout",
          "text": [
            "Warning: Empty prediction for input: It's the first time they've come to the pole.\n"
          ]
        },
        {
          "output_type": "stream",
          "name": "stderr",
          "text": [
            "\rGenerating translations:  28%|██▊       | 448/1598 [02:10<05:44,  3.33it/s]"
          ]
        },
        {
          "output_type": "stream",
          "name": "stdout",
          "text": [
            "Warning: Empty prediction for input: If you read in all three Gospels, Jesus says that just as one nation rises against another, one kingdom will rise against another, food shortages, earthquakes, terrible visions, signs from heaven.\n"
          ]
        },
        {
          "output_type": "stream",
          "name": "stderr",
          "text": [
            "\rGenerating translations:  28%|██▊       | 449/1598 [02:10<05:51,  3.27it/s]"
          ]
        },
        {
          "output_type": "stream",
          "name": "stdout",
          "text": [
            "Warning: Empty prediction for input: Indian Prime Minister Narendra Modi asked me to help him on the Kashmir issue. \"I want to be a mediator,\" Trump said.\n"
          ]
        },
        {
          "output_type": "stream",
          "name": "stderr",
          "text": [
            "\rGenerating translations:  28%|██▊       | 450/1598 [02:11<06:58,  2.74it/s]"
          ]
        },
        {
          "output_type": "stream",
          "name": "stdout",
          "text": [
            "Warning: Empty prediction for input: Then David looked at the angel who struck the people, and the Lord said, \"I have sinned, and I have sinned, but what have these sheep done? I beg you, to sing your hand so that it is opposite me and my father's house.\n"
          ]
        },
        {
          "output_type": "stream",
          "name": "stderr",
          "text": [
            "\rGenerating translations:  28%|██▊       | 451/1598 [02:11<06:11,  3.09it/s]"
          ]
        },
        {
          "output_type": "stream",
          "name": "stdout",
          "text": [
            "Warning: Empty prediction for input: Yes, money is important.\n"
          ]
        },
        {
          "output_type": "stream",
          "name": "stderr",
          "text": [
            "\rGenerating translations:  28%|██▊       | 452/1598 [02:11<05:39,  3.38it/s]"
          ]
        },
        {
          "output_type": "stream",
          "name": "stdout",
          "text": [
            "Warning: Empty prediction for input: There are no other financial implications.\n"
          ]
        },
        {
          "output_type": "stream",
          "name": "stderr",
          "text": [
            "\rGenerating translations:  28%|██▊       | 453/1598 [02:11<05:21,  3.56it/s]"
          ]
        },
        {
          "output_type": "stream",
          "name": "stdout",
          "text": [
            "Warning: Empty prediction for input: He never had any jealousy or jealousy.\n"
          ]
        },
        {
          "output_type": "stream",
          "name": "stderr",
          "text": [
            "\rGenerating translations:  28%|██▊       | 454/1598 [02:12<05:02,  3.78it/s]"
          ]
        },
        {
          "output_type": "stream",
          "name": "stdout",
          "text": [
            "Warning: Empty prediction for input: It's all right.\n"
          ]
        },
        {
          "output_type": "stream",
          "name": "stderr",
          "text": [
            "\rGenerating translations:  28%|██▊       | 455/1598 [02:12<04:50,  3.93it/s]"
          ]
        },
        {
          "output_type": "stream",
          "name": "stdout",
          "text": [
            "Warning: Empty prediction for input: The CBI is also investigating the matter.\n"
          ]
        },
        {
          "output_type": "stream",
          "name": "stderr",
          "text": [
            "\rGenerating translations:  29%|██▊       | 456/1598 [02:12<04:59,  3.81it/s]"
          ]
        },
        {
          "output_type": "stream",
          "name": "stdout",
          "text": [
            "Warning: Empty prediction for input: So far, all the producers who have worked with Simbu have said that there is a problem.\n"
          ]
        },
        {
          "output_type": "stream",
          "name": "stderr",
          "text": [
            "\rGenerating translations:  29%|██▊       | 457/1598 [02:12<05:20,  3.56it/s]"
          ]
        },
        {
          "output_type": "stream",
          "name": "stdout",
          "text": [
            "Warning: Empty prediction for input: I don't know how many organizers outside the Paris area wanted to participate, so they immediately arranged rallies in main towns across the country.\n"
          ]
        },
        {
          "output_type": "stream",
          "name": "stderr",
          "text": [
            "\rGenerating translations:  29%|██▊       | 458/1598 [02:13<05:06,  3.71it/s]"
          ]
        },
        {
          "output_type": "stream",
          "name": "stdout",
          "text": [
            "Warning: Empty prediction for input: He is said to have died of a heart attack.\n"
          ]
        },
        {
          "output_type": "stream",
          "name": "stderr",
          "text": [
            "\rGenerating translations:  29%|██▊       | 459/1598 [02:13<04:51,  3.91it/s]"
          ]
        },
        {
          "output_type": "stream",
          "name": "stdout",
          "text": [
            "Warning: Empty prediction for input: All the shops are empty.\n"
          ]
        },
        {
          "output_type": "stream",
          "name": "stderr",
          "text": [
            "\rGenerating translations:  29%|██▉       | 460/1598 [02:13<04:42,  4.03it/s]"
          ]
        },
        {
          "output_type": "stream",
          "name": "stdout",
          "text": [
            "Warning: Empty prediction for input: Is that what you mean?\n"
          ]
        },
        {
          "output_type": "stream",
          "name": "stderr",
          "text": [
            "\rGenerating translations:  29%|██▉       | 461/1598 [02:13<04:40,  4.06it/s]"
          ]
        },
        {
          "output_type": "stream",
          "name": "stdout",
          "text": [
            "Warning: Empty prediction for input: I won with the votes of the people.\n"
          ]
        },
        {
          "output_type": "stream",
          "name": "stderr",
          "text": [
            "\rGenerating translations:  29%|██▉       | 462/1598 [02:14<04:34,  4.14it/s]"
          ]
        },
        {
          "output_type": "stream",
          "name": "stdout",
          "text": [
            "Warning: Empty prediction for input: Phone: When Dawn hits...\n"
          ]
        },
        {
          "output_type": "stream",
          "name": "stderr",
          "text": [
            "\rGenerating translations:  29%|██▉       | 463/1598 [02:14<04:27,  4.24it/s]"
          ]
        },
        {
          "output_type": "stream",
          "name": "stdout",
          "text": [
            "Warning: Empty prediction for input: This is for them.\n"
          ]
        },
        {
          "output_type": "stream",
          "name": "stderr",
          "text": [
            "\rGenerating translations:  29%|██▉       | 464/1598 [02:14<04:40,  4.04it/s]"
          ]
        },
        {
          "output_type": "stream",
          "name": "stdout",
          "text": [
            "Warning: Empty prediction for input: The Honda Activa scooter is the second best-selling scooter in India in November 2020.\n"
          ]
        },
        {
          "output_type": "stream",
          "name": "stderr",
          "text": [
            "\rGenerating translations:  29%|██▉       | 465/1598 [02:14<04:33,  4.15it/s]"
          ]
        },
        {
          "output_type": "stream",
          "name": "stdout",
          "text": [
            "Warning: Empty prediction for input: It costs 50 lakhs.\n"
          ]
        },
        {
          "output_type": "stream",
          "name": "stderr",
          "text": [
            "\rGenerating translations:  29%|██▉       | 466/1598 [02:15<04:50,  3.90it/s]"
          ]
        },
        {
          "output_type": "stream",
          "name": "stdout",
          "text": [
            "Warning: Empty prediction for input: If you don't think about it, it's called an error of judgment.\n"
          ]
        },
        {
          "output_type": "stream",
          "name": "stderr",
          "text": [
            "\rGenerating translations:  29%|██▉       | 467/1598 [02:15<05:33,  3.40it/s]"
          ]
        },
        {
          "output_type": "stream",
          "name": "stdout",
          "text": [
            "Warning: Empty prediction for input: And We made Mariam's son and her mother a sign, and We gave them a place of security in a high land, and a place of rest and a security and flowing streams.\n"
          ]
        },
        {
          "output_type": "stream",
          "name": "stderr",
          "text": [
            "\rGenerating translations:  29%|██▉       | 468/1598 [02:15<05:23,  3.50it/s]"
          ]
        },
        {
          "output_type": "stream",
          "name": "stdout",
          "text": [
            "Warning: Empty prediction for input: The main al-Qaeda leader was killed in the US drone strike.\n"
          ]
        },
        {
          "output_type": "stream",
          "name": "stderr",
          "text": [
            "\rGenerating translations:  29%|██▉       | 469/1598 [02:15<05:10,  3.64it/s]"
          ]
        },
        {
          "output_type": "stream",
          "name": "stdout",
          "text": [
            "Warning: Empty prediction for input: Conflict is very common in society today.\n"
          ]
        },
        {
          "output_type": "stream",
          "name": "stderr",
          "text": [
            "\rGenerating translations:  29%|██▉       | 470/1598 [02:16<04:54,  3.83it/s]"
          ]
        },
        {
          "output_type": "stream",
          "name": "stdout",
          "text": [
            "Warning: Empty prediction for input: I know what to do.\n"
          ]
        },
        {
          "output_type": "stream",
          "name": "stderr",
          "text": [
            "\rGenerating translations:  29%|██▉       | 471/1598 [02:16<05:15,  3.57it/s]"
          ]
        },
        {
          "output_type": "stream",
          "name": "stdout",
          "text": [
            "Warning: Empty prediction for input: So, what do you think can be done to overcome malnutrition, poor health, and difficulties in taking away the joy and outlook of life?\n"
          ]
        },
        {
          "output_type": "stream",
          "name": "stderr",
          "text": [
            "\rGenerating translations:  30%|██▉       | 472/1598 [02:16<06:18,  2.98it/s]"
          ]
        },
        {
          "output_type": "stream",
          "name": "stdout",
          "text": [
            "Warning: Empty prediction for input: The paints, colours and dyes used to make the seeds contain hazardous chemicals such as mercury, zinc oxide, chromium, lead, cadmium that are very harmful to aquatic life, from which humans can get cancer, respiratory ailments, skin infections.\n"
          ]
        },
        {
          "output_type": "stream",
          "name": "stderr",
          "text": [
            "\rGenerating translations:  30%|██▉       | 473/1598 [02:17<06:15,  3.00it/s]"
          ]
        },
        {
          "output_type": "stream",
          "name": "stdout",
          "text": [
            "Warning: Empty prediction for input: Sharing tragedies such as earthquakes, hurricanes, floods, famines, war and destruction does not destroy our faith or our spiritual security.\n"
          ]
        },
        {
          "output_type": "stream",
          "name": "stderr",
          "text": [
            "\rGenerating translations:  30%|██▉       | 474/1598 [02:17<05:50,  3.21it/s]"
          ]
        },
        {
          "output_type": "stream",
          "name": "stdout",
          "text": [
            "Warning: Empty prediction for input: The immortal soul in the Bible is not available in any text.\n"
          ]
        },
        {
          "output_type": "stream",
          "name": "stderr",
          "text": [
            "\rGenerating translations:  30%|██▉       | 475/1598 [02:17<05:51,  3.20it/s]"
          ]
        },
        {
          "output_type": "stream",
          "name": "stdout",
          "text": [
            "Warning: Empty prediction for input: India won the match by 76 runs.\n"
          ]
        },
        {
          "output_type": "stream",
          "name": "stderr",
          "text": [
            "\rGenerating translations:  30%|██▉       | 476/1598 [02:18<06:01,  3.10it/s]"
          ]
        },
        {
          "output_type": "stream",
          "name": "stdout",
          "text": [
            "Warning: Empty prediction for input: I forgot to tell you I was gone.\n"
          ]
        },
        {
          "output_type": "stream",
          "name": "stderr",
          "text": [
            "\rGenerating translations:  30%|██▉       | 477/1598 [02:18<06:09,  3.03it/s]"
          ]
        },
        {
          "output_type": "stream",
          "name": "stdout",
          "text": [
            "Warning: Empty prediction for input: But I'm not a stalker.\n"
          ]
        },
        {
          "output_type": "stream",
          "name": "stderr",
          "text": [
            "\rGenerating translations:  30%|██▉       | 478/1598 [02:18<06:16,  2.98it/s]"
          ]
        },
        {
          "output_type": "stream",
          "name": "stdout",
          "text": [
            "Warning: Empty prediction for input: At least 30 people died in a bridge collapse.\n"
          ]
        },
        {
          "output_type": "stream",
          "name": "stderr",
          "text": [
            "\rGenerating translations:  30%|██▉       | 479/1598 [02:19<06:25,  2.90it/s]"
          ]
        },
        {
          "output_type": "stream",
          "name": "stdout",
          "text": [
            "Warning: Empty prediction for input: Solving problems through arbitration is not new to us.\n"
          ]
        },
        {
          "output_type": "stream",
          "name": "stderr",
          "text": [
            "\rGenerating translations:  30%|███       | 480/1598 [02:19<08:06,  2.30it/s]"
          ]
        },
        {
          "output_type": "stream",
          "name": "stdout",
          "text": [
            "Warning: Empty prediction for input: The Union Cabinet chaired by the Prime Minister Shri Narendra Modi has given ex-post facto approval to the Memorandum of Understanding (MoU) signed between India and South Africa on Cooperation in the Tourism Sector.\n"
          ]
        },
        {
          "output_type": "stream",
          "name": "stderr",
          "text": [
            "\rGenerating translations:  30%|███       | 481/1598 [02:20<08:07,  2.29it/s]"
          ]
        },
        {
          "output_type": "stream",
          "name": "stdout",
          "text": [
            "Warning: Empty prediction for input: It is the Gateway to Yamunotri and Gangotri shrines of Northern India.\n"
          ]
        },
        {
          "output_type": "stream",
          "name": "stderr",
          "text": [
            "\rGenerating translations:  30%|███       | 482/1598 [02:20<07:46,  2.39it/s]"
          ]
        },
        {
          "output_type": "stream",
          "name": "stdout",
          "text": [
            "Warning: Empty prediction for input: Thank you all so much for being at the end.\n"
          ]
        },
        {
          "output_type": "stream",
          "name": "stderr",
          "text": [
            "\rGenerating translations:  30%|███       | 483/1598 [02:21<07:20,  2.53it/s]"
          ]
        },
        {
          "output_type": "stream",
          "name": "stdout",
          "text": [
            "Warning: Empty prediction for input: According to the Asian Human Rights Commission (AHRC), seven people died in police custody in the first three months of 2004.\n"
          ]
        },
        {
          "output_type": "stream",
          "name": "stderr",
          "text": [
            "\rGenerating translations:  30%|███       | 484/1598 [02:21<06:36,  2.81it/s]"
          ]
        },
        {
          "output_type": "stream",
          "name": "stdout",
          "text": [
            "Warning: Empty prediction for input: Ammonia is an important raw material for urea production.\n"
          ]
        },
        {
          "output_type": "stream",
          "name": "stderr",
          "text": [
            "\rGenerating translations:  30%|███       | 485/1598 [02:21<06:26,  2.88it/s]"
          ]
        },
        {
          "output_type": "stream",
          "name": "stdout",
          "text": [
            "Warning: Empty prediction for input: The glucose-6-phosphate produced in this way goes into glycolysis after the first control point.\n"
          ]
        },
        {
          "output_type": "stream",
          "name": "stderr",
          "text": [
            "\rGenerating translations:  30%|███       | 486/1598 [02:21<05:52,  3.16it/s]"
          ]
        },
        {
          "output_type": "stream",
          "name": "stdout",
          "text": [
            "Warning: Empty prediction for input: Has his relief mission happened at a difficult time of year?\n"
          ]
        },
        {
          "output_type": "stream",
          "name": "stderr",
          "text": [
            "\rGenerating translations:  30%|███       | 487/1598 [02:22<05:25,  3.42it/s]"
          ]
        },
        {
          "output_type": "stream",
          "name": "stdout",
          "text": [
            "Warning: Empty prediction for input: Public Service Commission (Procedure)\n"
          ]
        },
        {
          "output_type": "stream",
          "name": "stderr",
          "text": [
            "\rGenerating translations:  31%|███       | 488/1598 [02:22<04:59,  3.70it/s]"
          ]
        },
        {
          "output_type": "stream",
          "name": "stdout",
          "text": [
            "Warning: Empty prediction for input: 19 Crore\n"
          ]
        },
        {
          "output_type": "stream",
          "name": "stderr",
          "text": [
            "\rGenerating translations:  31%|███       | 489/1598 [02:22<05:06,  3.62it/s]"
          ]
        },
        {
          "output_type": "stream",
          "name": "stdout",
          "text": [
            "Warning: Empty prediction for input: Can you tell us how the apostles thought about the question we read at Matthew 24:3?\n"
          ]
        },
        {
          "output_type": "stream",
          "name": "stderr",
          "text": [
            "\rGenerating translations:  31%|███       | 490/1598 [02:22<04:55,  3.74it/s]"
          ]
        },
        {
          "output_type": "stream",
          "name": "stdout",
          "text": [
            "Warning: Empty prediction for input: A stunt actor wanted to kick Karan's shoulder.\n"
          ]
        },
        {
          "output_type": "stream",
          "name": "stderr",
          "text": [
            "\rGenerating translations:  31%|███       | 491/1598 [02:23<04:55,  3.74it/s]"
          ]
        },
        {
          "output_type": "stream",
          "name": "stdout",
          "text": [
            "Warning: Empty prediction for input: Apply Jesus' counsel as Matthew 5:23, 24 or Matthew 18:15-17.\n"
          ]
        },
        {
          "output_type": "stream",
          "name": "stderr",
          "text": [
            "\rGenerating translations:  31%|███       | 492/1598 [02:23<04:52,  3.78it/s]"
          ]
        },
        {
          "output_type": "stream",
          "name": "stdout",
          "text": [
            "Warning: Empty prediction for input: Special Initiatives in Scheme from 2011-12 to 2016-17.\n"
          ]
        },
        {
          "output_type": "stream",
          "name": "stderr",
          "text": [
            "\rGenerating translations:  31%|███       | 493/1598 [02:23<06:21,  2.90it/s]"
          ]
        },
        {
          "output_type": "stream",
          "name": "stdout",
          "text": [
            "Warning: Empty prediction for input: Squads: England: Jason Roy, Jonny Bairstow, Joe Root, Eoin Morgan, Ben Stokes, Jos Buttler, Moeen Ali, Chris Woakes, Jofra Archer, Adil Rashid, Mark Wood, Tom Curran, James Vince, Liam Dawson, Liam Plunkett.\n"
          ]
        },
        {
          "output_type": "stream",
          "name": "stderr",
          "text": [
            "\rGenerating translations:  31%|███       | 494/1598 [02:24<05:39,  3.25it/s]"
          ]
        },
        {
          "output_type": "stream",
          "name": "stdout",
          "text": [
            "Warning: Empty prediction for input: Not a word.\n"
          ]
        },
        {
          "output_type": "stream",
          "name": "stderr",
          "text": [
            "\rGenerating translations:  31%|███       | 495/1598 [02:24<05:26,  3.38it/s]"
          ]
        },
        {
          "output_type": "stream",
          "name": "stdout",
          "text": [
            "Warning: Empty prediction for input: Wherever this couple comes, they don't do anything good.\n"
          ]
        },
        {
          "output_type": "stream",
          "name": "stderr",
          "text": [
            "\rGenerating translations:  31%|███       | 496/1598 [02:24<05:18,  3.46it/s]"
          ]
        },
        {
          "output_type": "stream",
          "name": "stdout",
          "text": [
            "Warning: Empty prediction for input: A lot of schemes are being implemented in this regard.\n"
          ]
        },
        {
          "output_type": "stream",
          "name": "stderr",
          "text": [
            "\rGenerating translations:  31%|███       | 497/1598 [02:24<04:57,  3.70it/s]"
          ]
        },
        {
          "output_type": "stream",
          "name": "stdout",
          "text": [
            "Warning: Empty prediction for input: The head is tilted.\n"
          ]
        },
        {
          "output_type": "stream",
          "name": "stderr",
          "text": [
            "\rGenerating translations:  31%|███       | 498/1598 [02:25<04:50,  3.79it/s]"
          ]
        },
        {
          "output_type": "stream",
          "name": "stdout",
          "text": [
            "Warning: Empty prediction for input: There are many educated youth in our constituency.\n"
          ]
        },
        {
          "output_type": "stream",
          "name": "stderr",
          "text": [
            "\rGenerating translations:  31%|███       | 499/1598 [02:25<04:41,  3.91it/s]"
          ]
        },
        {
          "output_type": "stream",
          "name": "stdout",
          "text": [
            "Warning: Empty prediction for input: All our work is done.\n"
          ]
        },
        {
          "output_type": "stream",
          "name": "stderr",
          "text": [
            "\rGenerating translations:  31%|███▏      | 500/1598 [02:25<04:34,  4.00it/s]"
          ]
        },
        {
          "output_type": "stream",
          "name": "stdout",
          "text": [
            "Warning: Empty prediction for input: Have you bought fruits and vegetables?\n"
          ]
        },
        {
          "output_type": "stream",
          "name": "stderr",
          "text": [
            "\rGenerating translations:  31%|███▏      | 501/1598 [02:25<04:30,  4.06it/s]"
          ]
        },
        {
          "output_type": "stream",
          "name": "stdout",
          "text": [
            "Warning: Empty prediction for input: His friends immediately took him to the hospital.\n"
          ]
        },
        {
          "output_type": "stream",
          "name": "stderr",
          "text": [
            "\rGenerating translations:  31%|███▏      | 502/1598 [02:26<04:36,  3.96it/s]"
          ]
        },
        {
          "output_type": "stream",
          "name": "stdout",
          "text": [
            "Warning: Empty prediction for input: Even if our Indian identity is just here, it will be forever and everlasting.\n"
          ]
        },
        {
          "output_type": "stream",
          "name": "stderr",
          "text": [
            "\rGenerating translations:  31%|███▏      | 503/1598 [02:26<04:33,  4.01it/s]"
          ]
        },
        {
          "output_type": "stream",
          "name": "stdout",
          "text": [
            "Warning: Empty prediction for input: Two people died in accidents.\n"
          ]
        },
        {
          "output_type": "stream",
          "name": "stderr",
          "text": [
            "\rGenerating translations:  32%|███▏      | 504/1598 [02:26<04:26,  4.11it/s]"
          ]
        },
        {
          "output_type": "stream",
          "name": "stdout",
          "text": [
            "Warning: Empty prediction for input: What's that sensation?\n"
          ]
        },
        {
          "output_type": "stream",
          "name": "stderr",
          "text": [
            "\rGenerating translations:  32%|███▏      | 505/1598 [02:26<04:31,  4.02it/s]"
          ]
        },
        {
          "output_type": "stream",
          "name": "stdout",
          "text": [
            "Warning: Empty prediction for input: Selection procedure: Candidates will be selected on the basis of written test and interview.\n"
          ]
        },
        {
          "output_type": "stream",
          "name": "stderr",
          "text": [
            "\rGenerating translations:  32%|███▏      | 506/1598 [02:27<04:43,  3.85it/s]"
          ]
        },
        {
          "output_type": "stream",
          "name": "stdout",
          "text": [
            "Warning: Empty prediction for input: We will make every effort to get the justice we deserve, he said.\n"
          ]
        },
        {
          "output_type": "stream",
          "name": "stderr",
          "text": [
            "\rGenerating translations:  32%|███▏      | 507/1598 [02:27<04:53,  3.72it/s]"
          ]
        },
        {
          "output_type": "stream",
          "name": "stdout",
          "text": [
            "Warning: Empty prediction for input: Home / Entertainment / Kajal Aggarwal Wants To Get Married Soon\n"
          ]
        },
        {
          "output_type": "stream",
          "name": "stderr",
          "text": [
            "\rGenerating translations:  32%|███▏      | 508/1598 [02:27<04:39,  3.91it/s]"
          ]
        },
        {
          "output_type": "stream",
          "name": "stdout",
          "text": [
            "Warning: Empty prediction for input: It's not impossible.\n"
          ]
        },
        {
          "output_type": "stream",
          "name": "stderr",
          "text": [
            "\rGenerating translations:  32%|███▏      | 509/1598 [02:28<04:49,  3.77it/s]"
          ]
        },
        {
          "output_type": "stream",
          "name": "stdout",
          "text": [
            "Warning: Empty prediction for input: It is priced at Rs 9,999 for the 16GB version and Rs 11,999 for the 32GB version.\n"
          ]
        },
        {
          "output_type": "stream",
          "name": "stderr",
          "text": [
            "\rGenerating translations:  32%|███▏      | 510/1598 [02:28<04:37,  3.92it/s]"
          ]
        },
        {
          "output_type": "stream",
          "name": "stdout",
          "text": [
            "Warning: Empty prediction for input: I want to prove my talent.\n"
          ]
        },
        {
          "output_type": "stream",
          "name": "stderr",
          "text": [
            "\rGenerating translations:  32%|███▏      | 511/1598 [02:28<04:36,  3.93it/s]"
          ]
        },
        {
          "output_type": "stream",
          "name": "stdout",
          "text": [
            "Warning: Empty prediction for input: The other two were admitted to the hospital.\n"
          ]
        },
        {
          "output_type": "stream",
          "name": "stderr",
          "text": [
            "\rGenerating translations:  32%|███▏      | 512/1598 [02:28<04:31,  4.01it/s]"
          ]
        },
        {
          "output_type": "stream",
          "name": "stdout",
          "text": [
            "Warning: Empty prediction for input: We bought a 2-0 series.\n"
          ]
        },
        {
          "output_type": "stream",
          "name": "stderr",
          "text": [
            "\rGenerating translations:  32%|███▏      | 513/1598 [02:29<04:59,  3.62it/s]"
          ]
        },
        {
          "output_type": "stream",
          "name": "stdout",
          "text": [
            "Warning: Empty prediction for input: I'll tell you. All the best to Speech Competition! (Congratulations) Do well! Next week (next week) make a phone call.\n"
          ]
        },
        {
          "output_type": "stream",
          "name": "stderr",
          "text": [
            "\rGenerating translations:  32%|███▏      | 514/1598 [02:29<04:42,  3.84it/s]"
          ]
        },
        {
          "output_type": "stream",
          "name": "stdout",
          "text": [
            "Warning: Empty prediction for input: Anger in Kerala.\n"
          ]
        },
        {
          "output_type": "stream",
          "name": "stderr",
          "text": [
            "\rGenerating translations:  32%|███▏      | 515/1598 [02:29<04:45,  3.79it/s]"
          ]
        },
        {
          "output_type": "stream",
          "name": "stdout",
          "text": [
            "Warning: Empty prediction for input: As soon as the Finance Department objected, we stopped the order.\n"
          ]
        },
        {
          "output_type": "stream",
          "name": "stderr",
          "text": [
            "\rGenerating translations:  32%|███▏      | 516/1598 [02:29<04:40,  3.86it/s]"
          ]
        },
        {
          "output_type": "stream",
          "name": "stdout",
          "text": [
            "Warning: Empty prediction for input: There's a little bit of a different view.\n"
          ]
        },
        {
          "output_type": "stream",
          "name": "stderr",
          "text": [
            "\rGenerating translations:  32%|███▏      | 517/1598 [02:30<05:11,  3.47it/s]"
          ]
        },
        {
          "output_type": "stream",
          "name": "stdout",
          "text": [
            "Warning: Empty prediction for input: *Domestic and Export Market Intelligence Cell (DEMIC)* Centre for Agricultural and Rural Development Studies (CARDS)\n"
          ]
        },
        {
          "output_type": "stream",
          "name": "stderr",
          "text": [
            "\rGenerating translations:  32%|███▏      | 518/1598 [02:30<06:21,  2.83it/s]"
          ]
        },
        {
          "output_type": "stream",
          "name": "stdout",
          "text": [
            "Warning: Empty prediction for input: LOsservatore Romano notes that the tradition of using the Christmas tree first began in Germany in the 16th century: Italy was one of the last countries to accept the Christmas tree, because there was a kind of autism called the Protestant practice that suggested using crib [the nativity scene].\n"
          ]
        },
        {
          "output_type": "stream",
          "name": "stderr",
          "text": [
            "\rGenerating translations:  32%|███▏      | 519/1598 [02:30<05:41,  3.16it/s]"
          ]
        },
        {
          "output_type": "stream",
          "name": "stdout",
          "text": [
            "Warning: Empty prediction for input: This is the Constitution of India.\n"
          ]
        },
        {
          "output_type": "stream",
          "name": "stderr",
          "text": [
            "\rGenerating translations:  33%|███▎      | 520/1598 [02:31<07:06,  2.53it/s]"
          ]
        },
        {
          "output_type": "stream",
          "name": "stdout",
          "text": [
            "Warning: Empty prediction for input: As mentioned in the previous article, he considered it a privilege and joy to be obeyed by Jesus' Supreme One, Jehovah God, and that Christian men have Christ as their head.\n"
          ]
        },
        {
          "output_type": "stream",
          "name": "stderr",
          "text": [
            "\rGenerating translations:  33%|███▎      | 521/1598 [02:31<06:52,  2.61it/s]"
          ]
        },
        {
          "output_type": "stream",
          "name": "stdout",
          "text": [
            "Warning: Empty prediction for input: So, the chances of getting infections are very high.\n"
          ]
        },
        {
          "output_type": "stream",
          "name": "stderr",
          "text": [
            "\rGenerating translations:  33%|███▎      | 522/1598 [02:32<06:40,  2.69it/s]"
          ]
        },
        {
          "output_type": "stream",
          "name": "stdout",
          "text": [
            "Warning: Empty prediction for input: He said he didn't do anything wrong.\n"
          ]
        },
        {
          "output_type": "stream",
          "name": "stderr",
          "text": [
            "\rGenerating translations:  33%|███▎      | 523/1598 [02:32<07:18,  2.45it/s]"
          ]
        },
        {
          "output_type": "stream",
          "name": "stdout",
          "text": [
            "Warning: Empty prediction for input: For the administrative convenience of Director (ESIS), four Regional Administrative Medical Officers (ESIS) and seven Medical Superintendents have been appointed.\n"
          ]
        },
        {
          "output_type": "stream",
          "name": "stderr",
          "text": [
            "\rGenerating translations:  33%|███▎      | 524/1598 [02:33<06:57,  2.57it/s]"
          ]
        },
        {
          "output_type": "stream",
          "name": "stdout",
          "text": [
            "Warning: Empty prediction for input: However, no transaction has been announced so far.\n"
          ]
        },
        {
          "output_type": "stream",
          "name": "stderr",
          "text": [
            "\rGenerating translations:  33%|███▎      | 525/1598 [02:33<06:49,  2.62it/s]"
          ]
        },
        {
          "output_type": "stream",
          "name": "stdout",
          "text": [
            "Warning: Empty prediction for input: Vitus Cathedral began in 1344 and ended in 1929.\n"
          ]
        },
        {
          "output_type": "stream",
          "name": "stderr",
          "text": [
            "\rGenerating translations:  33%|███▎      | 526/1598 [02:33<06:32,  2.73it/s]"
          ]
        },
        {
          "output_type": "stream",
          "name": "stdout",
          "text": [
            "Warning: Empty prediction for input: We have no guilt.\n"
          ]
        },
        {
          "output_type": "stream",
          "name": "stderr",
          "text": [
            "\rGenerating translations:  33%|███▎      | 527/1598 [02:34<06:29,  2.75it/s]"
          ]
        },
        {
          "output_type": "stream",
          "name": "stdout",
          "text": [
            "Warning: Empty prediction for input: Q: Can you tell me what's wrong?\n"
          ]
        },
        {
          "output_type": "stream",
          "name": "stderr",
          "text": [
            "\rGenerating translations:  33%|███▎      | 528/1598 [02:34<05:49,  3.07it/s]"
          ]
        },
        {
          "output_type": "stream",
          "name": "stdout",
          "text": [
            "Warning: Empty prediction for input: They've suffered a huge financial loss.\n"
          ]
        },
        {
          "output_type": "stream",
          "name": "stderr",
          "text": [
            "\rGenerating translations:  33%|███▎      | 529/1598 [02:34<05:16,  3.37it/s]"
          ]
        },
        {
          "output_type": "stream",
          "name": "stdout",
          "text": [
            "Warning: Empty prediction for input: Do a good practice.\n"
          ]
        },
        {
          "output_type": "stream",
          "name": "stderr",
          "text": [
            "\rGenerating translations:  33%|███▎      | 530/1598 [02:34<05:06,  3.48it/s]"
          ]
        },
        {
          "output_type": "stream",
          "name": "stdout",
          "text": [
            "Warning: Empty prediction for input: The coverage has increased from 9 tiger reserves to 49 now.\n"
          ]
        },
        {
          "output_type": "stream",
          "name": "stderr",
          "text": [
            "\rGenerating translations:  33%|███▎      | 531/1598 [02:35<04:54,  3.63it/s]"
          ]
        },
        {
          "output_type": "stream",
          "name": "stdout",
          "text": [
            "Warning: Empty prediction for input: Don't women have rights?\n"
          ]
        },
        {
          "output_type": "stream",
          "name": "stderr",
          "text": [
            "\rGenerating translations:  33%|███▎      | 532/1598 [02:35<04:40,  3.80it/s]"
          ]
        },
        {
          "output_type": "stream",
          "name": "stdout",
          "text": [
            "Warning: Empty prediction for input: The Indian Air Force is huge.\n"
          ]
        },
        {
          "output_type": "stream",
          "name": "stderr",
          "text": [
            "\rGenerating translations:  33%|███▎      | 533/1598 [02:35<04:36,  3.86it/s]"
          ]
        },
        {
          "output_type": "stream",
          "name": "stdout",
          "text": [
            "Warning: Empty prediction for input: Two people were injured, and they were taken to the hospital.\n"
          ]
        },
        {
          "output_type": "stream",
          "name": "stderr",
          "text": [
            "\rGenerating translations:  33%|███▎      | 534/1598 [02:35<04:26,  4.00it/s]"
          ]
        },
        {
          "output_type": "stream",
          "name": "stdout",
          "text": [
            "Warning: Empty prediction for input: Some people do that.\n"
          ]
        },
        {
          "output_type": "stream",
          "name": "stderr",
          "text": [
            "\rGenerating translations:  33%|███▎      | 535/1598 [02:36<04:24,  4.02it/s]"
          ]
        },
        {
          "output_type": "stream",
          "name": "stdout",
          "text": [
            "Warning: Empty prediction for input: How can we follow the example of a noah?\n"
          ]
        },
        {
          "output_type": "stream",
          "name": "stderr",
          "text": [
            "\rGenerating translations:  34%|███▎      | 536/1598 [02:36<04:46,  3.71it/s]"
          ]
        },
        {
          "output_type": "stream",
          "name": "stdout",
          "text": [
            "Warning: Empty prediction for input: Australia's Margaret Court is the only one on the women's all-time Grand Slam singles titles leaders list ahead of Serena.\n"
          ]
        },
        {
          "output_type": "stream",
          "name": "stderr",
          "text": [
            "\rGenerating translations:  34%|███▎      | 537/1598 [02:36<04:33,  3.87it/s]"
          ]
        },
        {
          "output_type": "stream",
          "name": "stdout",
          "text": [
            "Warning: Empty prediction for input: And then I stopped myself.\n"
          ]
        },
        {
          "output_type": "stream",
          "name": "stderr",
          "text": [
            "\rGenerating translations:  34%|███▎      | 538/1598 [02:36<04:32,  3.88it/s]"
          ]
        },
        {
          "output_type": "stream",
          "name": "stdout",
          "text": [
            "Warning: Empty prediction for input: He was a teacher at a private school.\n"
          ]
        },
        {
          "output_type": "stream",
          "name": "stderr",
          "text": [
            "\rGenerating translations:  34%|███▎      | 539/1598 [02:37<05:39,  3.12it/s]"
          ]
        },
        {
          "output_type": "stream",
          "name": "stdout",
          "text": [
            "Warning: Empty prediction for input: But, seeing the implementation of this scheme, the government of India has said that the project cost has come down from Rs.40.76 crore to Rs.24.15 crore (Government of India share Rs.19.31 crore). The Government of Tamil Nadu contributes Rs 4.84 crore).\n"
          ]
        },
        {
          "output_type": "stream",
          "name": "stderr",
          "text": [
            "\rGenerating translations:  34%|███▍      | 540/1598 [02:37<05:07,  3.44it/s]"
          ]
        },
        {
          "output_type": "stream",
          "name": "stdout",
          "text": [
            "Warning: Empty prediction for input: He's thinking.\n"
          ]
        },
        {
          "output_type": "stream",
          "name": "stderr",
          "text": [
            "\rGenerating translations:  34%|███▍      | 541/1598 [02:37<04:45,  3.70it/s]"
          ]
        },
        {
          "output_type": "stream",
          "name": "stdout",
          "text": [
            "Warning: Empty prediction for input: Are you so afraid?\n"
          ]
        },
        {
          "output_type": "stream",
          "name": "stderr",
          "text": [
            "\rGenerating translations:  34%|███▍      | 542/1598 [02:37<04:38,  3.80it/s]"
          ]
        },
        {
          "output_type": "stream",
          "name": "stdout",
          "text": [
            "Warning: Empty prediction for input: His daughter Aishwarya is with them.\n"
          ]
        },
        {
          "output_type": "stream",
          "name": "stderr",
          "text": [
            "\rGenerating translations:  34%|███▍      | 543/1598 [02:38<04:29,  3.92it/s]"
          ]
        },
        {
          "output_type": "stream",
          "name": "stdout",
          "text": [
            "Warning: Empty prediction for input: Enable PGP 6 compatibility.\n"
          ]
        },
        {
          "output_type": "stream",
          "name": "stderr",
          "text": [
            "\rGenerating translations:  34%|███▍      | 544/1598 [02:38<05:04,  3.46it/s]"
          ]
        },
        {
          "output_type": "stream",
          "name": "stdout",
          "text": [
            "Warning: Empty prediction for input: New Delhi: In a setback for Vedanta, the Supreme Court has not given permission to reopen the sterlite copper plant in Tuticorin in Tamil Nadu.\n"
          ]
        },
        {
          "output_type": "stream",
          "name": "stderr",
          "text": [
            "\rGenerating translations:  34%|███▍      | 545/1598 [02:38<04:48,  3.65it/s]"
          ]
        },
        {
          "output_type": "stream",
          "name": "stdout",
          "text": [
            "Warning: Empty prediction for input: The negotiations are going very well.\n"
          ]
        },
        {
          "output_type": "stream",
          "name": "stderr",
          "text": [
            "\rGenerating translations:  34%|███▍      | 546/1598 [02:39<04:54,  3.57it/s]"
          ]
        },
        {
          "output_type": "stream",
          "name": "stdout",
          "text": [
            "Warning: Empty prediction for input: One of the features they say is the spread of pestilences from one place to another at the same time.\n"
          ]
        },
        {
          "output_type": "stream",
          "name": "stderr",
          "text": [
            "\rGenerating translations:  34%|███▍      | 547/1598 [02:39<05:47,  3.03it/s]"
          ]
        },
        {
          "output_type": "stream",
          "name": "stdout",
          "text": [
            "Warning: Empty prediction for input: Earlier in March 2018, Shri M.L. Srivastava, Joint Secretary (Akademies) of the Ministry of Culture, was appointed as the Protem Chairman until he became the regular Chairman appointment of Lalit Kala Akademi.\n"
          ]
        },
        {
          "output_type": "stream",
          "name": "stderr",
          "text": [
            "\rGenerating translations:  34%|███▍      | 548/1598 [02:39<05:23,  3.25it/s]"
          ]
        },
        {
          "output_type": "stream",
          "name": "stdout",
          "text": [
            "Warning: Empty prediction for input: Many times, children read the same story over and over again.\n"
          ]
        },
        {
          "output_type": "stream",
          "name": "stderr",
          "text": [
            "\rGenerating translations:  34%|███▍      | 549/1598 [02:40<04:56,  3.53it/s]"
          ]
        },
        {
          "output_type": "stream",
          "name": "stdout",
          "text": [
            "Warning: Empty prediction for input: The minister's response...\n"
          ]
        },
        {
          "output_type": "stream",
          "name": "stderr",
          "text": [
            "\rGenerating translations:  34%|███▍      | 550/1598 [02:40<04:47,  3.64it/s]"
          ]
        },
        {
          "output_type": "stream",
          "name": "stdout",
          "text": [
            "Warning: Empty prediction for input: PM Narendra Modi has left for a four-country African tour.\n"
          ]
        },
        {
          "output_type": "stream",
          "name": "stderr",
          "text": [
            "\rGenerating translations:  34%|███▍      | 551/1598 [02:40<04:51,  3.59it/s]"
          ]
        },
        {
          "output_type": "stream",
          "name": "stdout",
          "text": [
            "Warning: Empty prediction for input: Ma'am, I am very curious to hear about this town, can we go on an study tour there?\n"
          ]
        },
        {
          "output_type": "stream",
          "name": "stderr",
          "text": [
            "\rGenerating translations:  35%|███▍      | 552/1598 [02:40<04:40,  3.73it/s]"
          ]
        },
        {
          "output_type": "stream",
          "name": "stdout",
          "text": [
            "Warning: Empty prediction for input: Yes, I know. Why do you ask?\n"
          ]
        },
        {
          "output_type": "stream",
          "name": "stderr",
          "text": [
            "\rGenerating translations:  35%|███▍      | 553/1598 [02:41<04:24,  3.96it/s]"
          ]
        },
        {
          "output_type": "stream",
          "name": "stdout",
          "text": [
            "Warning: Empty prediction for input: Can you tell me how much?\n"
          ]
        },
        {
          "output_type": "stream",
          "name": "stderr",
          "text": [
            "\rGenerating translations:  35%|███▍      | 554/1598 [02:41<04:17,  4.05it/s]"
          ]
        },
        {
          "output_type": "stream",
          "name": "stdout",
          "text": [
            "Warning: Empty prediction for input: Additional police forces were deployed in sensitive areas.\n"
          ]
        },
        {
          "output_type": "stream",
          "name": "stderr",
          "text": [
            "\rGenerating translations:  35%|███▍      | 555/1598 [02:41<04:09,  4.17it/s]"
          ]
        },
        {
          "output_type": "stream",
          "name": "stdout",
          "text": [
            "Warning: Empty prediction for input: It will always be available.\n"
          ]
        },
        {
          "output_type": "stream",
          "name": "stderr",
          "text": [
            "\rGenerating translations:  35%|███▍      | 556/1598 [02:41<04:16,  4.06it/s]"
          ]
        },
        {
          "output_type": "stream",
          "name": "stdout",
          "text": [
            "Warning: Empty prediction for input: Mahindra and Ford India have announced a joint venture and want to achieve more growth.\n"
          ]
        },
        {
          "output_type": "stream",
          "name": "stderr",
          "text": [
            "\rGenerating translations:  35%|███▍      | 557/1598 [02:42<04:24,  3.94it/s]"
          ]
        },
        {
          "output_type": "stream",
          "name": "stdout",
          "text": [
            "Warning: Empty prediction for input: So the wider the universe, the greater the distance between us and other gravitational pockets.\n"
          ]
        },
        {
          "output_type": "stream",
          "name": "stderr",
          "text": [
            "\rGenerating translations:  35%|███▍      | 558/1598 [02:42<04:11,  4.13it/s]"
          ]
        },
        {
          "output_type": "stream",
          "name": "stdout",
          "text": [
            "Warning: Empty prediction for input: I did research.\n"
          ]
        },
        {
          "output_type": "stream",
          "name": "stderr",
          "text": [
            "\rGenerating translations:  35%|███▍      | 559/1598 [02:42<04:58,  3.48it/s]"
          ]
        },
        {
          "output_type": "stream",
          "name": "stdout",
          "text": [
            "Warning: Empty prediction for input: A new agricultural college will be established at Kivelur in Nagapattinam district to benefit students from agrarian nature districts like Thanjavur, Thiruvarur and Nagapattinam.\n"
          ]
        },
        {
          "output_type": "stream",
          "name": "stderr",
          "text": [
            "\rGenerating translations:  35%|███▌      | 560/1598 [02:42<04:54,  3.52it/s]"
          ]
        },
        {
          "output_type": "stream",
          "name": "stdout",
          "text": [
            "Warning: Empty prediction for input: If you're scared of crocodiles, watch it in the video theater.\n"
          ]
        },
        {
          "output_type": "stream",
          "name": "stderr",
          "text": [
            "\rGenerating translations:  35%|███▌      | 561/1598 [02:43<04:36,  3.75it/s]"
          ]
        },
        {
          "output_type": "stream",
          "name": "stdout",
          "text": [
            "Warning: Empty prediction for input: There's no race.\n"
          ]
        },
        {
          "output_type": "stream",
          "name": "stderr",
          "text": [
            "\rGenerating translations:  35%|███▌      | 562/1598 [02:43<04:33,  3.79it/s]"
          ]
        },
        {
          "output_type": "stream",
          "name": "stdout",
          "text": [
            "Warning: Empty prediction for input: I am very happy sir. You are active even at this age.\n"
          ]
        },
        {
          "output_type": "stream",
          "name": "stderr",
          "text": [
            "\rGenerating translations:  35%|███▌      | 563/1598 [02:43<04:20,  3.98it/s]"
          ]
        },
        {
          "output_type": "stream",
          "name": "stdout",
          "text": [
            "Warning: Empty prediction for input: But what's the use?\n"
          ]
        },
        {
          "output_type": "stream",
          "name": "stderr",
          "text": [
            "\rGenerating translations:  35%|███▌      | 564/1598 [02:43<04:12,  4.10it/s]"
          ]
        },
        {
          "output_type": "stream",
          "name": "stdout",
          "text": [
            "Warning: Empty prediction for input: It's human nature.\n"
          ]
        },
        {
          "output_type": "stream",
          "name": "stderr",
          "text": [
            "\rGenerating translations:  35%|███▌      | 565/1598 [02:44<04:10,  4.12it/s]"
          ]
        },
        {
          "output_type": "stream",
          "name": "stdout",
          "text": [
            "Warning: Empty prediction for input: Mosquito Breeding Drugs\n"
          ]
        },
        {
          "output_type": "stream",
          "name": "stderr",
          "text": [
            "\rGenerating translations:  35%|███▌      | 566/1598 [02:44<05:14,  3.28it/s]"
          ]
        },
        {
          "output_type": "stream",
          "name": "stdout",
          "text": [
            "Warning: Empty prediction for input: According to the census, there are 24.39 crore houses in our country, out of which 17.91 crore are in villages.\n"
          ]
        },
        {
          "output_type": "stream",
          "name": "stderr",
          "text": [
            "\rGenerating translations:  35%|███▌      | 567/1598 [02:44<05:18,  3.24it/s]"
          ]
        },
        {
          "output_type": "stream",
          "name": "stdout",
          "text": [
            "Warning: Empty prediction for input: They immediately informed the police.\n"
          ]
        },
        {
          "output_type": "stream",
          "name": "stderr",
          "text": [
            "\rGenerating translations:  36%|███▌      | 568/1598 [02:45<05:46,  2.97it/s]"
          ]
        },
        {
          "output_type": "stream",
          "name": "stdout",
          "text": [
            "Warning: Empty prediction for input: If you violate the rules, you will be punished, he said.\n"
          ]
        },
        {
          "output_type": "stream",
          "name": "stderr",
          "text": [
            "\rGenerating translations:  36%|███▌      | 569/1598 [02:45<06:18,  2.72it/s]"
          ]
        },
        {
          "output_type": "stream",
          "name": "stdout",
          "text": [
            "Warning: Empty prediction for input: At the same time, the rupee closed marginally lower at 74.91 against the US dollar.\n"
          ]
        },
        {
          "output_type": "stream",
          "name": "stderr",
          "text": [
            "\rGenerating translations:  36%|███▌      | 570/1598 [02:46<06:15,  2.74it/s]"
          ]
        },
        {
          "output_type": "stream",
          "name": "stdout",
          "text": [
            "Warning: Empty prediction for input: In this film, the actor plays a police officer character.\n"
          ]
        },
        {
          "output_type": "stream",
          "name": "stderr",
          "text": [
            "\rGenerating translations:  36%|███▌      | 571/1598 [02:46<06:02,  2.83it/s]"
          ]
        },
        {
          "output_type": "stream",
          "name": "stdout",
          "text": [
            "Warning: Empty prediction for input: It's called an international seminar.\n"
          ]
        },
        {
          "output_type": "stream",
          "name": "stderr",
          "text": [
            "\rGenerating translations:  36%|███▌      | 572/1598 [02:46<06:15,  2.73it/s]"
          ]
        },
        {
          "output_type": "stream",
          "name": "stdout",
          "text": [
            "Warning: Empty prediction for input: The protesters raised slogans against the central government and Prime Minister Narendra Modi.\n"
          ]
        },
        {
          "output_type": "stream",
          "name": "stderr",
          "text": [
            "\rGenerating translations:  36%|███▌      | 573/1598 [02:47<06:14,  2.74it/s]"
          ]
        },
        {
          "output_type": "stream",
          "name": "stdout",
          "text": [
            "Warning: Empty prediction for input: Das was the preside of the meeting.\n"
          ]
        },
        {
          "output_type": "stream",
          "name": "stderr",
          "text": [
            "\rGenerating translations:  36%|███▌      | 574/1598 [02:47<05:58,  2.86it/s]"
          ]
        },
        {
          "output_type": "stream",
          "name": "stdout",
          "text": [
            "Warning: Empty prediction for input: Ayodhya is not between Hindus and Muslims.\n"
          ]
        },
        {
          "output_type": "stream",
          "name": "stderr",
          "text": [
            "\rGenerating translations:  36%|███▌      | 575/1598 [02:47<05:19,  3.20it/s]"
          ]
        },
        {
          "output_type": "stream",
          "name": "stdout",
          "text": [
            "Warning: Empty prediction for input: Not everyone thinks so.\n"
          ]
        },
        {
          "output_type": "stream",
          "name": "stderr",
          "text": [
            "\rGenerating translations:  36%|███▌      | 576/1598 [02:47<04:54,  3.47it/s]"
          ]
        },
        {
          "output_type": "stream",
          "name": "stdout",
          "text": [
            "Warning: Empty prediction for input: It would be nice to have some comfort.\n"
          ]
        },
        {
          "output_type": "stream",
          "name": "stderr",
          "text": [
            "\rGenerating translations:  36%|███▌      | 577/1598 [02:48<05:15,  3.24it/s]"
          ]
        },
        {
          "output_type": "stream",
          "name": "stdout",
          "text": [
            "Warning: Empty prediction for input: In a major change in the Bharatiya Janata Party, BJP national president Jagat Prakash Nadda has announced 23 new office bearers.\n"
          ]
        },
        {
          "output_type": "stream",
          "name": "stderr",
          "text": [
            "\rGenerating translations:  36%|███▌      | 578/1598 [02:48<04:54,  3.46it/s]"
          ]
        },
        {
          "output_type": "stream",
          "name": "stdout",
          "text": [
            "Warning: Empty prediction for input: Children are reluctant to send their children to school.\n"
          ]
        },
        {
          "output_type": "stream",
          "name": "stderr",
          "text": [
            "\rGenerating translations:  36%|███▌      | 579/1598 [02:48<04:45,  3.57it/s]"
          ]
        },
        {
          "output_type": "stream",
          "name": "stdout",
          "text": [
            "Warning: Empty prediction for input: Clinical depression can give hope, courage and courage to those who suffer.\n"
          ]
        },
        {
          "output_type": "stream",
          "name": "stderr",
          "text": [
            "\rGenerating translations:  36%|███▋      | 580/1598 [02:49<04:38,  3.66it/s]"
          ]
        },
        {
          "output_type": "stream",
          "name": "stdout",
          "text": [
            "Warning: Empty prediction for input: State Secretary of the Communist Party of India (CPI).\n"
          ]
        },
        {
          "output_type": "stream",
          "name": "stderr",
          "text": [
            "\rGenerating translations:  36%|███▋      | 581/1598 [02:49<04:29,  3.77it/s]"
          ]
        },
        {
          "output_type": "stream",
          "name": "stdout",
          "text": [
            "Warning: Empty prediction for input: This makes them both angry.\n"
          ]
        },
        {
          "output_type": "stream",
          "name": "stderr",
          "text": [
            "\rGenerating translations:  36%|███▋      | 582/1598 [02:49<04:12,  4.02it/s]"
          ]
        },
        {
          "output_type": "stream",
          "name": "stdout",
          "text": [
            "Warning: Empty prediction for input: BJP action\n"
          ]
        },
        {
          "output_type": "stream",
          "name": "stderr",
          "text": [
            "\rGenerating translations:  36%|███▋      | 583/1598 [02:49<04:03,  4.17it/s]"
          ]
        },
        {
          "output_type": "stream",
          "name": "stdout",
          "text": [
            "Warning: Empty prediction for input: There is no limit.\n"
          ]
        },
        {
          "output_type": "stream",
          "name": "stderr",
          "text": [
            "\rGenerating translations:  37%|███▋      | 584/1598 [02:49<04:08,  4.07it/s]"
          ]
        },
        {
          "output_type": "stream",
          "name": "stdout",
          "text": [
            "Warning: Empty prediction for input: If the industry doesn't work, there's no industry.\n"
          ]
        },
        {
          "output_type": "stream",
          "name": "stderr",
          "text": [
            "\rGenerating translations:  37%|███▋      | 585/1598 [02:50<04:20,  3.89it/s]"
          ]
        },
        {
          "output_type": "stream",
          "name": "stdout",
          "text": [
            "Warning: Empty prediction for input: Tamil Nadu ranks third in 411 coronavirus cases.\n"
          ]
        },
        {
          "output_type": "stream",
          "name": "stderr",
          "text": [
            "\rGenerating translations:  37%|███▋      | 586/1598 [02:50<04:13,  3.99it/s]"
          ]
        },
        {
          "output_type": "stream",
          "name": "stdout",
          "text": [
            "Warning: Empty prediction for input: There are contradictions in some places.\n"
          ]
        },
        {
          "output_type": "stream",
          "name": "stderr",
          "text": [
            "\rGenerating translations:  37%|███▋      | 587/1598 [02:50<04:36,  3.66it/s]"
          ]
        },
        {
          "output_type": "stream",
          "name": "stdout",
          "text": [
            "Warning: Empty prediction for input: When asked about Kamal Haasan's spiritual politics, Rajinikanth said that he will not oppose Kamal Haasan.\n"
          ]
        },
        {
          "output_type": "stream",
          "name": "stderr",
          "text": [
            "\rGenerating translations:  37%|███▋      | 588/1598 [02:51<04:26,  3.80it/s]"
          ]
        },
        {
          "output_type": "stream",
          "name": "stdout",
          "text": [
            "Warning: Empty prediction for input: The BJP is following the same economic policies.\n"
          ]
        },
        {
          "output_type": "stream",
          "name": "stderr",
          "text": [
            "\rGenerating translations:  37%|███▋      | 589/1598 [02:51<04:49,  3.48it/s]"
          ]
        },
        {
          "output_type": "stream",
          "name": "stdout",
          "text": [
            "Warning: Empty prediction for input: In this direction, Indian Railways manufactures masks and sanitizers in all Zonal Railways, Production Units, PSUs.\n"
          ]
        },
        {
          "output_type": "stream",
          "name": "stderr",
          "text": [
            "\rGenerating translations:  37%|███▋      | 590/1598 [02:51<04:55,  3.41it/s]"
          ]
        },
        {
          "output_type": "stream",
          "name": "stdout",
          "text": [
            "Warning: Empty prediction for input: Brand new SUV from Nissan, Kicks is ready to launch in the Indian market.\n"
          ]
        },
        {
          "output_type": "stream",
          "name": "stderr",
          "text": [
            "\rGenerating translations:  37%|███▋      | 591/1598 [02:52<05:04,  3.30it/s]"
          ]
        },
        {
          "output_type": "stream",
          "name": "stdout",
          "text": [
            "Warning: Empty prediction for input: The good thing is that Noah's son, Shem, has set a good example for her family in Faith. Genesis 9: 21 - 28.\n"
          ]
        },
        {
          "output_type": "stream",
          "name": "stderr",
          "text": [
            "\rGenerating translations:  37%|███▋      | 592/1598 [02:52<05:04,  3.31it/s]"
          ]
        },
        {
          "output_type": "stream",
          "name": "stdout",
          "text": [
            "Warning: Empty prediction for input: Not only is it important to eat nutritious food, it is also important to eat at the right time.\n"
          ]
        },
        {
          "output_type": "stream",
          "name": "stderr",
          "text": [
            "\rGenerating translations:  37%|███▋      | 593/1598 [02:52<04:46,  3.51it/s]"
          ]
        },
        {
          "output_type": "stream",
          "name": "stdout",
          "text": [
            "Warning: Empty prediction for input: Maharashtra is the most affected state in India.\n"
          ]
        },
        {
          "output_type": "stream",
          "name": "stderr",
          "text": [
            "\rGenerating translations:  37%|███▋      | 594/1598 [02:52<04:33,  3.67it/s]"
          ]
        },
        {
          "output_type": "stream",
          "name": "stdout",
          "text": [
            "Warning: Empty prediction for input: Can you tell me what the future of this country is?\n"
          ]
        },
        {
          "output_type": "stream",
          "name": "stderr",
          "text": [
            "\rGenerating translations:  37%|███▋      | 595/1598 [02:53<04:18,  3.88it/s]"
          ]
        },
        {
          "output_type": "stream",
          "name": "stdout",
          "text": [
            "Warning: Empty prediction for input: But, is he?\n"
          ]
        },
        {
          "output_type": "stream",
          "name": "stderr",
          "text": [
            "\rGenerating translations:  37%|███▋      | 596/1598 [02:53<04:37,  3.61it/s]"
          ]
        },
        {
          "output_type": "stream",
          "name": "stdout",
          "text": [
            "Warning: Empty prediction for input: If the increments in the meters are increased and a certain number of eyes, feathers and horns are found, the maximum value is achieved.\n"
          ]
        },
        {
          "output_type": "stream",
          "name": "stderr",
          "text": [
            "\rGenerating translations:  37%|███▋      | 597/1598 [02:53<04:22,  3.81it/s]"
          ]
        },
        {
          "output_type": "stream",
          "name": "stdout",
          "text": [
            "Warning: Empty prediction for input: The police investigation is ongoing.\n",
            "Warning: Empty prediction for input: Total Rs.\n"
          ]
        },
        {
          "output_type": "stream",
          "name": "stderr",
          "text": [
            "Generating translations:  37%|███▋      | 599/1598 [02:54<04:03,  4.11it/s]"
          ]
        },
        {
          "output_type": "stream",
          "name": "stdout",
          "text": [
            "Warning: Empty prediction for input: Price hike has been announced, he said.\n",
            "Warning: Empty prediction for input: Hello!"
          ]
        },
        {
          "output_type": "stream",
          "name": "stderr",
          "text": [
            "\rGenerating translations:  38%|███▊      | 600/1598 [02:54<03:50,  4.33it/s]"
          ]
        },
        {
          "output_type": "stream",
          "name": "stdout",
          "text": [
            "\n"
          ]
        },
        {
          "output_type": "stream",
          "name": "stderr",
          "text": [
            "\rGenerating translations:  38%|███▊      | 601/1598 [02:54<03:55,  4.24it/s]"
          ]
        },
        {
          "output_type": "stream",
          "name": "stdout",
          "text": [
            "Warning: Empty prediction for input: Security has also been increased in that area.\n"
          ]
        },
        {
          "output_type": "stream",
          "name": "stderr",
          "text": [
            "\rGenerating translations:  38%|███▊      | 602/1598 [02:54<03:51,  4.30it/s]"
          ]
        },
        {
          "output_type": "stream",
          "name": "stdout",
          "text": [
            "Warning: Empty prediction for input: But Russia is decimated.\n"
          ]
        },
        {
          "output_type": "stream",
          "name": "stderr",
          "text": [
            "\rGenerating translations:  38%|███▊      | 603/1598 [02:54<03:51,  4.31it/s]"
          ]
        },
        {
          "output_type": "stream",
          "name": "stdout",
          "text": [
            "Warning: Empty prediction for input: The shooting of the film will commence soon.\n"
          ]
        },
        {
          "output_type": "stream",
          "name": "stderr",
          "text": [
            "\rGenerating translations:  38%|███▊      | 604/1598 [02:55<04:05,  4.05it/s]"
          ]
        },
        {
          "output_type": "stream",
          "name": "stdout",
          "text": [
            "Warning: Empty prediction for input: Through the Mudra scheme, loans of more than 13 crores have been given so far.\n"
          ]
        },
        {
          "output_type": "stream",
          "name": "stderr",
          "text": [
            "\rGenerating translations:  38%|███▊      | 605/1598 [02:55<04:01,  4.11it/s]"
          ]
        },
        {
          "output_type": "stream",
          "name": "stdout",
          "text": [
            "Warning: Empty prediction for input: He died in the scene.\n"
          ]
        },
        {
          "output_type": "stream",
          "name": "stderr",
          "text": [
            "\rGenerating translations:  38%|███▊      | 606/1598 [02:55<03:55,  4.21it/s]"
          ]
        },
        {
          "output_type": "stream",
          "name": "stdout",
          "text": [
            "Warning: Empty prediction for input: Have you started packing things?\n"
          ]
        },
        {
          "output_type": "stream",
          "name": "stderr",
          "text": [
            "\rGenerating translations:  38%|███▊      | 607/1598 [02:55<03:58,  4.16it/s]"
          ]
        },
        {
          "output_type": "stream",
          "name": "stdout",
          "text": [
            "Warning: Empty prediction for input: There is no untoward incident in polling.\n"
          ]
        },
        {
          "output_type": "stream",
          "name": "stderr",
          "text": [
            "\rGenerating translations:  38%|███▊      | 608/1598 [02:56<04:06,  4.02it/s]"
          ]
        },
        {
          "output_type": "stream",
          "name": "stdout",
          "text": [
            "Warning: Empty prediction for input: Our president travels to Japan, South Korea, China, Vietnam, Philippines.\n"
          ]
        },
        {
          "output_type": "stream",
          "name": "stderr",
          "text": [
            "\rGenerating translations:  38%|███▊      | 609/1598 [02:56<05:40,  2.90it/s]"
          ]
        },
        {
          "output_type": "stream",
          "name": "stdout",
          "text": [
            "Warning: Empty prediction for input: Thiru. T. S. Led team. Sridhar, IAS (Retired) should examine whether it is feasibility to continue the old pension scheme, the committee chaired by Thiru M.A. Siddique, IAS, have submitted reports to correct salary anomalies, those reports are now in the examination.\n"
          ]
        },
        {
          "output_type": "stream",
          "name": "stderr",
          "text": [
            "\rGenerating translations:  38%|███▊      | 610/1598 [02:57<05:29,  3.00it/s]"
          ]
        },
        {
          "output_type": "stream",
          "name": "stdout",
          "text": [
            "Warning: Empty prediction for input: Fibre feeds the good bacteria in our intestinal tract, maintains the microbial balance and helps in digestion.\n"
          ]
        },
        {
          "output_type": "stream",
          "name": "stderr",
          "text": [
            "\rGenerating translations:  38%|███▊      | 611/1598 [02:57<05:38,  2.91it/s]"
          ]
        },
        {
          "output_type": "stream",
          "name": "stdout",
          "text": [
            "Warning: Empty prediction for input: I am very happy that you are serving Jehovah in this way. Sadly, both my parents are no more.\n"
          ]
        },
        {
          "output_type": "stream",
          "name": "stderr",
          "text": [
            "\rGenerating translations:  38%|███▊      | 612/1598 [02:57<05:44,  2.86it/s]"
          ]
        },
        {
          "output_type": "stream",
          "name": "stdout",
          "text": [
            "Warning: Empty prediction for input: A total of 16 members participated in this tournament.\n"
          ]
        },
        {
          "output_type": "stream",
          "name": "stderr",
          "text": [
            "\rGenerating translations:  38%|███▊      | 613/1598 [02:58<05:28,  3.00it/s]"
          ]
        },
        {
          "output_type": "stream",
          "name": "stdout",
          "text": [
            "Warning: Empty prediction for input: Work behind him\n"
          ]
        },
        {
          "output_type": "stream",
          "name": "stderr",
          "text": [
            "\rGenerating translations:  38%|███▊      | 614/1598 [02:58<06:19,  2.59it/s]"
          ]
        },
        {
          "output_type": "stream",
          "name": "stdout",
          "text": [
            "Warning: Empty prediction for input: Trisha is said to be the leading lady in this film, before that she had also acted with Chiranjeevi in Stalin's film.\n"
          ]
        },
        {
          "output_type": "stream",
          "name": "stderr",
          "text": [
            "\rGenerating translations:  38%|███▊      | 615/1598 [02:58<06:02,  2.71it/s]"
          ]
        },
        {
          "output_type": "stream",
          "name": "stdout",
          "text": [
            "Warning: Empty prediction for input: Onions: 2 (finely chopped)\n"
          ]
        },
        {
          "output_type": "stream",
          "name": "stderr",
          "text": [
            "\rGenerating translations:  39%|███▊      | 616/1598 [02:59<05:50,  2.80it/s]"
          ]
        },
        {
          "output_type": "stream",
          "name": "stdout",
          "text": [
            "Warning: Empty prediction for input: Cables, cables, CB.\n"
          ]
        },
        {
          "output_type": "stream",
          "name": "stderr",
          "text": [
            "\rGenerating translations:  39%|███▊      | 617/1598 [02:59<05:47,  2.82it/s]"
          ]
        },
        {
          "output_type": "stream",
          "name": "stdout",
          "text": [
            "Warning: Empty prediction for input: There have been casualties on both sides.\n"
          ]
        },
        {
          "output_type": "stream",
          "name": "stderr",
          "text": [
            "\rGenerating translations:  39%|███▊      | 618/1598 [02:59<05:45,  2.83it/s]"
          ]
        },
        {
          "output_type": "stream",
          "name": "stdout",
          "text": [
            "Warning: Empty prediction for input: But no one is talking about it.\n"
          ]
        },
        {
          "output_type": "stream",
          "name": "stderr",
          "text": [
            "\rGenerating translations:  39%|███▊      | 619/1598 [03:00<05:54,  2.76it/s]"
          ]
        },
        {
          "output_type": "stream",
          "name": "stdout",
          "text": [
            "Warning: Empty prediction for input: A lot of people have come to the event.\n"
          ]
        },
        {
          "output_type": "stream",
          "name": "stderr",
          "text": [
            "\rGenerating translations:  39%|███▉      | 620/1598 [03:00<05:46,  2.82it/s]"
          ]
        },
        {
          "output_type": "stream",
          "name": "stdout",
          "text": [
            "Warning: Empty prediction for input: According to the police,\n"
          ]
        },
        {
          "output_type": "stream",
          "name": "stderr",
          "text": [
            "\rGenerating translations:  39%|███▉      | 621/1598 [03:00<05:05,  3.20it/s]"
          ]
        },
        {
          "output_type": "stream",
          "name": "stdout",
          "text": [
            "Warning: Empty prediction for input: He then deleted it.\n"
          ]
        },
        {
          "output_type": "stream",
          "name": "stderr",
          "text": [
            "\rGenerating translations:  39%|███▉      | 622/1598 [03:01<04:45,  3.42it/s]"
          ]
        },
        {
          "output_type": "stream",
          "name": "stdout",
          "text": [
            "Warning: Empty prediction for input: Can I go and collect it in an hour?\n"
          ]
        },
        {
          "output_type": "stream",
          "name": "stderr",
          "text": [
            "\rGenerating translations:  39%|███▉      | 623/1598 [03:01<04:52,  3.34it/s]"
          ]
        },
        {
          "output_type": "stream",
          "name": "stdout",
          "text": [
            "Warning: Empty prediction for input: Benefits: Details: 8 schemes are approve and continue, the benefits will be extended to intended beneficiaries as per approved criterion.\n"
          ]
        },
        {
          "output_type": "stream",
          "name": "stderr",
          "text": [
            "\rGenerating translations:  39%|███▉      | 624/1598 [03:01<04:50,  3.36it/s]"
          ]
        },
        {
          "output_type": "stream",
          "name": "stdout",
          "text": [
            "Warning: Empty prediction for input: Today, I think our domestic industry and investors, despite the global situation, are very confident, optimistic.\n"
          ]
        },
        {
          "output_type": "stream",
          "name": "stderr",
          "text": [
            "\rGenerating translations:  39%|███▉      | 625/1598 [03:01<04:30,  3.60it/s]"
          ]
        },
        {
          "output_type": "stream",
          "name": "stdout",
          "text": [
            "Warning: Empty prediction for input: Soon the news spread in the area.\n"
          ]
        },
        {
          "output_type": "stream",
          "name": "stderr",
          "text": [
            "\rGenerating translations:  39%|███▉      | 626/1598 [03:02<04:19,  3.75it/s]"
          ]
        },
        {
          "output_type": "stream",
          "name": "stdout",
          "text": [
            "Warning: Empty prediction for input: The results will be announced on May 16.\n"
          ]
        },
        {
          "output_type": "stream",
          "name": "stderr",
          "text": [
            "\rGenerating translations:  39%|███▉      | 627/1598 [03:02<04:44,  3.41it/s]"
          ]
        },
        {
          "output_type": "stream",
          "name": "stdout",
          "text": [
            "Warning: Empty prediction for input: Transport Department, Tamil Nadu Transportation Department co-ordinats with Southern Railway, Civil Aviation Department, Postal and Telecommunication Departments of the Central Government to implement their projects.\n"
          ]
        },
        {
          "output_type": "stream",
          "name": "stderr",
          "text": [
            "\rGenerating translations:  39%|███▉      | 628/1598 [03:02<04:39,  3.47it/s]"
          ]
        },
        {
          "output_type": "stream",
          "name": "stdout",
          "text": [
            "Warning: Empty prediction for input: Pizza has to be paid online (website). Why are you going to pay cash?\n"
          ]
        },
        {
          "output_type": "stream",
          "name": "stderr",
          "text": [
            "\rGenerating translations:  39%|███▉      | 629/1598 [03:03<04:26,  3.63it/s]"
          ]
        },
        {
          "output_type": "stream",
          "name": "stdout",
          "text": [
            "Warning: Empty prediction for input: Ninety-two prisoners have been released.\n"
          ]
        },
        {
          "output_type": "stream",
          "name": "stderr",
          "text": [
            "\rGenerating translations:  39%|███▉      | 630/1598 [03:03<04:21,  3.71it/s]"
          ]
        },
        {
          "output_type": "stream",
          "name": "stdout",
          "text": [
            "Warning: Empty prediction for input: That moment was a turning point in my life.\n"
          ]
        },
        {
          "output_type": "stream",
          "name": "stderr",
          "text": [
            "\rGenerating translations:  39%|███▉      | 631/1598 [03:03<04:50,  3.33it/s]"
          ]
        },
        {
          "output_type": "stream",
          "name": "stdout",
          "text": [
            "Warning: Empty prediction for input: The quality control lab at the head office in Chennai has to test the quality of building materials like bricks, steel, mosaic, pressed tiles and send a test report for economical testing charges within 10 days.\n"
          ]
        },
        {
          "output_type": "stream",
          "name": "stderr",
          "text": [
            "\rGenerating translations:  40%|███▉      | 632/1598 [03:03<04:29,  3.59it/s]"
          ]
        },
        {
          "output_type": "stream",
          "name": "stdout",
          "text": [
            "Warning: Empty prediction for input: You have to work hard!\n"
          ]
        },
        {
          "output_type": "stream",
          "name": "stderr",
          "text": [
            "\rGenerating translations:  40%|███▉      | 633/1598 [03:04<04:17,  3.74it/s]"
          ]
        },
        {
          "output_type": "stream",
          "name": "stdout",
          "text": [
            "Warning: Empty prediction for input: The food and service were very good.\n"
          ]
        },
        {
          "output_type": "stream",
          "name": "stderr",
          "text": [
            "\rGenerating translations:  40%|███▉      | 634/1598 [03:04<04:28,  3.59it/s]"
          ]
        },
        {
          "output_type": "stream",
          "name": "stdout",
          "text": [
            "Warning: Empty prediction for input: Published in the scientific journal Appetite, social media users have shown how they influence peer groups to eat healthy or junk food.\n"
          ]
        },
        {
          "output_type": "stream",
          "name": "stderr",
          "text": [
            "\rGenerating translations:  40%|███▉      | 635/1598 [03:04<04:19,  3.72it/s]"
          ]
        },
        {
          "output_type": "stream",
          "name": "stdout",
          "text": [
            "Warning: Empty prediction for input: From 2014 to 2019, India's stature increased immensely.\n"
          ]
        },
        {
          "output_type": "stream",
          "name": "stderr",
          "text": [
            "\rGenerating translations:  40%|███▉      | 636/1598 [03:04<04:12,  3.82it/s]"
          ]
        },
        {
          "output_type": "stream",
          "name": "stdout",
          "text": [
            "Warning: Empty prediction for input: Can I go with you from tomorrow?\n"
          ]
        },
        {
          "output_type": "stream",
          "name": "stderr",
          "text": [
            "\rGenerating translations:  40%|███▉      | 637/1598 [03:05<04:27,  3.60it/s]"
          ]
        },
        {
          "output_type": "stream",
          "name": "stdout",
          "text": [
            "Warning: Empty prediction for input: In the 2009 Maharashtra Assembly polls, the Congress won 82 seats and the Nationalist Congress Party (NCP) 62 seats.\n"
          ]
        },
        {
          "output_type": "stream",
          "name": "stderr",
          "text": [
            "\rGenerating translations:  40%|███▉      | 638/1598 [03:05<04:12,  3.80it/s]"
          ]
        },
        {
          "output_type": "stream",
          "name": "stdout",
          "text": [
            "Warning: Empty prediction for input: Her son was also hurt.\n"
          ]
        },
        {
          "output_type": "stream",
          "name": "stderr",
          "text": [
            "\rGenerating translations:  40%|███▉      | 639/1598 [03:05<04:12,  3.80it/s]"
          ]
        },
        {
          "output_type": "stream",
          "name": "stdout",
          "text": [
            "Warning: Empty prediction for input: Compassion is one of the greatest gifts women can give to their families.\n"
          ]
        },
        {
          "output_type": "stream",
          "name": "stderr",
          "text": [
            "\rGenerating translations:  40%|████      | 640/1598 [03:06<04:04,  3.92it/s]"
          ]
        },
        {
          "output_type": "stream",
          "name": "stdout",
          "text": [
            "Warning: Empty prediction for input: But will he play it?\n"
          ]
        },
        {
          "output_type": "stream",
          "name": "stderr",
          "text": [
            "\rGenerating translations:  40%|████      | 641/1598 [03:06<03:59,  4.00it/s]"
          ]
        },
        {
          "output_type": "stream",
          "name": "stdout",
          "text": [
            "Warning: Empty prediction for input: That's a big issue.\n"
          ]
        },
        {
          "output_type": "stream",
          "name": "stderr",
          "text": [
            "\rGenerating translations:  40%|████      | 642/1598 [03:06<03:59,  3.98it/s]"
          ]
        },
        {
          "output_type": "stream",
          "name": "stdout",
          "text": [
            "Warning: Empty prediction for input: Set the measuring instrument in screen mode, like the image below.\n"
          ]
        },
        {
          "output_type": "stream",
          "name": "stderr",
          "text": [
            "\rGenerating translations:  40%|████      | 643/1598 [03:06<03:57,  4.02it/s]"
          ]
        },
        {
          "output_type": "stream",
          "name": "stdout",
          "text": [
            "Warning: Empty prediction for input: The police called the two men for interrogation.\n"
          ]
        },
        {
          "output_type": "stream",
          "name": "stderr",
          "text": [
            "\rGenerating translations:  40%|████      | 644/1598 [03:07<03:56,  4.03it/s]"
          ]
        },
        {
          "output_type": "stream",
          "name": "stdout",
          "text": [
            "Warning: Empty prediction for input: Bank employees across India are on strike.\n"
          ]
        },
        {
          "output_type": "stream",
          "name": "stderr",
          "text": [
            "\rGenerating translations:  40%|████      | 645/1598 [03:07<03:55,  4.05it/s]"
          ]
        },
        {
          "output_type": "stream",
          "name": "stdout",
          "text": [
            "Warning: Empty prediction for input: All the window panes are broken.\n"
          ]
        },
        {
          "output_type": "stream",
          "name": "stderr",
          "text": [
            "\rGenerating translations:  40%|████      | 646/1598 [03:07<03:54,  4.06it/s]"
          ]
        },
        {
          "output_type": "stream",
          "name": "stdout",
          "text": [
            "Warning: Empty prediction for input: There were no violent incidents.\n"
          ]
        },
        {
          "output_type": "stream",
          "name": "stderr",
          "text": [
            "\rGenerating translations:  40%|████      | 647/1598 [03:07<03:48,  4.16it/s]"
          ]
        },
        {
          "output_type": "stream",
          "name": "stdout",
          "text": [
            "Warning: Empty prediction for input: What did he say?\n"
          ]
        },
        {
          "output_type": "stream",
          "name": "stderr",
          "text": [
            "\rGenerating translations:  41%|████      | 648/1598 [03:07<03:53,  4.07it/s]"
          ]
        },
        {
          "output_type": "stream",
          "name": "stdout",
          "text": [
            "Warning: Empty prediction for input: Fans are very curious to know about the film.\n"
          ]
        },
        {
          "output_type": "stream",
          "name": "stderr",
          "text": [
            "\rGenerating translations:  41%|████      | 649/1598 [03:08<03:56,  4.01it/s]"
          ]
        },
        {
          "output_type": "stream",
          "name": "stdout",
          "text": [
            "Warning: Empty prediction for input: In Kerala, the party is part of the Left Democratic Front.\n"
          ]
        },
        {
          "output_type": "stream",
          "name": "stderr",
          "text": [
            "\rGenerating translations:  41%|████      | 650/1598 [03:08<03:57,  4.00it/s]"
          ]
        },
        {
          "output_type": "stream",
          "name": "stdout",
          "text": [
            "Warning: Empty prediction for input: Let's say we're all a team.\n"
          ]
        },
        {
          "output_type": "stream",
          "name": "stderr",
          "text": [
            "\rGenerating translations:  41%|████      | 651/1598 [03:08<04:14,  3.73it/s]"
          ]
        },
        {
          "output_type": "stream",
          "name": "stdout",
          "text": [
            "Warning: Empty prediction for input: In November 1992, the General Synod of the Church of England adopted a proposal to ordain women as priests.\n"
          ]
        },
        {
          "output_type": "stream",
          "name": "stderr",
          "text": [
            "\rGenerating translations:  41%|████      | 652/1598 [03:09<04:04,  3.87it/s]"
          ]
        },
        {
          "output_type": "stream",
          "name": "stdout",
          "text": [
            "Warning: Empty prediction for input: This happened in Mumbai city.\n"
          ]
        },
        {
          "output_type": "stream",
          "name": "stderr",
          "text": [
            "\rGenerating translations:  41%|████      | 653/1598 [03:09<04:00,  3.93it/s]"
          ]
        },
        {
          "output_type": "stream",
          "name": "stdout",
          "text": [
            "Warning: Empty prediction for input: (Roasted & crushed).\n"
          ]
        },
        {
          "output_type": "stream",
          "name": "stderr",
          "text": [
            "\rGenerating translations:  41%|████      | 654/1598 [03:09<03:57,  3.97it/s]"
          ]
        },
        {
          "output_type": "stream",
          "name": "stdout",
          "text": [
            "Warning: Empty prediction for input: He was removed from that organization.\n"
          ]
        },
        {
          "output_type": "stream",
          "name": "stderr",
          "text": [
            "\rGenerating translations:  41%|████      | 655/1598 [03:09<03:48,  4.12it/s]"
          ]
        },
        {
          "output_type": "stream",
          "name": "stdout",
          "text": [
            "Warning: Empty prediction for input: Have you forgotten that?\n"
          ]
        },
        {
          "output_type": "stream",
          "name": "stderr",
          "text": [
            "\rGenerating translations:  41%|████      | 656/1598 [03:10<04:03,  3.86it/s]"
          ]
        },
        {
          "output_type": "stream",
          "name": "stdout",
          "text": [
            "Warning: Empty prediction for input: None of his bones will be broken - all this happened that this verse might be fulfilled.\n"
          ]
        },
        {
          "output_type": "stream",
          "name": "stderr",
          "text": [
            "\rGenerating translations:  41%|████      | 657/1598 [03:10<04:11,  3.74it/s]"
          ]
        },
        {
          "output_type": "stream",
          "name": "stdout",
          "text": [
            "Warning: Empty prediction for input: With sea power, this kind of operation can be very easy.\n"
          ]
        },
        {
          "output_type": "stream",
          "name": "stderr",
          "text": [
            "\rGenerating translations:  41%|████      | 658/1598 [03:10<04:06,  3.81it/s]"
          ]
        },
        {
          "output_type": "stream",
          "name": "stdout",
          "text": [
            "Warning: Empty prediction for input: It's a question of how it happened.\n"
          ]
        },
        {
          "output_type": "stream",
          "name": "stderr",
          "text": [
            "\rGenerating translations:  41%|████      | 659/1598 [03:10<04:14,  3.70it/s]"
          ]
        },
        {
          "output_type": "stream",
          "name": "stdout",
          "text": [
            "Warning: Empty prediction for input: 2014 Lok Sabha Elections\n"
          ]
        },
        {
          "output_type": "stream",
          "name": "stderr",
          "text": [
            "\rGenerating translations:  41%|████▏     | 660/1598 [03:11<04:30,  3.46it/s]"
          ]
        },
        {
          "output_type": "stream",
          "name": "stdout",
          "text": [
            "Warning: Empty prediction for input: Not only that, تقریباً Rs.\n"
          ]
        },
        {
          "output_type": "stream",
          "name": "stderr",
          "text": [
            "\rGenerating translations:  41%|████▏     | 661/1598 [03:11<04:58,  3.14it/s]"
          ]
        },
        {
          "output_type": "stream",
          "name": "stdout",
          "text": [
            "Warning: Empty prediction for input: TNEA rank list 2020: All students will be given rank on merit basis.\n"
          ]
        },
        {
          "output_type": "stream",
          "name": "stderr",
          "text": [
            "\rGenerating translations:  41%|████▏     | 662/1598 [03:11<05:16,  2.95it/s]"
          ]
        },
        {
          "output_type": "stream",
          "name": "stdout",
          "text": [
            "Warning: Empty prediction for input: In the coming days, we will introduce a very important scheme for citizens.\n"
          ]
        },
        {
          "output_type": "stream",
          "name": "stderr",
          "text": [
            "\rGenerating translations:  41%|████▏     | 663/1598 [03:12<05:23,  2.89it/s]"
          ]
        },
        {
          "output_type": "stream",
          "name": "stdout",
          "text": [
            "Warning: Empty prediction for input: But I can't let it continue for long.\n"
          ]
        },
        {
          "output_type": "stream",
          "name": "stderr",
          "text": [
            "\rGenerating translations:  42%|████▏     | 664/1598 [03:12<05:27,  2.85it/s]"
          ]
        },
        {
          "output_type": "stream",
          "name": "stdout",
          "text": [
            "Warning: Empty prediction for input: Tropical, summers are very hot, winters are moderate.\n"
          ]
        },
        {
          "output_type": "stream",
          "name": "stderr",
          "text": [
            "\rGenerating translations:  42%|████▏     | 665/1598 [03:13<05:24,  2.87it/s]"
          ]
        },
        {
          "output_type": "stream",
          "name": "stdout",
          "text": [
            "Warning: Empty prediction for input: Isn't it your father?\n"
          ]
        },
        {
          "output_type": "stream",
          "name": "stderr",
          "text": [
            "\rGenerating translations:  42%|████▏     | 666/1598 [03:13<05:18,  2.93it/s]"
          ]
        },
        {
          "output_type": "stream",
          "name": "stdout",
          "text": [
            "Warning: Empty prediction for input: In all human life\n"
          ]
        },
        {
          "output_type": "stream",
          "name": "stderr",
          "text": [
            "\rGenerating translations:  42%|████▏     | 667/1598 [03:13<05:14,  2.96it/s]"
          ]
        },
        {
          "output_type": "stream",
          "name": "stdout",
          "text": [
            "Warning: Empty prediction for input: Double click the menu button:\n"
          ]
        },
        {
          "output_type": "stream",
          "name": "stderr",
          "text": [
            "\rGenerating translations:  42%|████▏     | 668/1598 [03:14<05:16,  2.94it/s]"
          ]
        },
        {
          "output_type": "stream",
          "name": "stdout",
          "text": [
            "Warning: Empty prediction for input: Special pujas were performed and bhajans were sung.\n"
          ]
        },
        {
          "output_type": "stream",
          "name": "stderr",
          "text": [
            "\rGenerating translations:  42%|████▏     | 669/1598 [03:14<05:05,  3.04it/s]"
          ]
        },
        {
          "output_type": "stream",
          "name": "stdout",
          "text": [
            "Warning: Empty prediction for input: He also wrote in Bengali, Hindi, English, Sanskrit and Assamese.\n"
          ]
        },
        {
          "output_type": "stream",
          "name": "stderr",
          "text": [
            "\rGenerating translations:  42%|████▏     | 670/1598 [03:14<04:51,  3.18it/s]"
          ]
        },
        {
          "output_type": "stream",
          "name": "stdout",
          "text": [
            "Warning: Empty prediction for input: The consequences of the depression were Adolf Hitler and indirectly the Second World War and Auschwitz.\n"
          ]
        },
        {
          "output_type": "stream",
          "name": "stderr",
          "text": [
            "\rGenerating translations:  42%|████▏     | 671/1598 [03:14<04:26,  3.47it/s]"
          ]
        },
        {
          "output_type": "stream",
          "name": "stdout",
          "text": [
            "Warning: Empty prediction for input: Check out all his recent photos.\n"
          ]
        },
        {
          "output_type": "stream",
          "name": "stderr",
          "text": [
            "\rGenerating translations:  42%|████▏     | 672/1598 [03:15<04:23,  3.51it/s]"
          ]
        },
        {
          "output_type": "stream",
          "name": "stdout",
          "text": [
            "Warning: Empty prediction for input: Edappally railway station is 3 kilometres (1.9 mi) away.\n"
          ]
        },
        {
          "output_type": "stream",
          "name": "stderr",
          "text": [
            "\rGenerating translations:  42%|████▏     | 673/1598 [03:15<04:13,  3.65it/s]"
          ]
        },
        {
          "output_type": "stream",
          "name": "stdout",
          "text": [
            "Warning: Empty prediction for input: I don't want to come here.\n"
          ]
        },
        {
          "output_type": "stream",
          "name": "stderr",
          "text": [
            "\rGenerating translations:  42%|████▏     | 674/1598 [03:15<04:13,  3.64it/s]"
          ]
        },
        {
          "output_type": "stream",
          "name": "stdout",
          "text": [
            "Warning: Empty prediction for input: Stamp duty income has been affected a bit due to the slow pace of the real estate sector.\n"
          ]
        },
        {
          "output_type": "stream",
          "name": "stderr",
          "text": [
            "\rGenerating translations:  42%|████▏     | 675/1598 [03:15<03:59,  3.85it/s]"
          ]
        },
        {
          "output_type": "stream",
          "name": "stdout",
          "text": [
            "Warning: Empty prediction for input: We'll see next week.\n"
          ]
        },
        {
          "output_type": "stream",
          "name": "stderr",
          "text": [
            "\rGenerating translations:  42%|████▏     | 676/1598 [03:16<04:22,  3.51it/s]"
          ]
        },
        {
          "output_type": "stream",
          "name": "stdout",
          "text": [
            "Warning: Empty prediction for input: The Food Safety Standard Association of India (FSSAI) has issued a certificate for quality production of Iodised salt and Double Fortified salt.\n"
          ]
        },
        {
          "output_type": "stream",
          "name": "stderr",
          "text": [
            "\rGenerating translations:  42%|████▏     | 677/1598 [03:16<04:29,  3.41it/s]"
          ]
        },
        {
          "output_type": "stream",
          "name": "stdout",
          "text": [
            "Warning: Empty prediction for input: Yes Ram, they played brilliantly. We restricted them to 126 runs. But it was difficult to score those runs.\n"
          ]
        },
        {
          "output_type": "stream",
          "name": "stderr",
          "text": [
            "\rGenerating translations:  42%|████▏     | 678/1598 [03:16<04:35,  3.34it/s]"
          ]
        },
        {
          "output_type": "stream",
          "name": "stdout",
          "text": [
            "Warning: Empty prediction for input: Men pack a flower with the nursery name Carnations in special corrugated cardboard boxes, 24 bunches in a box.\n"
          ]
        },
        {
          "output_type": "stream",
          "name": "stderr",
          "text": [
            "\rGenerating translations:  42%|████▏     | 679/1598 [03:17<04:23,  3.48it/s]"
          ]
        },
        {
          "output_type": "stream",
          "name": "stdout",
          "text": [
            "Warning: Empty prediction for input: Swine influenza is a flu virus called H1N1.\n"
          ]
        },
        {
          "output_type": "stream",
          "name": "stderr",
          "text": [
            "\rGenerating translations:  43%|████▎     | 680/1598 [03:17<04:13,  3.62it/s]"
          ]
        },
        {
          "output_type": "stream",
          "name": "stdout",
          "text": [
            "Warning: Empty prediction for input: He's in a meeting.\n"
          ]
        },
        {
          "output_type": "stream",
          "name": "stderr",
          "text": [
            "\rGenerating translations:  43%|████▎     | 681/1598 [03:17<03:57,  3.86it/s]"
          ]
        },
        {
          "output_type": "stream",
          "name": "stdout",
          "text": [
            "Warning: Empty prediction for input: Do you know anyone?\n"
          ]
        },
        {
          "output_type": "stream",
          "name": "stderr",
          "text": [
            "\rGenerating translations:  43%|████▎     | 682/1598 [03:17<03:45,  4.06it/s]"
          ]
        },
        {
          "output_type": "stream",
          "name": "stdout",
          "text": [
            "Warning: Empty prediction for input: What do you say?\n"
          ]
        },
        {
          "output_type": "stream",
          "name": "stderr",
          "text": [
            "\rGenerating translations:  43%|████▎     | 683/1598 [03:18<04:28,  3.41it/s]"
          ]
        },
        {
          "output_type": "stream",
          "name": "stdout",
          "text": [
            "Warning: Empty prediction for input: At a base price of $7,500, the customer will be soaked in wine, herbs, chemical preservatives, coated with scented oils and linen, fiberglass, polyethylene, plaster and cocoon.\n"
          ]
        },
        {
          "output_type": "stream",
          "name": "stderr",
          "text": [
            "\rGenerating translations:  43%|████▎     | 684/1598 [03:18<04:15,  3.58it/s]"
          ]
        },
        {
          "output_type": "stream",
          "name": "stdout",
          "text": [
            "Warning: Empty prediction for input: This is what Gandhi approve.\n"
          ]
        },
        {
          "output_type": "stream",
          "name": "stderr",
          "text": [
            "\rGenerating translations:  43%|████▎     | 685/1598 [03:18<04:00,  3.79it/s]"
          ]
        },
        {
          "output_type": "stream",
          "name": "stdout",
          "text": [
            "Warning: Empty prediction for input: For example, Rs.\n"
          ]
        },
        {
          "output_type": "stream",
          "name": "stderr",
          "text": [
            "\rGenerating translations:  43%|████▎     | 686/1598 [03:19<04:19,  3.52it/s]"
          ]
        },
        {
          "output_type": "stream",
          "name": "stdout",
          "text": [
            "Warning: Empty prediction for input: For the first time, the Jammu and Kashmir police and security forces have taken decisive action against terrorism and terrorists in Jammu and Kashmir.\n"
          ]
        },
        {
          "output_type": "stream",
          "name": "stderr",
          "text": [
            "\rGenerating translations:  43%|████▎     | 687/1598 [03:19<04:02,  3.75it/s]"
          ]
        },
        {
          "output_type": "stream",
          "name": "stdout",
          "text": [
            "Warning: Empty prediction for input: Copy the address.\n"
          ]
        },
        {
          "output_type": "stream",
          "name": "stderr",
          "text": [
            "\rGenerating translations:  43%|████▎     | 688/1598 [03:19<04:14,  3.58it/s]"
          ]
        },
        {
          "output_type": "stream",
          "name": "stdout",
          "text": [
            "Warning: Empty prediction for input: Missionary servants are told to be spiritual, so sometimes they can get elders to do the work they do.\n"
          ]
        },
        {
          "output_type": "stream",
          "name": "stderr",
          "text": [
            "\rGenerating translations:  43%|████▎     | 689/1598 [03:19<04:18,  3.51it/s]"
          ]
        },
        {
          "output_type": "stream",
          "name": "stdout",
          "text": [
            "Warning: Empty prediction for input: Now, let's look at a different big bang integration, a different kind of testing.\n"
          ]
        },
        {
          "output_type": "stream",
          "name": "stderr",
          "text": [
            "\rGenerating translations:  43%|████▎     | 690/1598 [03:20<04:38,  3.27it/s]"
          ]
        },
        {
          "output_type": "stream",
          "name": "stdout",
          "text": [
            "Warning: Empty prediction for input: You can use the faith - building and life - giving knowledge of God by looking at what the Bible really says about the events of our day and the bright future.\n"
          ]
        },
        {
          "output_type": "stream",
          "name": "stderr",
          "text": [
            "\rGenerating translations:  43%|████▎     | 691/1598 [03:20<04:19,  3.49it/s]"
          ]
        },
        {
          "output_type": "stream",
          "name": "stdout",
          "text": [
            "Warning: Empty prediction for input: He has no interest in studies.\n"
          ]
        },
        {
          "output_type": "stream",
          "name": "stderr",
          "text": [
            "\rGenerating translations:  43%|████▎     | 692/1598 [03:20<04:00,  3.76it/s]"
          ]
        },
        {
          "output_type": "stream",
          "name": "stdout",
          "text": [
            "Warning: Empty prediction for input: What's up!\n"
          ]
        },
        {
          "output_type": "stream",
          "name": "stderr",
          "text": [
            "\rGenerating translations:  43%|████▎     | 693/1598 [03:20<03:50,  3.93it/s]"
          ]
        },
        {
          "output_type": "stream",
          "name": "stdout",
          "text": [
            "Warning: Empty prediction for input: They came into our house.\n"
          ]
        },
        {
          "output_type": "stream",
          "name": "stderr",
          "text": [
            "\rGenerating translations:  43%|████▎     | 694/1598 [03:21<03:43,  4.04it/s]"
          ]
        },
        {
          "output_type": "stream",
          "name": "stdout",
          "text": [
            "Warning: Empty prediction for input: What's wrong with you?\n"
          ]
        },
        {
          "output_type": "stream",
          "name": "stderr",
          "text": [
            "\rGenerating translations:  43%|████▎     | 695/1598 [03:21<03:39,  4.11it/s]"
          ]
        },
        {
          "output_type": "stream",
          "name": "stdout",
          "text": [
            "Warning: Empty prediction for input: The kids are going to school.\n"
          ]
        },
        {
          "output_type": "stream",
          "name": "stderr",
          "text": [
            "\rGenerating translations:  44%|████▎     | 696/1598 [03:21<03:30,  4.28it/s]"
          ]
        },
        {
          "output_type": "stream",
          "name": "stdout",
          "text": [
            "Warning: Empty prediction for input: United States Independence Day\n"
          ]
        },
        {
          "output_type": "stream",
          "name": "stderr",
          "text": [
            "\rGenerating translations:  44%|████▎     | 697/1598 [03:21<03:39,  4.11it/s]"
          ]
        },
        {
          "output_type": "stream",
          "name": "stdout",
          "text": [
            "Warning: Empty prediction for input: I want to be like him.\n"
          ]
        },
        {
          "output_type": "stream",
          "name": "stderr",
          "text": [
            "\rGenerating translations:  44%|████▎     | 698/1598 [03:22<03:35,  4.18it/s]"
          ]
        },
        {
          "output_type": "stream",
          "name": "stdout",
          "text": [
            "Warning: Empty prediction for input: Yogurt, Olive Oil And Honey\n"
          ]
        },
        {
          "output_type": "stream",
          "name": "stderr",
          "text": [
            "\rGenerating translations:  44%|████▎     | 699/1598 [03:22<03:36,  4.16it/s]"
          ]
        },
        {
          "output_type": "stream",
          "name": "stdout",
          "text": [
            "Warning: Empty prediction for input: That's what we're here for.\n"
          ]
        },
        {
          "output_type": "stream",
          "name": "stderr",
          "text": [
            "\rGenerating translations:  44%|████▍     | 700/1598 [03:22<03:33,  4.22it/s]"
          ]
        },
        {
          "output_type": "stream",
          "name": "stdout",
          "text": [
            "Warning: Empty prediction for input: Police are investigating the incident.\n"
          ]
        },
        {
          "output_type": "stream",
          "name": "stderr",
          "text": [
            "\rGenerating translations:  44%|████▍     | 701/1598 [03:22<03:28,  4.30it/s]"
          ]
        },
        {
          "output_type": "stream",
          "name": "stdout",
          "text": [
            "Warning: Empty prediction for input: This is called stardom.\n"
          ]
        },
        {
          "output_type": "stream",
          "name": "stderr",
          "text": [
            "\rGenerating translations:  44%|████▍     | 702/1598 [03:23<04:01,  3.71it/s]"
          ]
        },
        {
          "output_type": "stream",
          "name": "stdout",
          "text": [
            "Warning: Empty prediction for input: But there's a lot of football talent from Abkhazia, they've all played for top Georgian team FC Dinamo Tbilisi and other Soviet teams.\n"
          ]
        },
        {
          "output_type": "stream",
          "name": "stderr",
          "text": [
            "\rGenerating translations:  44%|████▍     | 703/1598 [03:23<03:58,  3.76it/s]"
          ]
        },
        {
          "output_type": "stream",
          "name": "stdout",
          "text": [
            "Warning: Empty prediction for input: He said there was no FIR, but they were probe.\n"
          ]
        },
        {
          "output_type": "stream",
          "name": "stderr",
          "text": [
            "\rGenerating translations:  44%|████▍     | 704/1598 [03:23<03:50,  3.87it/s]"
          ]
        },
        {
          "output_type": "stream",
          "name": "stdout",
          "text": [
            "Warning: Empty prediction for input: Tests are ongoing.\n"
          ]
        },
        {
          "output_type": "stream",
          "name": "stderr",
          "text": [
            "\rGenerating translations:  44%|████▍     | 705/1598 [03:23<03:50,  3.87it/s]"
          ]
        },
        {
          "output_type": "stream",
          "name": "stdout",
          "text": [
            "Warning: Empty prediction for input: Other crops have maize, sugarcane, and cotton.\n"
          ]
        },
        {
          "output_type": "stream",
          "name": "stderr",
          "text": [
            "\rGenerating translations:  44%|████▍     | 706/1598 [03:24<04:52,  3.05it/s]"
          ]
        },
        {
          "output_type": "stream",
          "name": "stdout",
          "text": [
            "Warning: Empty prediction for input: (a) What is the situation in which all the things in heaven come together in Christ? (b) What about the joining of all things on earth to Christ?\n"
          ]
        },
        {
          "output_type": "stream",
          "name": "stderr",
          "text": [
            "\rGenerating translations:  44%|████▍     | 707/1598 [03:24<04:54,  3.03it/s]"
          ]
        },
        {
          "output_type": "stream",
          "name": "stdout",
          "text": [
            "Warning: Empty prediction for input: Let's read a little more...\n"
          ]
        },
        {
          "output_type": "stream",
          "name": "stderr",
          "text": [
            "\rGenerating translations:  44%|████▍     | 708/1598 [03:25<05:22,  2.76it/s]"
          ]
        },
        {
          "output_type": "stream",
          "name": "stdout",
          "text": [
            "Warning: Empty prediction for input: Rohan Bopanna-Denis Shapovalov has gone to the Rotterdam Open semi-finals.\n"
          ]
        },
        {
          "output_type": "stream",
          "name": "stderr",
          "text": [
            "\rGenerating translations:  44%|████▍     | 709/1598 [03:25<05:44,  2.58it/s]"
          ]
        },
        {
          "output_type": "stream",
          "name": "stdout",
          "text": [
            "Warning: Empty prediction for input: But in today's world, that country is not an exception. Horrific acts have become everyday occurrences.\n"
          ]
        },
        {
          "output_type": "stream",
          "name": "stderr",
          "text": [
            "\rGenerating translations:  44%|████▍     | 710/1598 [03:25<05:35,  2.65it/s]"
          ]
        },
        {
          "output_type": "stream",
          "name": "stdout",
          "text": [
            "Warning: Empty prediction for input: But he's not in the field of play.\n"
          ]
        },
        {
          "output_type": "stream",
          "name": "stderr",
          "text": [
            "\rGenerating translations:  44%|████▍     | 711/1598 [03:26<05:10,  2.86it/s]"
          ]
        },
        {
          "output_type": "stream",
          "name": "stdout",
          "text": [
            "Warning: Empty prediction for input: What treatment?\n"
          ]
        },
        {
          "output_type": "stream",
          "name": "stderr",
          "text": [
            "\rGenerating translations:  45%|████▍     | 712/1598 [03:26<04:55,  3.00it/s]"
          ]
        },
        {
          "output_type": "stream",
          "name": "stdout",
          "text": [
            "Warning: Empty prediction for input: Second Installment\n"
          ]
        },
        {
          "output_type": "stream",
          "name": "stderr",
          "text": [
            "\rGenerating translations:  45%|████▍     | 713/1598 [03:26<04:47,  3.08it/s]"
          ]
        },
        {
          "output_type": "stream",
          "name": "stdout",
          "text": [
            "Warning: Empty prediction for input: He spoke.\n"
          ]
        },
        {
          "output_type": "stream",
          "name": "stderr",
          "text": [
            "\rGenerating translations:  45%|████▍     | 714/1598 [03:27<04:48,  3.07it/s]"
          ]
        },
        {
          "output_type": "stream",
          "name": "stdout",
          "text": [
            "Warning: Empty prediction for input: Parsley Juice\n"
          ]
        },
        {
          "output_type": "stream",
          "name": "stderr",
          "text": [
            "\rGenerating translations:  45%|████▍     | 715/1598 [03:27<04:23,  3.35it/s]"
          ]
        },
        {
          "output_type": "stream",
          "name": "stdout",
          "text": [
            "Warning: Empty prediction for input: Not all of them surrendered.\n"
          ]
        },
        {
          "output_type": "stream",
          "name": "stderr",
          "text": [
            "\rGenerating translations:  45%|████▍     | 716/1598 [03:27<04:18,  3.41it/s]"
          ]
        },
        {
          "output_type": "stream",
          "name": "stdout",
          "text": [
            "Warning: Empty prediction for input: This handbook talks about 95 good practices implemented by the Central Government and several State Governments.\n"
          ]
        },
        {
          "output_type": "stream",
          "name": "stderr",
          "text": [
            "\rGenerating translations:  45%|████▍     | 717/1598 [03:27<04:01,  3.64it/s]"
          ]
        },
        {
          "output_type": "stream",
          "name": "stdout",
          "text": [
            "Warning: Empty prediction for input: Okay. Go get your shoes on.\n"
          ]
        },
        {
          "output_type": "stream",
          "name": "stderr",
          "text": [
            "\rGenerating translations:  45%|████▍     | 718/1598 [03:28<03:52,  3.78it/s]"
          ]
        },
        {
          "output_type": "stream",
          "name": "stdout",
          "text": [
            "Warning: Empty prediction for input: The Indian equity market is open in green colour.\n"
          ]
        },
        {
          "output_type": "stream",
          "name": "stderr",
          "text": [
            "\rGenerating translations:  45%|████▍     | 719/1598 [03:28<03:46,  3.88it/s]"
          ]
        },
        {
          "output_type": "stream",
          "name": "stdout",
          "text": [
            "Warning: Empty prediction for input: Director: Aishwarya Dhanush\n"
          ]
        },
        {
          "output_type": "stream",
          "name": "stderr",
          "text": [
            "\rGenerating translations:  45%|████▌     | 720/1598 [03:28<03:42,  3.94it/s]"
          ]
        },
        {
          "output_type": "stream",
          "name": "stdout",
          "text": [
            "Warning: Empty prediction for input: His phone was switched off.\n"
          ]
        },
        {
          "output_type": "stream",
          "name": "stderr",
          "text": [
            "\rGenerating translations:  45%|████▌     | 721/1598 [03:28<03:46,  3.87it/s]"
          ]
        },
        {
          "output_type": "stream",
          "name": "stdout",
          "text": [
            "Warning: Empty prediction for input: Aadhaar is one of the biggest technology-based empowerment programs in the country.\n"
          ]
        },
        {
          "output_type": "stream",
          "name": "stderr",
          "text": [
            "\rGenerating translations:  45%|████▌     | 722/1598 [03:29<03:44,  3.90it/s]"
          ]
        },
        {
          "output_type": "stream",
          "name": "stdout",
          "text": [
            "Warning: Empty prediction for input: Okay. Shall I give you snacks and fruits?\n"
          ]
        },
        {
          "output_type": "stream",
          "name": "stderr",
          "text": [
            "\rGenerating translations:  45%|████▌     | 723/1598 [03:29<03:43,  3.92it/s]"
          ]
        },
        {
          "output_type": "stream",
          "name": "stdout",
          "text": [
            "Warning: Empty prediction for input: Remove the entry '%1 '.\n"
          ]
        },
        {
          "output_type": "stream",
          "name": "stderr",
          "text": [
            "\rGenerating translations:  45%|████▌     | 724/1598 [03:29<03:54,  3.73it/s]"
          ]
        },
        {
          "output_type": "stream",
          "name": "stdout",
          "text": [
            "Warning: Empty prediction for input: Only essential items are allowed - 2 kg rice, 1 kg sugar, one box match, two disprins.\n"
          ]
        },
        {
          "output_type": "stream",
          "name": "stderr",
          "text": [
            "\rGenerating translations:  45%|████▌     | 725/1598 [03:29<03:47,  3.84it/s]"
          ]
        },
        {
          "output_type": "stream",
          "name": "stdout",
          "text": [
            "Warning: Empty prediction for input: But that's the facts.\n"
          ]
        },
        {
          "output_type": "stream",
          "name": "stderr",
          "text": [
            "\rGenerating translations:  45%|████▌     | 726/1598 [03:30<04:15,  3.41it/s]"
          ]
        },
        {
          "output_type": "stream",
          "name": "stdout",
          "text": [
            "Warning: Empty prediction for input: This is the use of today more than you heeft (you (formal) have, hij heeft he has like).\n"
          ]
        },
        {
          "output_type": "stream",
          "name": "stderr",
          "text": [
            "\rGenerating translations:  45%|████▌     | 727/1598 [03:30<04:20,  3.34it/s]"
          ]
        },
        {
          "output_type": "stream",
          "name": "stdout",
          "text": [
            "Warning: Empty prediction for input: According to reports, Marin says that people want to spend more time with family, loved ones, hobbies, culture, and other things in life.\n"
          ]
        },
        {
          "output_type": "stream",
          "name": "stderr",
          "text": [
            "\rGenerating translations:  46%|████▌     | 728/1598 [03:30<04:41,  3.10it/s]"
          ]
        },
        {
          "output_type": "stream",
          "name": "stdout",
          "text": [
            "Warning: Empty prediction for input: CHENNAI: Former AIADMK leader Mahinda Rajapaksa has been appointed as the new Prime Minister of Tamil Nadu, replacing Prime Minister Ranil Wickremesinghe.\n"
          ]
        },
        {
          "output_type": "stream",
          "name": "stderr",
          "text": [
            "\rGenerating translations:  46%|████▌     | 729/1598 [03:31<04:37,  3.14it/s]"
          ]
        },
        {
          "output_type": "stream",
          "name": "stdout",
          "text": [
            "Warning: Empty prediction for input: After Thevar's death, his younger brother, Oya, along with his children, captured the palace.\n"
          ]
        },
        {
          "output_type": "stream",
          "name": "stderr",
          "text": [
            "\rGenerating translations:  46%|████▌     | 730/1598 [03:31<04:23,  3.30it/s]"
          ]
        },
        {
          "output_type": "stream",
          "name": "stdout",
          "text": [
            "Warning: Empty prediction for input: Their form will define them, but their color will highlight their uniqueness.\n"
          ]
        },
        {
          "output_type": "stream",
          "name": "stderr",
          "text": [
            "\rGenerating translations:  46%|████▌     | 731/1598 [03:31<04:03,  3.56it/s]"
          ]
        },
        {
          "output_type": "stream",
          "name": "stdout",
          "text": [
            "Warning: Empty prediction for input: I told you the truth.\n"
          ]
        },
        {
          "output_type": "stream",
          "name": "stderr",
          "text": [
            "\rGenerating translations:  46%|████▌     | 732/1598 [03:32<04:16,  3.38it/s]"
          ]
        },
        {
          "output_type": "stream",
          "name": "stdout",
          "text": [
            "Warning: Empty prediction for input: He overlaid the whole house in gold, and he overlaid the altar next to the oracle in gold until the house was finished.\n"
          ]
        },
        {
          "output_type": "stream",
          "name": "stderr",
          "text": [
            "\rGenerating translations:  46%|████▌     | 733/1598 [03:32<03:59,  3.62it/s]"
          ]
        },
        {
          "output_type": "stream",
          "name": "stdout",
          "text": [
            "Warning: Empty prediction for input: Of course, you can come freely.\n"
          ]
        },
        {
          "output_type": "stream",
          "name": "stderr",
          "text": [
            "\rGenerating translations:  46%|████▌     | 734/1598 [03:32<03:50,  3.75it/s]"
          ]
        },
        {
          "output_type": "stream",
          "name": "stdout",
          "text": [
            "Warning: Empty prediction for input: People from all ages came to the function.\n"
          ]
        },
        {
          "output_type": "stream",
          "name": "stderr",
          "text": [
            "\rGenerating translations:  46%|████▌     | 735/1598 [03:32<03:55,  3.66it/s]"
          ]
        },
        {
          "output_type": "stream",
          "name": "stdout",
          "text": [
            "Warning: Empty prediction for input: He has been with us for 35 years, he was dedicated to the people and the party.\n"
          ]
        },
        {
          "output_type": "stream",
          "name": "stderr",
          "text": [
            "\rGenerating translations:  46%|████▌     | 736/1598 [03:33<04:02,  3.55it/s]"
          ]
        },
        {
          "output_type": "stream",
          "name": "stdout",
          "text": [
            "Warning: Empty prediction for input: Tell me, it's a little out of context, but it's very helpful to know.\n"
          ]
        },
        {
          "output_type": "stream",
          "name": "stderr",
          "text": [
            "\rGenerating translations:  46%|████▌     | 737/1598 [03:33<03:51,  3.71it/s]"
          ]
        },
        {
          "output_type": "stream",
          "name": "stdout",
          "text": [
            "Warning: Empty prediction for input: It's not a secret.\n"
          ]
        },
        {
          "output_type": "stream",
          "name": "stderr",
          "text": [
            "\rGenerating translations:  46%|████▌     | 738/1598 [03:33<04:11,  3.43it/s]"
          ]
        },
        {
          "output_type": "stream",
          "name": "stdout",
          "text": [
            "Warning: Empty prediction for input: He rescues Daniel from the lion, so He works, redeems, and gives wonders and wonders in heaven and earth. Daniel 6: 26, 27.\n"
          ]
        },
        {
          "output_type": "stream",
          "name": "stderr",
          "text": [
            "\rGenerating translations:  46%|████▌     | 739/1598 [03:34<04:02,  3.54it/s]"
          ]
        },
        {
          "output_type": "stream",
          "name": "stdout",
          "text": [
            "Warning: Empty prediction for input: In 1973, I got a job offer that I couldn't refuse.\n"
          ]
        },
        {
          "output_type": "stream",
          "name": "stderr",
          "text": [
            "\rGenerating translations:  46%|████▋     | 740/1598 [03:34<04:55,  2.90it/s]"
          ]
        },
        {
          "output_type": "stream",
          "name": "stdout",
          "text": [
            "Warning: Empty prediction for input: To find this angle subscheduled by its lower edge, the final position of this element's lower edge, including the initial position and the Delta Alpha, is side edge, it's rotated in a clockwise direction, but it's rotated in an anticlockwise direction.\n"
          ]
        },
        {
          "output_type": "stream",
          "name": "stderr",
          "text": [
            "\rGenerating translations:  46%|████▋     | 741/1598 [03:34<04:40,  3.05it/s]"
          ]
        },
        {
          "output_type": "stream",
          "name": "stdout",
          "text": [
            "Warning: Empty prediction for input: So no one in a congregation should be proud of their abilities and go out to dominate others.\n"
          ]
        },
        {
          "output_type": "stream",
          "name": "stderr",
          "text": [
            "\rGenerating translations:  46%|████▋     | 742/1598 [03:35<04:15,  3.35it/s]"
          ]
        },
        {
          "output_type": "stream",
          "name": "stdout",
          "text": [
            "Warning: Empty prediction for input: Rs. 100 60 Cr.\n"
          ]
        },
        {
          "output_type": "stream",
          "name": "stderr",
          "text": [
            "\rGenerating translations:  46%|████▋     | 743/1598 [03:35<03:59,  3.57it/s]"
          ]
        },
        {
          "output_type": "stream",
          "name": "stdout",
          "text": [
            "Warning: Empty prediction for input: Tell me what's the game?\n"
          ]
        },
        {
          "output_type": "stream",
          "name": "stderr",
          "text": [
            "\rGenerating translations:  47%|████▋     | 744/1598 [03:35<03:51,  3.69it/s]"
          ]
        },
        {
          "output_type": "stream",
          "name": "stdout",
          "text": [
            "Warning: Empty prediction for input: Once cooled, blend it into a puree.\n"
          ]
        },
        {
          "output_type": "stream",
          "name": "stderr",
          "text": [
            "\rGenerating translations:  47%|████▋     | 745/1598 [03:35<03:37,  3.92it/s]"
          ]
        },
        {
          "output_type": "stream",
          "name": "stdout",
          "text": [
            "Warning: Empty prediction for input: Where is Rahul?\n"
          ]
        },
        {
          "output_type": "stream",
          "name": "stderr",
          "text": [
            "\rGenerating translations:  47%|████▋     | 746/1598 [03:36<03:34,  3.97it/s]"
          ]
        },
        {
          "output_type": "stream",
          "name": "stdout",
          "text": [
            "Warning: Empty prediction for input: There's a problem here.\n"
          ]
        },
        {
          "output_type": "stream",
          "name": "stderr",
          "text": [
            "\rGenerating translations:  47%|████▋     | 747/1598 [03:36<03:39,  3.88it/s]"
          ]
        },
        {
          "output_type": "stream",
          "name": "stdout",
          "text": [
            "Warning: Empty prediction for input: 986 feet [300 m] 1889 Eiffel Tower, Paris, France\n"
          ]
        },
        {
          "output_type": "stream",
          "name": "stderr",
          "text": [
            "\rGenerating translations:  47%|████▋     | 748/1598 [03:36<03:40,  3.85it/s]"
          ]
        },
        {
          "output_type": "stream",
          "name": "stdout",
          "text": [
            "Warning: Empty prediction for input: Tensions between Iran and the U.S. are still ongoing.\n"
          ]
        },
        {
          "output_type": "stream",
          "name": "stderr",
          "text": [
            "\rGenerating translations:  47%|████▋     | 749/1598 [03:36<03:30,  4.03it/s]"
          ]
        },
        {
          "output_type": "stream",
          "name": "stdout",
          "text": [
            "Warning: Empty prediction for input: He woke up suddenly.\n"
          ]
        },
        {
          "output_type": "stream",
          "name": "stderr",
          "text": [
            "\rGenerating translations:  47%|████▋     | 750/1598 [03:37<03:56,  3.59it/s]"
          ]
        },
        {
          "output_type": "stream",
          "name": "stdout",
          "text": [
            "Warning: Empty prediction for input: The depth is from ankle-deep to knee-deep, hip-deep, and then it's a torrent big enough to go swimming. The river brings life and prosperity.\n"
          ]
        },
        {
          "output_type": "stream",
          "name": "stderr",
          "text": [
            "\rGenerating translations:  47%|████▋     | 751/1598 [03:37<04:10,  3.38it/s]"
          ]
        },
        {
          "output_type": "stream",
          "name": "stdout",
          "text": [
            "Warning: Empty prediction for input: Cut the tomatoes and onions into pieces.\n"
          ]
        },
        {
          "output_type": "stream",
          "name": "stderr",
          "text": [
            "\rGenerating translations:  47%|████▋     | 752/1598 [03:37<04:12,  3.35it/s]"
          ]
        },
        {
          "output_type": "stream",
          "name": "stdout",
          "text": [
            "Warning: Empty prediction for input: He applauded.\n"
          ]
        },
        {
          "output_type": "stream",
          "name": "stderr",
          "text": [
            "\rGenerating translations:  47%|████▋     | 753/1598 [03:38<04:42,  2.99it/s]"
          ]
        },
        {
          "output_type": "stream",
          "name": "stdout",
          "text": [
            "Warning: Empty prediction for input: Vijay and Rajinikanth are two of the most popular actors in Tamil Nadu.\n"
          ]
        },
        {
          "output_type": "stream",
          "name": "stderr",
          "text": [
            "\rGenerating translations:  47%|████▋     | 754/1598 [03:38<04:42,  2.99it/s]"
          ]
        },
        {
          "output_type": "stream",
          "name": "stdout",
          "text": [
            "Warning: Empty prediction for input: A lot of shops were looted.\n"
          ]
        },
        {
          "output_type": "stream",
          "name": "stderr",
          "text": [
            "\rGenerating translations:  47%|████▋     | 755/1598 [03:38<04:45,  2.95it/s]"
          ]
        },
        {
          "output_type": "stream",
          "name": "stdout",
          "text": [
            "Warning: Empty prediction for input: More than 40,000 survivors are being treated in hospitals and aid centers.\n"
          ]
        },
        {
          "output_type": "stream",
          "name": "stderr",
          "text": [
            "\rGenerating translations:  47%|████▋     | 756/1598 [03:39<05:07,  2.74it/s]"
          ]
        },
        {
          "output_type": "stream",
          "name": "stdout",
          "text": [
            "Warning: Empty prediction for input: According to a recent survey from WHO, 1.5 lakh people die in road accidents every year in India.\n"
          ]
        },
        {
          "output_type": "stream",
          "name": "stderr",
          "text": [
            "\rGenerating translations:  47%|████▋     | 757/1598 [03:39<04:55,  2.85it/s]"
          ]
        },
        {
          "output_type": "stream",
          "name": "stdout",
          "text": [
            "Warning: Empty prediction for input: Debates are going on.\n"
          ]
        },
        {
          "output_type": "stream",
          "name": "stderr",
          "text": [
            "\rGenerating translations:  47%|████▋     | 758/1598 [03:39<04:46,  2.94it/s]"
          ]
        },
        {
          "output_type": "stream",
          "name": "stdout",
          "text": [
            "Warning: Empty prediction for input: Do you want to?\n"
          ]
        },
        {
          "output_type": "stream",
          "name": "stderr",
          "text": [
            "\rGenerating translations:  47%|████▋     | 759/1598 [03:40<04:52,  2.87it/s]"
          ]
        },
        {
          "output_type": "stream",
          "name": "stdout",
          "text": [
            "Warning: Empty prediction for input: That's what Hinduism is.\n"
          ]
        },
        {
          "output_type": "stream",
          "name": "stderr",
          "text": [
            "\rGenerating translations:  48%|████▊     | 760/1598 [03:40<04:50,  2.89it/s]"
          ]
        },
        {
          "output_type": "stream",
          "name": "stdout",
          "text": [
            "Warning: Empty prediction for input: The police say they haven't arrested anyone in this case yet.\n"
          ]
        },
        {
          "output_type": "stream",
          "name": "stderr",
          "text": [
            "\rGenerating translations:  48%|████▊     | 761/1598 [03:40<04:27,  3.12it/s]"
          ]
        },
        {
          "output_type": "stream",
          "name": "stdout",
          "text": [
            "Warning: Empty prediction for input: A lot of pacts are expected to be signed during this visit.\n"
          ]
        },
        {
          "output_type": "stream",
          "name": "stderr",
          "text": [
            "\rGenerating translations:  48%|████▊     | 762/1598 [03:41<04:12,  3.31it/s]"
          ]
        },
        {
          "output_type": "stream",
          "name": "stdout",
          "text": [
            "Warning: Empty prediction for input: They've got an unforgettable impression on these companies.\n"
          ]
        },
        {
          "output_type": "stream",
          "name": "stderr",
          "text": [
            "\rGenerating translations:  48%|████▊     | 763/1598 [03:41<04:09,  3.35it/s]"
          ]
        },
        {
          "output_type": "stream",
          "name": "stdout",
          "text": [
            "Warning: Empty prediction for input: Oh yes. He came in the morning and got it repaired and took one hundred and fifty rupees.\n"
          ]
        },
        {
          "output_type": "stream",
          "name": "stderr",
          "text": [
            "\rGenerating translations:  48%|████▊     | 764/1598 [03:41<03:59,  3.48it/s]"
          ]
        },
        {
          "output_type": "stream",
          "name": "stdout",
          "text": [
            "Warning: Empty prediction for input: The online exam preliminary and the main will be held in two stages.\n"
          ]
        },
        {
          "output_type": "stream",
          "name": "stderr",
          "text": [
            "\rGenerating translations:  48%|████▊     | 765/1598 [03:41<03:54,  3.55it/s]"
          ]
        },
        {
          "output_type": "stream",
          "name": "stdout",
          "text": [
            "Warning: Empty prediction for input: Venture Capital Assistance, Project Development Facility sanction for Agri Business Development in Tamil Nadu.\n"
          ]
        },
        {
          "output_type": "stream",
          "name": "stderr",
          "text": [
            "\rGenerating translations:  48%|████▊     | 766/1598 [03:42<03:43,  3.71it/s]"
          ]
        },
        {
          "output_type": "stream",
          "name": "stdout",
          "text": [
            "Warning: Empty prediction for input: Is that your profession?\n"
          ]
        },
        {
          "output_type": "stream",
          "name": "stderr",
          "text": [
            "\rGenerating translations:  48%|████▊     | 767/1598 [03:42<04:11,  3.31it/s]"
          ]
        },
        {
          "output_type": "stream",
          "name": "stdout",
          "text": [
            "Warning: Empty prediction for input: Union Minister for Road Transport, Highways and MSMEs Shri Nitin Gadkari will lay the foundation stone for nine National Highway projects worth more than Rs 2752 crore with a length of nearly 262 km.\n"
          ]
        },
        {
          "output_type": "stream",
          "name": "stderr",
          "text": [
            "\rGenerating translations:  48%|████▊     | 768/1598 [03:42<04:07,  3.35it/s]"
          ]
        },
        {
          "output_type": "stream",
          "name": "stdout",
          "text": [
            "Warning: Empty prediction for input: And then, other young people, including unbelievers, might want to confide in you.\n"
          ]
        },
        {
          "output_type": "stream",
          "name": "stderr",
          "text": [
            "\rGenerating translations:  48%|████▊     | 769/1598 [03:43<04:49,  2.87it/s]"
          ]
        },
        {
          "output_type": "stream",
          "name": "stdout",
          "text": [
            "Warning: Empty prediction for input: Reflecting on the time when they would return to their motherhood, Jehovah said: \"You will become a beautiful crown in the hand of Jehovah and a kingly turban in the palm of your God.\"\n"
          ]
        },
        {
          "output_type": "stream",
          "name": "stderr",
          "text": [
            "\rGenerating translations:  48%|████▊     | 770/1598 [03:43<04:19,  3.20it/s]"
          ]
        },
        {
          "output_type": "stream",
          "name": "stdout",
          "text": [
            "Warning: Empty prediction for input: He also visited Kumar Post.\n"
          ]
        },
        {
          "output_type": "stream",
          "name": "stderr",
          "text": [
            "\rGenerating translations:  48%|████▊     | 771/1598 [03:43<03:54,  3.52it/s]"
          ]
        },
        {
          "output_type": "stream",
          "name": "stdout",
          "text": [
            "Warning: Empty prediction for input: Time has passed.\n"
          ]
        },
        {
          "output_type": "stream",
          "name": "stderr",
          "text": [
            "\rGenerating translations:  48%|████▊     | 772/1598 [03:44<03:49,  3.59it/s]"
          ]
        },
        {
          "output_type": "stream",
          "name": "stdout",
          "text": [
            "Warning: Empty prediction for input: He dedicated this award to his directors, producers, technicians and fans.\n"
          ]
        },
        {
          "output_type": "stream",
          "name": "stderr",
          "text": [
            "\rGenerating translations:  48%|████▊     | 773/1598 [03:44<03:46,  3.64it/s]"
          ]
        },
        {
          "output_type": "stream",
          "name": "stdout",
          "text": [
            "Warning: Empty prediction for input: It's no longer \"make sense\" for us.\n"
          ]
        },
        {
          "output_type": "stream",
          "name": "stderr",
          "text": [
            "\rGenerating translations:  48%|████▊     | 774/1598 [03:44<03:59,  3.44it/s]"
          ]
        },
        {
          "output_type": "stream",
          "name": "stdout",
          "text": [
            "Warning: Empty prediction for input: Before ascending to heaven, Jesus told his disciples, \"You will be witnesses of me... to the most distant part of the earth.\n"
          ]
        },
        {
          "output_type": "stream",
          "name": "stderr",
          "text": [
            "\rGenerating translations:  48%|████▊     | 775/1598 [03:44<03:48,  3.60it/s]"
          ]
        },
        {
          "output_type": "stream",
          "name": "stdout",
          "text": [
            "Warning: Empty prediction for input: If you know the truth, you will be afraid.\n"
          ]
        },
        {
          "output_type": "stream",
          "name": "stderr",
          "text": [
            "\rGenerating translations:  49%|████▊     | 776/1598 [03:45<03:38,  3.76it/s]"
          ]
        },
        {
          "output_type": "stream",
          "name": "stdout",
          "text": [
            "Warning: Empty prediction for input: Both his legs were bent.\n"
          ]
        },
        {
          "output_type": "stream",
          "name": "stderr",
          "text": [
            "\rGenerating translations:  49%|████▊     | 777/1598 [03:45<03:34,  3.84it/s]"
          ]
        },
        {
          "output_type": "stream",
          "name": "stdout",
          "text": [
            "Warning: Empty prediction for input: Is that the reason?\n"
          ]
        },
        {
          "output_type": "stream",
          "name": "stderr",
          "text": [
            "\rGenerating translations:  49%|████▊     | 778/1598 [03:45<03:34,  3.83it/s]"
          ]
        },
        {
          "output_type": "stream",
          "name": "stdout",
          "text": [
            "Warning: Empty prediction for input: Soon 30 people were coming around the car and asking for a message.\n"
          ]
        },
        {
          "output_type": "stream",
          "name": "stderr",
          "text": [
            "\rGenerating translations:  49%|████▊     | 779/1598 [03:45<03:26,  3.97it/s]"
          ]
        },
        {
          "output_type": "stream",
          "name": "stdout",
          "text": [
            "Warning: Empty prediction for input: Politie is investigating this.\n"
          ]
        },
        {
          "output_type": "stream",
          "name": "stderr",
          "text": [
            "\rGenerating translations:  49%|████▉     | 780/1598 [03:46<03:28,  3.92it/s]"
          ]
        },
        {
          "output_type": "stream",
          "name": "stdout",
          "text": [
            "Warning: Empty prediction for input: She has acted in Tamil, Telugu and Hindi films.\n"
          ]
        },
        {
          "output_type": "stream",
          "name": "stderr",
          "text": [
            "\rGenerating translations:  49%|████▉     | 781/1598 [03:46<03:31,  3.87it/s]"
          ]
        },
        {
          "output_type": "stream",
          "name": "stdout",
          "text": [
            "Warning: Empty prediction for input: Grind tomatoes, ginger and green chillies.\n"
          ]
        },
        {
          "output_type": "stream",
          "name": "stderr",
          "text": [
            "\rGenerating translations:  49%|████▉     | 782/1598 [03:46<03:25,  3.97it/s]"
          ]
        },
        {
          "output_type": "stream",
          "name": "stdout",
          "text": [
            "Warning: Empty prediction for input: The Supreme Court rejected that case.\n"
          ]
        },
        {
          "output_type": "stream",
          "name": "stderr",
          "text": [
            "\rGenerating translations:  49%|████▉     | 783/1598 [03:46<03:28,  3.91it/s]"
          ]
        },
        {
          "output_type": "stream",
          "name": "stdout",
          "text": [
            "Warning: Empty prediction for input: They think it's important to set a precedent for everything.\n"
          ]
        },
        {
          "output_type": "stream",
          "name": "stderr",
          "text": [
            "\rGenerating translations:  49%|████▉     | 784/1598 [03:47<03:17,  4.11it/s]"
          ]
        },
        {
          "output_type": "stream",
          "name": "stdout",
          "text": [
            "Warning: Empty prediction for input: They are married.\n"
          ]
        },
        {
          "output_type": "stream",
          "name": "stderr",
          "text": [
            "\rGenerating translations:  49%|████▉     | 785/1598 [03:47<03:22,  4.02it/s]"
          ]
        },
        {
          "output_type": "stream",
          "name": "stdout",
          "text": [
            "Warning: Empty prediction for input: Companies should not try to achieve more production targets.\n"
          ]
        },
        {
          "output_type": "stream",
          "name": "stderr",
          "text": [
            "\rGenerating translations:  49%|████▉     | 786/1598 [03:47<03:27,  3.92it/s]"
          ]
        },
        {
          "output_type": "stream",
          "name": "stdout",
          "text": [
            "Warning: Empty prediction for input: So if someone's [good deeds] were scales heavy,\n"
          ]
        },
        {
          "output_type": "stream",
          "name": "stderr",
          "text": [
            "\rGenerating translations:  49%|████▉     | 787/1598 [03:47<03:19,  4.06it/s]"
          ]
        },
        {
          "output_type": "stream",
          "name": "stdout",
          "text": [
            "Warning: Empty prediction for input: Rs 25 lakh has been stolen.\n"
          ]
        },
        {
          "output_type": "stream",
          "name": "stderr",
          "text": [
            "\rGenerating translations:  49%|████▉     | 788/1598 [03:48<03:52,  3.48it/s]"
          ]
        },
        {
          "output_type": "stream",
          "name": "stdout",
          "text": [
            "Warning: Empty prediction for input: So, it's happening through a process called nondisjunction, which means that when these two cells are divided, they say that the chromosomes are not properly sorted?\n"
          ]
        },
        {
          "output_type": "stream",
          "name": "stderr",
          "text": [
            "\rGenerating translations:  49%|████▉     | 789/1598 [03:48<04:00,  3.37it/s]"
          ]
        },
        {
          "output_type": "stream",
          "name": "stdout",
          "text": [
            "Warning: Empty prediction for input: They not only created many temples and works of art, but also supported the universities of Nalanda and Vikramila.\n"
          ]
        },
        {
          "output_type": "stream",
          "name": "stderr",
          "text": [
            "\rGenerating translations:  49%|████▉     | 790/1598 [03:48<03:58,  3.38it/s]"
          ]
        },
        {
          "output_type": "stream",
          "name": "stdout",
          "text": [
            "Warning: Empty prediction for input: Now I have joined Puri Jagannath as an assistant director in a Telugu film.\n"
          ]
        },
        {
          "output_type": "stream",
          "name": "stderr",
          "text": [
            "\rGenerating translations:  49%|████▉     | 791/1598 [03:49<03:43,  3.61it/s]"
          ]
        },
        {
          "output_type": "stream",
          "name": "stdout",
          "text": [
            "Warning: Empty prediction for input: What will they do then?\n"
          ]
        },
        {
          "output_type": "stream",
          "name": "stderr",
          "text": [
            "\rGenerating translations:  50%|████▉     | 792/1598 [03:49<04:09,  3.23it/s]"
          ]
        },
        {
          "output_type": "stream",
          "name": "stdout",
          "text": [
            "Warning: Empty prediction for input: Oh yes brother. Only then will there be no disease. I don't have BP (blood pressure) or sugar (sugar). I go for a walk for an hour every day.\n"
          ]
        },
        {
          "output_type": "stream",
          "name": "stderr",
          "text": [
            "\rGenerating translations:  50%|████▉     | 793/1598 [03:49<03:55,  3.41it/s]"
          ]
        },
        {
          "output_type": "stream",
          "name": "stdout",
          "text": [
            "Warning: Empty prediction for input: So India needs to change their strategy.\n"
          ]
        },
        {
          "output_type": "stream",
          "name": "stderr",
          "text": [
            "\rGenerating translations:  50%|████▉     | 794/1598 [03:49<03:47,  3.54it/s]"
          ]
        },
        {
          "output_type": "stream",
          "name": "stdout",
          "text": [
            "Warning: Empty prediction for input: What joy it was to see my husband and my son together!\n"
          ]
        },
        {
          "output_type": "stream",
          "name": "stderr",
          "text": [
            "\rGenerating translations:  50%|████▉     | 795/1598 [03:50<03:36,  3.71it/s]"
          ]
        },
        {
          "output_type": "stream",
          "name": "stdout",
          "text": [
            "Warning: Empty prediction for input: But he denied the news.\n"
          ]
        },
        {
          "output_type": "stream",
          "name": "stderr",
          "text": [
            "\rGenerating translations:  50%|████▉     | 796/1598 [03:50<03:48,  3.50it/s]"
          ]
        },
        {
          "output_type": "stream",
          "name": "stdout",
          "text": [
            "Warning: Empty prediction for input: He was released, but then they gave him a very difficult sentence from a German denazification court.\n"
          ]
        },
        {
          "output_type": "stream",
          "name": "stderr",
          "text": [
            "\rGenerating translations:  50%|████▉     | 797/1598 [03:50<03:59,  3.34it/s]"
          ]
        },
        {
          "output_type": "stream",
          "name": "stdout",
          "text": [
            "Warning: Empty prediction for input: Okay. Bye Mala.\n"
          ]
        },
        {
          "output_type": "stream",
          "name": "stderr",
          "text": [
            "\rGenerating translations:  50%|████▉     | 798/1598 [03:51<04:20,  3.07it/s]"
          ]
        },
        {
          "output_type": "stream",
          "name": "stdout",
          "text": [
            "Warning: Empty prediction for input: The shooting of the film will start a little late this month.\n"
          ]
        },
        {
          "output_type": "stream",
          "name": "stderr",
          "text": [
            "\rGenerating translations:  50%|█████     | 799/1598 [03:51<04:45,  2.80it/s]"
          ]
        },
        {
          "output_type": "stream",
          "name": "stdout",
          "text": [
            "Warning: Empty prediction for input: I'm confident that our ties will become stronger in the years to come.\n"
          ]
        },
        {
          "output_type": "stream",
          "name": "stderr",
          "text": [
            "\rGenerating translations:  50%|█████     | 800/1598 [03:52<04:42,  2.82it/s]"
          ]
        },
        {
          "output_type": "stream",
          "name": "stdout",
          "text": [
            "Warning: Empty prediction for input: Flooding has devastated many states.\n"
          ]
        },
        {
          "output_type": "stream",
          "name": "stderr",
          "text": [
            "\rGenerating translations:  50%|█████     | 801/1598 [03:52<04:35,  2.90it/s]"
          ]
        },
        {
          "output_type": "stream",
          "name": "stdout",
          "text": [
            "Warning: Empty prediction for input: I haven't seen any films.\n"
          ]
        },
        {
          "output_type": "stream",
          "name": "stderr",
          "text": [
            "\rGenerating translations:  50%|█████     | 802/1598 [03:52<04:28,  2.96it/s]"
          ]
        },
        {
          "output_type": "stream",
          "name": "stdout",
          "text": [
            "Warning: Empty prediction for input: An average of 50 lakhs.\n"
          ]
        },
        {
          "output_type": "stream",
          "name": "stderr",
          "text": [
            "\rGenerating translations:  50%|█████     | 803/1598 [03:53<04:35,  2.89it/s]"
          ]
        },
        {
          "output_type": "stream",
          "name": "stdout",
          "text": [
            "Warning: Empty prediction for input: Nine of these conventions are attended by thousands of delegates from different countries.\n"
          ]
        },
        {
          "output_type": "stream",
          "name": "stderr",
          "text": [
            "\rGenerating translations:  50%|█████     | 804/1598 [03:53<04:33,  2.91it/s]"
          ]
        },
        {
          "output_type": "stream",
          "name": "stdout",
          "text": [
            "Warning: Empty prediction for input: I don't know anything.\n"
          ]
        },
        {
          "output_type": "stream",
          "name": "stderr",
          "text": [
            "\rGenerating translations:  50%|█████     | 805/1598 [03:53<04:31,  2.92it/s]"
          ]
        },
        {
          "output_type": "stream",
          "name": "stdout",
          "text": [
            "Warning: Empty prediction for input: I'll be back.\n"
          ]
        },
        {
          "output_type": "stream",
          "name": "stderr",
          "text": [
            "\rGenerating translations:  50%|█████     | 806/1598 [03:54<04:23,  3.00it/s]"
          ]
        },
        {
          "output_type": "stream",
          "name": "stdout",
          "text": [
            "Warning: Empty prediction for input: The response is not good.\n"
          ]
        },
        {
          "output_type": "stream",
          "name": "stderr",
          "text": [
            "\rGenerating translations:  51%|█████     | 807/1598 [03:54<04:00,  3.29it/s]"
          ]
        },
        {
          "output_type": "stream",
          "name": "stdout",
          "text": [
            "Warning: Empty prediction for input: It's: Don't.\n"
          ]
        },
        {
          "output_type": "stream",
          "name": "stderr",
          "text": [
            "\rGenerating translations:  51%|█████     | 808/1598 [03:54<03:38,  3.61it/s]"
          ]
        },
        {
          "output_type": "stream",
          "name": "stdout",
          "text": [
            "Warning: Empty prediction for input: Ok ok.\n"
          ]
        },
        {
          "output_type": "stream",
          "name": "stderr",
          "text": [
            "\rGenerating translations:  51%|█████     | 809/1598 [03:54<03:46,  3.49it/s]"
          ]
        },
        {
          "output_type": "stream",
          "name": "stdout",
          "text": [
            "Warning: Empty prediction for input: The project preparation fund in TNIDB will be used to prepare Detailed Project Reports and launch the programme in 2019-2020.\n"
          ]
        },
        {
          "output_type": "stream",
          "name": "stderr",
          "text": [
            "\rGenerating translations:  51%|█████     | 810/1598 [03:55<03:30,  3.74it/s]"
          ]
        },
        {
          "output_type": "stream",
          "name": "stdout",
          "text": [
            "Warning: Empty prediction for input: You may like it.\n"
          ]
        },
        {
          "output_type": "stream",
          "name": "stderr",
          "text": [
            "\rGenerating translations:  51%|█████     | 811/1598 [03:55<03:19,  3.95it/s]"
          ]
        },
        {
          "output_type": "stream",
          "name": "stdout",
          "text": [
            "Warning: Empty prediction for input: How do they do that?\n"
          ]
        },
        {
          "output_type": "stream",
          "name": "stderr",
          "text": [
            "\rGenerating translations:  51%|█████     | 812/1598 [03:55<03:21,  3.90it/s]"
          ]
        },
        {
          "output_type": "stream",
          "name": "stdout",
          "text": [
            "Warning: Empty prediction for input: Okay. How's Mom? Do you have any help at home?\n"
          ]
        },
        {
          "output_type": "stream",
          "name": "stderr",
          "text": [
            "\rGenerating translations:  51%|█████     | 813/1598 [03:55<03:15,  4.01it/s]"
          ]
        },
        {
          "output_type": "stream",
          "name": "stdout",
          "text": [
            "Warning: Empty prediction for input: Young people are not getting jobs.\n"
          ]
        },
        {
          "output_type": "stream",
          "name": "stderr",
          "text": [
            "\rGenerating translations:  51%|█████     | 814/1598 [03:55<03:12,  4.08it/s]"
          ]
        },
        {
          "output_type": "stream",
          "name": "stdout",
          "text": [
            "Warning: Empty prediction for input: Pakistan won the match by 62 runs.\n"
          ]
        },
        {
          "output_type": "stream",
          "name": "stderr",
          "text": [
            "\rGenerating translations:  51%|█████     | 815/1598 [03:56<03:13,  4.04it/s]"
          ]
        },
        {
          "output_type": "stream",
          "name": "stdout",
          "text": [
            "Warning: Empty prediction for input: Pregnant women are also given nutritious food.\n"
          ]
        },
        {
          "output_type": "stream",
          "name": "stderr",
          "text": [
            "\rGenerating translations:  51%|█████     | 816/1598 [03:56<03:05,  4.22it/s]"
          ]
        },
        {
          "output_type": "stream",
          "name": "stdout",
          "text": [
            "Warning: Empty prediction for input: India Trip\n"
          ]
        },
        {
          "output_type": "stream",
          "name": "stderr",
          "text": [
            "\rGenerating translations:  51%|█████     | 817/1598 [03:56<03:24,  3.83it/s]"
          ]
        },
        {
          "output_type": "stream",
          "name": "stdout",
          "text": [
            "Warning: Empty prediction for input: \"Our economy is ready for unprecedented growth,\" the vice president said, but there are two important things to look out for: equity and ethics.\n"
          ]
        },
        {
          "output_type": "stream",
          "name": "stderr",
          "text": [
            "\rGenerating translations:  51%|█████     | 818/1598 [03:56<03:15,  3.99it/s]"
          ]
        },
        {
          "output_type": "stream",
          "name": "stdout",
          "text": [
            "Warning: Empty prediction for input: Security is threatened.\n"
          ]
        },
        {
          "output_type": "stream",
          "name": "stderr",
          "text": [
            "\rGenerating translations:  51%|█████▏    | 819/1598 [03:57<03:39,  3.54it/s]"
          ]
        },
        {
          "output_type": "stream",
          "name": "stdout",
          "text": [
            "Warning: Empty prediction for input: Trees outside forests include agroforestry systems in agricultural lands and farms, trees in the rural landscape, trees in roads, rivers and human settlements, and trees within and around cities.\n"
          ]
        },
        {
          "output_type": "stream",
          "name": "stderr",
          "text": [
            "\rGenerating translations:  51%|█████▏    | 820/1598 [03:57<03:25,  3.78it/s]"
          ]
        },
        {
          "output_type": "stream",
          "name": "stdout",
          "text": [
            "Warning: Empty prediction for input: Don't do that.\n"
          ]
        },
        {
          "output_type": "stream",
          "name": "stderr",
          "text": [
            "\rGenerating translations:  51%|█████▏    | 821/1598 [03:57<03:20,  3.87it/s]"
          ]
        },
        {
          "output_type": "stream",
          "name": "stdout",
          "text": [
            "Warning: Empty prediction for input: Will this happen under the Modi government?\n"
          ]
        },
        {
          "output_type": "stream",
          "name": "stderr",
          "text": [
            "\rGenerating translations:  51%|█████▏    | 822/1598 [03:58<03:26,  3.76it/s]"
          ]
        },
        {
          "output_type": "stream",
          "name": "stdout",
          "text": [
            "Warning: Empty prediction for input: The northeastern states of India border China, Myanmar, Bhutan, Bangladesh and Nepal.\n"
          ]
        },
        {
          "output_type": "stream",
          "name": "stderr",
          "text": [
            "\rGenerating translations:  52%|█████▏    | 823/1598 [03:58<03:26,  3.75it/s]"
          ]
        },
        {
          "output_type": "stream",
          "name": "stdout",
          "text": [
            "Warning: Empty prediction for input: Some people don't care about the value of such a life.\n"
          ]
        },
        {
          "output_type": "stream",
          "name": "stderr",
          "text": [
            "\rGenerating translations:  52%|█████▏    | 824/1598 [03:58<03:22,  3.82it/s]"
          ]
        },
        {
          "output_type": "stream",
          "name": "stdout",
          "text": [
            "Warning: Empty prediction for input: School Girls Hostel in Sholingapuram\n"
          ]
        },
        {
          "output_type": "stream",
          "name": "stderr",
          "text": [
            "\rGenerating translations:  52%|█████▏    | 825/1598 [03:58<03:16,  3.92it/s]"
          ]
        },
        {
          "output_type": "stream",
          "name": "stdout",
          "text": [
            "Warning: Empty prediction for input: Keep whip until it goes down.\n"
          ]
        },
        {
          "output_type": "stream",
          "name": "stderr",
          "text": [
            "\rGenerating translations:  52%|█████▏    | 826/1598 [03:59<03:10,  4.04it/s]"
          ]
        },
        {
          "output_type": "stream",
          "name": "stdout",
          "text": [
            "Warning: Empty prediction for input: He was later brought to Delhi.\n"
          ]
        },
        {
          "output_type": "stream",
          "name": "stderr",
          "text": [
            "\rGenerating translations:  52%|█████▏    | 827/1598 [03:59<03:14,  3.97it/s]"
          ]
        },
        {
          "output_type": "stream",
          "name": "stdout",
          "text": [
            "Warning: Empty prediction for input: Watch carefully: this video is a little disturbing.\n"
          ]
        },
        {
          "output_type": "stream",
          "name": "stderr",
          "text": [
            "\rGenerating translations:  52%|█████▏    | 828/1598 [03:59<03:10,  4.04it/s]"
          ]
        },
        {
          "output_type": "stream",
          "name": "stdout",
          "text": [
            "Warning: Empty prediction for input: How to claim Income Tax Refund?\n"
          ]
        },
        {
          "output_type": "stream",
          "name": "stderr",
          "text": [
            "\rGenerating translations:  52%|█████▏    | 829/1598 [03:59<03:12,  3.99it/s]"
          ]
        },
        {
          "output_type": "stream",
          "name": "stdout",
          "text": [
            "Warning: Empty prediction for input: Gold prices are likely to rise before Diwali.\n"
          ]
        },
        {
          "output_type": "stream",
          "name": "stderr",
          "text": [
            "\rGenerating translations:  52%|█████▏    | 830/1598 [04:00<03:10,  4.03it/s]"
          ]
        },
        {
          "output_type": "stream",
          "name": "stdout",
          "text": [
            "Warning: Empty prediction for input: There is no exception to US.\n"
          ]
        },
        {
          "output_type": "stream",
          "name": "stderr",
          "text": [
            "\rGenerating translations:  52%|█████▏    | 831/1598 [04:00<03:21,  3.81it/s]"
          ]
        },
        {
          "output_type": "stream",
          "name": "stdout",
          "text": [
            "Warning: Empty prediction for input: Paradise for you? 10/15 Suffered, Happy, 11/1\n"
          ]
        },
        {
          "output_type": "stream",
          "name": "stderr",
          "text": [
            "\rGenerating translations:  52%|█████▏    | 832/1598 [04:00<03:16,  3.90it/s]"
          ]
        },
        {
          "output_type": "stream",
          "name": "stdout",
          "text": [
            "Warning: Empty prediction for input: I'm going to make them tea.\n"
          ]
        },
        {
          "output_type": "stream",
          "name": "stderr",
          "text": [
            "\rGenerating translations:  52%|█████▏    | 833/1598 [04:00<03:36,  3.54it/s]"
          ]
        },
        {
          "output_type": "stream",
          "name": "stdout",
          "text": [
            "Warning: Empty prediction for input: The Lusaka Traffic Decongestion Project has received substantial funding from the Government of India, and is being implemented by AFCONS Infrastructure, an Indian company.\n"
          ]
        },
        {
          "output_type": "stream",
          "name": "stderr",
          "text": [
            "\rGenerating translations:  52%|█████▏    | 834/1598 [04:01<03:28,  3.66it/s]"
          ]
        },
        {
          "output_type": "stream",
          "name": "stdout",
          "text": [
            "Warning: Empty prediction for input: Australia tops the points table with 14 points.\n"
          ]
        },
        {
          "output_type": "stream",
          "name": "stderr",
          "text": [
            "\rGenerating translations:  52%|█████▏    | 835/1598 [04:01<03:35,  3.54it/s]"
          ]
        },
        {
          "output_type": "stream",
          "name": "stdout",
          "text": [
            "Warning: Empty prediction for input: Due to the coronavirus outbreak, the release date of the film has been postponed.\n"
          ]
        },
        {
          "output_type": "stream",
          "name": "stderr",
          "text": [
            "\rGenerating translations:  52%|█████▏    | 836/1598 [04:01<03:30,  3.62it/s]"
          ]
        },
        {
          "output_type": "stream",
          "name": "stdout",
          "text": [
            "Warning: Empty prediction for input: It's a lie over the top.\n"
          ]
        },
        {
          "output_type": "stream",
          "name": "stderr",
          "text": [
            "\rGenerating translations:  52%|█████▏    | 837/1598 [04:02<03:19,  3.82it/s]"
          ]
        },
        {
          "output_type": "stream",
          "name": "stdout",
          "text": [
            "Warning: Empty prediction for input: The purpose is to prevent it.\n"
          ]
        },
        {
          "output_type": "stream",
          "name": "stderr",
          "text": [
            "\rGenerating translations:  52%|█████▏    | 838/1598 [04:02<03:18,  3.83it/s]"
          ]
        },
        {
          "output_type": "stream",
          "name": "stdout",
          "text": [
            "Warning: Empty prediction for input: If Congress comes to power, farm laws will be abolished\n"
          ]
        },
        {
          "output_type": "stream",
          "name": "stderr",
          "text": [
            "\rGenerating translations:  53%|█████▎    | 839/1598 [04:02<03:11,  3.97it/s]"
          ]
        },
        {
          "output_type": "stream",
          "name": "stdout",
          "text": [
            "Warning: Empty prediction for input: When the event happened, Rs.\n"
          ]
        },
        {
          "output_type": "stream",
          "name": "stderr",
          "text": [
            "\rGenerating translations:  53%|█████▎    | 840/1598 [04:02<03:10,  3.97it/s]"
          ]
        },
        {
          "output_type": "stream",
          "name": "stdout",
          "text": [
            "Warning: Empty prediction for input: Petrol and diesel prices are on the rise.\n"
          ]
        },
        {
          "output_type": "stream",
          "name": "stderr",
          "text": [
            "\rGenerating translations:  53%|█████▎    | 841/1598 [04:03<03:12,  3.93it/s]"
          ]
        },
        {
          "output_type": "stream",
          "name": "stdout",
          "text": [
            "Warning: Empty prediction for input: Regional Deputy Director of Sericulture, Madurai\n"
          ]
        },
        {
          "output_type": "stream",
          "name": "stderr",
          "text": [
            "\rGenerating translations:  53%|█████▎    | 842/1598 [04:03<03:06,  4.06it/s]"
          ]
        },
        {
          "output_type": "stream",
          "name": "stdout",
          "text": [
            "Warning: Empty prediction for input: These elections were later cancelled.\n"
          ]
        },
        {
          "output_type": "stream",
          "name": "stderr",
          "text": [
            "\rGenerating translations:  53%|█████▎    | 843/1598 [04:03<03:06,  4.05it/s]"
          ]
        },
        {
          "output_type": "stream",
          "name": "stdout",
          "text": [
            "Warning: Empty prediction for input: Swamiji was a teacher in Gurukul.\n"
          ]
        },
        {
          "output_type": "stream",
          "name": "stderr",
          "text": [
            "\rGenerating translations:  53%|█████▎    | 844/1598 [04:03<03:16,  3.84it/s]"
          ]
        },
        {
          "output_type": "stream",
          "name": "stdout",
          "text": [
            "Warning: Empty prediction for input: But when I find out that the boy doesn't have a voice to train, it's often a tragedy.\n"
          ]
        },
        {
          "output_type": "stream",
          "name": "stderr",
          "text": [
            "\rGenerating translations:  53%|█████▎    | 845/1598 [04:04<03:25,  3.66it/s]"
          ]
        },
        {
          "output_type": "stream",
          "name": "stdout",
          "text": [
            "Warning: Empty prediction for input: I'm starting a new chapter in my life.\n"
          ]
        },
        {
          "output_type": "stream",
          "name": "stderr",
          "text": [
            "\rGenerating translations:  53%|█████▎    | 846/1598 [04:04<03:35,  3.49it/s]"
          ]
        },
        {
          "output_type": "stream",
          "name": "stdout",
          "text": [
            "Warning: Empty prediction for input: Budwel Police Station\n"
          ]
        },
        {
          "output_type": "stream",
          "name": "stderr",
          "text": [
            "\rGenerating translations:  53%|█████▎    | 847/1598 [04:04<03:38,  3.43it/s]"
          ]
        },
        {
          "output_type": "stream",
          "name": "stdout",
          "text": [
            "Warning: Empty prediction for input: Labour Courts.\n"
          ]
        },
        {
          "output_type": "stream",
          "name": "stderr",
          "text": [
            "\rGenerating translations:  53%|█████▎    | 848/1598 [04:05<03:47,  3.30it/s]"
          ]
        },
        {
          "output_type": "stream",
          "name": "stdout",
          "text": [
            "Warning: Empty prediction for input: There is also an Indian bank there.\n"
          ]
        },
        {
          "output_type": "stream",
          "name": "stderr",
          "text": [
            "\rGenerating translations:  53%|█████▎    | 849/1598 [04:05<03:48,  3.28it/s]"
          ]
        },
        {
          "output_type": "stream",
          "name": "stdout",
          "text": [
            "Warning: Empty prediction for input: Don't worry!\n"
          ]
        },
        {
          "output_type": "stream",
          "name": "stderr",
          "text": [
            "\rGenerating translations:  53%|█████▎    | 850/1598 [04:05<04:10,  2.99it/s]"
          ]
        },
        {
          "output_type": "stream",
          "name": "stdout",
          "text": [
            "Warning: Empty prediction for input: Yes, it's time! Don't wait for God to answer.\n"
          ]
        },
        {
          "output_type": "stream",
          "name": "stderr",
          "text": [
            "\rGenerating translations:  53%|█████▎    | 851/1598 [04:06<04:16,  2.91it/s]"
          ]
        },
        {
          "output_type": "stream",
          "name": "stdout",
          "text": [
            "Warning: Empty prediction for input: There are a lot of examples of this.\n"
          ]
        },
        {
          "output_type": "stream",
          "name": "stderr",
          "text": [
            "\rGenerating translations:  53%|█████▎    | 852/1598 [04:06<04:15,  2.92it/s]"
          ]
        },
        {
          "output_type": "stream",
          "name": "stdout",
          "text": [
            "Warning: Empty prediction for input: Who's turned them off?\n"
          ]
        },
        {
          "output_type": "stream",
          "name": "stderr",
          "text": [
            "\rGenerating translations:  53%|█████▎    | 853/1598 [04:06<04:07,  3.01it/s]"
          ]
        },
        {
          "output_type": "stream",
          "name": "stdout",
          "text": [
            "Warning: Empty prediction for input: Mom, I know.\n"
          ]
        },
        {
          "output_type": "stream",
          "name": "stderr",
          "text": [
            "\rGenerating translations:  53%|█████▎    | 854/1598 [04:07<04:16,  2.90it/s]"
          ]
        },
        {
          "output_type": "stream",
          "name": "stdout",
          "text": [
            "Warning: Empty prediction for input: I don't want to. You don't understand.\n"
          ]
        },
        {
          "output_type": "stream",
          "name": "stderr",
          "text": [
            "\rGenerating translations:  54%|█████▎    | 855/1598 [04:07<03:57,  3.13it/s]"
          ]
        },
        {
          "output_type": "stream",
          "name": "stdout",
          "text": [
            "Warning: Empty prediction for input: You can't condo it.\n"
          ]
        },
        {
          "output_type": "stream",
          "name": "stderr",
          "text": [
            "\rGenerating translations:  54%|█████▎    | 856/1598 [04:07<03:44,  3.30it/s]"
          ]
        },
        {
          "output_type": "stream",
          "name": "stdout",
          "text": [
            "Warning: Empty prediction for input: Thondamuthur 33/11 kV SS in Coimbatore District\n"
          ]
        },
        {
          "output_type": "stream",
          "name": "stderr",
          "text": [
            "\rGenerating translations:  54%|█████▎    | 857/1598 [04:07<03:31,  3.51it/s]"
          ]
        },
        {
          "output_type": "stream",
          "name": "stdout",
          "text": [
            "Warning: Empty prediction for input: God did so in the ancient form of Hebrew.\n"
          ]
        },
        {
          "output_type": "stream",
          "name": "stderr",
          "text": [
            "\rGenerating translations:  54%|█████▎    | 858/1598 [04:08<03:20,  3.70it/s]"
          ]
        },
        {
          "output_type": "stream",
          "name": "stdout",
          "text": [
            "Warning: Empty prediction for input: Is that office government?\n"
          ]
        },
        {
          "output_type": "stream",
          "name": "stderr",
          "text": [
            "\rGenerating translations:  54%|█████▍    | 859/1598 [04:08<03:31,  3.50it/s]"
          ]
        },
        {
          "output_type": "stream",
          "name": "stdout",
          "text": [
            "Warning: Empty prediction for input: At present, newspaper owners cannot buy more than 20% of terrestrial TV stations, but according to the new law, they can buy everything except ITV stations.\n"
          ]
        },
        {
          "output_type": "stream",
          "name": "stderr",
          "text": [
            "\rGenerating translations:  54%|█████▍    | 860/1598 [04:08<03:26,  3.58it/s]"
          ]
        },
        {
          "output_type": "stream",
          "name": "stdout",
          "text": [
            "Warning: Empty prediction for input: Now that his brother has changed his mind, Joseph can't control his emotions.\n"
          ]
        },
        {
          "output_type": "stream",
          "name": "stderr",
          "text": [
            "\rGenerating translations:  54%|█████▍    | 861/1598 [04:08<03:20,  3.68it/s]"
          ]
        },
        {
          "output_type": "stream",
          "name": "stdout",
          "text": [
            "Warning: Empty prediction for input: They don't know what we're about.\n"
          ]
        },
        {
          "output_type": "stream",
          "name": "stderr",
          "text": [
            "\rGenerating translations:  54%|█████▍    | 862/1598 [04:09<03:29,  3.50it/s]"
          ]
        },
        {
          "output_type": "stream",
          "name": "stdout",
          "text": [
            "Warning: Empty prediction for input: As stated in Genesis 13:13, the men of Sodom are very wicked and sinful against Jehovah.\n"
          ]
        },
        {
          "output_type": "stream",
          "name": "stderr",
          "text": [
            "\rGenerating translations:  54%|█████▍    | 863/1598 [04:09<03:16,  3.73it/s]"
          ]
        },
        {
          "output_type": "stream",
          "name": "stdout",
          "text": [
            "Warning: Empty prediction for input: The body will be healthy.\n"
          ]
        },
        {
          "output_type": "stream",
          "name": "stderr",
          "text": [
            "\rGenerating translations:  54%|█████▍    | 864/1598 [04:09<03:05,  3.96it/s]"
          ]
        },
        {
          "output_type": "stream",
          "name": "stdout",
          "text": [
            "Warning: Empty prediction for input: Who's there?\n"
          ]
        },
        {
          "output_type": "stream",
          "name": "stderr",
          "text": [
            "\rGenerating translations:  54%|█████▍    | 865/1598 [04:10<03:09,  3.87it/s]"
          ]
        },
        {
          "output_type": "stream",
          "name": "stdout",
          "text": [
            "Warning: Empty prediction for input: If Pakistan score 350 runs, they will have to win by 311 runs.\n"
          ]
        },
        {
          "output_type": "stream",
          "name": "stderr",
          "text": [
            "\rGenerating translations:  54%|█████▍    | 866/1598 [04:10<03:15,  3.75it/s]"
          ]
        },
        {
          "output_type": "stream",
          "name": "stdout",
          "text": [
            "Warning: Empty prediction for input: India will face Australia in the first match of the Hockey World League Final.\n"
          ]
        },
        {
          "output_type": "stream",
          "name": "stderr",
          "text": [
            "\rGenerating translations:  54%|█████▍    | 867/1598 [04:10<03:23,  3.60it/s]"
          ]
        },
        {
          "output_type": "stream",
          "name": "stdout",
          "text": [
            "Warning: Empty prediction for input: (Freedom!) Left hand raised, and from 2007 to 2009, they've been screaming that year's theme too.\n"
          ]
        },
        {
          "output_type": "stream",
          "name": "stderr",
          "text": [
            "\rGenerating translations:  54%|█████▍    | 868/1598 [04:10<03:26,  3.53it/s]"
          ]
        },
        {
          "output_type": "stream",
          "name": "stdout",
          "text": [
            "Warning: Empty prediction for input: The award carries a cash prize of Rs 1 lakh and a citation.\n"
          ]
        },
        {
          "output_type": "stream",
          "name": "stderr",
          "text": [
            "\rGenerating translations:  54%|█████▍    | 869/1598 [04:11<03:33,  3.42it/s]"
          ]
        },
        {
          "output_type": "stream",
          "name": "stdout",
          "text": [
            "Warning: Empty prediction for input: Tamil Nadu BJP chief Tamilsai Soundararajan has also been appointed as the Governor of Telangana.\n"
          ]
        },
        {
          "output_type": "stream",
          "name": "stderr",
          "text": [
            "\rGenerating translations:  54%|█████▍    | 870/1598 [04:11<03:23,  3.58it/s]"
          ]
        },
        {
          "output_type": "stream",
          "name": "stdout",
          "text": [
            "Warning: Empty prediction for input: To help prevent the spread of this disease:\n"
          ]
        },
        {
          "output_type": "stream",
          "name": "stderr",
          "text": [
            "\rGenerating translations:  55%|█████▍    | 871/1598 [04:11<03:18,  3.66it/s]"
          ]
        },
        {
          "output_type": "stream",
          "name": "stdout",
          "text": [
            "Warning: Empty prediction for input: Victim Govindpura has lodged a complaint with the police.\n"
          ]
        },
        {
          "output_type": "stream",
          "name": "stderr",
          "text": [
            "\rGenerating translations:  55%|█████▍    | 872/1598 [04:11<03:09,  3.83it/s]"
          ]
        },
        {
          "output_type": "stream",
          "name": "stdout",
          "text": [
            "Warning: Empty prediction for input: When do you have time to play?\n"
          ]
        },
        {
          "output_type": "stream",
          "name": "stderr",
          "text": [
            "\rGenerating translations:  55%|█████▍    | 873/1598 [04:12<03:18,  3.65it/s]"
          ]
        },
        {
          "output_type": "stream",
          "name": "stdout",
          "text": [
            "Warning: Empty prediction for input: The simple fact is that Jehovah's Witnesses says there's nothing in the above.\n"
          ]
        },
        {
          "output_type": "stream",
          "name": "stderr",
          "text": [
            "\rGenerating translations:  55%|█████▍    | 874/1598 [04:12<03:11,  3.78it/s]"
          ]
        },
        {
          "output_type": "stream",
          "name": "stdout",
          "text": [
            "Warning: Empty prediction for input: There will be good growth in your business.\n"
          ]
        },
        {
          "output_type": "stream",
          "name": "stderr",
          "text": [
            "\rGenerating translations:  55%|█████▍    | 875/1598 [04:12<03:01,  3.98it/s]"
          ]
        },
        {
          "output_type": "stream",
          "name": "stdout",
          "text": [
            "Warning: Empty prediction for input: Minimum Wages Rs.\n"
          ]
        },
        {
          "output_type": "stream",
          "name": "stderr",
          "text": [
            "\rGenerating translations:  55%|█████▍    | 876/1598 [04:12<02:58,  4.05it/s]"
          ]
        },
        {
          "output_type": "stream",
          "name": "stdout",
          "text": [
            "Warning: Empty prediction for input: Tell me what this will do.\n"
          ]
        },
        {
          "output_type": "stream",
          "name": "stderr",
          "text": [
            "\rGenerating translations:  55%|█████▍    | 877/1598 [04:13<03:14,  3.72it/s]"
          ]
        },
        {
          "output_type": "stream",
          "name": "stdout",
          "text": [
            "Warning: Empty prediction for input: Germany is a valuable partner in our development initiatives, and German competencies fit perfectly for our vision and India's transformation.\n"
          ]
        },
        {
          "output_type": "stream",
          "name": "stderr",
          "text": [
            "\rGenerating translations:  55%|█████▍    | 878/1598 [04:13<03:10,  3.78it/s]"
          ]
        },
        {
          "output_type": "stream",
          "name": "stdout",
          "text": [
            "Warning: Empty prediction for input: The government has not given us any work.\n"
          ]
        },
        {
          "output_type": "stream",
          "name": "stderr",
          "text": [
            "\rGenerating translations:  55%|█████▌    | 879/1598 [04:13<03:06,  3.86it/s]"
          ]
        },
        {
          "output_type": "stream",
          "name": "stdout",
          "text": [
            "Warning: Empty prediction for input: China has objected to this so far.\n"
          ]
        },
        {
          "output_type": "stream",
          "name": "stderr",
          "text": [
            "\rGenerating translations:  55%|█████▌    | 880/1598 [04:14<03:08,  3.80it/s]"
          ]
        },
        {
          "output_type": "stream",
          "name": "stdout",
          "text": [
            "Warning: Empty prediction for input: \"But it's not a historical film,\" he said.\n"
          ]
        },
        {
          "output_type": "stream",
          "name": "stderr",
          "text": [
            "\rGenerating translations:  55%|█████▌    | 881/1598 [04:14<03:14,  3.68it/s]"
          ]
        },
        {
          "output_type": "stream",
          "name": "stdout",
          "text": [
            "Warning: Empty prediction for input: It hurts so much, Doctor. I couldn't open my mouth.\n"
          ]
        },
        {
          "output_type": "stream",
          "name": "stderr",
          "text": [
            "\rGenerating translations:  55%|█████▌    | 882/1598 [04:14<03:14,  3.67it/s]"
          ]
        },
        {
          "output_type": "stream",
          "name": "stdout",
          "text": [
            "Warning: Empty prediction for input: He asked Bush Senate to pass the Indo-US nuke accord.\n"
          ]
        },
        {
          "output_type": "stream",
          "name": "stderr",
          "text": [
            "\rGenerating translations:  55%|█████▌    | 883/1598 [04:14<03:10,  3.75it/s]"
          ]
        },
        {
          "output_type": "stream",
          "name": "stdout",
          "text": [
            "Warning: Empty prediction for input: Palleted Color Image (16 or 24 bit depth)\n"
          ]
        },
        {
          "output_type": "stream",
          "name": "stderr",
          "text": [
            "\rGenerating translations:  55%|█████▌    | 884/1598 [04:15<03:31,  3.38it/s]"
          ]
        },
        {
          "output_type": "stream",
          "name": "stdout",
          "text": [
            "Warning: Empty prediction for input: He then took him with three of his disciples to a mountain and showed them how to transfuse him, and they had a vision of him in Kingdom Glory.\n"
          ]
        },
        {
          "output_type": "stream",
          "name": "stderr",
          "text": [
            "\rGenerating translations:  55%|█████▌    | 885/1598 [04:15<03:19,  3.57it/s]"
          ]
        },
        {
          "output_type": "stream",
          "name": "stdout",
          "text": [
            "Warning: Empty prediction for input: Manmohan Advice\n"
          ]
        },
        {
          "output_type": "stream",
          "name": "stderr",
          "text": [
            "\rGenerating translations:  55%|█████▌    | 886/1598 [04:15<03:09,  3.76it/s]"
          ]
        },
        {
          "output_type": "stream",
          "name": "stdout",
          "text": [
            "Warning: Empty prediction for input: They were killed at home.\n"
          ]
        },
        {
          "output_type": "stream",
          "name": "stderr",
          "text": [
            "\rGenerating translations:  56%|█████▌    | 887/1598 [04:15<03:09,  3.74it/s]"
          ]
        },
        {
          "output_type": "stream",
          "name": "stdout",
          "text": [
            "Warning: Empty prediction for input: So, the police scrutinised the CCTV camera footage at the site.\n"
          ]
        },
        {
          "output_type": "stream",
          "name": "stderr",
          "text": [
            "\rGenerating translations:  56%|█████▌    | 888/1598 [04:16<03:03,  3.87it/s]"
          ]
        },
        {
          "output_type": "stream",
          "name": "stdout",
          "text": [
            "Warning: Empty prediction for input: That video is very sad.\n"
          ]
        },
        {
          "output_type": "stream",
          "name": "stderr",
          "text": [
            "\rGenerating translations:  56%|█████▌    | 889/1598 [04:16<03:02,  3.88it/s]"
          ]
        },
        {
          "output_type": "stream",
          "name": "stdout",
          "text": [
            "Warning: Empty prediction for input: We were a joint family.\n"
          ]
        },
        {
          "output_type": "stream",
          "name": "stderr",
          "text": [
            "\rGenerating translations:  56%|█████▌    | 890/1598 [04:16<02:59,  3.95it/s]"
          ]
        },
        {
          "output_type": "stream",
          "name": "stdout",
          "text": [
            "Warning: Empty prediction for input: But both escaped unhurt.\n"
          ]
        },
        {
          "output_type": "stream",
          "name": "stderr",
          "text": [
            "\rGenerating translations:  56%|█████▌    | 891/1598 [04:17<03:08,  3.76it/s]"
          ]
        },
        {
          "output_type": "stream",
          "name": "stdout",
          "text": [
            "Warning: Empty prediction for input: Prime Minister Narendra Modi addressed a gathering of young fans through a video conference from Delhi.\n"
          ]
        },
        {
          "output_type": "stream",
          "name": "stderr",
          "text": [
            "\rGenerating translations:  56%|█████▌    | 892/1598 [04:17<03:13,  3.66it/s]"
          ]
        },
        {
          "output_type": "stream",
          "name": "stdout",
          "text": [
            "Warning: Empty prediction for input: In the other 110 constituencies, other parties were in front.\n"
          ]
        },
        {
          "output_type": "stream",
          "name": "stderr",
          "text": [
            "\rGenerating translations:  56%|█████▌    | 893/1598 [04:17<03:27,  3.39it/s]"
          ]
        },
        {
          "output_type": "stream",
          "name": "stdout",
          "text": [
            "Warning: Empty prediction for input: His brain has been badly damaged.\n"
          ]
        },
        {
          "output_type": "stream",
          "name": "stderr",
          "text": [
            "\rGenerating translations:  56%|█████▌    | 894/1598 [04:18<03:48,  3.09it/s]"
          ]
        },
        {
          "output_type": "stream",
          "name": "stdout",
          "text": [
            "Warning: Empty prediction for input: After taking some provisions and the Bible, I took refuge in the nearby mountains.\n"
          ]
        },
        {
          "output_type": "stream",
          "name": "stderr",
          "text": [
            "\rGenerating translations:  56%|█████▌    | 895/1598 [04:18<03:49,  3.06it/s]"
          ]
        },
        {
          "output_type": "stream",
          "name": "stdout",
          "text": [
            "Warning: Empty prediction for input: One car was damaged in the explosion.\n"
          ]
        },
        {
          "output_type": "stream",
          "name": "stderr",
          "text": [
            "\rGenerating translations:  56%|█████▌    | 896/1598 [04:18<03:56,  2.97it/s]"
          ]
        },
        {
          "output_type": "stream",
          "name": "stdout",
          "text": [
            "Warning: Empty prediction for input: He has also acted in a few films.\n"
          ]
        },
        {
          "output_type": "stream",
          "name": "stderr",
          "text": [
            "\rGenerating translations:  56%|█████▌    | 897/1598 [04:19<04:19,  2.71it/s]"
          ]
        },
        {
          "output_type": "stream",
          "name": "stdout",
          "text": [
            "Warning: Empty prediction for input: Minorities like Hindus, Sikhs and Christians in Pakistan are always being persecuted.\n"
          ]
        },
        {
          "output_type": "stream",
          "name": "stderr",
          "text": [
            "\rGenerating translations:  56%|█████▌    | 898/1598 [04:19<04:16,  2.72it/s]"
          ]
        },
        {
          "output_type": "stream",
          "name": "stdout",
          "text": [
            "Warning: Empty prediction for input: How does it fare in real life?\n"
          ]
        },
        {
          "output_type": "stream",
          "name": "stderr",
          "text": [
            "\rGenerating translations:  56%|█████▋    | 899/1598 [04:19<04:13,  2.76it/s]"
          ]
        },
        {
          "output_type": "stream",
          "name": "stdout",
          "text": [
            "Warning: Empty prediction for input: I have heard a lot about him.\n"
          ]
        },
        {
          "output_type": "stream",
          "name": "stderr",
          "text": [
            "\rGenerating translations:  56%|█████▋    | 900/1598 [04:20<04:15,  2.73it/s]"
          ]
        },
        {
          "output_type": "stream",
          "name": "stdout",
          "text": [
            "Warning: Empty prediction for input: Citizens have the right to express peaceful protest.\n"
          ]
        },
        {
          "output_type": "stream",
          "name": "stderr",
          "text": [
            "\rGenerating translations:  56%|█████▋    | 901/1598 [04:20<04:09,  2.79it/s]"
          ]
        },
        {
          "output_type": "stream",
          "name": "stdout",
          "text": [
            "Warning: Empty prediction for input: They understand world politics.\n"
          ]
        },
        {
          "output_type": "stream",
          "name": "stderr",
          "text": [
            "\rGenerating translations:  56%|█████▋    | 902/1598 [04:20<03:58,  2.92it/s]"
          ]
        },
        {
          "output_type": "stream",
          "name": "stdout",
          "text": [
            "Warning: Empty prediction for input: Speaking to media about this, he said:\n"
          ]
        },
        {
          "output_type": "stream",
          "name": "stderr",
          "text": [
            "\rGenerating translations:  57%|█████▋    | 903/1598 [04:21<03:36,  3.20it/s]"
          ]
        },
        {
          "output_type": "stream",
          "name": "stdout",
          "text": [
            "Warning: Empty prediction for input: But does he love them?\n"
          ]
        },
        {
          "output_type": "stream",
          "name": "stderr",
          "text": [
            "\rGenerating translations:  57%|█████▋    | 904/1598 [04:21<03:23,  3.40it/s]"
          ]
        },
        {
          "output_type": "stream",
          "name": "stdout",
          "text": [
            "Warning: Empty prediction for input: Watson was acting as a possum.\n"
          ]
        },
        {
          "output_type": "stream",
          "name": "stderr",
          "text": [
            "\rGenerating translations:  57%|█████▋    | 905/1598 [04:21<03:36,  3.20it/s]"
          ]
        },
        {
          "output_type": "stream",
          "name": "stdout",
          "text": [
            "Warning: Empty prediction for input: These flowers are smaller in size than hybrid teas, but come in large sprays, so they get a better floral effect in the garden.\n"
          ]
        },
        {
          "output_type": "stream",
          "name": "stderr",
          "text": [
            "\rGenerating translations:  57%|█████▋    | 906/1598 [04:22<03:31,  3.27it/s]"
          ]
        },
        {
          "output_type": "stream",
          "name": "stdout",
          "text": [
            "Warning: Empty prediction for input: 44 - Zaheer Khan (23 innings), Javagal Srinath (33 innings)\n"
          ]
        },
        {
          "output_type": "stream",
          "name": "stderr",
          "text": [
            "\rGenerating translations:  57%|█████▋    | 907/1598 [04:22<03:29,  3.30it/s]"
          ]
        },
        {
          "output_type": "stream",
          "name": "stdout",
          "text": [
            "Warning: Empty prediction for input: You are also a country with a lot of opportunities.\n"
          ]
        },
        {
          "output_type": "stream",
          "name": "stderr",
          "text": [
            "\rGenerating translations:  57%|█████▋    | 908/1598 [04:22<03:34,  3.21it/s]"
          ]
        },
        {
          "output_type": "stream",
          "name": "stdout",
          "text": [
            "Warning: Empty prediction for input: Rather, it has to be like a precious plant that takes time to grow. He's critical and demean.\n"
          ]
        },
        {
          "output_type": "stream",
          "name": "stderr",
          "text": [
            "\rGenerating translations:  57%|█████▋    | 909/1598 [04:22<03:20,  3.44it/s]"
          ]
        },
        {
          "output_type": "stream",
          "name": "stdout",
          "text": [
            "Warning: Empty prediction for input: It's motivation and inspiration too.\n"
          ]
        },
        {
          "output_type": "stream",
          "name": "stderr",
          "text": [
            "\rGenerating translations:  57%|█████▋    | 910/1598 [04:23<03:21,  3.41it/s]"
          ]
        },
        {
          "output_type": "stream",
          "name": "stdout",
          "text": [
            "Warning: Empty prediction for input: What kind of man did Paul love so much, and what did he write about such a Christian?\n"
          ]
        },
        {
          "output_type": "stream",
          "name": "stderr",
          "text": [
            "\rGenerating translations:  57%|█████▋    | 911/1598 [04:23<03:12,  3.57it/s]"
          ]
        },
        {
          "output_type": "stream",
          "name": "stdout",
          "text": [
            "Warning: Empty prediction for input: But he spoke very badly to me.\n"
          ]
        },
        {
          "output_type": "stream",
          "name": "stderr",
          "text": [
            "\rGenerating translations:  57%|█████▋    | 912/1598 [04:23<03:08,  3.65it/s]"
          ]
        },
        {
          "output_type": "stream",
          "name": "stdout",
          "text": [
            "Warning: Empty prediction for input: Are you going to start a new party?\n"
          ]
        },
        {
          "output_type": "stream",
          "name": "stderr",
          "text": [
            "\rGenerating translations:  57%|█████▋    | 913/1598 [04:23<02:59,  3.82it/s]"
          ]
        },
        {
          "output_type": "stream",
          "name": "stdout",
          "text": [
            "Warning: Empty prediction for input: It continued until 1993.\n"
          ]
        },
        {
          "output_type": "stream",
          "name": "stderr",
          "text": [
            "\rGenerating translations:  57%|█████▋    | 914/1598 [04:24<03:07,  3.65it/s]"
          ]
        },
        {
          "output_type": "stream",
          "name": "stdout",
          "text": [
            "Warning: Empty prediction for input: For those who don't believe in God, their actions have made them look beautiful, so they're confused.\n"
          ]
        },
        {
          "output_type": "stream",
          "name": "stderr",
          "text": [
            "\rGenerating translations:  57%|█████▋    | 915/1598 [04:24<03:02,  3.75it/s]"
          ]
        },
        {
          "output_type": "stream",
          "name": "stdout",
          "text": [
            "Warning: Empty prediction for input: How do you know Rahul Gandhi?\n"
          ]
        },
        {
          "output_type": "stream",
          "name": "stderr",
          "text": [
            "\rGenerating translations:  57%|█████▋    | 916/1598 [04:24<02:57,  3.84it/s]"
          ]
        },
        {
          "output_type": "stream",
          "name": "stdout",
          "text": [
            "Warning: Empty prediction for input: All right, you know!\n"
          ]
        },
        {
          "output_type": "stream",
          "name": "stderr",
          "text": [
            "\rGenerating translations:  57%|█████▋    | 917/1598 [04:25<03:11,  3.56it/s]"
          ]
        },
        {
          "output_type": "stream",
          "name": "stdout",
          "text": [
            "Warning: Empty prediction for input: Since 1921, Tamil Nadu has been the pioneer state implementing the reservation policy for appointments in government jobs and admissions in educational institutions.\n"
          ]
        },
        {
          "output_type": "stream",
          "name": "stderr",
          "text": [
            "\rGenerating translations:  57%|█████▋    | 918/1598 [04:25<03:00,  3.78it/s]"
          ]
        },
        {
          "output_type": "stream",
          "name": "stdout",
          "text": [
            "Warning: Empty prediction for input: The sceneries kept changing.\n"
          ]
        },
        {
          "output_type": "stream",
          "name": "stderr",
          "text": [
            "\rGenerating translations:  58%|█████▊    | 919/1598 [04:25<03:02,  3.72it/s]"
          ]
        },
        {
          "output_type": "stream",
          "name": "stdout",
          "text": [
            "Warning: Empty prediction for input: It will be difficult to score 10 runs in the last over. How did you manage?\n"
          ]
        },
        {
          "output_type": "stream",
          "name": "stderr",
          "text": [
            "\rGenerating translations:  58%|█████▊    | 920/1598 [04:25<02:57,  3.83it/s]"
          ]
        },
        {
          "output_type": "stream",
          "name": "stdout",
          "text": [
            "Warning: Empty prediction for input: The statement's full text:\n"
          ]
        },
        {
          "output_type": "stream",
          "name": "stderr",
          "text": [
            "\rGenerating translations:  58%|█████▊    | 921/1598 [04:26<03:05,  3.65it/s]"
          ]
        },
        {
          "output_type": "stream",
          "name": "stdout",
          "text": [
            "Warning: Empty prediction for input: The male calls from the low perch to tell his presence, while the female lays eggs on the leaf litter.\n"
          ]
        },
        {
          "output_type": "stream",
          "name": "stderr",
          "text": [
            "\rGenerating translations:  58%|█████▊    | 922/1598 [04:26<03:01,  3.72it/s]"
          ]
        },
        {
          "output_type": "stream",
          "name": "stdout",
          "text": [
            "Warning: Empty prediction for input: But no one has any idea where his son is.\n"
          ]
        },
        {
          "output_type": "stream",
          "name": "stderr",
          "text": [
            "\rGenerating translations:  58%|█████▊    | 923/1598 [04:26<02:51,  3.93it/s]"
          ]
        },
        {
          "output_type": "stream",
          "name": "stdout",
          "text": [
            "Warning: Empty prediction for input: Thank you very much.\n"
          ]
        },
        {
          "output_type": "stream",
          "name": "stderr",
          "text": [
            "\rGenerating translations:  58%|█████▊    | 924/1598 [04:27<04:05,  2.74it/s]"
          ]
        },
        {
          "output_type": "stream",
          "name": "stdout",
          "text": [
            "Warning: Empty prediction for input: These include concessional credit through Kisan Credit Cards, financing facility for agri-infra projects, Pradhan MantriMatsyaSampadaYojana and other measures for strengthening fisheries, vaccination for Foot Mouth Disease and Brucellosis, Herbal Cultivation promotion, encouragement to beekeeping, Operation Green.\n"
          ]
        },
        {
          "output_type": "stream",
          "name": "stderr",
          "text": [
            "\rGenerating translations:  58%|█████▊    | 925/1598 [04:27<03:39,  3.06it/s]"
          ]
        },
        {
          "output_type": "stream",
          "name": "stdout",
          "text": [
            "Warning: Empty prediction for input: Is your back round?\n"
          ]
        },
        {
          "output_type": "stream",
          "name": "stderr",
          "text": [
            "\rGenerating translations:  58%|█████▊    | 926/1598 [04:27<03:18,  3.38it/s]"
          ]
        },
        {
          "output_type": "stream",
          "name": "stdout",
          "text": [
            "Warning: Empty prediction for input: Okay. Mat.\n"
          ]
        },
        {
          "output_type": "stream",
          "name": "stderr",
          "text": [
            "\rGenerating translations:  58%|█████▊    | 927/1598 [04:28<03:18,  3.38it/s]"
          ]
        },
        {
          "output_type": "stream",
          "name": "stdout",
          "text": [
            "Warning: Empty prediction for input: Tell me, I was very happy for a minute. But then I want another thrill.\n"
          ]
        },
        {
          "output_type": "stream",
          "name": "stderr",
          "text": [
            "\rGenerating translations:  58%|█████▊    | 928/1598 [04:28<03:02,  3.66it/s]"
          ]
        },
        {
          "output_type": "stream",
          "name": "stdout",
          "text": [
            "Warning: Empty prediction for input: Good, bad.\n"
          ]
        },
        {
          "output_type": "stream",
          "name": "stderr",
          "text": [
            "\rGenerating translations:  58%|█████▊    | 929/1598 [04:28<02:55,  3.81it/s]"
          ]
        },
        {
          "output_type": "stream",
          "name": "stdout",
          "text": [
            "Warning: Empty prediction for input: We all need to fix this.\n"
          ]
        },
        {
          "output_type": "stream",
          "name": "stderr",
          "text": [
            "\rGenerating translations:  58%|█████▊    | 930/1598 [04:28<02:50,  3.93it/s]"
          ]
        },
        {
          "output_type": "stream",
          "name": "stdout",
          "text": [
            "Warning: Empty prediction for input: Stop using all the sugar mastoids.\n"
          ]
        },
        {
          "output_type": "stream",
          "name": "stderr",
          "text": [
            "\rGenerating translations:  58%|█████▊    | 931/1598 [04:28<02:54,  3.83it/s]"
          ]
        },
        {
          "output_type": "stream",
          "name": "stdout",
          "text": [
            "Warning: Empty prediction for input: The youth was arrested for raping a married woman.\n"
          ]
        },
        {
          "output_type": "stream",
          "name": "stderr",
          "text": [
            "\rGenerating translations:  58%|█████▊    | 932/1598 [04:29<03:01,  3.68it/s]"
          ]
        },
        {
          "output_type": "stream",
          "name": "stdout",
          "text": [
            "Warning: Empty prediction for input: He treated a man who had been unable to walk for 38 years and helped them walk well.\n"
          ]
        },
        {
          "output_type": "stream",
          "name": "stderr",
          "text": [
            "\rGenerating translations:  58%|█████▊    | 933/1598 [04:29<02:52,  3.85it/s]"
          ]
        },
        {
          "output_type": "stream",
          "name": "stdout",
          "text": [
            "Warning: Empty prediction for input: I will come.\n"
          ]
        },
        {
          "output_type": "stream",
          "name": "stderr",
          "text": [
            "\rGenerating translations:  58%|█████▊    | 934/1598 [04:29<02:48,  3.94it/s]"
          ]
        },
        {
          "output_type": "stream",
          "name": "stdout",
          "text": [
            "Warning: Empty prediction for input: That's right too.\n"
          ]
        },
        {
          "output_type": "stream",
          "name": "stderr",
          "text": [
            "\rGenerating translations:  59%|█████▊    | 935/1598 [04:30<03:03,  3.62it/s]"
          ]
        },
        {
          "output_type": "stream",
          "name": "stdout",
          "text": [
            "Warning: Empty prediction for input: The Tamil Nadu government denied permission to hold Karunanidhi's burial at Marina Beach due to legal hurdles.\n"
          ]
        },
        {
          "output_type": "stream",
          "name": "stderr",
          "text": [
            "\rGenerating translations:  59%|█████▊    | 936/1598 [04:30<02:55,  3.77it/s]"
          ]
        },
        {
          "output_type": "stream",
          "name": "stdout",
          "text": [
            "Warning: Empty prediction for input: Show me the message.\n"
          ]
        },
        {
          "output_type": "stream",
          "name": "stderr",
          "text": [
            "\rGenerating translations:  59%|█████▊    | 937/1598 [04:30<02:54,  3.80it/s]"
          ]
        },
        {
          "output_type": "stream",
          "name": "stdout",
          "text": [
            "Warning: Empty prediction for input: He used to teach from 52 to 70 here.\n"
          ]
        },
        {
          "output_type": "stream",
          "name": "stderr",
          "text": [
            "\rGenerating translations:  59%|█████▊    | 938/1598 [04:30<03:01,  3.63it/s]"
          ]
        },
        {
          "output_type": "stream",
          "name": "stdout",
          "text": [
            "Warning: Empty prediction for input: Swank said his mother was the inspiration for his acting career and life.\n"
          ]
        },
        {
          "output_type": "stream",
          "name": "stderr",
          "text": [
            "\rGenerating translations:  59%|█████▉    | 939/1598 [04:31<04:35,  2.39it/s]"
          ]
        },
        {
          "output_type": "stream",
          "name": "stdout",
          "text": [
            "Warning: Empty prediction for input: After saying that David was still in his tomb, Peter applied those words to Jesus and said that David foresaw Christ's resurrection and told him about Christ's resurrection, that he was forsaken in Hades, that he did not see His flesh and corruption.\n"
          ]
        },
        {
          "output_type": "stream",
          "name": "stderr",
          "text": [
            "\rGenerating translations:  59%|█████▉    | 940/1598 [04:31<04:14,  2.58it/s]"
          ]
        },
        {
          "output_type": "stream",
          "name": "stdout",
          "text": [
            "Warning: Empty prediction for input: No one knows why.\n"
          ]
        },
        {
          "output_type": "stream",
          "name": "stderr",
          "text": [
            "\rGenerating translations:  59%|█████▉    | 941/1598 [04:32<04:01,  2.72it/s]"
          ]
        },
        {
          "output_type": "stream",
          "name": "stdout",
          "text": [
            "Warning: Empty prediction for input: 1 Teaspoon Rose Water\n"
          ]
        },
        {
          "output_type": "stream",
          "name": "stderr",
          "text": [
            "\rGenerating translations:  59%|█████▉    | 942/1598 [04:32<04:08,  2.64it/s]"
          ]
        },
        {
          "output_type": "stream",
          "name": "stdout",
          "text": [
            "Warning: Empty prediction for input: Some parts of Assam have been receiving heavy rains for the past few days.\n"
          ]
        },
        {
          "output_type": "stream",
          "name": "stderr",
          "text": [
            "\rGenerating translations:  59%|█████▉    | 943/1598 [04:33<05:15,  2.07it/s]"
          ]
        },
        {
          "output_type": "stream",
          "name": "stdout",
          "text": [
            "Warning: Empty prediction for input: This was done in cotton, as Hans-Joachim Kann says in his book Wallfahrtsfhrer Trier und Umgebung (Pilgrimage Guide to Trier and Surroundings), it could have been worn as an outer garment.\n"
          ]
        },
        {
          "output_type": "stream",
          "name": "stderr",
          "text": [
            "\rGenerating translations:  59%|█████▉    | 944/1598 [04:33<04:51,  2.24it/s]"
          ]
        },
        {
          "output_type": "stream",
          "name": "stdout",
          "text": [
            "Warning: Empty prediction for input: You spend a lot of time with them.\n"
          ]
        },
        {
          "output_type": "stream",
          "name": "stderr",
          "text": [
            "\rGenerating translations:  59%|█████▉    | 945/1598 [04:34<04:39,  2.34it/s]"
          ]
        },
        {
          "output_type": "stream",
          "name": "stdout",
          "text": [
            "Warning: Empty prediction for input: This case is being investigated by the Kumble Police.\n"
          ]
        },
        {
          "output_type": "stream",
          "name": "stderr",
          "text": [
            "\rGenerating translations:  59%|█████▉    | 946/1598 [04:34<04:09,  2.61it/s]"
          ]
        },
        {
          "output_type": "stream",
          "name": "stdout",
          "text": [
            "Warning: Empty prediction for input: Ok let it be.\n"
          ]
        },
        {
          "output_type": "stream",
          "name": "stderr",
          "text": [
            "\rGenerating translations:  59%|█████▉    | 947/1598 [04:34<03:43,  2.92it/s]"
          ]
        },
        {
          "output_type": "stream",
          "name": "stdout",
          "text": [
            "Warning: Empty prediction for input: I'm still in that phase.\n"
          ]
        },
        {
          "output_type": "stream",
          "name": "stderr",
          "text": [
            "\rGenerating translations:  59%|█████▉    | 948/1598 [04:34<03:22,  3.21it/s]"
          ]
        },
        {
          "output_type": "stream",
          "name": "stdout",
          "text": [
            "Warning: Empty prediction for input: Salt is a costly commodity.\n"
          ]
        },
        {
          "output_type": "stream",
          "name": "stderr",
          "text": [
            "\rGenerating translations:  59%|█████▉    | 949/1598 [04:35<03:28,  3.11it/s]"
          ]
        },
        {
          "output_type": "stream",
          "name": "stdout",
          "text": [
            "Warning: Empty prediction for input: The meeting was attended by the Health Minister, Principal Secretary Health, Secretary Health, Medical Superintendents and nodal officers of the Government.\n"
          ]
        },
        {
          "output_type": "stream",
          "name": "stderr",
          "text": [
            "\rGenerating translations:  59%|█████▉    | 950/1598 [04:35<03:08,  3.44it/s]"
          ]
        },
        {
          "output_type": "stream",
          "name": "stdout",
          "text": [
            "Warning: Empty prediction for input: New Age.\n"
          ]
        },
        {
          "output_type": "stream",
          "name": "stderr",
          "text": [
            "\rGenerating translations:  60%|█████▉    | 951/1598 [04:35<03:01,  3.56it/s]"
          ]
        },
        {
          "output_type": "stream",
          "name": "stdout",
          "text": [
            "Warning: Empty prediction for input: There's a lot of evidence for this.\n"
          ]
        },
        {
          "output_type": "stream",
          "name": "stderr",
          "text": [
            "\rGenerating translations:  60%|█████▉    | 952/1598 [04:36<03:04,  3.49it/s]"
          ]
        },
        {
          "output_type": "stream",
          "name": "stdout",
          "text": [
            "Warning: Empty prediction for input: The Mi Power Bank Pro has a capacity of 10,000mAh and two-way fast charging up to 18W.\n"
          ]
        },
        {
          "output_type": "stream",
          "name": "stderr",
          "text": [
            "\rGenerating translations:  60%|█████▉    | 953/1598 [04:36<03:00,  3.57it/s]"
          ]
        },
        {
          "output_type": "stream",
          "name": "stdout",
          "text": [
            "Warning: Empty prediction for input: Tamil Nadu Government eSpeciality Hospital,\n"
          ]
        },
        {
          "output_type": "stream",
          "name": "stderr",
          "text": [
            "\rGenerating translations:  60%|█████▉    | 954/1598 [04:36<02:52,  3.73it/s]"
          ]
        },
        {
          "output_type": "stream",
          "name": "stdout",
          "text": [
            "Warning: Empty prediction for input: He killed his wife by earning alcohol.\n"
          ]
        },
        {
          "output_type": "stream",
          "name": "stderr",
          "text": [
            "\rGenerating translations:  60%|█████▉    | 955/1598 [04:36<02:45,  3.87it/s]"
          ]
        },
        {
          "output_type": "stream",
          "name": "stdout",
          "text": [
            "Warning: Empty prediction for input: Tell me what's not.\n"
          ]
        },
        {
          "output_type": "stream",
          "name": "stderr",
          "text": [
            "\rGenerating translations:  60%|█████▉    | 956/1598 [04:36<02:40,  4.01it/s]"
          ]
        },
        {
          "output_type": "stream",
          "name": "stdout",
          "text": [
            "Warning: Empty prediction for input: When will you tell me?\n"
          ]
        },
        {
          "output_type": "stream",
          "name": "stderr",
          "text": [
            "\rGenerating translations:  60%|█████▉    | 957/1598 [04:37<02:56,  3.64it/s]"
          ]
        },
        {
          "output_type": "stream",
          "name": "stdout",
          "text": [
            "Warning: Empty prediction for input: For a small group of people whom Jesus loved as his little flock, there is a resurrection to the immortal life of the Spirit of Heaven.\n"
          ]
        },
        {
          "output_type": "stream",
          "name": "stderr",
          "text": [
            "\rGenerating translations:  60%|█████▉    | 958/1598 [04:37<02:49,  3.77it/s]"
          ]
        },
        {
          "output_type": "stream",
          "name": "stdout",
          "text": [
            "Warning: Empty prediction for input: Previous governments haven't done that.\n"
          ]
        },
        {
          "output_type": "stream",
          "name": "stderr",
          "text": [
            "\rGenerating translations:  60%|██████    | 959/1598 [04:37<02:46,  3.84it/s]"
          ]
        },
        {
          "output_type": "stream",
          "name": "stdout",
          "text": [
            "Warning: Empty prediction for input: Rule 525 is a valid amendment.\n"
          ]
        },
        {
          "output_type": "stream",
          "name": "stderr",
          "text": [
            "\rGenerating translations:  60%|██████    | 960/1598 [04:38<02:40,  3.98it/s]"
          ]
        },
        {
          "output_type": "stream",
          "name": "stdout",
          "text": [
            "Warning: Empty prediction for input: Don't just relax.\n"
          ]
        },
        {
          "output_type": "stream",
          "name": "stderr",
          "text": [
            "\rGenerating translations:  60%|██████    | 961/1598 [04:38<02:54,  3.66it/s]"
          ]
        },
        {
          "output_type": "stream",
          "name": "stdout",
          "text": [
            "Warning: Empty prediction for input: So in turbulent flow, the velocity of the fluid particles, which are closest to the surface, is higher than the laminar flow.\n"
          ]
        },
        {
          "output_type": "stream",
          "name": "stderr",
          "text": [
            "\rGenerating translations:  60%|██████    | 962/1598 [04:38<03:13,  3.29it/s]"
          ]
        },
        {
          "output_type": "stream",
          "name": "stdout",
          "text": [
            "Warning: Empty prediction for input: In a similar way, if a person was once an elder, he or she can regain that responsibility and spiritually strengthen and make fellow believers happy.\n"
          ]
        },
        {
          "output_type": "stream",
          "name": "stderr",
          "text": [
            "\rGenerating translations:  60%|██████    | 963/1598 [04:39<03:05,  3.42it/s]"
          ]
        },
        {
          "output_type": "stream",
          "name": "stdout",
          "text": [
            "Warning: Empty prediction for input: And then, for a variety of reasons, it broke up.\n"
          ]
        },
        {
          "output_type": "stream",
          "name": "stderr",
          "text": [
            "\rGenerating translations:  60%|██████    | 964/1598 [04:39<02:57,  3.57it/s]"
          ]
        },
        {
          "output_type": "stream",
          "name": "stdout",
          "text": [
            "Warning: Empty prediction for input: It's not likely to change.\n"
          ]
        },
        {
          "output_type": "stream",
          "name": "stderr",
          "text": [
            "\rGenerating translations:  60%|██████    | 965/1598 [04:39<02:50,  3.72it/s]"
          ]
        },
        {
          "output_type": "stream",
          "name": "stdout",
          "text": [
            "Warning: Empty prediction for input: At the same time,...\n"
          ]
        },
        {
          "output_type": "stream",
          "name": "stderr",
          "text": [
            "\rGenerating translations:  60%|██████    | 966/1598 [04:39<02:51,  3.70it/s]"
          ]
        },
        {
          "output_type": "stream",
          "name": "stdout",
          "text": [
            "Warning: Empty prediction for input: No one else in Amorgos is Jehovah's witnesses.\n"
          ]
        },
        {
          "output_type": "stream",
          "name": "stderr",
          "text": [
            "\rGenerating translations:  61%|██████    | 967/1598 [04:40<03:01,  3.47it/s]"
          ]
        },
        {
          "output_type": "stream",
          "name": "stdout",
          "text": [
            "Warning: Empty prediction for input: The harvest is plentiful, but the hunter is scarce - this too comes from Jesus' words. It also applies to the field here.\n"
          ]
        },
        {
          "output_type": "stream",
          "name": "stderr",
          "text": [
            "\rGenerating translations:  61%|██████    | 968/1598 [04:40<02:56,  3.56it/s]"
          ]
        },
        {
          "output_type": "stream",
          "name": "stdout",
          "text": [
            "Warning: Empty prediction for input: Four people have been arrested for piracy.\n"
          ]
        },
        {
          "output_type": "stream",
          "name": "stderr",
          "text": [
            "\rGenerating translations:  61%|██████    | 969/1598 [04:40<02:49,  3.72it/s]"
          ]
        },
        {
          "output_type": "stream",
          "name": "stdout",
          "text": [
            "Warning: Empty prediction for input: I don't have any musical background.\n"
          ]
        },
        {
          "output_type": "stream",
          "name": "stderr",
          "text": [
            "\rGenerating translations:  61%|██████    | 970/1598 [04:40<02:54,  3.60it/s]"
          ]
        },
        {
          "output_type": "stream",
          "name": "stdout",
          "text": [
            "Warning: Empty prediction for input: It helps us identify the weaknesses in our faith, so we're in a good position to address problems.\n"
          ]
        },
        {
          "output_type": "stream",
          "name": "stderr",
          "text": [
            "\rGenerating translations:  61%|██████    | 971/1598 [04:41<02:43,  3.84it/s]"
          ]
        },
        {
          "output_type": "stream",
          "name": "stdout",
          "text": [
            "Warning: Empty prediction for input: So am I.\n"
          ]
        },
        {
          "output_type": "stream",
          "name": "stderr",
          "text": [
            "\rGenerating translations:  61%|██████    | 972/1598 [04:41<02:42,  3.85it/s]"
          ]
        },
        {
          "output_type": "stream",
          "name": "stdout",
          "text": [
            "Warning: Empty prediction for input: Sugarcane Price for Rs.,\n"
          ]
        },
        {
          "output_type": "stream",
          "name": "stderr",
          "text": [
            "\rGenerating translations:  61%|██████    | 973/1598 [04:41<02:42,  3.85it/s]"
          ]
        },
        {
          "output_type": "stream",
          "name": "stdout",
          "text": [
            "Warning: Empty prediction for input: We're all in the most of the time work place.\n"
          ]
        },
        {
          "output_type": "stream",
          "name": "stderr",
          "text": [
            "\rGenerating translations:  61%|██████    | 974/1598 [04:42<02:59,  3.47it/s]"
          ]
        },
        {
          "output_type": "stream",
          "name": "stdout",
          "text": [
            "Warning: Empty prediction for input: We call on workers, young people and intellectuals to vote for the candidates of the Socialist Equality Party (SEP) in today's Western Provincial Council election.\n"
          ]
        },
        {
          "output_type": "stream",
          "name": "stderr",
          "text": [
            "\rGenerating translations:  61%|██████    | 975/1598 [04:42<02:52,  3.61it/s]"
          ]
        },
        {
          "output_type": "stream",
          "name": "stdout",
          "text": [
            "Warning: Empty prediction for input: (See the box on page 21.)\n"
          ]
        },
        {
          "output_type": "stream",
          "name": "stderr",
          "text": [
            "\rGenerating translations:  61%|██████    | 976/1598 [04:42<02:44,  3.79it/s]"
          ]
        },
        {
          "output_type": "stream",
          "name": "stdout",
          "text": [
            "Warning: Empty prediction for input: Rs 8 lakh and above.\n"
          ]
        },
        {
          "output_type": "stream",
          "name": "stderr",
          "text": [
            "\rGenerating translations:  61%|██████    | 977/1598 [04:42<02:51,  3.61it/s]"
          ]
        },
        {
          "output_type": "stream",
          "name": "stdout",
          "text": [
            "Warning: Empty prediction for input: AD is said to be above 60 percent of dementia cases, which means that it affects at least 1 in 65 years of age.\n"
          ]
        },
        {
          "output_type": "stream",
          "name": "stderr",
          "text": [
            "\rGenerating translations:  61%|██████    | 978/1598 [04:43<02:48,  3.67it/s]"
          ]
        },
        {
          "output_type": "stream",
          "name": "stdout",
          "text": [
            "Warning: Empty prediction for input: Akshay Kumar is also the lead character in that movie.\n"
          ]
        },
        {
          "output_type": "stream",
          "name": "stderr",
          "text": [
            "\rGenerating translations:  61%|██████▏   | 979/1598 [04:43<02:40,  3.85it/s]"
          ]
        },
        {
          "output_type": "stream",
          "name": "stdout",
          "text": [
            "Warning: Empty prediction for input: He went on to say:\n"
          ]
        },
        {
          "output_type": "stream",
          "name": "stderr",
          "text": [
            "\rGenerating translations:  61%|██████▏   | 980/1598 [04:43<02:47,  3.69it/s]"
          ]
        },
        {
          "output_type": "stream",
          "name": "stdout",
          "text": [
            "Warning: Empty prediction for input: This means that when general level of prices increases, each monetary unit can buy fewer goods and services.\n"
          ]
        },
        {
          "output_type": "stream",
          "name": "stderr",
          "text": [
            "\rGenerating translations:  61%|██████▏   | 981/1598 [04:43<02:39,  3.86it/s]"
          ]
        },
        {
          "output_type": "stream",
          "name": "stdout",
          "text": [
            "Warning: Empty prediction for input: Which of them\n"
          ]
        },
        {
          "output_type": "stream",
          "name": "stderr",
          "text": [
            "\rGenerating translations:  61%|██████▏   | 982/1598 [04:44<02:39,  3.86it/s]"
          ]
        },
        {
          "output_type": "stream",
          "name": "stdout",
          "text": [
            "Warning: Empty prediction for input: 7/1 in Israel and 6/1 in Not Slow.\n"
          ]
        },
        {
          "output_type": "stream",
          "name": "stderr",
          "text": [
            "\rGenerating translations:  62%|██████▏   | 983/1598 [04:44<02:35,  3.96it/s]"
          ]
        },
        {
          "output_type": "stream",
          "name": "stdout",
          "text": [
            "Warning: Empty prediction for input: The day is important.\n"
          ]
        },
        {
          "output_type": "stream",
          "name": "stderr",
          "text": [
            "\rGenerating translations:  62%|██████▏   | 984/1598 [04:44<03:13,  3.18it/s]"
          ]
        },
        {
          "output_type": "stream",
          "name": "stdout",
          "text": [
            "Warning: Empty prediction for input: After the fall of Qataban in 50 BCE, the Sabaeans withdrew their control ma'in.\n"
          ]
        },
        {
          "output_type": "stream",
          "name": "stderr",
          "text": [
            "\rGenerating translations:  62%|██████▏   | 985/1598 [04:45<03:36,  2.83it/s]"
          ]
        },
        {
          "output_type": "stream",
          "name": "stdout",
          "text": [
            "Warning: Empty prediction for input: Actor Kamal Haasan has launched a political party called Makkal Needhi Maiam.\n"
          ]
        },
        {
          "output_type": "stream",
          "name": "stderr",
          "text": [
            "\rGenerating translations:  62%|██████▏   | 986/1598 [04:45<03:32,  2.88it/s]"
          ]
        },
        {
          "output_type": "stream",
          "name": "stdout",
          "text": [
            "Warning: Empty prediction for input: I have to make one thing clear.\n"
          ]
        },
        {
          "output_type": "stream",
          "name": "stderr",
          "text": [
            "\rGenerating translations:  62%|██████▏   | 987/1598 [04:45<03:22,  3.01it/s]"
          ]
        },
        {
          "output_type": "stream",
          "name": "stdout",
          "text": [
            "Warning: Empty prediction for input: In the Dominican Republic\n"
          ]
        },
        {
          "output_type": "stream",
          "name": "stderr",
          "text": [
            "\rGenerating translations:  62%|██████▏   | 988/1598 [04:46<03:18,  3.07it/s]"
          ]
        },
        {
          "output_type": "stream",
          "name": "stdout",
          "text": [
            "Warning: Empty prediction for input: Illegal Lalu\n"
          ]
        },
        {
          "output_type": "stream",
          "name": "stderr",
          "text": [
            "\rGenerating translations:  62%|██████▏   | 989/1598 [04:46<03:32,  2.87it/s]"
          ]
        },
        {
          "output_type": "stream",
          "name": "stdout",
          "text": [
            "Warning: Empty prediction for input: Sivakumar Vijayan is doing the camera work of the film.\n"
          ]
        },
        {
          "output_type": "stream",
          "name": "stderr",
          "text": [
            "\rGenerating translations:  62%|██████▏   | 990/1598 [04:46<03:29,  2.91it/s]"
          ]
        },
        {
          "output_type": "stream",
          "name": "stdout",
          "text": [
            "Warning: Empty prediction for input: Are you going to school?\n"
          ]
        },
        {
          "output_type": "stream",
          "name": "stderr",
          "text": [
            "\rGenerating translations:  62%|██████▏   | 991/1598 [04:47<03:41,  2.74it/s]"
          ]
        },
        {
          "output_type": "stream",
          "name": "stdout",
          "text": [
            "Warning: Empty prediction for input: Dignitaries, officials and political leaders were among those who attended the funeral.\n"
          ]
        },
        {
          "output_type": "stream",
          "name": "stderr",
          "text": [
            "\rGenerating translations:  62%|██████▏   | 992/1598 [04:47<03:30,  2.88it/s]"
          ]
        },
        {
          "output_type": "stream",
          "name": "stdout",
          "text": [
            "Warning: Empty prediction for input: Metro services in Delhi shut down immediately.\n"
          ]
        },
        {
          "output_type": "stream",
          "name": "stderr",
          "text": [
            "\rGenerating translations:  62%|██████▏   | 993/1598 [04:47<03:20,  3.01it/s]"
          ]
        },
        {
          "output_type": "stream",
          "name": "stdout",
          "text": [
            "Warning: Empty prediction for input: So, CERT-In overseas Computer Emergency Response Teams (CERTs) are also collaborating for incident response and resolution.\n"
          ]
        },
        {
          "output_type": "stream",
          "name": "stderr",
          "text": [
            "\rGenerating translations:  62%|██████▏   | 994/1598 [04:48<03:04,  3.27it/s]"
          ]
        },
        {
          "output_type": "stream",
          "name": "stdout",
          "text": [
            "Warning: Empty prediction for input: Green roofs have soil, plants and flowering plants.\n"
          ]
        },
        {
          "output_type": "stream",
          "name": "stderr",
          "text": [
            "\rGenerating translations:  62%|██████▏   | 995/1598 [04:48<03:02,  3.30it/s]"
          ]
        },
        {
          "output_type": "stream",
          "name": "stdout",
          "text": [
            "Warning: Empty prediction for input: How can we drive the flesh away from us, how can we get closer to God?\n"
          ]
        },
        {
          "output_type": "stream",
          "name": "stderr",
          "text": [
            "\rGenerating translations:  62%|██████▏   | 996/1598 [04:48<02:50,  3.53it/s]"
          ]
        },
        {
          "output_type": "stream",
          "name": "stdout",
          "text": [
            "Warning: Empty prediction for input: That will never happen.\n"
          ]
        },
        {
          "output_type": "stream",
          "name": "stderr",
          "text": [
            "\rGenerating translations:  62%|██████▏   | 997/1598 [04:49<03:02,  3.30it/s]"
          ]
        },
        {
          "output_type": "stream",
          "name": "stdout",
          "text": [
            "Warning: Empty prediction for input: The Income Tax Department conducted search and seizure operations on 03/12/2020 against the steel products manufacturing and trading group located in the premises around Rourkela in Odisha.\n"
          ]
        },
        {
          "output_type": "stream",
          "name": "stderr",
          "text": [
            "\rGenerating translations:  62%|██████▏   | 998/1598 [04:49<02:50,  3.53it/s]"
          ]
        },
        {
          "output_type": "stream",
          "name": "stdout",
          "text": [
            "Warning: Empty prediction for input: Her face turned red with anger.\n"
          ]
        },
        {
          "output_type": "stream",
          "name": "stderr",
          "text": [
            "\rGenerating translations:  63%|██████▎   | 999/1598 [04:49<02:40,  3.73it/s]"
          ]
        },
        {
          "output_type": "stream",
          "name": "stdout",
          "text": [
            "Warning: Empty prediction for input: One of them passed away.\n"
          ]
        },
        {
          "output_type": "stream",
          "name": "stderr",
          "text": [
            "\rGenerating translations:  63%|██████▎   | 1000/1598 [04:49<02:48,  3.55it/s]"
          ]
        },
        {
          "output_type": "stream",
          "name": "stdout",
          "text": [
            "Warning: Empty prediction for input: Universities like the University of Madras are expected to be our navigators on this trip.\n"
          ]
        },
        {
          "output_type": "stream",
          "name": "stderr",
          "text": [
            "\rGenerating translations:  63%|██████▎   | 1001/1598 [04:50<03:18,  3.01it/s]"
          ]
        },
        {
          "output_type": "stream",
          "name": "stdout",
          "text": [
            "Warning: Empty prediction for input: It's smart that we're looking for meekness, because meek ones possess the earth, and they'll find their exquisite delight in the abundance of peace. Zephaniah 2: 3. Psalm 37: 11.\n"
          ]
        },
        {
          "output_type": "stream",
          "name": "stderr",
          "text": [
            "\rGenerating translations:  63%|██████▎   | 1002/1598 [04:50<02:59,  3.32it/s]"
          ]
        },
        {
          "output_type": "stream",
          "name": "stdout",
          "text": [
            "Warning: Empty prediction for input: Police are investigating the incident.\n"
          ]
        },
        {
          "output_type": "stream",
          "name": "stderr",
          "text": [
            "\rGenerating translations:  63%|██████▎   | 1003/1598 [04:50<02:57,  3.36it/s]"
          ]
        },
        {
          "output_type": "stream",
          "name": "stdout",
          "text": [
            "Warning: Empty prediction for input: In the first phase of vaccination, about 3 crore healthcare workers and frontline workers will be vaccinated.\n"
          ]
        },
        {
          "output_type": "stream",
          "name": "stderr",
          "text": [
            "\rGenerating translations:  63%|██████▎   | 1004/1598 [04:51<02:46,  3.58it/s]"
          ]
        },
        {
          "output_type": "stream",
          "name": "stdout",
          "text": [
            "Warning: Empty prediction for input: Superb, isn't it?\n"
          ]
        },
        {
          "output_type": "stream",
          "name": "stderr",
          "text": [
            "\rGenerating translations:  63%|██████▎   | 1005/1598 [04:51<02:32,  3.88it/s]"
          ]
        },
        {
          "output_type": "stream",
          "name": "stdout",
          "text": [
            "Warning: Empty prediction for input: 40 Million...\n"
          ]
        },
        {
          "output_type": "stream",
          "name": "stderr",
          "text": [
            "\rGenerating translations:  63%|██████▎   | 1006/1598 [04:51<02:28,  3.99it/s]"
          ]
        },
        {
          "output_type": "stream",
          "name": "stdout",
          "text": [
            "Warning: Empty prediction for input: He was in the medical field.\n"
          ]
        },
        {
          "output_type": "stream",
          "name": "stderr",
          "text": [
            "\rGenerating translations:  63%|██████▎   | 1007/1598 [04:51<02:23,  4.13it/s]"
          ]
        },
        {
          "output_type": "stream",
          "name": "stdout",
          "text": [
            "Warning: Empty prediction for input: Okay, so be it.\n"
          ]
        },
        {
          "output_type": "stream",
          "name": "stderr",
          "text": [
            "\rGenerating translations:  63%|██████▎   | 1008/1598 [04:52<02:37,  3.75it/s]"
          ]
        },
        {
          "output_type": "stream",
          "name": "stdout",
          "text": [
            "Warning: Empty prediction for input: (a) Why are witnesses voluntary served without any payment? (b) How has Jehovah responded to Satan's taunt?\n"
          ]
        },
        {
          "output_type": "stream",
          "name": "stderr",
          "text": [
            "\rGenerating translations:  63%|██████▎   | 1009/1598 [04:52<02:48,  3.49it/s]"
          ]
        },
        {
          "output_type": "stream",
          "name": "stdout",
          "text": [
            "Warning: Empty prediction for input: Or customers who use more than 250 minutes (local+STD) per day will be charged 30 paisa per second.\n"
          ]
        },
        {
          "output_type": "stream",
          "name": "stderr",
          "text": [
            "\rGenerating translations:  63%|██████▎   | 1010/1598 [04:52<02:45,  3.56it/s]"
          ]
        },
        {
          "output_type": "stream",
          "name": "stdout",
          "text": [
            "Warning: Empty prediction for input: How much value do some brothers give to the training that Jehovah provides?\n"
          ]
        },
        {
          "output_type": "stream",
          "name": "stderr",
          "text": [
            "\rGenerating translations:  63%|██████▎   | 1011/1598 [04:52<02:37,  3.73it/s]"
          ]
        },
        {
          "output_type": "stream",
          "name": "stdout",
          "text": [
            "Warning: Empty prediction for input: They couldn't stand.\n"
          ]
        },
        {
          "output_type": "stream",
          "name": "stderr",
          "text": [
            "\rGenerating translations:  63%|██████▎   | 1012/1598 [04:53<02:32,  3.84it/s]"
          ]
        },
        {
          "output_type": "stream",
          "name": "stdout",
          "text": [
            "Warning: Empty prediction for input: They do the same with some wineries.\n"
          ]
        },
        {
          "output_type": "stream",
          "name": "stderr",
          "text": [
            "\rGenerating translations:  63%|██████▎   | 1013/1598 [04:53<02:51,  3.41it/s]"
          ]
        },
        {
          "output_type": "stream",
          "name": "stdout",
          "text": [
            "Warning: Empty prediction for input: President i Jinping thanked me for hosting the PM-I at the 2nd Informal Summit in Chennai and said that he will never forget the welcome given by PM Modi and the people of India.\n"
          ]
        },
        {
          "output_type": "stream",
          "name": "stderr",
          "text": [
            "\rGenerating translations:  63%|██████▎   | 1014/1598 [04:53<02:39,  3.66it/s]"
          ]
        },
        {
          "output_type": "stream",
          "name": "stdout",
          "text": [
            "Warning: Empty prediction for input: What colour should I print?\n"
          ]
        },
        {
          "output_type": "stream",
          "name": "stderr",
          "text": [
            "\rGenerating translations:  64%|██████▎   | 1015/1598 [04:53<02:38,  3.67it/s]"
          ]
        },
        {
          "output_type": "stream",
          "name": "stdout",
          "text": [
            "Warning: Empty prediction for input: The film has been titled 'Enthiran' in Tamil.\n"
          ]
        },
        {
          "output_type": "stream",
          "name": "stderr",
          "text": [
            "\rGenerating translations:  64%|██████▎   | 1016/1598 [04:54<02:32,  3.81it/s]"
          ]
        },
        {
          "output_type": "stream",
          "name": "stdout",
          "text": [
            "Warning: Empty prediction for input: The government doesn't do anything like that.\n"
          ]
        },
        {
          "output_type": "stream",
          "name": "stderr",
          "text": [
            "\rGenerating translations:  64%|██████▎   | 1017/1598 [04:54<02:25,  3.99it/s]"
          ]
        },
        {
          "output_type": "stream",
          "name": "stdout",
          "text": [
            "Warning: Empty prediction for input: Our Jobs\n"
          ]
        },
        {
          "output_type": "stream",
          "name": "stderr",
          "text": [
            "\rGenerating translations:  64%|██████▎   | 1018/1598 [04:54<02:40,  3.62it/s]"
          ]
        },
        {
          "output_type": "stream",
          "name": "stdout",
          "text": [
            "Warning: Empty prediction for input: Till last week, the stock of FASTags was only 18 lakhs, which NHAI feels is not enough to cover all toll-using vehicle users in India.\n"
          ]
        },
        {
          "output_type": "stream",
          "name": "stderr",
          "text": [
            "\rGenerating translations:  64%|██████▍   | 1019/1598 [04:55<02:37,  3.68it/s]"
          ]
        },
        {
          "output_type": "stream",
          "name": "stdout",
          "text": [
            "Warning: Empty prediction for input: Day by day, the number of killed and wounded is increasing.\n"
          ]
        },
        {
          "output_type": "stream",
          "name": "stderr",
          "text": [
            "\rGenerating translations:  64%|██████▍   | 1020/1598 [04:55<02:39,  3.62it/s]"
          ]
        },
        {
          "output_type": "stream",
          "name": "stdout",
          "text": [
            "Warning: Empty prediction for input: De Molay came first at the beginning of 1307, but de Villaret came several months late.\n"
          ]
        },
        {
          "output_type": "stream",
          "name": "stderr",
          "text": [
            "\rGenerating translations:  64%|██████▍   | 1021/1598 [04:55<02:28,  3.90it/s]"
          ]
        },
        {
          "output_type": "stream",
          "name": "stdout",
          "text": [
            "Warning: Empty prediction for input: They also refused.\n"
          ]
        },
        {
          "output_type": "stream",
          "name": "stderr",
          "text": [
            "\rGenerating translations:  64%|██████▍   | 1022/1598 [04:55<02:29,  3.86it/s]"
          ]
        },
        {
          "output_type": "stream",
          "name": "stdout",
          "text": [
            "Warning: Empty prediction for input: During that time, they both fell in love and then they got married.\n"
          ]
        },
        {
          "output_type": "stream",
          "name": "stderr",
          "text": [
            "\rGenerating translations:  64%|██████▍   | 1023/1598 [04:56<02:26,  3.93it/s]"
          ]
        },
        {
          "output_type": "stream",
          "name": "stdout",
          "text": [
            "Warning: Empty prediction for input: District Magistrate/Collector\n"
          ]
        },
        {
          "output_type": "stream",
          "name": "stderr",
          "text": [
            "\rGenerating translations:  64%|██████▍   | 1024/1598 [04:56<02:26,  3.92it/s]"
          ]
        },
        {
          "output_type": "stream",
          "name": "stdout",
          "text": [
            "Warning: Empty prediction for input: I'm going to give you some reason every day, use it.\n"
          ]
        },
        {
          "output_type": "stream",
          "name": "stderr",
          "text": [
            "\rGenerating translations:  64%|██████▍   | 1025/1598 [04:56<02:26,  3.90it/s]"
          ]
        },
        {
          "output_type": "stream",
          "name": "stdout",
          "text": [
            "Warning: Empty prediction for input: We bought a book in German and spent the whole night reading.\n"
          ]
        },
        {
          "output_type": "stream",
          "name": "stderr",
          "text": [
            "\rGenerating translations:  64%|██████▍   | 1026/1598 [04:56<02:33,  3.74it/s]"
          ]
        },
        {
          "output_type": "stream",
          "name": "stdout",
          "text": [
            "Warning: Empty prediction for input: I don't know what's going on before! On August mid, someone called and said they had a donor.\n"
          ]
        },
        {
          "output_type": "stream",
          "name": "stderr",
          "text": [
            "\rGenerating translations:  64%|██████▍   | 1027/1598 [04:57<02:35,  3.67it/s]"
          ]
        },
        {
          "output_type": "stream",
          "name": "stdout",
          "text": [
            "Warning: Empty prediction for input: The Scriptures prophecy that that day is Jehovah's day.\n"
          ]
        },
        {
          "output_type": "stream",
          "name": "stderr",
          "text": [
            "\rGenerating translations:  64%|██████▍   | 1028/1598 [04:57<02:31,  3.77it/s]"
          ]
        },
        {
          "output_type": "stream",
          "name": "stdout",
          "text": [
            "Warning: Empty prediction for input: The government and politicians should not interfere with religion and achievement.\n"
          ]
        },
        {
          "output_type": "stream",
          "name": "stderr",
          "text": [
            "\rGenerating translations:  64%|██████▍   | 1029/1598 [04:57<02:30,  3.79it/s]"
          ]
        },
        {
          "output_type": "stream",
          "name": "stdout",
          "text": [
            "Warning: Empty prediction for input: They told me to take that picture.\n"
          ]
        },
        {
          "output_type": "stream",
          "name": "stderr",
          "text": [
            "\rGenerating translations:  64%|██████▍   | 1030/1598 [04:57<02:46,  3.41it/s]"
          ]
        },
        {
          "output_type": "stream",
          "name": "stdout",
          "text": [
            "Warning: Empty prediction for input: Actor Kamal Haasan is hosting this show.\n"
          ]
        },
        {
          "output_type": "stream",
          "name": "stderr",
          "text": [
            "\rGenerating translations:  65%|██████▍   | 1031/1598 [04:58<02:51,  3.30it/s]"
          ]
        },
        {
          "output_type": "stream",
          "name": "stdout",
          "text": [
            "Warning: Empty prediction for input: Can't go to this page.\n"
          ]
        },
        {
          "output_type": "stream",
          "name": "stderr",
          "text": [
            "\rGenerating translations:  65%|██████▍   | 1032/1598 [04:58<02:59,  3.16it/s]"
          ]
        },
        {
          "output_type": "stream",
          "name": "stdout",
          "text": [
            "Warning: Empty prediction for input: What is a joint operating agreement?\n"
          ]
        },
        {
          "output_type": "stream",
          "name": "stderr",
          "text": [
            "\rGenerating translations:  65%|██████▍   | 1033/1598 [04:59<03:02,  3.09it/s]"
          ]
        },
        {
          "output_type": "stream",
          "name": "stdout",
          "text": [
            "Warning: Empty prediction for input: Maybe he's going to die.\n"
          ]
        },
        {
          "output_type": "stream",
          "name": "stderr",
          "text": [
            "\rGenerating translations:  65%|██████▍   | 1034/1598 [04:59<03:02,  3.08it/s]"
          ]
        },
        {
          "output_type": "stream",
          "name": "stdout",
          "text": [
            "Warning: Empty prediction for input: The. M. K. and\n"
          ]
        },
        {
          "output_type": "stream",
          "name": "stderr",
          "text": [
            "\rGenerating translations:  65%|██████▍   | 1035/1598 [04:59<03:02,  3.09it/s]"
          ]
        },
        {
          "output_type": "stream",
          "name": "stdout",
          "text": [
            "Warning: Empty prediction for input: John 3:16.\n"
          ]
        },
        {
          "output_type": "stream",
          "name": "stderr",
          "text": [
            "\rGenerating translations:  65%|██████▍   | 1036/1598 [04:59<03:03,  3.06it/s]"
          ]
        },
        {
          "output_type": "stream",
          "name": "stdout",
          "text": [
            "Warning: Empty prediction for input: Here are the details of the damage:\n"
          ]
        },
        {
          "output_type": "stream",
          "name": "stderr",
          "text": [
            "\rGenerating translations:  65%|██████▍   | 1037/1598 [05:00<03:07,  3.00it/s]"
          ]
        },
        {
          "output_type": "stream",
          "name": "stdout",
          "text": [
            "Warning: Empty prediction for input: It's not just in India.\n"
          ]
        },
        {
          "output_type": "stream",
          "name": "stderr",
          "text": [
            "\rGenerating translations:  65%|██████▍   | 1038/1598 [05:00<03:06,  3.00it/s]"
          ]
        },
        {
          "output_type": "stream",
          "name": "stdout",
          "text": [
            "Warning: Empty prediction for input: Or ignore it.\n"
          ]
        },
        {
          "output_type": "stream",
          "name": "stderr",
          "text": [
            "\rGenerating translations:  65%|██████▌   | 1039/1598 [05:00<03:00,  3.10it/s]"
          ]
        },
        {
          "output_type": "stream",
          "name": "stdout",
          "text": [
            "Warning: Empty prediction for input: That song has become a rage.\n"
          ]
        },
        {
          "output_type": "stream",
          "name": "stderr",
          "text": [
            "\rGenerating translations:  65%|██████▌   | 1040/1598 [05:01<02:48,  3.32it/s]"
          ]
        },
        {
          "output_type": "stream",
          "name": "stdout",
          "text": [
            "Warning: Empty prediction for input: So people in that area are very scared.\n"
          ]
        },
        {
          "output_type": "stream",
          "name": "stderr",
          "text": [
            "\rGenerating translations:  65%|██████▌   | 1041/1598 [05:01<02:44,  3.38it/s]"
          ]
        },
        {
          "output_type": "stream",
          "name": "stdout",
          "text": [
            "Warning: Empty prediction for input: Saaho is Prabhas' biggest project after Baahubali.\n"
          ]
        },
        {
          "output_type": "stream",
          "name": "stderr",
          "text": [
            "\rGenerating translations:  65%|██████▌   | 1042/1598 [05:01<02:35,  3.57it/s]"
          ]
        },
        {
          "output_type": "stream",
          "name": "stdout",
          "text": [
            "Warning: Empty prediction for input: 4:1-17 Did Ezekiel really act on Jerusalem?\n"
          ]
        },
        {
          "output_type": "stream",
          "name": "stderr",
          "text": [
            "\rGenerating translations:  65%|██████▌   | 1043/1598 [05:01<02:26,  3.79it/s]"
          ]
        },
        {
          "output_type": "stream",
          "name": "stdout",
          "text": [
            "Warning: Empty prediction for input: But I couldn't install.\n"
          ]
        },
        {
          "output_type": "stream",
          "name": "stderr",
          "text": [
            "\rGenerating translations:  65%|██████▌   | 1044/1598 [05:02<02:23,  3.86it/s]"
          ]
        },
        {
          "output_type": "stream",
          "name": "stdout",
          "text": [
            "Warning: Empty prediction for input: Official sources say 17 soldiers are dead.\n"
          ]
        },
        {
          "output_type": "stream",
          "name": "stderr",
          "text": [
            "\rGenerating translations:  65%|██████▌   | 1045/1598 [05:02<02:20,  3.94it/s]"
          ]
        },
        {
          "output_type": "stream",
          "name": "stdout",
          "text": [
            "Warning: Empty prediction for input: So what can we do, sir?\n"
          ]
        },
        {
          "output_type": "stream",
          "name": "stderr",
          "text": [
            "\rGenerating translations:  65%|██████▌   | 1046/1598 [05:03<03:08,  2.93it/s]"
          ]
        },
        {
          "output_type": "stream",
          "name": "stdout",
          "text": [
            "Warning: Empty prediction for input: The moles of the fields, the birds building cages, the men sowing grain, the shepherds bringing in lost lambs, the women sewing patches out of old cloth, the children playing in the market, the fishermen dragging the nets - these are common in Jesus' eyes, but everyone who came to him knew that it was common.\n"
          ]
        },
        {
          "output_type": "stream",
          "name": "stderr",
          "text": [
            "\rGenerating translations:  66%|██████▌   | 1047/1598 [05:03<03:23,  2.70it/s]"
          ]
        },
        {
          "output_type": "stream",
          "name": "stdout",
          "text": [
            "Warning: Empty prediction for input: Do you need anything else, sir? In our shop, sweet bread (sweet bread) and wheat rusk (piece of wheat bread) are both famous (famous). Or do you buy cutlets and doughnuts?\n"
          ]
        },
        {
          "output_type": "stream",
          "name": "stderr",
          "text": [
            "\rGenerating translations:  66%|██████▌   | 1048/1598 [05:03<03:08,  2.92it/s]"
          ]
        },
        {
          "output_type": "stream",
          "name": "stdout",
          "text": [
            "Warning: Empty prediction for input: BJP has launched 'Bijli Andolan' against power tariff hike.\n"
          ]
        },
        {
          "output_type": "stream",
          "name": "stderr",
          "text": [
            "\rGenerating translations:  66%|██████▌   | 1049/1598 [05:03<02:47,  3.27it/s]"
          ]
        },
        {
          "output_type": "stream",
          "name": "stdout",
          "text": [
            "Warning: Empty prediction for input: The man was stunned.\n"
          ]
        },
        {
          "output_type": "stream",
          "name": "stderr",
          "text": [
            "\rGenerating translations:  66%|██████▌   | 1050/1598 [05:04<02:39,  3.44it/s]"
          ]
        },
        {
          "output_type": "stream",
          "name": "stdout",
          "text": [
            "Warning: Empty prediction for input: Provident Fund (PF) :\n"
          ]
        },
        {
          "output_type": "stream",
          "name": "stderr",
          "text": [
            "\rGenerating translations:  66%|██████▌   | 1051/1598 [05:04<02:34,  3.53it/s]"
          ]
        },
        {
          "output_type": "stream",
          "name": "stdout",
          "text": [
            "Warning: Empty prediction for input: What he said was to improve the ties between the two parties.\n"
          ]
        },
        {
          "output_type": "stream",
          "name": "stderr",
          "text": [
            "\rGenerating translations:  66%|██████▌   | 1052/1598 [05:04<03:05,  2.94it/s]"
          ]
        },
        {
          "output_type": "stream",
          "name": "stdout",
          "text": [
            "Warning: Empty prediction for input: Scientists at Rice University in Houston, Texas, donated TNT to a pondweed called periwinkle and parrot feather. Within a week, they've left no trace of explosives in their tissues, and they burn the plants, but there's no explosion.\n"
          ]
        },
        {
          "output_type": "stream",
          "name": "stderr",
          "text": [
            "\rGenerating translations:  66%|██████▌   | 1053/1598 [05:05<02:48,  3.23it/s]"
          ]
        },
        {
          "output_type": "stream",
          "name": "stdout",
          "text": [
            "Warning: Empty prediction for input: The world is looking at India with hope.\n"
          ]
        },
        {
          "output_type": "stream",
          "name": "stderr",
          "text": [
            "\rGenerating translations:  66%|██████▌   | 1054/1598 [05:05<02:44,  3.30it/s]"
          ]
        },
        {
          "output_type": "stream",
          "name": "stdout",
          "text": [
            "Warning: Empty prediction for input: National Council for Teachers Education (NCTE) has banned the opening of new D Ed Colleges.\n"
          ]
        },
        {
          "output_type": "stream",
          "name": "stderr",
          "text": [
            "\rGenerating translations:  66%|██████▌   | 1055/1598 [05:05<03:04,  2.94it/s]"
          ]
        },
        {
          "output_type": "stream",
          "name": "stdout",
          "text": [
            "Warning: Empty prediction for input: Adults like Sachin Tendulkar, Rahul Dravid and Sourav Ganguly all said they didn't participate because the shortest format of the sport was growing and it was not given any importance then.\n"
          ]
        },
        {
          "output_type": "stream",
          "name": "stderr",
          "text": [
            "\rGenerating translations:  66%|██████▌   | 1056/1598 [05:06<02:55,  3.08it/s]"
          ]
        },
        {
          "output_type": "stream",
          "name": "stdout",
          "text": [
            "Warning: Empty prediction for input: Sadly, in this greedy world, some people take people's illness or opportunity to make money.\n"
          ]
        },
        {
          "output_type": "stream",
          "name": "stderr",
          "text": [
            "\rGenerating translations:  66%|██████▌   | 1057/1598 [05:06<02:56,  3.06it/s]"
          ]
        },
        {
          "output_type": "stream",
          "name": "stdout",
          "text": [
            "Warning: Empty prediction for input: This bridge is also historically important because it is the oldest open-spandrel stone segmental arch bridge in the world.\n"
          ]
        },
        {
          "output_type": "stream",
          "name": "stderr",
          "text": [
            "\rGenerating translations:  66%|██████▌   | 1058/1598 [05:06<02:44,  3.28it/s]"
          ]
        },
        {
          "output_type": "stream",
          "name": "stdout",
          "text": [
            "Warning: Empty prediction for input: I was out of town for a few days.\n"
          ]
        },
        {
          "output_type": "stream",
          "name": "stderr",
          "text": [
            "\rGenerating translations:  66%|██████▋   | 1059/1598 [05:06<02:31,  3.56it/s]"
          ]
        },
        {
          "output_type": "stream",
          "name": "stdout",
          "text": [
            "Warning: Empty prediction for input: The film has been received well.\n"
          ]
        },
        {
          "output_type": "stream",
          "name": "stderr",
          "text": [
            "\rGenerating translations:  66%|██████▋   | 1060/1598 [05:07<02:27,  3.65it/s]"
          ]
        },
        {
          "output_type": "stream",
          "name": "stdout",
          "text": [
            "Warning: Empty prediction for input: I've been in music since I was very young.\n"
          ]
        },
        {
          "output_type": "stream",
          "name": "stderr",
          "text": [
            "\rGenerating translations:  66%|██████▋   | 1061/1598 [05:07<02:24,  3.70it/s]"
          ]
        },
        {
          "output_type": "stream",
          "name": "stdout",
          "text": [
            "Warning: Empty prediction for input: Then the police came and dispersed the crowd.\n"
          ]
        },
        {
          "output_type": "stream",
          "name": "stderr",
          "text": [
            "\rGenerating translations:  66%|██████▋   | 1062/1598 [05:07<02:17,  3.91it/s]"
          ]
        },
        {
          "output_type": "stream",
          "name": "stdout",
          "text": [
            "Warning: Empty prediction for input: Some relatives and friends were there.\n"
          ]
        },
        {
          "output_type": "stream",
          "name": "stderr",
          "text": [
            "\rGenerating translations:  67%|██████▋   | 1063/1598 [05:07<02:16,  3.93it/s]"
          ]
        },
        {
          "output_type": "stream",
          "name": "stdout",
          "text": [
            "Warning: Empty prediction for input: This scheme aims to support 12 crore farmers in the country.\n"
          ]
        },
        {
          "output_type": "stream",
          "name": "stderr",
          "text": [
            "\rGenerating translations:  67%|██████▋   | 1064/1598 [05:08<02:15,  3.95it/s]"
          ]
        },
        {
          "output_type": "stream",
          "name": "stdout",
          "text": [
            "Warning: Empty prediction for input: In Mumbai, a litre costs Rs 67.\n"
          ]
        },
        {
          "output_type": "stream",
          "name": "stderr",
          "text": [
            "\rGenerating translations:  67%|██████▋   | 1065/1598 [05:08<02:12,  4.01it/s]"
          ]
        },
        {
          "output_type": "stream",
          "name": "stdout",
          "text": [
            "Warning: Empty prediction for input: The incident happened in California.\n"
          ]
        },
        {
          "output_type": "stream",
          "name": "stderr",
          "text": [
            "\rGenerating translations:  67%|██████▋   | 1066/1598 [05:08<02:14,  3.95it/s]"
          ]
        },
        {
          "output_type": "stream",
          "name": "stdout",
          "text": [
            "Warning: Empty prediction for input: Malavika Mohan is playing the lead role in the film.\n"
          ]
        },
        {
          "output_type": "stream",
          "name": "stderr",
          "text": [
            "\rGenerating translations:  67%|██████▋   | 1067/1598 [05:09<02:17,  3.86it/s]"
          ]
        },
        {
          "output_type": "stream",
          "name": "stdout",
          "text": [
            "Warning: Empty prediction for input: The film also won awards in the Best Cinematography and Best Foreign Film categories.\n"
          ]
        },
        {
          "output_type": "stream",
          "name": "stderr",
          "text": [
            "\rGenerating translations:  67%|██████▋   | 1068/1598 [05:09<02:18,  3.83it/s]"
          ]
        },
        {
          "output_type": "stream",
          "name": "stdout",
          "text": [
            "Warning: Empty prediction for input: I'm very proud to speak in the British Parliament.\n"
          ]
        },
        {
          "output_type": "stream",
          "name": "stderr",
          "text": [
            "\rGenerating translations:  67%|██████▋   | 1069/1598 [05:09<02:16,  3.88it/s]"
          ]
        },
        {
          "output_type": "stream",
          "name": "stdout",
          "text": [
            "Warning: Empty prediction for input: What's wrong?\n"
          ]
        },
        {
          "output_type": "stream",
          "name": "stderr",
          "text": [
            "\rGenerating translations:  67%|██████▋   | 1070/1598 [05:09<02:28,  3.56it/s]"
          ]
        },
        {
          "output_type": "stream",
          "name": "stdout",
          "text": [
            "Warning: Empty prediction for input: As Genesis 1:24 says, let the domestic animal, the moving animal, and the wild beast of the earth all come into being according to its division from the earth.\n"
          ]
        },
        {
          "output_type": "stream",
          "name": "stderr",
          "text": [
            "\rGenerating translations:  67%|██████▋   | 1071/1598 [05:10<02:22,  3.69it/s]"
          ]
        },
        {
          "output_type": "stream",
          "name": "stdout",
          "text": [
            "Warning: Empty prediction for input: (Read 2 Corinthians 2:6-8.)\n"
          ]
        },
        {
          "output_type": "stream",
          "name": "stderr",
          "text": [
            "\rGenerating translations:  67%|██████▋   | 1072/1598 [05:10<02:30,  3.51it/s]"
          ]
        },
        {
          "output_type": "stream",
          "name": "stdout",
          "text": [
            "Warning: Empty prediction for input: On another occasion, they changed the symbol of the cathedral or city, saying, Where Holy Wisdom is, there is Novgorod.\n"
          ]
        },
        {
          "output_type": "stream",
          "name": "stderr",
          "text": [
            "\rGenerating translations:  67%|██████▋   | 1073/1598 [05:10<02:24,  3.64it/s]"
          ]
        },
        {
          "output_type": "stream",
          "name": "stdout",
          "text": [
            "Warning: Empty prediction for input: The airline will still get 12 Dornier aircraft.\n"
          ]
        },
        {
          "output_type": "stream",
          "name": "stderr",
          "text": [
            "\rGenerating translations:  67%|██████▋   | 1074/1598 [05:10<02:26,  3.58it/s]"
          ]
        },
        {
          "output_type": "stream",
          "name": "stdout",
          "text": [
            "Warning: Empty prediction for input: Jewels for less - can be purchased at PC Jewellers.\n"
          ]
        },
        {
          "output_type": "stream",
          "name": "stderr",
          "text": [
            "\rGenerating translations:  67%|██████▋   | 1075/1598 [05:11<02:47,  3.13it/s]"
          ]
        },
        {
          "output_type": "stream",
          "name": "stdout",
          "text": [
            "Warning: Empty prediction for input: Due to the recent rains, the water levels have gone up to the water level.\n"
          ]
        },
        {
          "output_type": "stream",
          "name": "stderr",
          "text": [
            "\rGenerating translations:  67%|██████▋   | 1076/1598 [05:11<02:46,  3.13it/s]"
          ]
        },
        {
          "output_type": "stream",
          "name": "stdout",
          "text": [
            "Warning: Empty prediction for input: He was sent home after treatment.\n"
          ]
        },
        {
          "output_type": "stream",
          "name": "stderr",
          "text": [
            "\rGenerating translations:  67%|██████▋   | 1077/1598 [05:12<02:55,  2.97it/s]"
          ]
        },
        {
          "output_type": "stream",
          "name": "stdout",
          "text": [
            "Warning: Empty prediction for input: In this regard, they have made a request to the High Court.\n"
          ]
        },
        {
          "output_type": "stream",
          "name": "stderr",
          "text": [
            "\rGenerating translations:  67%|██████▋   | 1078/1598 [05:12<03:13,  2.69it/s]"
          ]
        },
        {
          "output_type": "stream",
          "name": "stdout",
          "text": [
            "Warning: Empty prediction for input: It's definitely a reward for you, and you'll get a good reward for your striving.\n"
          ]
        },
        {
          "output_type": "stream",
          "name": "stderr",
          "text": [
            "\rGenerating translations:  68%|██████▊   | 1079/1598 [05:12<03:21,  2.58it/s]"
          ]
        },
        {
          "output_type": "stream",
          "name": "stdout",
          "text": [
            "Warning: Empty prediction for input: Although the concept of the eternal God is a little difficult to understand, we can see that it is valid.\n"
          ]
        },
        {
          "output_type": "stream",
          "name": "stderr",
          "text": [
            "\rGenerating translations:  68%|██████▊   | 1080/1598 [05:13<03:13,  2.68it/s]"
          ]
        },
        {
          "output_type": "stream",
          "name": "stdout",
          "text": [
            "Warning: Empty prediction for input: At dawn,\n"
          ]
        },
        {
          "output_type": "stream",
          "name": "stderr",
          "text": [
            "\rGenerating translations:  68%|██████▊   | 1081/1598 [05:13<03:10,  2.71it/s]"
          ]
        },
        {
          "output_type": "stream",
          "name": "stdout",
          "text": [
            "Warning: Empty prediction for input: Advantage: It helps you lose weight.\n"
          ]
        },
        {
          "output_type": "stream",
          "name": "stderr",
          "text": [
            "\rGenerating translations:  68%|██████▊   | 1082/1598 [05:14<03:53,  2.21it/s]"
          ]
        },
        {
          "output_type": "stream",
          "name": "stdout",
          "text": [
            "Warning: Empty prediction for input: The Prime Minister assured the Maldivian President that India will continue to support the Maldives-like tourism-dependent economy, understanding the special challenges of the pandemic and reducing the health and economic impact of COVID-19.\n"
          ]
        },
        {
          "output_type": "stream",
          "name": "stderr",
          "text": [
            "\rGenerating translations:  68%|██████▊   | 1083/1598 [05:14<03:21,  2.55it/s]"
          ]
        },
        {
          "output_type": "stream",
          "name": "stdout",
          "text": [
            "Warning: Empty prediction for input: The price is too high!\n"
          ]
        },
        {
          "output_type": "stream",
          "name": "stderr",
          "text": [
            "\rGenerating translations:  68%|██████▊   | 1084/1598 [05:14<02:57,  2.90it/s]"
          ]
        },
        {
          "output_type": "stream",
          "name": "stdout",
          "text": [
            "Warning: Empty prediction for input: This incident happened in Russia.\n"
          ]
        },
        {
          "output_type": "stream",
          "name": "stderr",
          "text": [
            "\rGenerating translations:  68%|██████▊   | 1085/1598 [05:15<02:46,  3.08it/s]"
          ]
        },
        {
          "output_type": "stream",
          "name": "stdout",
          "text": [
            "Warning: Empty prediction for input: Nirmala Sitharaman was also present on this occasion.\n"
          ]
        },
        {
          "output_type": "stream",
          "name": "stderr",
          "text": [
            "\rGenerating translations:  68%|██████▊   | 1086/1598 [05:15<02:32,  3.36it/s]"
          ]
        },
        {
          "output_type": "stream",
          "name": "stdout",
          "text": [
            "Warning: Empty prediction for input: The police are investigating the matter.\n"
          ]
        },
        {
          "output_type": "stream",
          "name": "stderr",
          "text": [
            "\rGenerating translations:  68%|██████▊   | 1087/1598 [05:15<02:34,  3.32it/s]"
          ]
        },
        {
          "output_type": "stream",
          "name": "stdout",
          "text": [
            "Warning: Empty prediction for input: The decision was taken at a Jamiat working committee meeting on Sunday and a nod was given to review petition file.\n"
          ]
        },
        {
          "output_type": "stream",
          "name": "stderr",
          "text": [
            "\rGenerating translations:  68%|██████▊   | 1088/1598 [05:15<02:27,  3.45it/s]"
          ]
        },
        {
          "output_type": "stream",
          "name": "stdout",
          "text": [
            "Warning: Empty prediction for input: Muthuchettipatti Pallikutru Hostel\n"
          ]
        },
        {
          "output_type": "stream",
          "name": "stderr",
          "text": [
            "\rGenerating translations:  68%|██████▊   | 1089/1598 [05:16<02:19,  3.64it/s]"
          ]
        },
        {
          "output_type": "stream",
          "name": "stdout",
          "text": [
            "Warning: Empty prediction for input: 1 Adyar Sewage Recycling\n"
          ]
        },
        {
          "output_type": "stream",
          "name": "stderr",
          "text": [
            "\rGenerating translations:  68%|██████▊   | 1090/1598 [05:16<02:22,  3.58it/s]"
          ]
        },
        {
          "output_type": "stream",
          "name": "stdout",
          "text": [
            "Warning: Empty prediction for input: He has acted in hero, villain, character actor, comedian and many other roles.\n"
          ]
        },
        {
          "output_type": "stream",
          "name": "stderr",
          "text": [
            "\rGenerating translations:  68%|██████▊   | 1091/1598 [05:16<02:20,  3.60it/s]"
          ]
        },
        {
          "output_type": "stream",
          "name": "stdout",
          "text": [
            "Warning: Empty prediction for input: Seventeen people are in life sentence jails and 11 have death penalties.\n"
          ]
        },
        {
          "output_type": "stream",
          "name": "stderr",
          "text": [
            "\rGenerating translations:  68%|██████▊   | 1092/1598 [05:16<02:18,  3.64it/s]"
          ]
        },
        {
          "output_type": "stream",
          "name": "stdout",
          "text": [
            "Warning: Empty prediction for input: There's been a massive earthquake in Papua New Guinea.\n"
          ]
        },
        {
          "output_type": "stream",
          "name": "stderr",
          "text": [
            "\rGenerating translations:  68%|██████▊   | 1093/1598 [05:17<02:21,  3.57it/s]"
          ]
        },
        {
          "output_type": "stream",
          "name": "stdout",
          "text": [
            "Warning: Empty prediction for input: Experiments with skin sensors have shown that large dull facades give us a feeling of boring and uncomfortable.\n"
          ]
        },
        {
          "output_type": "stream",
          "name": "stderr",
          "text": [
            "\rGenerating translations:  68%|██████▊   | 1094/1598 [05:17<02:14,  3.75it/s]"
          ]
        },
        {
          "output_type": "stream",
          "name": "stdout",
          "text": [
            "Warning: Empty prediction for input: They were also arrested by the police.\n"
          ]
        },
        {
          "output_type": "stream",
          "name": "stderr",
          "text": [
            "\rGenerating translations:  69%|██████▊   | 1095/1598 [05:17<02:08,  3.91it/s]"
          ]
        },
        {
          "output_type": "stream",
          "name": "stdout",
          "text": [
            "Warning: Empty prediction for input: You have to find the answers.\n"
          ]
        },
        {
          "output_type": "stream",
          "name": "stderr",
          "text": [
            "\rGenerating translations:  69%|██████▊   | 1096/1598 [05:17<02:06,  3.98it/s]"
          ]
        },
        {
          "output_type": "stream",
          "name": "stdout",
          "text": [
            "Warning: Empty prediction for input: He's the one who writes this.\n"
          ]
        },
        {
          "output_type": "stream",
          "name": "stderr",
          "text": [
            "\rGenerating translations:  69%|██████▊   | 1097/1598 [05:18<02:05,  3.99it/s]"
          ]
        },
        {
          "output_type": "stream",
          "name": "stdout",
          "text": [
            "Warning: Empty prediction for input: We're not a membership party.\n"
          ]
        },
        {
          "output_type": "stream",
          "name": "stderr",
          "text": [
            "\rGenerating translations:  69%|██████▊   | 1098/1598 [05:18<02:01,  4.12it/s]"
          ]
        },
        {
          "output_type": "stream",
          "name": "stdout",
          "text": [
            "Warning: Empty prediction for input: There are no pictures.\n"
          ]
        },
        {
          "output_type": "stream",
          "name": "stderr",
          "text": [
            "\rGenerating translations:  69%|██████▉   | 1099/1598 [05:18<02:42,  3.08it/s]"
          ]
        },
        {
          "output_type": "stream",
          "name": "stdout",
          "text": [
            "Warning: Empty prediction for input: The Cabinet, Commercial Courts, Commercial Division and Commercial Division of High Courts (Amendment) Bill, 2018. The Union Cabinet headed by our Prime Minister Narendra Modi has approved the introduction of the Commercial Division, Commercial Division and Commercial Appellate Division of High Courts (Amendment) Bill, 2018 in Parliament.\n"
          ]
        },
        {
          "output_type": "stream",
          "name": "stderr",
          "text": [
            "\rGenerating translations:  69%|██████▉   | 1100/1598 [05:19<02:30,  3.31it/s]"
          ]
        },
        {
          "output_type": "stream",
          "name": "stdout",
          "text": [
            "Warning: Empty prediction for input: Recently, he met some BJP leaders.\n"
          ]
        },
        {
          "output_type": "stream",
          "name": "stderr",
          "text": [
            "\rGenerating translations:  69%|██████▉   | 1101/1598 [05:19<02:20,  3.54it/s]"
          ]
        },
        {
          "output_type": "stream",
          "name": "stdout",
          "text": [
            "Warning: Empty prediction for input: It's 150.\n"
          ]
        },
        {
          "output_type": "stream",
          "name": "stderr",
          "text": [
            "\rGenerating translations:  69%|██████▉   | 1102/1598 [05:19<02:31,  3.27it/s]"
          ]
        },
        {
          "output_type": "stream",
          "name": "stdout",
          "text": [
            "Warning: Empty prediction for input: The National Bravery Award Scheme has been started by the Indian Council for Child Welfare to give due recognition to children who have done special courageous and different service and to be an inspiration to other children.\n"
          ]
        },
        {
          "output_type": "stream",
          "name": "stderr",
          "text": [
            "\rGenerating translations:  69%|██████▉   | 1103/1598 [05:20<02:43,  3.04it/s]"
          ]
        },
        {
          "output_type": "stream",
          "name": "stdout",
          "text": [
            "Warning: Empty prediction for input: But when [he] created the heavens and the earth in the beginning, Jehovah did something like that, but on a much larger scale. Genesis 1: 1.\n"
          ]
        },
        {
          "output_type": "stream",
          "name": "stderr",
          "text": [
            "\rGenerating translations:  69%|██████▉   | 1104/1598 [05:20<02:43,  3.03it/s]"
          ]
        },
        {
          "output_type": "stream",
          "name": "stdout",
          "text": [
            "Warning: Empty prediction for input: Accordingly, they did not work with Christendom to endorse the League of Nations as the political expression of God's kingdom.\n"
          ]
        },
        {
          "output_type": "stream",
          "name": "stderr",
          "text": [
            "\rGenerating translations:  69%|██████▉   | 1105/1598 [05:20<02:29,  3.30it/s]"
          ]
        },
        {
          "output_type": "stream",
          "name": "stdout",
          "text": [
            "Warning: Empty prediction for input: I read the story twice.\n"
          ]
        },
        {
          "output_type": "stream",
          "name": "stderr",
          "text": [
            "\rGenerating translations:  69%|██████▉   | 1106/1598 [05:20<02:23,  3.43it/s]"
          ]
        },
        {
          "output_type": "stream",
          "name": "stdout",
          "text": [
            "Warning: Empty prediction for input: They were received at the airport by Prime Minister Narendra Modi.\n"
          ]
        },
        {
          "output_type": "stream",
          "name": "stderr",
          "text": [
            "\rGenerating translations:  69%|██████▉   | 1107/1598 [05:21<02:14,  3.64it/s]"
          ]
        },
        {
          "output_type": "stream",
          "name": "stdout",
          "text": [
            "Warning: Empty prediction for input: I didn't buy that offer.\n"
          ]
        },
        {
          "output_type": "stream",
          "name": "stderr",
          "text": [
            "\rGenerating translations:  69%|██████▉   | 1108/1598 [05:21<02:08,  3.80it/s]"
          ]
        },
        {
          "output_type": "stream",
          "name": "stdout",
          "text": [
            "Warning: Empty prediction for input: Only 1 percent passed the exam.\n"
          ]
        },
        {
          "output_type": "stream",
          "name": "stderr",
          "text": [
            "\rGenerating translations:  69%|██████▉   | 1109/1598 [05:21<02:06,  3.86it/s]"
          ]
        },
        {
          "output_type": "stream",
          "name": "stdout",
          "text": [
            "Warning: Empty prediction for input: Wherever there are violations, action will be taken.\n"
          ]
        },
        {
          "output_type": "stream",
          "name": "stderr",
          "text": [
            "\rGenerating translations:  69%|██████▉   | 1110/1598 [05:21<02:01,  4.00it/s]"
          ]
        },
        {
          "output_type": "stream",
          "name": "stdout",
          "text": [
            "Warning: Empty prediction for input: It has antioxidant properties.\n"
          ]
        },
        {
          "output_type": "stream",
          "name": "stderr",
          "text": [
            "\rGenerating translations:  70%|██████▉   | 1111/1598 [05:22<02:17,  3.55it/s]"
          ]
        },
        {
          "output_type": "stream",
          "name": "stdout",
          "text": [
            "Warning: Empty prediction for input: When a traveling overseer came to the congregation I was serving, he told me to apply to serve at the branch office of Witnesses in Wiesbaden, Germany.\n"
          ]
        },
        {
          "output_type": "stream",
          "name": "stderr",
          "text": [
            "\rGenerating translations:  70%|██████▉   | 1112/1598 [05:22<02:14,  3.62it/s]"
          ]
        },
        {
          "output_type": "stream",
          "name": "stdout",
          "text": [
            "Warning: Empty prediction for input: It employs about 2,000 people.\n"
          ]
        },
        {
          "output_type": "stream",
          "name": "stderr",
          "text": [
            "\rGenerating translations:  70%|██████▉   | 1113/1598 [05:22<02:13,  3.64it/s]"
          ]
        },
        {
          "output_type": "stream",
          "name": "stdout",
          "text": [
            "Warning: Empty prediction for input: IB says BJP would have won 125 to 134 seats.\n"
          ]
        },
        {
          "output_type": "stream",
          "name": "stderr",
          "text": [
            "\rGenerating translations:  70%|██████▉   | 1114/1598 [05:23<02:09,  3.75it/s]"
          ]
        },
        {
          "output_type": "stream",
          "name": "stdout",
          "text": [
            "Warning: Empty prediction for input: And then it's very difficult...\n"
          ]
        },
        {
          "output_type": "stream",
          "name": "stderr",
          "text": [
            "\rGenerating translations:  70%|██████▉   | 1115/1598 [05:23<02:07,  3.80it/s]"
          ]
        },
        {
          "output_type": "stream",
          "name": "stdout",
          "text": [
            "Warning: Empty prediction for input: Ma'am, I'm not writing homework.\n"
          ]
        },
        {
          "output_type": "stream",
          "name": "stderr",
          "text": [
            "\rGenerating translations:  70%|██████▉   | 1116/1598 [05:23<02:12,  3.65it/s]"
          ]
        },
        {
          "output_type": "stream",
          "name": "stdout",
          "text": [
            "Warning: Empty prediction for input: But the truth is, a lot of people want to stay and work because they want to save money for their home.\n"
          ]
        },
        {
          "output_type": "stream",
          "name": "stderr",
          "text": [
            "\rGenerating translations:  70%|██████▉   | 1117/1598 [05:23<02:05,  3.83it/s]"
          ]
        },
        {
          "output_type": "stream",
          "name": "stdout",
          "text": [
            "Warning: Empty prediction for input: It's a private decision.\n"
          ]
        },
        {
          "output_type": "stream",
          "name": "stderr",
          "text": [
            "\rGenerating translations:  70%|██████▉   | 1118/1598 [05:24<02:07,  3.76it/s]"
          ]
        },
        {
          "output_type": "stream",
          "name": "stdout",
          "text": [
            "Warning: Empty prediction for input: It's called Algae eukaryotic.\n"
          ]
        },
        {
          "output_type": "stream",
          "name": "stderr",
          "text": [
            "\rGenerating translations:  70%|███████   | 1119/1598 [05:24<02:31,  3.17it/s]"
          ]
        },
        {
          "output_type": "stream",
          "name": "stdout",
          "text": [
            "Warning: Empty prediction for input: The film stars Yog Japee, John Vijay, MS Bhaskar, R Sundarrajan, Madan Bob and Manoj K Jayyan.\n"
          ]
        },
        {
          "output_type": "stream",
          "name": "stderr",
          "text": [
            "\rGenerating translations:  70%|███████   | 1120/1598 [05:24<02:37,  3.03it/s]"
          ]
        },
        {
          "output_type": "stream",
          "name": "stdout",
          "text": [
            "Warning: Empty prediction for input: In total, 91.1 per cent students have cleared the exam.\n"
          ]
        },
        {
          "output_type": "stream",
          "name": "stderr",
          "text": [
            "\rGenerating translations:  70%|███████   | 1121/1598 [05:25<02:32,  3.14it/s]"
          ]
        },
        {
          "output_type": "stream",
          "name": "stdout",
          "text": [
            "Warning: Empty prediction for input: Recently issue\n"
          ]
        },
        {
          "output_type": "stream",
          "name": "stderr",
          "text": [
            "\rGenerating translations:  70%|███████   | 1122/1598 [05:25<02:44,  2.89it/s]"
          ]
        },
        {
          "output_type": "stream",
          "name": "stdout",
          "text": [
            "Warning: Empty prediction for input: In this state, the BJP has bought 122 seats and is the single-largest party.\n"
          ]
        },
        {
          "output_type": "stream",
          "name": "stderr",
          "text": [
            "\rGenerating translations:  70%|███████   | 1123/1598 [05:25<02:36,  3.04it/s]"
          ]
        },
        {
          "output_type": "stream",
          "name": "stdout",
          "text": [
            "Warning: Empty prediction for input: Someone else.\n"
          ]
        },
        {
          "output_type": "stream",
          "name": "stderr",
          "text": [
            "\rGenerating translations:  70%|███████   | 1124/1598 [05:26<02:50,  2.78it/s]"
          ]
        },
        {
          "output_type": "stream",
          "name": "stdout",
          "text": [
            "Warning: Empty prediction for input: Telugu superstar Mahesh Babu is one of the coolest celebrity dads in Indian cinema.\n"
          ]
        },
        {
          "output_type": "stream",
          "name": "stderr",
          "text": [
            "\rGenerating translations:  70%|███████   | 1125/1598 [05:26<03:14,  2.43it/s]"
          ]
        },
        {
          "output_type": "stream",
          "name": "stdout",
          "text": [
            "Warning: Empty prediction for input: Prime Minister's Office Prime Minister condoles the passing away of Sushant Singh Rajput. Prime Minister Narendra Modi has expressed grief over the demise of actor Sushant Singh Rajput.\n"
          ]
        },
        {
          "output_type": "stream",
          "name": "stderr",
          "text": [
            "\rGenerating translations:  70%|███████   | 1126/1598 [05:27<03:03,  2.57it/s]"
          ]
        },
        {
          "output_type": "stream",
          "name": "stdout",
          "text": [
            "Warning: Empty prediction for input: Up to Rs 200.\n"
          ]
        },
        {
          "output_type": "stream",
          "name": "stderr",
          "text": [
            "\rGenerating translations:  71%|███████   | 1127/1598 [05:27<02:53,  2.71it/s]"
          ]
        },
        {
          "output_type": "stream",
          "name": "stdout",
          "text": [
            "Warning: Empty prediction for input: It affects children the most.\n"
          ]
        },
        {
          "output_type": "stream",
          "name": "stderr",
          "text": [
            "\rGenerating translations:  71%|███████   | 1128/1598 [05:27<02:36,  3.00it/s]"
          ]
        },
        {
          "output_type": "stream",
          "name": "stdout",
          "text": [
            "Warning: Empty prediction for input: They often post workout videos and photos on social media.\n"
          ]
        },
        {
          "output_type": "stream",
          "name": "stderr",
          "text": [
            "\rGenerating translations:  71%|███████   | 1129/1598 [05:28<02:20,  3.34it/s]"
          ]
        },
        {
          "output_type": "stream",
          "name": "stdout",
          "text": [
            "Warning: Empty prediction for input: My bicycle is missing.\n"
          ]
        },
        {
          "output_type": "stream",
          "name": "stderr",
          "text": [
            "\rGenerating translations:  71%|███████   | 1130/1598 [05:28<02:10,  3.58it/s]"
          ]
        },
        {
          "output_type": "stream",
          "name": "stdout",
          "text": [
            "Warning: Empty prediction for input: The strike failed.\n"
          ]
        },
        {
          "output_type": "stream",
          "name": "stderr",
          "text": [
            "\rGenerating translations:  71%|███████   | 1131/1598 [05:28<02:04,  3.77it/s]"
          ]
        },
        {
          "output_type": "stream",
          "name": "stdout",
          "text": [
            "Warning: Empty prediction for input: Let this be it.\n"
          ]
        },
        {
          "output_type": "stream",
          "name": "stderr",
          "text": [
            "\rGenerating translations:  71%|███████   | 1132/1598 [05:29<02:53,  2.68it/s]"
          ]
        },
        {
          "output_type": "stream",
          "name": "stdout",
          "text": [
            "Warning: Empty prediction for input: Read Psalm 104, see if his sentiments do not come to your mind. \"I will sing to Jehovah all my life,\" said the Psalmist. I will sing praises to my God as long as I live. Is that what you want? Jehovah wants us to plunder our lives too, that is, to be like him. He's also giving sound reasons to tell us to be a little more generous.\n"
          ]
        },
        {
          "output_type": "stream",
          "name": "stderr",
          "text": [
            "\rGenerating translations:  71%|███████   | 1133/1598 [05:29<02:39,  2.91it/s]"
          ]
        },
        {
          "output_type": "stream",
          "name": "stdout",
          "text": [
            "Warning: Empty prediction for input: It's the player of the match Nile.\n"
          ]
        },
        {
          "output_type": "stream",
          "name": "stderr",
          "text": [
            "\rGenerating translations:  71%|███████   | 1134/1598 [05:29<02:23,  3.22it/s]"
          ]
        },
        {
          "output_type": "stream",
          "name": "stdout",
          "text": [
            "Warning: Empty prediction for input: They give them food and refreshments.\n"
          ]
        },
        {
          "output_type": "stream",
          "name": "stderr",
          "text": [
            "\rGenerating translations:  71%|███████   | 1135/1598 [05:30<02:44,  2.82it/s]"
          ]
        },
        {
          "output_type": "stream",
          "name": "stdout",
          "text": [
            "Warning: Empty prediction for input: When he got to where the sun was setting, he saw it descend into the Black Sea, and there he saw a people. We said: O Zulqarnain! Give them a chastisement, or give them a benefit.\n"
          ]
        },
        {
          "output_type": "stream",
          "name": "stderr",
          "text": [
            "\rGenerating translations:  71%|███████   | 1136/1598 [05:30<02:26,  3.15it/s]"
          ]
        },
        {
          "output_type": "stream",
          "name": "stdout",
          "text": [
            "Warning: Empty prediction for input: Little Cocoon\n"
          ]
        },
        {
          "output_type": "stream",
          "name": "stderr",
          "text": [
            "\rGenerating translations:  71%|███████   | 1137/1598 [05:30<02:21,  3.25it/s]"
          ]
        },
        {
          "output_type": "stream",
          "name": "stdout",
          "text": [
            "Warning: Empty prediction for input: The WHO has warned that the pandemic is worsening globally.\n"
          ]
        },
        {
          "output_type": "stream",
          "name": "stderr",
          "text": [
            "\rGenerating translations:  71%|███████   | 1138/1598 [05:30<02:14,  3.42it/s]"
          ]
        },
        {
          "output_type": "stream",
          "name": "stdout",
          "text": [
            "Warning: Empty prediction for input: He's going to be in a very serious condition.\n"
          ]
        },
        {
          "output_type": "stream",
          "name": "stderr",
          "text": [
            "\rGenerating translations:  71%|███████▏  | 1139/1598 [05:31<02:06,  3.63it/s]"
          ]
        },
        {
          "output_type": "stream",
          "name": "stdout",
          "text": [
            "Warning: Empty prediction for input: Or is he dead?\n"
          ]
        },
        {
          "output_type": "stream",
          "name": "stderr",
          "text": [
            "\rGenerating translations:  71%|███████▏  | 1140/1598 [05:31<02:16,  3.36it/s]"
          ]
        },
        {
          "output_type": "stream",
          "name": "stdout",
          "text": [
            "Warning: Empty prediction for input: Interestingly, if you get energy from one ounce [30 g] of honey, a scorpion can go around the world theoretically!\n"
          ]
        },
        {
          "output_type": "stream",
          "name": "stderr",
          "text": [
            "\rGenerating translations:  71%|███████▏  | 1141/1598 [05:31<02:24,  3.17it/s]"
          ]
        },
        {
          "output_type": "stream",
          "name": "stdout",
          "text": [
            "Warning: Empty prediction for input: Dr. Jitendra Singh: Development of North Eastern States Prime Minister's Office. Personnel, Public Grievances and Pensions. Nuclear. and Department of Space.\n"
          ]
        },
        {
          "output_type": "stream",
          "name": "stderr",
          "text": [
            "\rGenerating translations:  71%|███████▏  | 1142/1598 [05:32<02:14,  3.39it/s]"
          ]
        },
        {
          "output_type": "stream",
          "name": "stdout",
          "text": [
            "Warning: Empty prediction for input: There's no escaping reality.\n"
          ]
        },
        {
          "output_type": "stream",
          "name": "stderr",
          "text": [
            "\rGenerating translations:  72%|███████▏  | 1143/1598 [05:32<02:08,  3.55it/s]"
          ]
        },
        {
          "output_type": "stream",
          "name": "stdout",
          "text": [
            "Warning: Empty prediction for input: Doctor, what are you doing?\n"
          ]
        },
        {
          "output_type": "stream",
          "name": "stderr",
          "text": [
            "\rGenerating translations:  72%|███████▏  | 1144/1598 [05:32<02:08,  3.53it/s]"
          ]
        },
        {
          "output_type": "stream",
          "name": "stdout",
          "text": [
            "Warning: Empty prediction for input: In fact, 90 percent of deaths in recent wars are due to small arms and light weapons.\n"
          ]
        },
        {
          "output_type": "stream",
          "name": "stderr",
          "text": [
            "\rGenerating translations:  72%|███████▏  | 1145/1598 [05:32<02:04,  3.65it/s]"
          ]
        },
        {
          "output_type": "stream",
          "name": "stdout",
          "text": [
            "Warning: Empty prediction for input: The police immediately arrived at the spot and investigated the matter.\n"
          ]
        },
        {
          "output_type": "stream",
          "name": "stderr",
          "text": [
            "\rGenerating translations:  72%|███████▏  | 1146/1598 [05:33<02:02,  3.70it/s]"
          ]
        },
        {
          "output_type": "stream",
          "name": "stdout",
          "text": [
            "Warning: Empty prediction for input: The Malaysian flight with 239 people on board has disappeared.\n"
          ]
        },
        {
          "output_type": "stream",
          "name": "stderr",
          "text": [
            "\rGenerating translations:  72%|███████▏  | 1147/1598 [05:33<02:10,  3.46it/s]"
          ]
        },
        {
          "output_type": "stream",
          "name": "stdout",
          "text": [
            "Warning: Empty prediction for input: We continued the missionary work from Kobe until 1952, and then they assigned to Tokyo, where Lloyd was given a branch office overlook.\n"
          ]
        },
        {
          "output_type": "stream",
          "name": "stderr",
          "text": [
            "\rGenerating translations:  72%|███████▏  | 1148/1598 [05:33<02:02,  3.67it/s]"
          ]
        },
        {
          "output_type": "stream",
          "name": "stdout",
          "text": [
            "Warning: Empty prediction for input: Rs 32,000 crore.\n"
          ]
        },
        {
          "output_type": "stream",
          "name": "stderr",
          "text": [
            "\rGenerating translations:  72%|███████▏  | 1149/1598 [05:33<02:06,  3.54it/s]"
          ]
        },
        {
          "output_type": "stream",
          "name": "stdout",
          "text": [
            "Warning: Empty prediction for input: CB-CID is now handling this case as per the direction of Madurai bench in Madras High Court.\n"
          ]
        },
        {
          "output_type": "stream",
          "name": "stderr",
          "text": [
            "\rGenerating translations:  72%|███████▏  | 1150/1598 [05:34<02:02,  3.67it/s]"
          ]
        },
        {
          "output_type": "stream",
          "name": "stdout",
          "text": [
            "Warning: Empty prediction for input: Chidambaram was arrested by the CBI.\n"
          ]
        },
        {
          "output_type": "stream",
          "name": "stderr",
          "text": [
            "\rGenerating translations:  72%|███████▏  | 1151/1598 [05:34<02:07,  3.50it/s]"
          ]
        },
        {
          "output_type": "stream",
          "name": "stdout",
          "text": [
            "Warning: Empty prediction for input: It's not raining now. Rain water is stagnant around the house. I couldn't go anywhere outside.\n"
          ]
        },
        {
          "output_type": "stream",
          "name": "stderr",
          "text": [
            "\rGenerating translations:  72%|███████▏  | 1152/1598 [05:34<02:01,  3.67it/s]"
          ]
        },
        {
          "output_type": "stream",
          "name": "stdout",
          "text": [
            "Warning: Empty prediction for input: No one has the right to destroy it.\n"
          ]
        },
        {
          "output_type": "stream",
          "name": "stderr",
          "text": [
            "\rGenerating translations:  72%|███████▏  | 1153/1598 [05:35<02:11,  3.38it/s]"
          ]
        },
        {
          "output_type": "stream",
          "name": "stdout",
          "text": [
            "Warning: Empty prediction for input: The Director will be headed by a Director of the Additional Principal Chief Conservator of Forests, assisted by the Additional Director in the rank of Chief Conservator of Forests.\n"
          ]
        },
        {
          "output_type": "stream",
          "name": "stderr",
          "text": [
            "\rGenerating translations:  72%|███████▏  | 1154/1598 [05:35<02:05,  3.55it/s]"
          ]
        },
        {
          "output_type": "stream",
          "name": "stdout",
          "text": [
            "Warning: Empty prediction for input: He didn't tell the police.\n"
          ]
        },
        {
          "output_type": "stream",
          "name": "stderr",
          "text": [
            "\rGenerating translations:  72%|███████▏  | 1155/1598 [05:35<01:58,  3.75it/s]"
          ]
        },
        {
          "output_type": "stream",
          "name": "stdout",
          "text": [
            "Warning: Empty prediction for input: It's on the website.\n"
          ]
        },
        {
          "output_type": "stream",
          "name": "stderr",
          "text": [
            "\rGenerating translations:  72%|███████▏  | 1156/1598 [05:35<01:53,  3.88it/s]"
          ]
        },
        {
          "output_type": "stream",
          "name": "stdout",
          "text": [
            "Warning: Empty prediction for input: I've got everything I wanted.\n"
          ]
        },
        {
          "output_type": "stream",
          "name": "stderr",
          "text": [
            "\rGenerating translations:  72%|███████▏  | 1157/1598 [05:36<01:54,  3.86it/s]"
          ]
        },
        {
          "output_type": "stream",
          "name": "stdout",
          "text": [
            "Warning: Empty prediction for input: How much is an entrance ticket and how much is a battery car?\n"
          ]
        },
        {
          "output_type": "stream",
          "name": "stderr",
          "text": [
            "\rGenerating translations:  72%|███████▏  | 1158/1598 [05:36<02:06,  3.48it/s]"
          ]
        },
        {
          "output_type": "stream",
          "name": "stdout",
          "text": [
            "Warning: Empty prediction for input: Beneficiary registration, microplanning and planned sites will test the entire planning of vaccination drive in the supervision of District Collectors and District Magistrates.\n"
          ]
        },
        {
          "output_type": "stream",
          "name": "stderr",
          "text": [
            "\rGenerating translations:  73%|███████▎  | 1159/1598 [05:36<02:00,  3.66it/s]"
          ]
        },
        {
          "output_type": "stream",
          "name": "stdout",
          "text": [
            "Warning: Empty prediction for input: Drink as much water as your body needs.\n"
          ]
        },
        {
          "output_type": "stream",
          "name": "stderr",
          "text": [
            "\rGenerating translations:  73%|███████▎  | 1160/1598 [05:36<02:02,  3.57it/s]"
          ]
        },
        {
          "output_type": "stream",
          "name": "stdout",
          "text": [
            "Warning: Empty prediction for input: The Bible encourages fellow feeling and tender compassion, and says that injury should not be blamed for injury.\n"
          ]
        },
        {
          "output_type": "stream",
          "name": "stderr",
          "text": [
            "\rGenerating translations:  73%|███████▎  | 1161/1598 [05:37<01:59,  3.66it/s]"
          ]
        },
        {
          "output_type": "stream",
          "name": "stdout",
          "text": [
            "Warning: Empty prediction for input: He said he wasn't coming for the interview.\n"
          ]
        },
        {
          "output_type": "stream",
          "name": "stderr",
          "text": [
            "\rGenerating translations:  73%|███████▎  | 1162/1598 [05:37<02:10,  3.35it/s]"
          ]
        },
        {
          "output_type": "stream",
          "name": "stdout",
          "text": [
            "Warning: Empty prediction for input: Cabinet approves filling up of Overseas National Oil Companies Badur Strategic Petroleum Reserves at Badur, Karnataka\n"
          ]
        },
        {
          "output_type": "stream",
          "name": "stderr",
          "text": [
            "\rGenerating translations:  73%|███████▎  | 1163/1598 [05:37<02:15,  3.22it/s]"
          ]
        },
        {
          "output_type": "stream",
          "name": "stdout",
          "text": [
            "Warning: Empty prediction for input: This will also help you avoid fraud risk.\n"
          ]
        },
        {
          "output_type": "stream",
          "name": "stderr",
          "text": [
            "\rGenerating translations:  73%|███████▎  | 1164/1598 [05:38<02:17,  3.15it/s]"
          ]
        },
        {
          "output_type": "stream",
          "name": "stdout",
          "text": [
            "Warning: Empty prediction for input: It was a big shock.\n"
          ]
        },
        {
          "output_type": "stream",
          "name": "stderr",
          "text": [
            "\rGenerating translations:  73%|███████▎  | 1165/1598 [05:38<02:30,  2.88it/s]"
          ]
        },
        {
          "output_type": "stream",
          "name": "stdout",
          "text": [
            "Warning: Empty prediction for input: This is at a time when they need a lot of money for their child's education.\n"
          ]
        },
        {
          "output_type": "stream",
          "name": "stderr",
          "text": [
            "\rGenerating translations:  73%|███████▎  | 1166/1598 [05:39<02:24,  2.98it/s]"
          ]
        },
        {
          "output_type": "stream",
          "name": "stdout",
          "text": [
            "Warning: Empty prediction for input: It was so good!\n"
          ]
        },
        {
          "output_type": "stream",
          "name": "stderr",
          "text": [
            "\rGenerating translations:  73%|███████▎  | 1167/1598 [05:39<02:26,  2.93it/s]"
          ]
        },
        {
          "output_type": "stream",
          "name": "stdout",
          "text": [
            "Warning: Empty prediction for input: I realize I made a mistake.\n"
          ]
        },
        {
          "output_type": "stream",
          "name": "stderr",
          "text": [
            "\rGenerating translations:  73%|███████▎  | 1168/1598 [05:39<02:39,  2.69it/s]"
          ]
        },
        {
          "output_type": "stream",
          "name": "stdout",
          "text": [
            "Warning: Empty prediction for input: So there were a total of 30,000 Indian soldiers in the Kargil-Drass sector military operation.\n"
          ]
        },
        {
          "output_type": "stream",
          "name": "stderr",
          "text": [
            "\rGenerating translations:  73%|███████▎  | 1169/1598 [05:40<02:35,  2.76it/s]"
          ]
        },
        {
          "output_type": "stream",
          "name": "stdout",
          "text": [
            "Warning: Empty prediction for input: Popular Tamil Actor Dhanush\n"
          ]
        },
        {
          "output_type": "stream",
          "name": "stderr",
          "text": [
            "\rGenerating translations:  73%|███████▎  | 1170/1598 [05:40<02:32,  2.81it/s]"
          ]
        },
        {
          "output_type": "stream",
          "name": "stdout",
          "text": [
            "Warning: Empty prediction for input: Mom, the boy committed suicide.\n"
          ]
        },
        {
          "output_type": "stream",
          "name": "stderr",
          "text": [
            "\rGenerating translations:  73%|███████▎  | 1171/1598 [05:40<02:32,  2.80it/s]"
          ]
        },
        {
          "output_type": "stream",
          "name": "stdout",
          "text": [
            "Warning: Empty prediction for input: But that's not the case in the house.\n"
          ]
        },
        {
          "output_type": "stream",
          "name": "stderr",
          "text": [
            "\rGenerating translations:  73%|███████▎  | 1172/1598 [05:41<02:14,  3.16it/s]"
          ]
        },
        {
          "output_type": "stream",
          "name": "stdout",
          "text": [
            "Warning: Empty prediction for input: That's true.\n"
          ]
        },
        {
          "output_type": "stream",
          "name": "stderr",
          "text": [
            "\rGenerating translations:  73%|███████▎  | 1173/1598 [05:41<02:12,  3.21it/s]"
          ]
        },
        {
          "output_type": "stream",
          "name": "stdout",
          "text": [
            "Warning: Empty prediction for input: Along with the coloured triangle, they stitch the Jewish prisoners with the yellow triangle in the hexagonal Star of David shape.\n"
          ]
        },
        {
          "output_type": "stream",
          "name": "stderr",
          "text": [
            "\rGenerating translations:  73%|███████▎  | 1174/1598 [05:41<02:08,  3.30it/s]"
          ]
        },
        {
          "output_type": "stream",
          "name": "stdout",
          "text": [
            "Warning: Empty prediction for input: The film is directed by famous choreographer Prabhu Deva.\n"
          ]
        },
        {
          "output_type": "stream",
          "name": "stderr",
          "text": [
            "\rGenerating translations:  74%|███████▎  | 1175/1598 [05:41<02:04,  3.39it/s]"
          ]
        },
        {
          "output_type": "stream",
          "name": "stdout",
          "text": [
            "Warning: Empty prediction for input: Use %s and specify a destination DMX display.\n"
          ]
        },
        {
          "output_type": "stream",
          "name": "stderr",
          "text": [
            "\rGenerating translations:  74%|███████▎  | 1176/1598 [05:42<01:54,  3.70it/s]"
          ]
        },
        {
          "output_type": "stream",
          "name": "stdout",
          "text": [
            "Warning: Empty prediction for input: Kill him!\n"
          ]
        },
        {
          "output_type": "stream",
          "name": "stderr",
          "text": [
            "\rGenerating translations:  74%|███████▎  | 1177/1598 [05:42<01:51,  3.78it/s]"
          ]
        },
        {
          "output_type": "stream",
          "name": "stdout",
          "text": [
            "Warning: Empty prediction for input: About 2,000 police have been deployed for security.\n"
          ]
        },
        {
          "output_type": "stream",
          "name": "stderr",
          "text": [
            "\rGenerating translations:  74%|███████▎  | 1178/1598 [05:42<02:01,  3.46it/s]"
          ]
        },
        {
          "output_type": "stream",
          "name": "stdout",
          "text": [
            "Warning: Empty prediction for input: If anyone curses his father or mother, he will surely die: he has cursed his father or mother. His blood will be upon him.\n"
          ]
        },
        {
          "output_type": "stream",
          "name": "stderr",
          "text": [
            "\rGenerating translations:  74%|███████▍  | 1179/1598 [05:43<01:59,  3.51it/s]"
          ]
        },
        {
          "output_type": "stream",
          "name": "stdout",
          "text": [
            "Warning: Empty prediction for input: In 2015-16, Rs. Rs 125 lakh has been given in this scheme.\n"
          ]
        },
        {
          "output_type": "stream",
          "name": "stderr",
          "text": [
            "\rGenerating translations:  74%|███████▍  | 1180/1598 [05:43<01:49,  3.81it/s]"
          ]
        },
        {
          "output_type": "stream",
          "name": "stdout",
          "text": [
            "Warning: Empty prediction for input: Bond recommendation\n"
          ]
        },
        {
          "output_type": "stream",
          "name": "stderr",
          "text": [
            "\rGenerating translations:  74%|███████▍  | 1181/1598 [05:43<01:53,  3.68it/s]"
          ]
        },
        {
          "output_type": "stream",
          "name": "stdout",
          "text": [
            "Warning: Empty prediction for input: The film stars Rajinikanth, Akshay Kumar and Amy Jackson in lead roles.\n"
          ]
        },
        {
          "output_type": "stream",
          "name": "stderr",
          "text": [
            "\rGenerating translations:  74%|███████▍  | 1182/1598 [05:43<01:49,  3.79it/s]"
          ]
        },
        {
          "output_type": "stream",
          "name": "stdout",
          "text": [
            "Warning: Empty prediction for input: The police have already clarified this.\n"
          ]
        },
        {
          "output_type": "stream",
          "name": "stderr",
          "text": [
            "\rGenerating translations:  74%|███████▍  | 1183/1598 [05:43<01:46,  3.90it/s]"
          ]
        },
        {
          "output_type": "stream",
          "name": "stdout",
          "text": [
            "Warning: Empty prediction for input: I got up and opened the door.\n"
          ]
        },
        {
          "output_type": "stream",
          "name": "stderr",
          "text": [
            "\rGenerating translations:  74%|███████▍  | 1184/1598 [05:44<01:42,  4.02it/s]"
          ]
        },
        {
          "output_type": "stream",
          "name": "stdout",
          "text": [
            "Warning: Empty prediction for input: Can't you?\n"
          ]
        },
        {
          "output_type": "stream",
          "name": "stderr",
          "text": [
            "\rGenerating translations:  74%|███████▍  | 1185/1598 [05:44<01:48,  3.81it/s]"
          ]
        },
        {
          "output_type": "stream",
          "name": "stdout",
          "text": [
            "Warning: Empty prediction for input: Etawah district is one of the districts in the western part of Uttar Pradesh.\n"
          ]
        },
        {
          "output_type": "stream",
          "name": "stderr",
          "text": [
            "\rGenerating translations:  74%|███████▍  | 1186/1598 [05:45<02:24,  2.84it/s]"
          ]
        },
        {
          "output_type": "stream",
          "name": "stdout",
          "text": [
            "Warning: Empty prediction for input: Tell me, if your father, your son, your brother, your wife, your temple, your wealth, the business you fear, the houses you love – if you like Allah and His Revelation more than the truth revealed by His mercy and the struggle in His way, then wait for Allah to intervene. Allah does not directly condemn those who commit sinful acts.\n"
          ]
        },
        {
          "output_type": "stream",
          "name": "stderr",
          "text": [
            "\rGenerating translations:  74%|███████▍  | 1187/1598 [05:45<02:24,  2.85it/s]"
          ]
        },
        {
          "output_type": "stream",
          "name": "stdout",
          "text": [
            "Warning: Empty prediction for input: (b) How can we encourage people in full time service today? Not all Israelites have done anything wrong in Jehovah's eyes.\n"
          ]
        },
        {
          "output_type": "stream",
          "name": "stderr",
          "text": [
            "\rGenerating translations:  74%|███████▍  | 1188/1598 [05:45<02:13,  3.08it/s]"
          ]
        },
        {
          "output_type": "stream",
          "name": "stdout",
          "text": [
            "Warning: Empty prediction for input: I need some help. Can I give my leave letter to the teacher?\n"
          ]
        },
        {
          "output_type": "stream",
          "name": "stderr",
          "text": [
            "\rGenerating translations:  74%|███████▍  | 1189/1598 [05:45<02:03,  3.30it/s]"
          ]
        },
        {
          "output_type": "stream",
          "name": "stdout",
          "text": [
            "Warning: Empty prediction for input: British PM Boris Johnson coronavirus\n"
          ]
        },
        {
          "output_type": "stream",
          "name": "stderr",
          "text": [
            "\rGenerating translations:  74%|███████▍  | 1190/1598 [05:46<02:07,  3.20it/s]"
          ]
        },
        {
          "output_type": "stream",
          "name": "stdout",
          "text": [
            "Warning: Empty prediction for input: Many people, men, women, young and old, all laughed till the end. Let's read about Hebrews 11:4-40 in the Scriptures.\n"
          ]
        },
        {
          "output_type": "stream",
          "name": "stderr",
          "text": [
            "\rGenerating translations:  75%|███████▍  | 1191/1598 [05:46<02:00,  3.38it/s]"
          ]
        },
        {
          "output_type": "stream",
          "name": "stdout",
          "text": [
            "Warning: Empty prediction for input: They have released enough money to the States for Rural Development.\n"
          ]
        },
        {
          "output_type": "stream",
          "name": "stderr",
          "text": [
            "\rGenerating translations:  75%|███████▍  | 1192/1598 [05:46<02:07,  3.17it/s]"
          ]
        },
        {
          "output_type": "stream",
          "name": "stdout",
          "text": [
            "Warning: Empty prediction for input: Why are you asking that! My tyre (wheel) is punctured. So it was too late for the mechanic (mechanic) to come and fix it.\n"
          ]
        },
        {
          "output_type": "stream",
          "name": "stderr",
          "text": [
            "\rGenerating translations:  75%|███████▍  | 1193/1598 [05:47<02:00,  3.37it/s]"
          ]
        },
        {
          "output_type": "stream",
          "name": "stdout",
          "text": [
            "Warning: Empty prediction for input: Can someone teach me how to deliver uranium to Iraq?\n"
          ]
        },
        {
          "output_type": "stream",
          "name": "stderr",
          "text": [
            "\rGenerating translations:  75%|███████▍  | 1194/1598 [05:47<01:54,  3.52it/s]"
          ]
        },
        {
          "output_type": "stream",
          "name": "stdout",
          "text": [
            "Warning: Empty prediction for input: Nothing to do, Doctor. The housework is fine.\n"
          ]
        },
        {
          "output_type": "stream",
          "name": "stderr",
          "text": [
            "\rGenerating translations:  75%|███████▍  | 1195/1598 [05:47<01:46,  3.78it/s]"
          ]
        },
        {
          "output_type": "stream",
          "name": "stdout",
          "text": [
            "Warning: Empty prediction for input: I bought two.\n"
          ]
        },
        {
          "output_type": "stream",
          "name": "stderr",
          "text": [
            "\rGenerating translations:  75%|███████▍  | 1196/1598 [05:47<01:44,  3.86it/s]"
          ]
        },
        {
          "output_type": "stream",
          "name": "stdout",
          "text": [
            "Warning: Empty prediction for input: Nearly 2000 students participated in the event.\n"
          ]
        },
        {
          "output_type": "stream",
          "name": "stderr",
          "text": [
            "\rGenerating translations:  75%|███████▍  | 1197/1598 [05:48<01:43,  3.89it/s]"
          ]
        },
        {
          "output_type": "stream",
          "name": "stdout",
          "text": [
            "Warning: Empty prediction for input: I'm under a lot of stress.\n"
          ]
        },
        {
          "output_type": "stream",
          "name": "stderr",
          "text": [
            "\rGenerating translations:  75%|███████▍  | 1198/1598 [05:48<01:40,  3.99it/s]"
          ]
        },
        {
          "output_type": "stream",
          "name": "stdout",
          "text": [
            "Warning: Empty prediction for input: He agreed to take this case.\n"
          ]
        },
        {
          "output_type": "stream",
          "name": "stderr",
          "text": [
            "\rGenerating translations:  75%|███████▌  | 1199/1598 [05:48<01:36,  4.14it/s]"
          ]
        },
        {
          "output_type": "stream",
          "name": "stdout",
          "text": [
            "Warning: Empty prediction for input: For Entrepreneurs:\n"
          ]
        },
        {
          "output_type": "stream",
          "name": "stderr",
          "text": [
            "\rGenerating translations:  75%|███████▌  | 1200/1598 [05:48<01:42,  3.90it/s]"
          ]
        },
        {
          "output_type": "stream",
          "name": "stdout",
          "text": [
            "Warning: Empty prediction for input: He's a right-handed batsman and a wicket-keeper.\n"
          ]
        },
        {
          "output_type": "stream",
          "name": "stderr",
          "text": [
            "\rGenerating translations:  75%|███████▌  | 1201/1598 [05:49<01:57,  3.38it/s]"
          ]
        },
        {
          "output_type": "stream",
          "name": "stdout",
          "text": [
            "Warning: Empty prediction for input: Nalini, her husband Murugan, Perarivalan, Sandhan, Robert Payas, Ravichandran and Jayakumar are serving life sentences in the Rajiv Gandhi assassination case.\n"
          ]
        },
        {
          "output_type": "stream",
          "name": "stderr",
          "text": [
            "\rGenerating translations:  75%|███████▌  | 1202/1598 [05:49<01:52,  3.53it/s]"
          ]
        },
        {
          "output_type": "stream",
          "name": "stdout",
          "text": [
            "Warning: Empty prediction for input: And then there's another charge of drug possession.\n"
          ]
        },
        {
          "output_type": "stream",
          "name": "stderr",
          "text": [
            "\rGenerating translations:  75%|███████▌  | 1203/1598 [05:49<01:50,  3.58it/s]"
          ]
        },
        {
          "output_type": "stream",
          "name": "stdout",
          "text": [
            "Warning: Empty prediction for input: Air India has 125 aircraft that operate flights to 90 international destinations and domestic destinations.\n"
          ]
        },
        {
          "output_type": "stream",
          "name": "stderr",
          "text": [
            "\rGenerating translations:  75%|███████▌  | 1204/1598 [05:50<01:50,  3.58it/s]"
          ]
        },
        {
          "output_type": "stream",
          "name": "stdout",
          "text": [
            "Warning: Empty prediction for input: Breathe in your mouth and breathe in slowly.\n"
          ]
        },
        {
          "output_type": "stream",
          "name": "stderr",
          "text": [
            "\rGenerating translations:  75%|███████▌  | 1205/1598 [05:50<01:47,  3.65it/s]"
          ]
        },
        {
          "output_type": "stream",
          "name": "stdout",
          "text": [
            "Warning: Empty prediction for input: India lost the World Cup to Australia in the final match.\n"
          ]
        },
        {
          "output_type": "stream",
          "name": "stderr",
          "text": [
            "\rGenerating translations:  75%|███████▌  | 1206/1598 [05:50<01:48,  3.61it/s]"
          ]
        },
        {
          "output_type": "stream",
          "name": "stdout",
          "text": [
            "Warning: Empty prediction for input: The new strain of novel coronavirus in the UK is a matter of great concern\n"
          ]
        },
        {
          "output_type": "stream",
          "name": "stderr",
          "text": [
            "\rGenerating translations:  76%|███████▌  | 1207/1598 [05:50<01:53,  3.44it/s]"
          ]
        },
        {
          "output_type": "stream",
          "name": "stdout",
          "text": [
            "Warning: Empty prediction for input: They've sent Josh a 1,000-piece puzzle of his favorite railroad scene. Josh loves trains.\n"
          ]
        },
        {
          "output_type": "stream",
          "name": "stderr",
          "text": [
            "\rGenerating translations:  76%|███████▌  | 1208/1598 [05:51<02:21,  2.75it/s]"
          ]
        },
        {
          "output_type": "stream",
          "name": "stdout",
          "text": [
            "Warning: Empty prediction for input: Then they said to Jeremiah, \"If we don't do everything that the Lord your God will send you to us, let the Lord be our faithful and faithful witness.\"\n"
          ]
        },
        {
          "output_type": "stream",
          "name": "stderr",
          "text": [
            "\rGenerating translations:  76%|███████▌  | 1209/1598 [05:51<02:20,  2.77it/s]"
          ]
        },
        {
          "output_type": "stream",
          "name": "stdout",
          "text": [
            "Warning: Empty prediction for input: More than 100 people have died.\n"
          ]
        },
        {
          "output_type": "stream",
          "name": "stderr",
          "text": [
            "\rGenerating translations:  76%|███████▌  | 1210/1598 [05:52<02:17,  2.81it/s]"
          ]
        },
        {
          "output_type": "stream",
          "name": "stdout",
          "text": [
            "Warning: Empty prediction for input: This debate has been going on for years.\n"
          ]
        },
        {
          "output_type": "stream",
          "name": "stderr",
          "text": [
            "\rGenerating translations:  76%|███████▌  | 1211/1598 [05:52<02:15,  2.86it/s]"
          ]
        },
        {
          "output_type": "stream",
          "name": "stdout",
          "text": [
            "Warning: Empty prediction for input: Cleanliness & Hygiene:\n"
          ]
        },
        {
          "output_type": "stream",
          "name": "stderr",
          "text": [
            "\rGenerating translations:  76%|███████▌  | 1212/1598 [05:52<02:17,  2.80it/s]"
          ]
        },
        {
          "output_type": "stream",
          "name": "stdout",
          "text": [
            "Warning: Empty prediction for input: Thousands of devotees had gathered at the temple since morning.\n"
          ]
        },
        {
          "output_type": "stream",
          "name": "stderr",
          "text": [
            "\rGenerating translations:  76%|███████▌  | 1213/1598 [05:53<02:12,  2.91it/s]"
          ]
        },
        {
          "output_type": "stream",
          "name": "stdout",
          "text": [
            "Warning: Empty prediction for input: When can I download it?\n"
          ]
        },
        {
          "output_type": "stream",
          "name": "stderr",
          "text": [
            "\rGenerating translations:  76%|███████▌  | 1214/1598 [05:53<02:21,  2.71it/s]"
          ]
        },
        {
          "output_type": "stream",
          "name": "stdout",
          "text": [
            "Warning: Empty prediction for input: It's not that there's advice in listening, it's good for both of us.\n"
          ]
        },
        {
          "output_type": "stream",
          "name": "stderr",
          "text": [
            "\rGenerating translations:  76%|███████▌  | 1215/1598 [05:54<02:44,  2.32it/s]"
          ]
        },
        {
          "output_type": "stream",
          "name": "stdout",
          "text": [
            "Warning: Empty prediction for input: Bigg Boss Tamil season 3 winner Mugen was selected as the first finalist to show the highest points in a week-long competition held to decide the winner in the Ticket to Finale task.\n"
          ]
        },
        {
          "output_type": "stream",
          "name": "stderr",
          "text": [
            "\rGenerating translations:  76%|███████▌  | 1216/1598 [05:54<02:28,  2.57it/s]"
          ]
        },
        {
          "output_type": "stream",
          "name": "stdout",
          "text": [
            "Warning: Empty prediction for input: After he became a doctor, he wanted to be an actor.\n"
          ]
        },
        {
          "output_type": "stream",
          "name": "stderr",
          "text": [
            "\rGenerating translations:  76%|███████▌  | 1217/1598 [05:54<02:10,  2.93it/s]"
          ]
        },
        {
          "output_type": "stream",
          "name": "stdout",
          "text": [
            "Warning: Empty prediction for input: They're all in their politics.\n"
          ]
        },
        {
          "output_type": "stream",
          "name": "stderr",
          "text": [
            "\rGenerating translations:  76%|███████▌  | 1218/1598 [05:54<01:56,  3.27it/s]"
          ]
        },
        {
          "output_type": "stream",
          "name": "stdout",
          "text": [
            "Warning: Empty prediction for input: Government of Tamil Nadu\n"
          ]
        },
        {
          "output_type": "stream",
          "name": "stderr",
          "text": [
            "\rGenerating translations:  76%|███████▋  | 1219/1598 [05:55<01:51,  3.39it/s]"
          ]
        },
        {
          "output_type": "stream",
          "name": "stdout",
          "text": [
            "Warning: Empty prediction for input: It is available in Darjeeling in India.\n"
          ]
        },
        {
          "output_type": "stream",
          "name": "stderr",
          "text": [
            "\rGenerating translations:  76%|███████▋  | 1220/1598 [05:55<01:45,  3.57it/s]"
          ]
        },
        {
          "output_type": "stream",
          "name": "stdout",
          "text": [
            "Warning: Empty prediction for input: That's why the notification issued.\n"
          ]
        },
        {
          "output_type": "stream",
          "name": "stderr",
          "text": [
            "\rGenerating translations:  76%|███████▋  | 1221/1598 [05:55<01:41,  3.71it/s]"
          ]
        },
        {
          "output_type": "stream",
          "name": "stdout",
          "text": [
            "Warning: Empty prediction for input: His family is here.\n"
          ]
        },
        {
          "output_type": "stream",
          "name": "stderr",
          "text": [
            "\rGenerating translations:  76%|███████▋  | 1222/1598 [05:55<01:38,  3.80it/s]"
          ]
        },
        {
          "output_type": "stream",
          "name": "stdout",
          "text": [
            "Warning: Empty prediction for input: 2 lakhs each, and then that Rs.\n"
          ]
        },
        {
          "output_type": "stream",
          "name": "stderr",
          "text": [
            "\rGenerating translations:  77%|███████▋  | 1223/1598 [05:56<01:35,  3.91it/s]"
          ]
        },
        {
          "output_type": "stream",
          "name": "stdout",
          "text": [
            "Warning: Empty prediction for input: But there's no chance.\n"
          ]
        },
        {
          "output_type": "stream",
          "name": "stderr",
          "text": [
            "\rGenerating translations:  77%|███████▋  | 1224/1598 [05:56<01:41,  3.70it/s]"
          ]
        },
        {
          "output_type": "stream",
          "name": "stdout",
          "text": [
            "Warning: Empty prediction for input: As a prelude to the fifth mourning, they sternly warn against worshipping carved images.\n"
          ]
        },
        {
          "output_type": "stream",
          "name": "stderr",
          "text": [
            "\rGenerating translations:  77%|███████▋  | 1225/1598 [05:56<02:00,  3.09it/s]"
          ]
        },
        {
          "output_type": "stream",
          "name": "stdout",
          "text": [
            "Warning: Empty prediction for input: In the second case, Essar Group promoters Ravi Ruia, Anshuman Ruia, Loop Telecom promoters Kiran Khaitan, her husband I P Khaitan, Essar Group director Vikash Saraf are in trial.\n"
          ]
        },
        {
          "output_type": "stream",
          "name": "stderr",
          "text": [
            "\rGenerating translations:  77%|███████▋  | 1226/1598 [05:57<01:50,  3.36it/s]"
          ]
        },
        {
          "output_type": "stream",
          "name": "stdout",
          "text": [
            "Warning: Empty prediction for input: I was so spoiled.\n"
          ]
        },
        {
          "output_type": "stream",
          "name": "stderr",
          "text": [
            "\rGenerating translations:  77%|███████▋  | 1227/1598 [05:57<01:42,  3.60it/s]"
          ]
        },
        {
          "output_type": "stream",
          "name": "stdout",
          "text": [
            "Warning: Empty prediction for input: So you can earn Rs.\n"
          ]
        },
        {
          "output_type": "stream",
          "name": "stderr",
          "text": [
            "\rGenerating translations:  77%|███████▋  | 1228/1598 [05:57<01:41,  3.65it/s]"
          ]
        },
        {
          "output_type": "stream",
          "name": "stdout",
          "text": [
            "Warning: Empty prediction for input: We once again ask India to relocate troops to the area south of the border.\n"
          ]
        },
        {
          "output_type": "stream",
          "name": "stderr",
          "text": [
            "\rGenerating translations:  77%|███████▋  | 1229/1598 [05:57<01:38,  3.76it/s]"
          ]
        },
        {
          "output_type": "stream",
          "name": "stdout",
          "text": [
            "Warning: Empty prediction for input: So we just have to keep doing our job.\n"
          ]
        },
        {
          "output_type": "stream",
          "name": "stderr",
          "text": [
            "\rGenerating translations:  77%|███████▋  | 1230/1598 [05:58<01:36,  3.80it/s]"
          ]
        },
        {
          "output_type": "stream",
          "name": "stdout",
          "text": [
            "Warning: Empty prediction for input: There was an argument between the two of them.\n"
          ]
        },
        {
          "output_type": "stream",
          "name": "stderr",
          "text": [
            "\rGenerating translations:  77%|███████▋  | 1231/1598 [05:58<01:37,  3.76it/s]"
          ]
        },
        {
          "output_type": "stream",
          "name": "stdout",
          "text": [
            "Warning: Empty prediction for input: He said he didn't remember the investigation.\n"
          ]
        },
        {
          "output_type": "stream",
          "name": "stderr",
          "text": [
            "\rGenerating translations:  77%|███████▋  | 1232/1598 [05:58<01:44,  3.50it/s]"
          ]
        },
        {
          "output_type": "stream",
          "name": "stdout",
          "text": [
            "Warning: Empty prediction for input: In 2016, the government issued orders to appoint women for the post of Gold--Silver-Gem Specialist and Junior Technical Assistant.\n"
          ]
        },
        {
          "output_type": "stream",
          "name": "stderr",
          "text": [
            "\rGenerating translations:  77%|███████▋  | 1233/1598 [05:59<01:41,  3.59it/s]"
          ]
        },
        {
          "output_type": "stream",
          "name": "stdout",
          "text": [
            "Warning: Empty prediction for input: Strict action will be taken against those involved in the incident.\n"
          ]
        },
        {
          "output_type": "stream",
          "name": "stderr",
          "text": [
            "\rGenerating translations:  77%|███████▋  | 1234/1598 [05:59<01:39,  3.66it/s]"
          ]
        },
        {
          "output_type": "stream",
          "name": "stdout",
          "text": [
            "Warning: Empty prediction for input: People who are employed are losing their jobs.\n"
          ]
        },
        {
          "output_type": "stream",
          "name": "stderr",
          "text": [
            "\rGenerating translations:  77%|███████▋  | 1235/1598 [05:59<01:36,  3.76it/s]"
          ]
        },
        {
          "output_type": "stream",
          "name": "stdout",
          "text": [
            "Warning: Empty prediction for input: Moffussil and Express Buses\n"
          ]
        },
        {
          "output_type": "stream",
          "name": "stderr",
          "text": [
            "\rGenerating translations:  77%|███████▋  | 1236/1598 [05:59<01:40,  3.59it/s]"
          ]
        },
        {
          "output_type": "stream",
          "name": "stdout",
          "text": [
            "Warning: Empty prediction for input: Wand Reads: Similarly, husbands should apply Christian principles to intelligence to their wives' relationships. 1 Peter 3: 7.\n"
          ]
        },
        {
          "output_type": "stream",
          "name": "stderr",
          "text": [
            "\rGenerating translations:  77%|███████▋  | 1237/1598 [06:00<01:34,  3.81it/s]"
          ]
        },
        {
          "output_type": "stream",
          "name": "stdout",
          "text": [
            "Warning: Empty prediction for input: Third incident\n"
          ]
        },
        {
          "output_type": "stream",
          "name": "stderr",
          "text": [
            "\rGenerating translations:  77%|███████▋  | 1238/1598 [06:00<01:47,  3.34it/s]"
          ]
        },
        {
          "output_type": "stream",
          "name": "stdout",
          "text": [
            "Warning: Empty prediction for input: Project Officer (MahalirThittam), Project Implementation Unit, No.106 & 107, II floor, Collectorate Master plan complex, Krishnagiri-635.\n"
          ]
        },
        {
          "output_type": "stream",
          "name": "stderr",
          "text": [
            "\rGenerating translations:  78%|███████▊  | 1239/1598 [06:00<01:39,  3.62it/s]"
          ]
        },
        {
          "output_type": "stream",
          "name": "stdout",
          "text": [
            "Warning: Empty prediction for input: I was very upset.\n"
          ]
        },
        {
          "output_type": "stream",
          "name": "stderr",
          "text": [
            "\rGenerating translations:  78%|███████▊  | 1240/1598 [06:00<01:38,  3.65it/s]"
          ]
        },
        {
          "output_type": "stream",
          "name": "stdout",
          "text": [
            "Warning: Empty prediction for input: The two of them were so close, they often said they could see each other together.\n"
          ]
        },
        {
          "output_type": "stream",
          "name": "stderr",
          "text": [
            "\rGenerating translations:  78%|███████▊  | 1241/1598 [06:01<01:33,  3.82it/s]"
          ]
        },
        {
          "output_type": "stream",
          "name": "stdout",
          "text": [
            "Warning: Empty prediction for input: I have nothing to complain about.\n"
          ]
        },
        {
          "output_type": "stream",
          "name": "stderr",
          "text": [
            "\rGenerating translations:  78%|███████▊  | 1242/1598 [06:01<01:42,  3.49it/s]"
          ]
        },
        {
          "output_type": "stream",
          "name": "stdout",
          "text": [
            "Warning: Empty prediction for input: A voice in the hospital loudspeaker urges: All of Seikichi Ogawa's relatives should see him right away.\n"
          ]
        },
        {
          "output_type": "stream",
          "name": "stderr",
          "text": [
            "\rGenerating translations:  78%|███████▊  | 1243/1598 [06:01<01:49,  3.23it/s]"
          ]
        },
        {
          "output_type": "stream",
          "name": "stdout",
          "text": [
            "Warning: Empty prediction for input: As far as the private sector is concerned, there are many Private Mental Health Nursing Homes/Hospitals, all of which have been obtained from the License Director, Institute of Mental Health.\n"
          ]
        },
        {
          "output_type": "stream",
          "name": "stderr",
          "text": [
            "\rGenerating translations:  78%|███████▊  | 1244/1598 [06:02<01:43,  3.41it/s]"
          ]
        },
        {
          "output_type": "stream",
          "name": "stdout",
          "text": [
            "Warning: Empty prediction for input: Do you see alumni groups sometimes contributing something to their schools?\n"
          ]
        },
        {
          "output_type": "stream",
          "name": "stderr",
          "text": [
            "\rGenerating translations:  78%|███████▊  | 1245/1598 [06:02<01:47,  3.27it/s]"
          ]
        },
        {
          "output_type": "stream",
          "name": "stdout",
          "text": [
            "Warning: Empty prediction for input: A zone plate is a device used to focus on something else, such as a light or wave character.\n"
          ]
        },
        {
          "output_type": "stream",
          "name": "stderr",
          "text": [
            "\rGenerating translations:  78%|███████▊  | 1246/1598 [06:02<01:45,  3.33it/s]"
          ]
        },
        {
          "output_type": "stream",
          "name": "stdout",
          "text": [
            "Warning: Empty prediction for input: We have also given the table the percentage of defence expenditure in GDP: (in rupees)\n"
          ]
        },
        {
          "output_type": "stream",
          "name": "stderr",
          "text": [
            "\rGenerating translations:  78%|███████▊  | 1247/1598 [06:03<01:50,  3.18it/s]"
          ]
        },
        {
          "output_type": "stream",
          "name": "stdout",
          "text": [
            "Warning: Empty prediction for input: If our revelations are read to them, they will say we have heard. If we want to, we can produce it like this. They're just old stories.\"\n"
          ]
        },
        {
          "output_type": "stream",
          "name": "stderr",
          "text": [
            "\rGenerating translations:  78%|███████▊  | 1248/1598 [06:03<01:50,  3.16it/s]"
          ]
        },
        {
          "output_type": "stream",
          "name": "stdout",
          "text": [
            "Warning: Empty prediction for input: Say (O Muhammad SAW): My Lord! If you show me why they're tormented,\n"
          ]
        },
        {
          "output_type": "stream",
          "name": "stderr",
          "text": [
            "\rGenerating translations:  78%|███████▊  | 1249/1598 [06:03<01:39,  3.50it/s]"
          ]
        },
        {
          "output_type": "stream",
          "name": "stdout",
          "text": [
            "Warning: Empty prediction for input: Thanks Doctor!\n"
          ]
        },
        {
          "output_type": "stream",
          "name": "stderr",
          "text": [
            "\rGenerating translations:  78%|███████▊  | 1250/1598 [06:04<01:50,  3.14it/s]"
          ]
        },
        {
          "output_type": "stream",
          "name": "stdout",
          "text": [
            "Warning: Empty prediction for input: He alone has the power of the heavens and the earth. He gives to whomever he wants, he withholds whomever he wants, and of course, he's got knowledge about everything.\n"
          ]
        },
        {
          "output_type": "stream",
          "name": "stderr",
          "text": [
            "\rGenerating translations:  78%|███████▊  | 1251/1598 [06:04<01:57,  2.96it/s]"
          ]
        },
        {
          "output_type": "stream",
          "name": "stdout",
          "text": [
            "Warning: Empty prediction for input: High tension consumers can also pay electricity bills through National Electronic Funds Transfer/Real Time Gross Settlement (NEFT/RTGS).\n"
          ]
        },
        {
          "output_type": "stream",
          "name": "stderr",
          "text": [
            "\rGenerating translations:  78%|███████▊  | 1252/1598 [06:04<01:56,  2.97it/s]"
          ]
        },
        {
          "output_type": "stream",
          "name": "stdout",
          "text": [
            "Warning: Empty prediction for input: This publication will be released next month.\n"
          ]
        },
        {
          "output_type": "stream",
          "name": "stderr",
          "text": [
            "\rGenerating translations:  78%|███████▊  | 1253/1598 [06:05<02:02,  2.82it/s]"
          ]
        },
        {
          "output_type": "stream",
          "name": "stdout",
          "text": [
            "Warning: Empty prediction for input: He said he was a little hesitant. Sometimes they laugh because of their effort.\n"
          ]
        },
        {
          "output_type": "stream",
          "name": "stderr",
          "text": [
            "\rGenerating translations:  78%|███████▊  | 1254/1598 [06:05<02:07,  2.70it/s]"
          ]
        },
        {
          "output_type": "stream",
          "name": "stdout",
          "text": [
            "Warning: Empty prediction for input: Excuse me, see if there is any damage to these tops that I have selected.\n"
          ]
        },
        {
          "output_type": "stream",
          "name": "stderr",
          "text": [
            "\rGenerating translations:  79%|███████▊  | 1255/1598 [06:05<02:08,  2.67it/s]"
          ]
        },
        {
          "output_type": "stream",
          "name": "stdout",
          "text": [
            "Warning: Empty prediction for input: Actress Shraddha Srinath has tweeted in support of Sruthi.\n"
          ]
        },
        {
          "output_type": "stream",
          "name": "stderr",
          "text": [
            "\rGenerating translations:  79%|███████▊  | 1256/1598 [06:06<02:06,  2.69it/s]"
          ]
        },
        {
          "output_type": "stream",
          "name": "stdout",
          "text": [
            "Warning: Empty prediction for input: Malaria is very common during the rainy season.\n"
          ]
        },
        {
          "output_type": "stream",
          "name": "stderr",
          "text": [
            "\rGenerating translations:  79%|███████▊  | 1257/1598 [06:06<02:02,  2.78it/s]"
          ]
        },
        {
          "output_type": "stream",
          "name": "stdout",
          "text": [
            "Warning: Empty prediction for input: For this, Rs.\n"
          ]
        },
        {
          "output_type": "stream",
          "name": "stderr",
          "text": [
            "\rGenerating translations:  79%|███████▊  | 1258/1598 [06:06<01:59,  2.84it/s]"
          ]
        },
        {
          "output_type": "stream",
          "name": "stdout",
          "text": [
            "Warning: Empty prediction for input: I'm not like that.\n"
          ]
        },
        {
          "output_type": "stream",
          "name": "stderr",
          "text": [
            "\rGenerating translations:  79%|███████▉  | 1259/1598 [06:07<02:07,  2.67it/s]"
          ]
        },
        {
          "output_type": "stream",
          "name": "stdout",
          "text": [
            "Warning: Empty prediction for input: This is the first time I am coming to the airport. I don't know the process here.\n"
          ]
        },
        {
          "output_type": "stream",
          "name": "stderr",
          "text": [
            "\rGenerating translations:  79%|███████▉  | 1260/1598 [06:07<02:03,  2.73it/s]"
          ]
        },
        {
          "output_type": "stream",
          "name": "stdout",
          "text": [
            "Warning: Empty prediction for input: He said that he had sent the letters to the President, Prime Minister and Gujarat Chief Minister.\n"
          ]
        },
        {
          "output_type": "stream",
          "name": "stderr",
          "text": [
            "\rGenerating translations:  79%|███████▉  | 1261/1598 [06:07<01:49,  3.08it/s]"
          ]
        },
        {
          "output_type": "stream",
          "name": "stdout",
          "text": [
            "Warning: Empty prediction for input: Active cases, they say.\n"
          ]
        },
        {
          "output_type": "stream",
          "name": "stderr",
          "text": [
            "\rGenerating translations:  79%|███████▉  | 1262/1598 [06:08<01:41,  3.32it/s]"
          ]
        },
        {
          "output_type": "stream",
          "name": "stdout",
          "text": [
            "Warning: Empty prediction for input: He's that kind of guy.\n"
          ]
        },
        {
          "output_type": "stream",
          "name": "stderr",
          "text": [
            "\rGenerating translations:  79%|███████▉  | 1263/1598 [06:08<01:36,  3.46it/s]"
          ]
        },
        {
          "output_type": "stream",
          "name": "stdout",
          "text": [
            "Warning: Empty prediction for input: Currently, Delhi Fire Services has 61 stations.\n"
          ]
        },
        {
          "output_type": "stream",
          "name": "stderr",
          "text": [
            "\rGenerating translations:  79%|███████▉  | 1264/1598 [06:08<01:30,  3.69it/s]"
          ]
        },
        {
          "output_type": "stream",
          "name": "stdout",
          "text": [
            "Warning: Empty prediction for input: Who is investigating officer?\n"
          ]
        },
        {
          "output_type": "stream",
          "name": "stderr",
          "text": [
            "\rGenerating translations:  79%|███████▉  | 1265/1598 [06:09<01:36,  3.44it/s]"
          ]
        },
        {
          "output_type": "stream",
          "name": "stdout",
          "text": [
            "Warning: Empty prediction for input: But I didn't do much to take care of the children. No one pays attention to them, begging for food or picking them up in the garbage.\n"
          ]
        },
        {
          "output_type": "stream",
          "name": "stderr",
          "text": [
            "\rGenerating translations:  79%|███████▉  | 1266/1598 [06:09<01:34,  3.50it/s]"
          ]
        },
        {
          "output_type": "stream",
          "name": "stdout",
          "text": [
            "Warning: Empty prediction for input: The post-mortem report shows that they were raped and murdered.\n"
          ]
        },
        {
          "output_type": "stream",
          "name": "stderr",
          "text": [
            "\rGenerating translations:  79%|███████▉  | 1267/1598 [06:09<01:36,  3.45it/s]"
          ]
        },
        {
          "output_type": "stream",
          "name": "stdout",
          "text": [
            "Warning: Empty prediction for input: Dhanush is an Indian film actor, he has acted a lot in Tamil cinema.\n"
          ]
        },
        {
          "output_type": "stream",
          "name": "stderr",
          "text": [
            "\rGenerating translations:  79%|███████▉  | 1268/1598 [06:09<01:31,  3.61it/s]"
          ]
        },
        {
          "output_type": "stream",
          "name": "stdout",
          "text": [
            "Warning: Empty prediction for input: The picture is the same on Facebook and Twitter.\n"
          ]
        },
        {
          "output_type": "stream",
          "name": "stderr",
          "text": [
            "\rGenerating translations:  79%|███████▉  | 1269/1598 [06:10<01:33,  3.51it/s]"
          ]
        },
        {
          "output_type": "stream",
          "name": "stdout",
          "text": [
            "Warning: Empty prediction for input: As cities and industrial areas grow, agriculture will take a backseat. Where does the food come from?\n"
          ]
        },
        {
          "output_type": "stream",
          "name": "stderr",
          "text": [
            "\rGenerating translations:  79%|███████▉  | 1270/1598 [06:10<01:29,  3.68it/s]"
          ]
        },
        {
          "output_type": "stream",
          "name": "stdout",
          "text": [
            "Warning: Empty prediction for input: That's what I wrote.\n"
          ]
        },
        {
          "output_type": "stream",
          "name": "stderr",
          "text": [
            "\rGenerating translations:  80%|███████▉  | 1271/1598 [06:10<01:26,  3.78it/s]"
          ]
        },
        {
          "output_type": "stream",
          "name": "stdout",
          "text": [
            "Warning: Empty prediction for input: Why do babies bite their nails?\n"
          ]
        },
        {
          "output_type": "stream",
          "name": "stderr",
          "text": [
            "\rGenerating translations:  80%|███████▉  | 1272/1598 [06:10<01:23,  3.93it/s]"
          ]
        },
        {
          "output_type": "stream",
          "name": "stdout",
          "text": [
            "Warning: Empty prediction for input: I don't know.\n"
          ]
        },
        {
          "output_type": "stream",
          "name": "stderr",
          "text": [
            "\rGenerating translations:  80%|███████▉  | 1273/1598 [06:11<01:21,  3.98it/s]"
          ]
        },
        {
          "output_type": "stream",
          "name": "stdout",
          "text": [
            "Warning: Empty prediction for input: Most of the people are from India.\n"
          ]
        },
        {
          "output_type": "stream",
          "name": "stderr",
          "text": [
            "\rGenerating translations:  80%|███████▉  | 1274/1598 [06:11<01:24,  3.86it/s]"
          ]
        },
        {
          "output_type": "stream",
          "name": "stdout",
          "text": [
            "Warning: Empty prediction for input: Okay, Ill go and see him. Then we can both go for tea.\n"
          ]
        },
        {
          "output_type": "stream",
          "name": "stderr",
          "text": [
            "\rGenerating translations:  80%|███████▉  | 1275/1598 [06:11<01:26,  3.72it/s]"
          ]
        },
        {
          "output_type": "stream",
          "name": "stdout",
          "text": [
            "Warning: Empty prediction for input: These orders were amended between 1956 and 2016 by the Constitution under Article 341(2) of the Constitution.\n"
          ]
        },
        {
          "output_type": "stream",
          "name": "stderr",
          "text": [
            "\rGenerating translations:  80%|███████▉  | 1276/1598 [06:11<01:23,  3.84it/s]"
          ]
        },
        {
          "output_type": "stream",
          "name": "stdout",
          "text": [
            "Warning: Empty prediction for input: A leader of the people!\n"
          ]
        },
        {
          "output_type": "stream",
          "name": "stderr",
          "text": [
            "\rGenerating translations:  80%|███████▉  | 1277/1598 [06:12<01:30,  3.55it/s]"
          ]
        },
        {
          "output_type": "stream",
          "name": "stdout",
          "text": [
            "Warning: Empty prediction for input: As my party is the German section of the Socialist Equality Party and the International Committee of the Fourth International, we support such an international socialist programme.\n"
          ]
        },
        {
          "output_type": "stream",
          "name": "stderr",
          "text": [
            "\rGenerating translations:  80%|███████▉  | 1278/1598 [06:12<01:27,  3.65it/s]"
          ]
        },
        {
          "output_type": "stream",
          "name": "stdout",
          "text": [
            "Warning: Empty prediction for input: Who's going to helm this movie?\n"
          ]
        },
        {
          "output_type": "stream",
          "name": "stderr",
          "text": [
            "\rGenerating translations:  80%|████████  | 1279/1598 [06:12<01:23,  3.81it/s]"
          ]
        },
        {
          "output_type": "stream",
          "name": "stdout",
          "text": [
            "Warning: Empty prediction for input: Someone is investigating and investigating.\n"
          ]
        },
        {
          "output_type": "stream",
          "name": "stderr",
          "text": [
            "\rGenerating translations:  80%|████████  | 1280/1598 [06:13<01:24,  3.74it/s]"
          ]
        },
        {
          "output_type": "stream",
          "name": "stdout",
          "text": [
            "Warning: Empty prediction for input: That's why I think spiritual awakening is an important part of any environment care campaign.\n"
          ]
        },
        {
          "output_type": "stream",
          "name": "stderr",
          "text": [
            "\rGenerating translations:  80%|████████  | 1281/1598 [06:13<01:31,  3.47it/s]"
          ]
        },
        {
          "output_type": "stream",
          "name": "stdout",
          "text": [
            "Warning: Empty prediction for input: For example, in the village of Potala Pastillo, there were two Witness families, many children, and I used to play flute.\n"
          ]
        },
        {
          "output_type": "stream",
          "name": "stderr",
          "text": [
            "\rGenerating translations:  80%|████████  | 1282/1598 [06:13<01:31,  3.47it/s]"
          ]
        },
        {
          "output_type": "stream",
          "name": "stdout",
          "text": [
            "Warning: Empty prediction for input: You go and get it. You only have to park your bicycle in the parking lot, okay?\n"
          ]
        },
        {
          "output_type": "stream",
          "name": "stderr",
          "text": [
            "\rGenerating translations:  80%|████████  | 1283/1598 [06:13<01:27,  3.60it/s]"
          ]
        },
        {
          "output_type": "stream",
          "name": "stdout",
          "text": [
            "Warning: Empty prediction for input: I'll come with them too.\n"
          ]
        },
        {
          "output_type": "stream",
          "name": "stderr",
          "text": [
            "\rGenerating translations:  80%|████████  | 1284/1598 [06:14<01:26,  3.62it/s]"
          ]
        },
        {
          "output_type": "stream",
          "name": "stdout",
          "text": [
            "Warning: Empty prediction for input: He was then taken to the government hospital for a medical examination.\n"
          ]
        },
        {
          "output_type": "stream",
          "name": "stderr",
          "text": [
            "\rGenerating translations:  80%|████████  | 1285/1598 [06:14<01:26,  3.63it/s]"
          ]
        },
        {
          "output_type": "stream",
          "name": "stdout",
          "text": [
            "Warning: Empty prediction for input: That's why they think they've found the true religion.\n"
          ]
        },
        {
          "output_type": "stream",
          "name": "stderr",
          "text": [
            "\rGenerating translations:  80%|████████  | 1286/1598 [06:14<01:25,  3.64it/s]"
          ]
        },
        {
          "output_type": "stream",
          "name": "stdout",
          "text": [
            "Warning: Empty prediction for input: Similarly, Rs. Monetary gift.\n"
          ]
        },
        {
          "output_type": "stream",
          "name": "stderr",
          "text": [
            "\rGenerating translations:  81%|████████  | 1287/1598 [06:15<01:26,  3.58it/s]"
          ]
        },
        {
          "output_type": "stream",
          "name": "stdout",
          "text": [
            "Warning: Empty prediction for input: And make me one of the heirs of the Garden of Bliss.\n"
          ]
        },
        {
          "output_type": "stream",
          "name": "stderr",
          "text": [
            "\rGenerating translations:  81%|████████  | 1288/1598 [06:15<01:28,  3.49it/s]"
          ]
        },
        {
          "output_type": "stream",
          "name": "stdout",
          "text": [
            "Warning: Empty prediction for input: Produced by Kalipuli S Tanu, the film has music by GV Prakash.\n"
          ]
        },
        {
          "output_type": "stream",
          "name": "stderr",
          "text": [
            "\rGenerating translations:  81%|████████  | 1289/1598 [06:15<01:22,  3.76it/s]"
          ]
        },
        {
          "output_type": "stream",
          "name": "stdout",
          "text": [
            "Warning: Empty prediction for input: Oh yes!\n"
          ]
        },
        {
          "output_type": "stream",
          "name": "stderr",
          "text": [
            "\rGenerating translations:  81%|████████  | 1290/1598 [06:15<01:29,  3.42it/s]"
          ]
        },
        {
          "output_type": "stream",
          "name": "stdout",
          "text": [
            "Warning: Empty prediction for input: In addition, there is a growth of 75% in rejoining, from 43.78 lakh in 2018-19 to 78.15 lakh in 2019-20.\n"
          ]
        },
        {
          "output_type": "stream",
          "name": "stderr",
          "text": [
            "\rGenerating translations:  81%|████████  | 1291/1598 [06:16<01:26,  3.57it/s]"
          ]
        },
        {
          "output_type": "stream",
          "name": "stdout",
          "text": [
            "Warning: Empty prediction for input: Those involved have been admitted to a nearby hospital.\n"
          ]
        },
        {
          "output_type": "stream",
          "name": "stderr",
          "text": [
            "\rGenerating translations:  81%|████████  | 1292/1598 [06:16<01:23,  3.68it/s]"
          ]
        },
        {
          "output_type": "stream",
          "name": "stdout",
          "text": [
            "Warning: Empty prediction for input: I think the BJP will win these elections.\n"
          ]
        },
        {
          "output_type": "stream",
          "name": "stderr",
          "text": [
            "\rGenerating translations:  81%|████████  | 1293/1598 [06:16<01:21,  3.72it/s]"
          ]
        },
        {
          "output_type": "stream",
          "name": "stdout",
          "text": [
            "Warning: Empty prediction for input: yes, that's what I was thinking about.\n"
          ]
        },
        {
          "output_type": "stream",
          "name": "stderr",
          "text": [
            "\rGenerating translations:  81%|████████  | 1294/1598 [06:16<01:19,  3.83it/s]"
          ]
        },
        {
          "output_type": "stream",
          "name": "stdout",
          "text": [
            "Warning: Empty prediction for input: All educational institutions function normally.\n"
          ]
        },
        {
          "output_type": "stream",
          "name": "stderr",
          "text": [
            "\rGenerating translations:  81%|████████  | 1295/1598 [06:17<01:23,  3.61it/s]"
          ]
        },
        {
          "output_type": "stream",
          "name": "stdout",
          "text": [
            "Warning: Empty prediction for input: To prevent this, Hannibal tricks the Romans into thinking that the Carthaginian army will escape through the woods.\n"
          ]
        },
        {
          "output_type": "stream",
          "name": "stderr",
          "text": [
            "\rGenerating translations:  81%|████████  | 1296/1598 [06:17<01:20,  3.75it/s]"
          ]
        },
        {
          "output_type": "stream",
          "name": "stdout",
          "text": [
            "Warning: Empty prediction for input: 6 lakh rupees and Rs.\n"
          ]
        },
        {
          "output_type": "stream",
          "name": "stderr",
          "text": [
            "\rGenerating translations:  81%|████████  | 1297/1598 [06:17<01:38,  3.04it/s]"
          ]
        },
        {
          "output_type": "stream",
          "name": "stdout",
          "text": [
            "Warning: Empty prediction for input: Surely, a good sense of humor is not an antidote to all the problems we face in life, but it helps to face problems positively, balanced.\n"
          ]
        },
        {
          "output_type": "stream",
          "name": "stderr",
          "text": [
            "\rGenerating translations:  81%|████████  | 1298/1598 [06:18<01:54,  2.62it/s]"
          ]
        },
        {
          "output_type": "stream",
          "name": "stdout",
          "text": [
            "Warning: Empty prediction for input: In Tamil Nadu, the DMK-led alliance is doing well, while in Karnataka, the BJP is winning more seats.\n"
          ]
        },
        {
          "output_type": "stream",
          "name": "stderr",
          "text": [
            "\rGenerating translations:  81%|████████▏ | 1299/1598 [06:18<01:51,  2.68it/s]"
          ]
        },
        {
          "output_type": "stream",
          "name": "stdout",
          "text": [
            "Warning: Empty prediction for input: Our position is to implement the Supreme Court order.\n"
          ]
        },
        {
          "output_type": "stream",
          "name": "stderr",
          "text": [
            "\rGenerating translations:  81%|████████▏ | 1300/1598 [06:19<01:50,  2.71it/s]"
          ]
        },
        {
          "output_type": "stream",
          "name": "stdout",
          "text": [
            "Warning: Empty prediction for input: But he refused to go bog down.\n"
          ]
        },
        {
          "output_type": "stream",
          "name": "stderr",
          "text": [
            "\rGenerating translations:  81%|████████▏ | 1301/1598 [06:19<01:45,  2.82it/s]"
          ]
        },
        {
          "output_type": "stream",
          "name": "stdout",
          "text": [
            "Warning: Empty prediction for input: I'm so angry.\n"
          ]
        },
        {
          "output_type": "stream",
          "name": "stderr",
          "text": [
            "\rGenerating translations:  81%|████████▏ | 1302/1598 [06:19<01:43,  2.87it/s]"
          ]
        },
        {
          "output_type": "stream",
          "name": "stdout",
          "text": [
            "Warning: Empty prediction for input: They're talking to their daughters on the phone.\n"
          ]
        },
        {
          "output_type": "stream",
          "name": "stderr",
          "text": [
            "\rGenerating translations:  82%|████████▏ | 1303/1598 [06:20<01:40,  2.94it/s]"
          ]
        },
        {
          "output_type": "stream",
          "name": "stdout",
          "text": [
            "Warning: Empty prediction for input: Let's go.\n"
          ]
        },
        {
          "output_type": "stream",
          "name": "stderr",
          "text": [
            "\rGenerating translations:  82%|████████▏ | 1304/1598 [06:20<01:46,  2.76it/s]"
          ]
        },
        {
          "output_type": "stream",
          "name": "stdout",
          "text": [
            "Warning: Empty prediction for input: So it's very tempting to use therapy and it's the most commonly used method today.\n"
          ]
        },
        {
          "output_type": "stream",
          "name": "stderr",
          "text": [
            "\rGenerating translations:  82%|████████▏ | 1305/1598 [06:20<01:47,  2.73it/s]"
          ]
        },
        {
          "output_type": "stream",
          "name": "stdout",
          "text": [
            "Warning: Empty prediction for input: Breathing problems can also occur.\n"
          ]
        },
        {
          "output_type": "stream",
          "name": "stderr",
          "text": [
            "\rGenerating translations:  82%|████████▏ | 1306/1598 [06:21<01:44,  2.79it/s]"
          ]
        },
        {
          "output_type": "stream",
          "name": "stdout",
          "text": [
            "Warning: Empty prediction for input: A few years ago, Amr was seriously injured in an assassination attempt.\n"
          ]
        },
        {
          "output_type": "stream",
          "name": "stderr",
          "text": [
            "\rGenerating translations:  82%|████████▏ | 1307/1598 [06:21<01:34,  3.09it/s]"
          ]
        },
        {
          "output_type": "stream",
          "name": "stdout",
          "text": [
            "Warning: Empty prediction for input: Family Court-Courts\n"
          ]
        },
        {
          "output_type": "stream",
          "name": "stderr",
          "text": [
            "\rGenerating translations:  82%|████████▏ | 1308/1598 [06:21<01:29,  3.25it/s]"
          ]
        },
        {
          "output_type": "stream",
          "name": "stdout",
          "text": [
            "Warning: Empty prediction for input: He is confident that the BJP will come back to power in Maharashtra.\n"
          ]
        },
        {
          "output_type": "stream",
          "name": "stderr",
          "text": [
            "\rGenerating translations:  82%|████████▏ | 1309/1598 [06:22<01:22,  3.51it/s]"
          ]
        },
        {
          "output_type": "stream",
          "name": "stdout",
          "text": [
            "Warning: Empty prediction for input: They came out laughing and laughing.\n"
          ]
        },
        {
          "output_type": "stream",
          "name": "stderr",
          "text": [
            "\rGenerating translations:  82%|████████▏ | 1310/1598 [06:22<01:18,  3.65it/s]"
          ]
        },
        {
          "output_type": "stream",
          "name": "stdout",
          "text": [
            "Warning: Empty prediction for input: Later that evening, everyone was released.\n"
          ]
        },
        {
          "output_type": "stream",
          "name": "stderr",
          "text": [
            "\rGenerating translations:  82%|████████▏ | 1311/1598 [06:22<01:14,  3.84it/s]"
          ]
        },
        {
          "output_type": "stream",
          "name": "stdout",
          "text": [
            "Warning: Empty prediction for input: Shanta Mahajan\n"
          ]
        },
        {
          "output_type": "stream",
          "name": "stderr",
          "text": [
            "\rGenerating translations:  82%|████████▏ | 1312/1598 [06:22<01:24,  3.39it/s]"
          ]
        },
        {
          "output_type": "stream",
          "name": "stdout",
          "text": [
            "Warning: Empty prediction for input: One day, as Marcelo was leaving home, he's from Argentina and found a briefcase on the floor a few feet from the door.\n"
          ]
        },
        {
          "output_type": "stream",
          "name": "stderr",
          "text": [
            "\rGenerating translations:  82%|████████▏ | 1313/1598 [06:23<01:19,  3.60it/s]"
          ]
        },
        {
          "output_type": "stream",
          "name": "stdout",
          "text": [
            "Warning: Empty prediction for input: Nothing can escape.\n"
          ]
        },
        {
          "output_type": "stream",
          "name": "stderr",
          "text": [
            "\rGenerating translations:  82%|████████▏ | 1314/1598 [06:23<01:18,  3.60it/s]"
          ]
        },
        {
          "output_type": "stream",
          "name": "stdout",
          "text": [
            "Warning: Empty prediction for input: A total of 84 people were injured in the quake, officials said.\n"
          ]
        },
        {
          "output_type": "stream",
          "name": "stderr",
          "text": [
            "\rGenerating translations:  82%|████████▏ | 1315/1598 [06:23<01:15,  3.76it/s]"
          ]
        },
        {
          "output_type": "stream",
          "name": "stdout",
          "text": [
            "Warning: Empty prediction for input: It's all floral.\n"
          ]
        },
        {
          "output_type": "stream",
          "name": "stderr",
          "text": [
            "\rGenerating translations:  82%|████████▏ | 1316/1598 [06:23<01:19,  3.56it/s]"
          ]
        },
        {
          "output_type": "stream",
          "name": "stdout",
          "text": [
            "Warning: Empty prediction for input: Kolbeckite (scandium phosphate dihydrate) is a mineral with the formula ScPO42H2O.\n"
          ]
        },
        {
          "output_type": "stream",
          "name": "stderr",
          "text": [
            "\rGenerating translations:  82%|████████▏ | 1317/1598 [06:24<01:18,  3.58it/s]"
          ]
        },
        {
          "output_type": "stream",
          "name": "stdout",
          "text": [
            "Warning: Empty prediction for input: So Jesus' cousin James must have written this letter. Marcus 6:3.\n"
          ]
        },
        {
          "output_type": "stream",
          "name": "stderr",
          "text": [
            "\rGenerating translations:  82%|████████▏ | 1318/1598 [06:24<01:21,  3.45it/s]"
          ]
        },
        {
          "output_type": "stream",
          "name": "stdout",
          "text": [
            "Warning: Empty prediction for input: \"After the Long Strike in nineties, in France, privatisation is not an issue,\" said a train driver.\n"
          ]
        },
        {
          "output_type": "stream",
          "name": "stderr",
          "text": [
            "\rGenerating translations:  83%|████████▎ | 1319/1598 [06:24<01:20,  3.45it/s]"
          ]
        },
        {
          "output_type": "stream",
          "name": "stdout",
          "text": [
            "Warning: Empty prediction for input: Union Overseers will help in marking and supervising construction works as per design and technical standards.\n"
          ]
        },
        {
          "output_type": "stream",
          "name": "stderr",
          "text": [
            "\rGenerating translations:  83%|████████▎ | 1320/1598 [06:25<01:17,  3.58it/s]"
          ]
        },
        {
          "output_type": "stream",
          "name": "stdout",
          "text": [
            "Warning: Empty prediction for input: His father was with him in many of his jobs.\n"
          ]
        },
        {
          "output_type": "stream",
          "name": "stderr",
          "text": [
            "\rGenerating translations:  83%|████████▎ | 1321/1598 [06:25<01:16,  3.63it/s]"
          ]
        },
        {
          "output_type": "stream",
          "name": "stdout",
          "text": [
            "Warning: Empty prediction for input: This camp will be conducted at Hyundai service outlets pan India.\n"
          ]
        },
        {
          "output_type": "stream",
          "name": "stderr",
          "text": [
            "\rGenerating translations:  83%|████████▎ | 1322/1598 [06:25<01:12,  3.81it/s]"
          ]
        },
        {
          "output_type": "stream",
          "name": "stdout",
          "text": [
            "Warning: Empty prediction for input: Mohan said.\n"
          ]
        },
        {
          "output_type": "stream",
          "name": "stderr",
          "text": [
            "\rGenerating translations:  83%|████████▎ | 1323/1598 [06:25<01:13,  3.72it/s]"
          ]
        },
        {
          "output_type": "stream",
          "name": "stdout",
          "text": [
            "Warning: Empty prediction for input: In our house, no one is proud of women, men don't listen to women's advice.\n"
          ]
        },
        {
          "output_type": "stream",
          "name": "stderr",
          "text": [
            "\rGenerating translations:  83%|████████▎ | 1324/1598 [06:26<01:11,  3.81it/s]"
          ]
        },
        {
          "output_type": "stream",
          "name": "stdout",
          "text": [
            "Warning: Empty prediction for input: I never go to a party.\n"
          ]
        },
        {
          "output_type": "stream",
          "name": "stderr",
          "text": [
            "\rGenerating translations:  83%|████████▎ | 1325/1598 [06:26<01:13,  3.73it/s]"
          ]
        },
        {
          "output_type": "stream",
          "name": "stdout",
          "text": [
            "Warning: Empty prediction for input: Bassi Sunanda Pushkar Murder Case.\n"
          ]
        },
        {
          "output_type": "stream",
          "name": "stderr",
          "text": [
            "\rGenerating translations:  83%|████████▎ | 1326/1598 [06:26<01:11,  3.79it/s]"
          ]
        },
        {
          "output_type": "stream",
          "name": "stdout",
          "text": [
            "Warning: Empty prediction for input: It can't be donor-driven or foreign-owned.\n"
          ]
        },
        {
          "output_type": "stream",
          "name": "stderr",
          "text": [
            "\rGenerating translations:  83%|████████▎ | 1327/1598 [06:27<01:19,  3.40it/s]"
          ]
        },
        {
          "output_type": "stream",
          "name": "stdout",
          "text": [
            "Warning: Empty prediction for input: The Corinthians take a cleansing action by disfellowshipping the immoral wrongdoers, and then they repentance comes to salvation and they rejoice in Paul's first letter.\n"
          ]
        },
        {
          "output_type": "stream",
          "name": "stderr",
          "text": [
            "\rGenerating translations:  83%|████████▎ | 1328/1598 [06:27<01:18,  3.43it/s]"
          ]
        },
        {
          "output_type": "stream",
          "name": "stdout",
          "text": [
            "Warning: Empty prediction for input: Add turmeric powder, red chilli powder, garam masala, tomato and salt.\n"
          ]
        },
        {
          "output_type": "stream",
          "name": "stderr",
          "text": [
            "\rGenerating translations:  83%|████████▎ | 1329/1598 [06:27<01:13,  3.66it/s]"
          ]
        },
        {
          "output_type": "stream",
          "name": "stdout",
          "text": [
            "Warning: Empty prediction for input: Their minds were very confused.\n"
          ]
        },
        {
          "output_type": "stream",
          "name": "stderr",
          "text": [
            "\rGenerating translations:  83%|████████▎ | 1330/1598 [06:27<01:17,  3.47it/s]"
          ]
        },
        {
          "output_type": "stream",
          "name": "stdout",
          "text": [
            "Warning: Empty prediction for input: It's going to be very difficult to challenge the government's legitimacy or legitimacy as the working class has voted overwhelmingly for Chirac.\n"
          ]
        },
        {
          "output_type": "stream",
          "name": "stderr",
          "text": [
            "\rGenerating translations:  83%|████████▎ | 1331/1598 [06:28<01:12,  3.69it/s]"
          ]
        },
        {
          "output_type": "stream",
          "name": "stdout",
          "text": [
            "Warning: Empty prediction for input: But the court dismissed the petition.\n"
          ]
        },
        {
          "output_type": "stream",
          "name": "stderr",
          "text": [
            "\rGenerating translations:  83%|████████▎ | 1332/1598 [06:28<01:13,  3.62it/s]"
          ]
        },
        {
          "output_type": "stream",
          "name": "stdout",
          "text": [
            "Warning: Empty prediction for input: If you leave your account signed on in your absence, someone else will post it on your page.\n"
          ]
        },
        {
          "output_type": "stream",
          "name": "stderr",
          "text": [
            "\rGenerating translations:  83%|████████▎ | 1333/1598 [06:28<01:10,  3.78it/s]"
          ]
        },
        {
          "output_type": "stream",
          "name": "stdout",
          "text": [
            "Warning: Empty prediction for input: You are right, Mugilan.\n"
          ]
        },
        {
          "output_type": "stream",
          "name": "stderr",
          "text": [
            "\rGenerating translations:  83%|████████▎ | 1334/1598 [06:28<01:08,  3.86it/s]"
          ]
        },
        {
          "output_type": "stream",
          "name": "stdout",
          "text": [
            "Warning: Empty prediction for input: The police are still searching.\n"
          ]
        },
        {
          "output_type": "stream",
          "name": "stderr",
          "text": [
            "\rGenerating translations:  84%|████████▎ | 1335/1598 [06:29<01:08,  3.83it/s]"
          ]
        },
        {
          "output_type": "stream",
          "name": "stdout",
          "text": [
            "Warning: Empty prediction for input: Where is Vanathi? Their place is empty.\n"
          ]
        },
        {
          "output_type": "stream",
          "name": "stderr",
          "text": [
            "\rGenerating translations:  84%|████████▎ | 1336/1598 [06:29<01:18,  3.35it/s]"
          ]
        },
        {
          "output_type": "stream",
          "name": "stdout",
          "text": [
            "Warning: Empty prediction for input: Okay, so what the judge in this case is to send me back to my parents, if they take my custody back, I'll be happy, I can go home and be happy.\n"
          ]
        },
        {
          "output_type": "stream",
          "name": "stderr",
          "text": [
            "\rGenerating translations:  84%|████████▎ | 1337/1598 [06:29<01:14,  3.49it/s]"
          ]
        },
        {
          "output_type": "stream",
          "name": "stdout",
          "text": [
            "Warning: Empty prediction for input: It's now that Nila has accepted the leading lady role.\n"
          ]
        },
        {
          "output_type": "stream",
          "name": "stderr",
          "text": [
            "\rGenerating translations:  84%|████████▎ | 1338/1598 [06:30<01:17,  3.36it/s]"
          ]
        },
        {
          "output_type": "stream",
          "name": "stdout",
          "text": [
            "Warning: Empty prediction for input: In general, more than 80% of countries believe that it is good to have God. But in Britain, only 56% agree with it.\n"
          ]
        },
        {
          "output_type": "stream",
          "name": "stderr",
          "text": [
            "\rGenerating translations:  84%|████████▍ | 1339/1598 [06:30<01:10,  3.67it/s]"
          ]
        },
        {
          "output_type": "stream",
          "name": "stdout",
          "text": [
            "Warning: Empty prediction for input: All of us\n"
          ]
        },
        {
          "output_type": "stream",
          "name": "stderr",
          "text": [
            "\rGenerating translations:  84%|████████▍ | 1340/1598 [06:30<01:09,  3.70it/s]"
          ]
        },
        {
          "output_type": "stream",
          "name": "stdout",
          "text": [
            "Warning: Empty prediction for input: I don't know him.\n"
          ]
        },
        {
          "output_type": "stream",
          "name": "stderr",
          "text": [
            "\rGenerating translations:  84%|████████▍ | 1341/1598 [06:30<01:06,  3.87it/s]"
          ]
        },
        {
          "output_type": "stream",
          "name": "stdout",
          "text": [
            "Warning: Empty prediction for input: Ghee - 2 tablespoons\n"
          ]
        },
        {
          "output_type": "stream",
          "name": "stderr",
          "text": [
            "\rGenerating translations:  84%|████████▍ | 1342/1598 [06:31<01:03,  4.01it/s]"
          ]
        },
        {
          "output_type": "stream",
          "name": "stdout",
          "text": [
            "Warning: Empty prediction for input: About 150 people are employed.\n"
          ]
        },
        {
          "output_type": "stream",
          "name": "stderr",
          "text": [
            "\rGenerating translations:  84%|████████▍ | 1343/1598 [06:31<01:07,  3.77it/s]"
          ]
        },
        {
          "output_type": "stream",
          "name": "stdout",
          "text": [
            "Warning: Empty prediction for input: Why are you angry?\n"
          ]
        },
        {
          "output_type": "stream",
          "name": "stderr",
          "text": [
            "\rGenerating translations:  84%|████████▍ | 1344/1598 [06:31<01:17,  3.26it/s]"
          ]
        },
        {
          "output_type": "stream",
          "name": "stdout",
          "text": [
            "Warning: Empty prediction for input: From the very beginning of the match, both teams were defensive players.\n"
          ]
        },
        {
          "output_type": "stream",
          "name": "stderr",
          "text": [
            "\rGenerating translations:  84%|████████▍ | 1345/1598 [06:32<01:19,  3.16it/s]"
          ]
        },
        {
          "output_type": "stream",
          "name": "stdout",
          "text": [
            "Warning: Empty prediction for input: Wait, Ill go and get the money.\n"
          ]
        },
        {
          "output_type": "stream",
          "name": "stderr",
          "text": [
            "\rGenerating translations:  84%|████████▍ | 1346/1598 [06:32<01:33,  2.70it/s]"
          ]
        },
        {
          "output_type": "stream",
          "name": "stdout",
          "text": [
            "Warning: Empty prediction for input: He also asked for permission to copy the information he had. He wanted to include it in an article he prepared for the Hospital Association Magazine.\n"
          ]
        },
        {
          "output_type": "stream",
          "name": "stderr",
          "text": [
            "\rGenerating translations:  84%|████████▍ | 1347/1598 [06:32<01:31,  2.74it/s]"
          ]
        },
        {
          "output_type": "stream",
          "name": "stdout",
          "text": [
            "Warning: Empty prediction for input: If we subtract 80 from this bottom number, 8 will disappear.\n"
          ]
        },
        {
          "output_type": "stream",
          "name": "stderr",
          "text": [
            "\rGenerating translations:  84%|████████▍ | 1348/1598 [06:33<01:29,  2.81it/s]"
          ]
        },
        {
          "output_type": "stream",
          "name": "stdout",
          "text": [
            "Warning: Empty prediction for input: He said the police were harassing the students.\n"
          ]
        },
        {
          "output_type": "stream",
          "name": "stderr",
          "text": [
            "\rGenerating translations:  84%|████████▍ | 1349/1598 [06:33<01:27,  2.83it/s]"
          ]
        },
        {
          "output_type": "stream",
          "name": "stdout",
          "text": [
            "Warning: Empty prediction for input: But it often goes unnoticed.\n"
          ]
        },
        {
          "output_type": "stream",
          "name": "stderr",
          "text": [
            "\rGenerating translations:  84%|████████▍ | 1350/1598 [06:34<01:32,  2.69it/s]"
          ]
        },
        {
          "output_type": "stream",
          "name": "stdout",
          "text": [
            "Warning: Empty prediction for input: The book of Psalms shows how important loving and kindness is to Jehovah?\n"
          ]
        },
        {
          "output_type": "stream",
          "name": "stderr",
          "text": [
            "\rGenerating translations:  85%|████████▍ | 1351/1598 [06:34<01:34,  2.62it/s]"
          ]
        },
        {
          "output_type": "stream",
          "name": "stdout",
          "text": [
            "Warning: Empty prediction for input: The trees in front of the primary health centre have been uprooted.\n"
          ]
        },
        {
          "output_type": "stream",
          "name": "stderr",
          "text": [
            "\rGenerating translations:  85%|████████▍ | 1352/1598 [06:34<01:25,  2.87it/s]"
          ]
        },
        {
          "output_type": "stream",
          "name": "stdout",
          "text": [
            "Warning: Empty prediction for input: Poll results show BJP's downturn.\n"
          ]
        },
        {
          "output_type": "stream",
          "name": "stderr",
          "text": [
            "\rGenerating translations:  85%|████████▍ | 1353/1598 [06:34<01:19,  3.09it/s]"
          ]
        },
        {
          "output_type": "stream",
          "name": "stdout",
          "text": [
            "Warning: Empty prediction for input: Adding food to your shopping basket and table is very important.\n"
          ]
        },
        {
          "output_type": "stream",
          "name": "stderr",
          "text": [
            "\rGenerating translations:  85%|████████▍ | 1354/1598 [06:35<01:15,  3.24it/s]"
          ]
        },
        {
          "output_type": "stream",
          "name": "stdout",
          "text": [
            "Warning: Empty prediction for input: What if the children became dedicated servants to Jehovah?\n"
          ]
        },
        {
          "output_type": "stream",
          "name": "stderr",
          "text": [
            "\rGenerating translations:  85%|████████▍ | 1355/1598 [06:35<01:38,  2.46it/s]"
          ]
        },
        {
          "output_type": "stream",
          "name": "stdout",
          "text": [
            "Warning: Empty prediction for input: Our farmers, doctors and nurses, teachers who impart education and values, scientists and engineers, attentive and energetic youth, members of our workforce who thrive on our hard work, entrepreneurs who contribute to our economic wealth, artists who enhance our culture, globally acclaimed service sector professionals, and our fellow countrymen who contribute in many other fields, especially against ODDS. Our resilient daughters who have scaled the heights - they have made our country proud.\n"
          ]
        },
        {
          "output_type": "stream",
          "name": "stderr",
          "text": [
            "\rGenerating translations:  85%|████████▍ | 1356/1598 [06:36<01:27,  2.78it/s]"
          ]
        },
        {
          "output_type": "stream",
          "name": "stdout",
          "text": [
            "Warning: Empty prediction for input: I'm the Chief Minister of this state.\n"
          ]
        },
        {
          "output_type": "stream",
          "name": "stderr",
          "text": [
            "\rGenerating translations:  85%|████████▍ | 1357/1598 [06:36<01:28,  2.73it/s]"
          ]
        },
        {
          "output_type": "stream",
          "name": "stdout",
          "text": [
            "Warning: Empty prediction for input: But if they're gone, I'll tell you all the truth. But I don't know if you're talking about a near-or-far-haven promise.\n"
          ]
        },
        {
          "output_type": "stream",
          "name": "stderr",
          "text": [
            "\rGenerating translations:  85%|████████▍ | 1358/1598 [06:36<01:18,  3.05it/s]"
          ]
        },
        {
          "output_type": "stream",
          "name": "stdout",
          "text": [
            "Warning: Empty prediction for input: I'm pressing!\n"
          ]
        },
        {
          "output_type": "stream",
          "name": "stderr",
          "text": [
            "\rGenerating translations:  85%|████████▌ | 1359/1598 [06:36<01:10,  3.39it/s]"
          ]
        },
        {
          "output_type": "stream",
          "name": "stdout",
          "text": [
            "Warning: Empty prediction for input: Say it again.\n"
          ]
        },
        {
          "output_type": "stream",
          "name": "stderr",
          "text": [
            "\rGenerating translations:  85%|████████▌ | 1360/1598 [06:37<01:10,  3.36it/s]"
          ]
        },
        {
          "output_type": "stream",
          "name": "stdout",
          "text": [
            "Warning: Empty prediction for input: They were in a house on top of a quiet mountain, and I had to climb on foot.\n"
          ]
        },
        {
          "output_type": "stream",
          "name": "stderr",
          "text": [
            "\rGenerating translations:  85%|████████▌ | 1361/1598 [06:37<01:09,  3.40it/s]"
          ]
        },
        {
          "output_type": "stream",
          "name": "stdout",
          "text": [
            "Warning: Empty prediction for input: Imagine how many parents have made sacrifices to make their lives easier for their children to grow up well.\n"
          ]
        },
        {
          "output_type": "stream",
          "name": "stderr",
          "text": [
            "\rGenerating translations:  85%|████████▌ | 1362/1598 [06:37<01:12,  3.26it/s]"
          ]
        },
        {
          "output_type": "stream",
          "name": "stdout",
          "text": [
            "Warning: Empty prediction for input: That's why I'm doing a retraction, and I do repent in dust and ashes. Job 42: 3, 6.\n"
          ]
        },
        {
          "output_type": "stream",
          "name": "stderr",
          "text": [
            "\rGenerating translations:  85%|████████▌ | 1363/1598 [06:38<01:05,  3.56it/s]"
          ]
        },
        {
          "output_type": "stream",
          "name": "stdout",
          "text": [
            "Warning: Empty prediction for input: They were scared.\n"
          ]
        },
        {
          "output_type": "stream",
          "name": "stderr",
          "text": [
            "\rGenerating translations:  85%|████████▌ | 1364/1598 [06:38<01:01,  3.83it/s]"
          ]
        },
        {
          "output_type": "stream",
          "name": "stdout",
          "text": [
            "Warning: Empty prediction for input: Important Dates:\n"
          ]
        },
        {
          "output_type": "stream",
          "name": "stderr",
          "text": [
            "\rGenerating translations:  85%|████████▌ | 1365/1598 [06:38<00:59,  3.91it/s]"
          ]
        },
        {
          "output_type": "stream",
          "name": "stdout",
          "text": [
            "Warning: Empty prediction for input: Doctors say the same thing.\n"
          ]
        },
        {
          "output_type": "stream",
          "name": "stderr",
          "text": [
            "\rGenerating translations:  85%|████████▌ | 1366/1598 [06:38<01:01,  3.80it/s]"
          ]
        },
        {
          "output_type": "stream",
          "name": "stdout",
          "text": [
            "Warning: Empty prediction for input: They were later arrested by the police and put in judicial custody.\n"
          ]
        },
        {
          "output_type": "stream",
          "name": "stderr",
          "text": [
            "\rGenerating translations:  86%|████████▌ | 1367/1598 [06:39<01:04,  3.60it/s]"
          ]
        },
        {
          "output_type": "stream",
          "name": "stdout",
          "text": [
            "Warning: Empty prediction for input: Can't we use these scriptural points to say the prayers for guidance and join us in Jehovah's thinking?\n"
          ]
        },
        {
          "output_type": "stream",
          "name": "stderr",
          "text": [
            "\rGenerating translations:  86%|████████▌ | 1368/1598 [06:39<00:58,  3.90it/s]"
          ]
        },
        {
          "output_type": "stream",
          "name": "stdout",
          "text": [
            "Warning: Empty prediction for input: Land Tax\n"
          ]
        },
        {
          "output_type": "stream",
          "name": "stderr",
          "text": [
            "\rGenerating translations:  86%|████████▌ | 1369/1598 [06:39<01:11,  3.18it/s]"
          ]
        },
        {
          "output_type": "stream",
          "name": "stdout",
          "text": [
            "Warning: Empty prediction for input: In human genetics, the human Y-chromosome DNA haplogroup is a haplogroup that defines mutations in non-recombining portions in the male-specific Y chromosome (called Y-DNA).\n"
          ]
        },
        {
          "output_type": "stream",
          "name": "stderr",
          "text": [
            "\rGenerating translations:  86%|████████▌ | 1370/1598 [06:40<01:13,  3.10it/s]"
          ]
        },
        {
          "output_type": "stream",
          "name": "stdout",
          "text": [
            "Warning: Empty prediction for input: He's a kid's little girl, playful wrestling, tickling, innocent and gradually becoming more and more physical, showing affection and playing.\n"
          ]
        },
        {
          "output_type": "stream",
          "name": "stderr",
          "text": [
            "\rGenerating translations:  86%|████████▌ | 1371/1598 [06:40<01:14,  3.05it/s]"
          ]
        },
        {
          "output_type": "stream",
          "name": "stdout",
          "text": [
            "Warning: Empty prediction for input: In the first century, Jesus fulfilled many of God's purposes, but he was not then enthroned as God's King.\n"
          ]
        },
        {
          "output_type": "stream",
          "name": "stderr",
          "text": [
            "\rGenerating translations:  86%|████████▌ | 1372/1598 [06:41<01:29,  2.54it/s]"
          ]
        },
        {
          "output_type": "stream",
          "name": "stdout",
          "text": [
            "Warning: Empty prediction for input: Looking at Zeenadab, he said: Just as your mind is equal to mine, will your mind be equal to mine? Jehu extended his hand to Jehonadab's positive response and invited Jehonadab into the war chariot and said, \"Look at my tolerance without showing any rivalry against Jehovah, you come with me.\"\n"
          ]
        },
        {
          "output_type": "stream",
          "name": "stderr",
          "text": [
            "\rGenerating translations:  86%|████████▌ | 1373/1598 [06:41<01:27,  2.59it/s]"
          ]
        },
        {
          "output_type": "stream",
          "name": "stdout",
          "text": [
            "Warning: Empty prediction for input: Jesus will come with his mighty angels to slay those whom God does not know, and on those who do not obey the fountain. 2 Thessalonians 1: 7, 8.\n"
          ]
        },
        {
          "output_type": "stream",
          "name": "stderr",
          "text": [
            "\rGenerating translations:  86%|████████▌ | 1374/1598 [06:41<01:15,  2.96it/s]"
          ]
        },
        {
          "output_type": "stream",
          "name": "stdout",
          "text": [
            "Warning: Empty prediction for input: I still think so.\n"
          ]
        },
        {
          "output_type": "stream",
          "name": "stderr",
          "text": [
            "\rGenerating translations:  86%|████████▌ | 1375/1598 [06:41<01:08,  3.24it/s]"
          ]
        },
        {
          "output_type": "stream",
          "name": "stdout",
          "text": [
            "Warning: Empty prediction for input: I come from an agricultural family.\n"
          ]
        },
        {
          "output_type": "stream",
          "name": "stderr",
          "text": [
            "\rGenerating translations:  86%|████████▌ | 1376/1598 [06:42<01:05,  3.40it/s]"
          ]
        },
        {
          "output_type": "stream",
          "name": "stdout",
          "text": [
            "Warning: Empty prediction for input: But the Tamil Nadu government has not taken any such move.\n"
          ]
        },
        {
          "output_type": "stream",
          "name": "stderr",
          "text": [
            "\rGenerating translations:  86%|████████▌ | 1377/1598 [06:42<01:01,  3.62it/s]"
          ]
        },
        {
          "output_type": "stream",
          "name": "stdout",
          "text": [
            "Warning: Empty prediction for input: Relaxation is very important.\n"
          ]
        },
        {
          "output_type": "stream",
          "name": "stderr",
          "text": [
            "\rGenerating translations:  86%|████████▌ | 1378/1598 [06:42<01:06,  3.29it/s]"
          ]
        },
        {
          "output_type": "stream",
          "name": "stdout",
          "text": [
            "Warning: Empty prediction for input: The 2018 Honda CB Hornet 160R is powered by a 162.71cc air-cooled, single-cylinder engine producing 14.9bhp and 14.5Nm of torque.\n"
          ]
        },
        {
          "output_type": "stream",
          "name": "stderr",
          "text": [
            "\rGenerating translations:  86%|████████▋ | 1379/1598 [06:43<01:13,  2.96it/s]"
          ]
        },
        {
          "output_type": "stream",
          "name": "stdout",
          "text": [
            "Warning: Empty prediction for input: Ten years from the commencement of this period, the President should constitute a Commission with representatives of different languages and representatives of different languages as mentioned in the Eighth Schedule, and define the procedure to be followed by the Commission in that order.\n"
          ]
        },
        {
          "output_type": "stream",
          "name": "stderr",
          "text": [
            "\rGenerating translations:  86%|████████▋ | 1380/1598 [06:43<01:09,  3.15it/s]"
          ]
        },
        {
          "output_type": "stream",
          "name": "stdout",
          "text": [
            "Warning: Empty prediction for input: Then the police say they stabbed her in the knife.\n"
          ]
        },
        {
          "output_type": "stream",
          "name": "stderr",
          "text": [
            "\rGenerating translations:  86%|████████▋ | 1381/1598 [06:43<01:04,  3.39it/s]"
          ]
        },
        {
          "output_type": "stream",
          "name": "stdout",
          "text": [
            "Warning: Empty prediction for input: NPR and NRC are linked.\n"
          ]
        },
        {
          "output_type": "stream",
          "name": "stderr",
          "text": [
            "\rGenerating translations:  86%|████████▋ | 1382/1598 [06:43<01:00,  3.57it/s]"
          ]
        },
        {
          "output_type": "stream",
          "name": "stdout",
          "text": [
            "Warning: Empty prediction for input: But he doesn't care.\n"
          ]
        },
        {
          "output_type": "stream",
          "name": "stderr",
          "text": [
            "\rGenerating translations:  87%|████████▋ | 1383/1598 [06:44<01:00,  3.55it/s]"
          ]
        },
        {
          "output_type": "stream",
          "name": "stdout",
          "text": [
            "Warning: Empty prediction for input: Gayle scored 94 runs in 44 balls with 9 sixes and 6 fours.\n"
          ]
        },
        {
          "output_type": "stream",
          "name": "stderr",
          "text": [
            "\rGenerating translations:  87%|████████▋ | 1384/1598 [06:44<00:58,  3.66it/s]"
          ]
        },
        {
          "output_type": "stream",
          "name": "stdout",
          "text": [
            "Warning: Empty prediction for input: They said he was fine.\n"
          ]
        },
        {
          "output_type": "stream",
          "name": "stderr",
          "text": [
            "\rGenerating translations:  87%|████████▋ | 1385/1598 [06:44<00:59,  3.55it/s]"
          ]
        },
        {
          "output_type": "stream",
          "name": "stdout",
          "text": [
            "Warning: Empty prediction for input: China does it.\n"
          ]
        },
        {
          "output_type": "stream",
          "name": "stderr",
          "text": [
            "\rGenerating translations:  87%|████████▋ | 1386/1598 [06:45<01:02,  3.40it/s]"
          ]
        },
        {
          "output_type": "stream",
          "name": "stdout",
          "text": [
            "Warning: Empty prediction for input: Buy.\n"
          ]
        },
        {
          "output_type": "stream",
          "name": "stderr",
          "text": [
            "\rGenerating translations:  87%|████████▋ | 1387/1598 [06:45<01:07,  3.15it/s]"
          ]
        },
        {
          "output_type": "stream",
          "name": "stdout",
          "text": [
            "Warning: Empty prediction for input: Think about this for a moment. Learn good manners.\n"
          ]
        },
        {
          "output_type": "stream",
          "name": "stderr",
          "text": [
            "\rGenerating translations:  87%|████████▋ | 1388/1598 [06:45<01:05,  3.20it/s]"
          ]
        },
        {
          "output_type": "stream",
          "name": "stdout",
          "text": [
            "Warning: Empty prediction for input: 18 Lakhs\n"
          ]
        },
        {
          "output_type": "stream",
          "name": "stderr",
          "text": [
            "\rGenerating translations:  87%|████████▋ | 1389/1598 [06:46<01:15,  2.75it/s]"
          ]
        },
        {
          "output_type": "stream",
          "name": "stdout",
          "text": [
            "Warning: Empty prediction for input: On March 22, 2018, The Times of India published a press report titled PM Awas Yojana: Only 8% target met under Urban housing scheme.\n"
          ]
        },
        {
          "output_type": "stream",
          "name": "stderr",
          "text": [
            "\rGenerating translations:  87%|████████▋ | 1390/1598 [06:46<01:14,  2.78it/s]"
          ]
        },
        {
          "output_type": "stream",
          "name": "stdout",
          "text": [
            "Warning: Empty prediction for input: This amount has been transferred to the president.\n"
          ]
        },
        {
          "output_type": "stream",
          "name": "stderr",
          "text": [
            "\rGenerating translations:  87%|████████▋ | 1391/1598 [06:46<01:16,  2.72it/s]"
          ]
        },
        {
          "output_type": "stream",
          "name": "stdout",
          "text": [
            "Warning: Empty prediction for input: Obama was interviewing British Prince Harry for the BBC's Radio 4 programme.\n"
          ]
        },
        {
          "output_type": "stream",
          "name": "stderr",
          "text": [
            "\rGenerating translations:  87%|████████▋ | 1392/1598 [06:47<01:14,  2.76it/s]"
          ]
        },
        {
          "output_type": "stream",
          "name": "stdout",
          "text": [
            "Warning: Empty prediction for input: A few people had gathered there.\n"
          ]
        },
        {
          "output_type": "stream",
          "name": "stderr",
          "text": [
            "\rGenerating translations:  87%|████████▋ | 1393/1598 [06:47<01:25,  2.39it/s]"
          ]
        },
        {
          "output_type": "stream",
          "name": "stdout",
          "text": [
            "Warning: Empty prediction for input: In the first round of voting, LCR presidential candidate Olivier Besancenot made it clear that he would vote for Chirac and urged others to do likewise.\n"
          ]
        },
        {
          "output_type": "stream",
          "name": "stderr",
          "text": [
            "\rGenerating translations:  87%|████████▋ | 1394/1598 [06:48<01:17,  2.63it/s]"
          ]
        },
        {
          "output_type": "stream",
          "name": "stdout",
          "text": [
            "Warning: Empty prediction for input: Super Actor Award: Mahershala Ali\n"
          ]
        },
        {
          "output_type": "stream",
          "name": "stderr",
          "text": [
            "\rGenerating translations:  87%|████████▋ | 1395/1598 [06:48<01:11,  2.85it/s]"
          ]
        },
        {
          "output_type": "stream",
          "name": "stdout",
          "text": [
            "Warning: Empty prediction for input: Events since September 11 have shown that no Arab regime is truly independent of imperialist domination.\n"
          ]
        },
        {
          "output_type": "stream",
          "name": "stderr",
          "text": [
            "\rGenerating translations:  87%|████████▋ | 1396/1598 [06:48<01:04,  3.14it/s]"
          ]
        },
        {
          "output_type": "stream",
          "name": "stdout",
          "text": [
            "Warning: Empty prediction for input: One of them will be female.\n"
          ]
        },
        {
          "output_type": "stream",
          "name": "stderr",
          "text": [
            "\rGenerating translations:  87%|████████▋ | 1397/1598 [06:48<01:01,  3.25it/s]"
          ]
        },
        {
          "output_type": "stream",
          "name": "stdout",
          "text": [
            "Warning: Empty prediction for input: The president has said that our diaspora is an integral part of our transformative journey.\n"
          ]
        },
        {
          "output_type": "stream",
          "name": "stderr",
          "text": [
            "\rGenerating translations:  87%|████████▋ | 1398/1598 [06:49<00:59,  3.36it/s]"
          ]
        },
        {
          "output_type": "stream",
          "name": "stdout",
          "text": [
            "Warning: Empty prediction for input: Opposition parties, including the Congress, are supporting the farmers.\n"
          ]
        },
        {
          "output_type": "stream",
          "name": "stderr",
          "text": [
            "\rGenerating translations:  88%|████████▊ | 1399/1598 [06:49<01:01,  3.26it/s]"
          ]
        },
        {
          "output_type": "stream",
          "name": "stdout",
          "text": [
            "Warning: Empty prediction for input: A lesson for us: The time when Assyrians threatened Jerusalem, it would be like the time when Psalm 46 was written.\n"
          ]
        },
        {
          "output_type": "stream",
          "name": "stderr",
          "text": [
            "\rGenerating translations:  88%|████████▊ | 1400/1598 [06:49<00:56,  3.48it/s]"
          ]
        },
        {
          "output_type": "stream",
          "name": "stdout",
          "text": [
            "Warning: Empty prediction for input: Sharjah Police are investigating the incident.\n"
          ]
        },
        {
          "output_type": "stream",
          "name": "stderr",
          "text": [
            "\rGenerating translations:  88%|████████▊ | 1401/1598 [06:50<01:09,  2.84it/s]"
          ]
        },
        {
          "output_type": "stream",
          "name": "stdout",
          "text": [
            "Warning: Empty prediction for input: And say, do what [you think] do, for Allah will sing your deeds in your eyes, [and] His Messenger and the believers will sing. And he'll send you back to someone he knows unseen and the witnessed, and he'll tell you what you're doing.\n"
          ]
        },
        {
          "output_type": "stream",
          "name": "stderr",
          "text": [
            "\rGenerating translations:  88%|████████▊ | 1402/1598 [06:50<01:07,  2.92it/s]"
          ]
        },
        {
          "output_type": "stream",
          "name": "stdout",
          "text": [
            "Warning: Empty prediction for input: The film was shot in Velivalam village in Thiruvarur district of Tamil Nadu, India.\n"
          ]
        },
        {
          "output_type": "stream",
          "name": "stderr",
          "text": [
            "\rGenerating translations:  88%|████████▊ | 1403/1598 [06:50<01:04,  3.03it/s]"
          ]
        },
        {
          "output_type": "stream",
          "name": "stdout",
          "text": [
            "Warning: Empty prediction for input: Sushil Modi has said that there will be no change in GST rates till revenue stabilise.\n"
          ]
        },
        {
          "output_type": "stream",
          "name": "stderr",
          "text": [
            "\rGenerating translations:  88%|████████▊ | 1404/1598 [06:51<01:16,  2.55it/s]"
          ]
        },
        {
          "output_type": "stream",
          "name": "stdout",
          "text": [
            "Warning: Empty prediction for input: MINERAL SECTOR to increase private investments in mineral sector. To increase growth and employment, and to bring state-of-the-art technology, especially in exploration, they will make structural reforms as follows: introduce seamless composite exploration--mining--production regime. 500 mining blocks will be offered through open and transparent auction process.\n"
          ]
        },
        {
          "output_type": "stream",
          "name": "stderr",
          "text": [
            "\rGenerating translations:  88%|████████▊ | 1405/1598 [06:51<01:07,  2.86it/s]"
          ]
        },
        {
          "output_type": "stream",
          "name": "stdout",
          "text": [
            "Warning: Empty prediction for input: None of them got coronavirus.\n"
          ]
        },
        {
          "output_type": "stream",
          "name": "stderr",
          "text": [
            "\rGenerating translations:  88%|████████▊ | 1406/1598 [06:51<01:01,  3.13it/s]"
          ]
        },
        {
          "output_type": "stream",
          "name": "stdout",
          "text": [
            "Warning: Empty prediction for input: Who is this fella?\n"
          ]
        },
        {
          "output_type": "stream",
          "name": "stderr",
          "text": [
            "\rGenerating translations:  88%|████████▊ | 1407/1598 [06:52<00:56,  3.40it/s]"
          ]
        },
        {
          "output_type": "stream",
          "name": "stdout",
          "text": [
            "Warning: Empty prediction for input: One person was injured.\n"
          ]
        },
        {
          "output_type": "stream",
          "name": "stderr",
          "text": [
            "\rGenerating translations:  88%|████████▊ | 1408/1598 [06:52<00:55,  3.40it/s]"
          ]
        },
        {
          "output_type": "stream",
          "name": "stdout",
          "text": [
            "Warning: Empty prediction for input: Take care, children are the Lord's inheritance, and the fruit of the belly is His gift.\n"
          ]
        },
        {
          "output_type": "stream",
          "name": "stderr",
          "text": [
            "\rGenerating translations:  88%|████████▊ | 1409/1598 [06:52<00:54,  3.49it/s]"
          ]
        },
        {
          "output_type": "stream",
          "name": "stdout",
          "text": [
            "Warning: Empty prediction for input: See, more than 24,000 houses have been built under this scheme in 2 years.\n"
          ]
        },
        {
          "output_type": "stream",
          "name": "stderr",
          "text": [
            "\rGenerating translations:  88%|████████▊ | 1410/1598 [06:53<00:54,  3.43it/s]"
          ]
        },
        {
          "output_type": "stream",
          "name": "stdout",
          "text": [
            "Warning: Empty prediction for input: Do you know what cytoplasm nucleus is?\n"
          ]
        },
        {
          "output_type": "stream",
          "name": "stderr",
          "text": [
            "\rGenerating translations:  88%|████████▊ | 1411/1598 [06:53<00:51,  3.61it/s]"
          ]
        },
        {
          "output_type": "stream",
          "name": "stdout",
          "text": [
            "Warning: Empty prediction for input: They screamed.\n"
          ]
        },
        {
          "output_type": "stream",
          "name": "stderr",
          "text": [
            "\rGenerating translations:  88%|████████▊ | 1412/1598 [06:53<00:49,  3.76it/s]"
          ]
        },
        {
          "output_type": "stream",
          "name": "stdout",
          "text": [
            "Warning: Empty prediction for input: Are you a little crazy?\n"
          ]
        },
        {
          "output_type": "stream",
          "name": "stderr",
          "text": [
            "\rGenerating translations:  88%|████████▊ | 1413/1598 [06:53<00:47,  3.92it/s]"
          ]
        },
        {
          "output_type": "stream",
          "name": "stdout",
          "text": [
            "Warning: Empty prediction for input: We got into the car.\n"
          ]
        },
        {
          "output_type": "stream",
          "name": "stderr",
          "text": [
            "\rGenerating translations:  88%|████████▊ | 1414/1598 [06:54<00:45,  4.01it/s]"
          ]
        },
        {
          "output_type": "stream",
          "name": "stdout",
          "text": [
            "Warning: Empty prediction for input: From left to right, groups?\n"
          ]
        },
        {
          "output_type": "stream",
          "name": "stderr",
          "text": [
            "\rGenerating translations:  89%|████████▊ | 1415/1598 [06:54<00:44,  4.08it/s]"
          ]
        },
        {
          "output_type": "stream",
          "name": "stdout",
          "text": [
            "Warning: Empty prediction for input: The rest is good.\n"
          ]
        },
        {
          "output_type": "stream",
          "name": "stderr",
          "text": [
            "\rGenerating translations:  89%|████████▊ | 1416/1598 [06:54<00:45,  3.98it/s]"
          ]
        },
        {
          "output_type": "stream",
          "name": "stdout",
          "text": [
            "Warning: Empty prediction for input: Both father and son died in a road accident.\n"
          ]
        },
        {
          "output_type": "stream",
          "name": "stderr",
          "text": [
            "\rGenerating translations:  89%|████████▊ | 1417/1598 [06:54<00:44,  4.02it/s]"
          ]
        },
        {
          "output_type": "stream",
          "name": "stdout",
          "text": [
            "Warning: Empty prediction for input: This will give you a unique flavour.\n"
          ]
        },
        {
          "output_type": "stream",
          "name": "stderr",
          "text": [
            "\rGenerating translations:  89%|████████▊ | 1418/1598 [06:55<00:45,  3.95it/s]"
          ]
        },
        {
          "output_type": "stream",
          "name": "stdout",
          "text": [
            "Warning: Empty prediction for input: But it was Chinese who wrote the first book dedicated to tea making.\n"
          ]
        },
        {
          "output_type": "stream",
          "name": "stderr",
          "text": [
            "\rGenerating translations:  89%|████████▉ | 1419/1598 [06:55<00:47,  3.80it/s]"
          ]
        },
        {
          "output_type": "stream",
          "name": "stdout",
          "text": [
            "Warning: Empty prediction for input: Nayanthara is one of the top-billed female actors in Tamil cinema.\n"
          ]
        },
        {
          "output_type": "stream",
          "name": "stderr",
          "text": [
            "\rGenerating translations:  89%|████████▉ | 1420/1598 [06:55<00:48,  3.64it/s]"
          ]
        },
        {
          "output_type": "stream",
          "name": "stdout",
          "text": [
            "Warning: Empty prediction for input: So, remember. By the grace of Allah, you are neither a soothsayer nor a mad.\n"
          ]
        },
        {
          "output_type": "stream",
          "name": "stderr",
          "text": [
            "\rGenerating translations:  89%|████████▉ | 1421/1598 [06:55<00:47,  3.75it/s]"
          ]
        },
        {
          "output_type": "stream",
          "name": "stdout",
          "text": [
            "Warning: Empty prediction for input: Mutton is available for 200 rupees.\n"
          ]
        },
        {
          "output_type": "stream",
          "name": "stderr",
          "text": [
            "\rGenerating translations:  89%|████████▉ | 1422/1598 [06:56<00:46,  3.81it/s]"
          ]
        },
        {
          "output_type": "stream",
          "name": "stdout",
          "text": [
            "Warning: Empty prediction for input: Is there anything more worrying than this?\n"
          ]
        },
        {
          "output_type": "stream",
          "name": "stderr",
          "text": [
            "\rGenerating translations:  89%|████████▉ | 1423/1598 [06:56<00:44,  3.92it/s]"
          ]
        },
        {
          "output_type": "stream",
          "name": "stdout",
          "text": [
            "Warning: Empty prediction for input: I'm gone.\n"
          ]
        },
        {
          "output_type": "stream",
          "name": "stderr",
          "text": [
            "\rGenerating translations:  89%|████████▉ | 1424/1598 [06:56<00:46,  3.71it/s]"
          ]
        },
        {
          "output_type": "stream",
          "name": "stdout",
          "text": [
            "Warning: Empty prediction for input: The table and diagram below show a 7.49% increase in the retention rate in five years from 2010-11.\n"
          ]
        },
        {
          "output_type": "stream",
          "name": "stderr",
          "text": [
            "\rGenerating translations:  89%|████████▉ | 1425/1598 [06:56<00:44,  3.90it/s]"
          ]
        },
        {
          "output_type": "stream",
          "name": "stdout",
          "text": [
            "Warning: Empty prediction for input: We are all acting.\n"
          ]
        },
        {
          "output_type": "stream",
          "name": "stderr",
          "text": [
            "\rGenerating translations:  89%|████████▉ | 1426/1598 [06:57<00:50,  3.42it/s]"
          ]
        },
        {
          "output_type": "stream",
          "name": "stdout",
          "text": [
            "Warning: Empty prediction for input: Thirukodigavalla Thirukodeeswarar Temple is a Hindu temple in Thiruvithamarudur Taluk, Thanjavur District, India.\n"
          ]
        },
        {
          "output_type": "stream",
          "name": "stderr",
          "text": [
            "\rGenerating translations:  89%|████████▉ | 1427/1598 [06:57<00:49,  3.46it/s]"
          ]
        },
        {
          "output_type": "stream",
          "name": "stdout",
          "text": [
            "Warning: Empty prediction for input: In that day you will only know the truth and no secrets of yours will be hidden.\n"
          ]
        },
        {
          "output_type": "stream",
          "name": "stderr",
          "text": [
            "\rGenerating translations:  89%|████████▉ | 1428/1598 [06:57<00:45,  3.70it/s]"
          ]
        },
        {
          "output_type": "stream",
          "name": "stdout",
          "text": [
            "Warning: Empty prediction for input: This is Chennai.\n"
          ]
        },
        {
          "output_type": "stream",
          "name": "stderr",
          "text": [
            "\rGenerating translations:  89%|████████▉ | 1429/1598 [06:58<00:49,  3.39it/s]"
          ]
        },
        {
          "output_type": "stream",
          "name": "stdout",
          "text": [
            "Warning: Empty prediction for input: In Maharashtra, BJP-Shiv Sena and Congress-NCP clashed.\n"
          ]
        },
        {
          "output_type": "stream",
          "name": "stderr",
          "text": [
            "\rGenerating translations:  89%|████████▉ | 1430/1598 [06:58<00:59,  2.81it/s]"
          ]
        },
        {
          "output_type": "stream",
          "name": "stdout",
          "text": [
            "Warning: Empty prediction for input: Yes. When you are in the eighth grade, the school (school) has a book given to you as a gift. Send it?\n"
          ]
        },
        {
          "output_type": "stream",
          "name": "stderr",
          "text": [
            "\rGenerating translations:  90%|████████▉ | 1431/1598 [06:58<00:57,  2.90it/s]"
          ]
        },
        {
          "output_type": "stream",
          "name": "stdout",
          "text": [
            "Warning: Empty prediction for input: By evening they were released.\n"
          ]
        },
        {
          "output_type": "stream",
          "name": "stderr",
          "text": [
            "\rGenerating translations:  90%|████████▉ | 1432/1598 [06:59<00:59,  2.79it/s]"
          ]
        },
        {
          "output_type": "stream",
          "name": "stdout",
          "text": [
            "Warning: Empty prediction for input: Prime Minister Narendra Modi speaking at an event in Delhi | PTI\n"
          ]
        },
        {
          "output_type": "stream",
          "name": "stderr",
          "text": [
            "\rGenerating translations:  90%|████████▉ | 1433/1598 [06:59<00:58,  2.80it/s]"
          ]
        },
        {
          "output_type": "stream",
          "name": "stdout",
          "text": [
            "Warning: Empty prediction for input: He died on the way to the hospital.\n"
          ]
        },
        {
          "output_type": "stream",
          "name": "stderr",
          "text": [
            "\rGenerating translations:  90%|████████▉ | 1434/1598 [07:00<01:08,  2.41it/s]"
          ]
        },
        {
          "output_type": "stream",
          "name": "stdout",
          "text": [
            "Warning: Empty prediction for input: The seeds certified in this wing are guaranteed seed qualities as per the Indian Minimum Seed Certification Standards (IMSCS) – germination, physical purity, genetic purity and seed health.\n"
          ]
        },
        {
          "output_type": "stream",
          "name": "stderr",
          "text": [
            "\rGenerating translations:  90%|████████▉ | 1435/1598 [07:00<01:04,  2.51it/s]"
          ]
        },
        {
          "output_type": "stream",
          "name": "stdout",
          "text": [
            "Warning: Empty prediction for input: I was afraid they would kill him.\n"
          ]
        },
        {
          "output_type": "stream",
          "name": "stderr",
          "text": [
            "\rGenerating translations:  90%|████████▉ | 1436/1598 [07:00<01:04,  2.52it/s]"
          ]
        },
        {
          "output_type": "stream",
          "name": "stdout",
          "text": [
            "Warning: Empty prediction for input: Hand-made locks will be completely removed from the existing 14.5% VAT.\n"
          ]
        },
        {
          "output_type": "stream",
          "name": "stderr",
          "text": [
            "\rGenerating translations:  90%|████████▉ | 1437/1598 [07:01<01:04,  2.48it/s]"
          ]
        },
        {
          "output_type": "stream",
          "name": "stdout",
          "text": [
            "Warning: Empty prediction for input: The moral lessons to be learned from this are different, depending on the context in which it is being said.\n"
          ]
        },
        {
          "output_type": "stream",
          "name": "stderr",
          "text": [
            "\rGenerating translations:  90%|████████▉ | 1438/1598 [07:01<00:56,  2.81it/s]"
          ]
        },
        {
          "output_type": "stream",
          "name": "stdout",
          "text": [
            "Warning: Empty prediction for input: That's how revenue is generated.\n"
          ]
        },
        {
          "output_type": "stream",
          "name": "stderr",
          "text": [
            "\rGenerating translations:  90%|█████████ | 1439/1598 [07:01<00:54,  2.91it/s]"
          ]
        },
        {
          "output_type": "stream",
          "name": "stdout",
          "text": [
            "Warning: Empty prediction for input: This affection and closeness will always give me strength or strength, and your love and affection will give me energy and revitalize.\n"
          ]
        },
        {
          "output_type": "stream",
          "name": "stderr",
          "text": [
            "\rGenerating translations:  90%|█████████ | 1440/1598 [07:02<00:49,  3.20it/s]"
          ]
        },
        {
          "output_type": "stream",
          "name": "stdout",
          "text": [
            "Warning: Empty prediction for input: A lot of people lose their jobs.\n"
          ]
        },
        {
          "output_type": "stream",
          "name": "stderr",
          "text": [
            "\rGenerating translations:  90%|█████████ | 1441/1598 [07:02<00:44,  3.55it/s]"
          ]
        },
        {
          "output_type": "stream",
          "name": "stdout",
          "text": [
            "Warning: Empty prediction for input: California wildfire\n"
          ]
        },
        {
          "output_type": "stream",
          "name": "stderr",
          "text": [
            "\rGenerating translations:  90%|█████████ | 1442/1598 [07:02<00:41,  3.72it/s]"
          ]
        },
        {
          "output_type": "stream",
          "name": "stdout",
          "text": [
            "Warning: Empty prediction for input: Ajay said.\n"
          ]
        },
        {
          "output_type": "stream",
          "name": "stderr",
          "text": [
            "\rGenerating translations:  90%|█████████ | 1443/1598 [07:03<00:48,  3.22it/s]"
          ]
        },
        {
          "output_type": "stream",
          "name": "stdout",
          "text": [
            "Warning: Empty prediction for input: According to the Office of Fair Trading (OFT), consumer credit in the UK has increased by more than 60 percent in the last four years. Also, at the moment, the average person has an unsecured debt of $3,700.\n"
          ]
        },
        {
          "output_type": "stream",
          "name": "stderr",
          "text": [
            "\rGenerating translations:  90%|█████████ | 1444/1598 [07:03<00:45,  3.36it/s]"
          ]
        },
        {
          "output_type": "stream",
          "name": "stdout",
          "text": [
            "Warning: Empty prediction for input: I don't know where, I don't know how.\n"
          ]
        },
        {
          "output_type": "stream",
          "name": "stderr",
          "text": [
            "\rGenerating translations:  90%|█████████ | 1445/1598 [07:03<00:45,  3.36it/s]"
          ]
        },
        {
          "output_type": "stream",
          "name": "stdout",
          "text": [
            "Warning: Empty prediction for input: The incident took place at the Government General Hospital in Anantapur, Andhra Pradesh.\n"
          ]
        },
        {
          "output_type": "stream",
          "name": "stderr",
          "text": [
            "\rGenerating translations:  90%|█████████ | 1446/1598 [07:03<00:43,  3.51it/s]"
          ]
        },
        {
          "output_type": "stream",
          "name": "stdout",
          "text": [
            "Warning: Empty prediction for input: Trump was named Time magazine's Person of the Year.\n"
          ]
        },
        {
          "output_type": "stream",
          "name": "stderr",
          "text": [
            "\rGenerating translations:  91%|█████████ | 1447/1598 [07:04<00:41,  3.68it/s]"
          ]
        },
        {
          "output_type": "stream",
          "name": "stdout",
          "text": [
            "Warning: Empty prediction for input: The results have not been published yet.\n"
          ]
        },
        {
          "output_type": "stream",
          "name": "stderr",
          "text": [
            "\rGenerating translations:  91%|█████████ | 1448/1598 [07:04<00:44,  3.39it/s]"
          ]
        },
        {
          "output_type": "stream",
          "name": "stdout",
          "text": [
            "Warning: Empty prediction for input: Martin Akanbiemu, former curator of the National Museum in Lagos, writes: The guild of wood carvers... I feel pretty old working for the OBA.\n"
          ]
        },
        {
          "output_type": "stream",
          "name": "stderr",
          "text": [
            "\rGenerating translations:  91%|█████████ | 1449/1598 [07:04<00:40,  3.65it/s]"
          ]
        },
        {
          "output_type": "stream",
          "name": "stdout",
          "text": [
            "Warning: Empty prediction for input: Understand this first.\n"
          ]
        },
        {
          "output_type": "stream",
          "name": "stderr",
          "text": [
            "\rGenerating translations:  91%|█████████ | 1450/1598 [07:04<00:41,  3.55it/s]"
          ]
        },
        {
          "output_type": "stream",
          "name": "stdout",
          "text": [
            "Warning: Empty prediction for input: The World Bank Study estimates that pirates received $413 million (U.S.) ransom money from those criminal acts.\n"
          ]
        },
        {
          "output_type": "stream",
          "name": "stderr",
          "text": [
            "\rGenerating translations:  91%|█████████ | 1451/1598 [07:05<00:40,  3.65it/s]"
          ]
        },
        {
          "output_type": "stream",
          "name": "stdout",
          "text": [
            "Warning: Empty prediction for input: AIADMK is said to get 9 seats.\n"
          ]
        },
        {
          "output_type": "stream",
          "name": "stderr",
          "text": [
            "\rGenerating translations:  91%|█████████ | 1452/1598 [07:05<00:38,  3.76it/s]"
          ]
        },
        {
          "output_type": "stream",
          "name": "stdout",
          "text": [
            "Warning: Empty prediction for input: Let's see what we can do.\n"
          ]
        },
        {
          "output_type": "stream",
          "name": "stderr",
          "text": [
            "\rGenerating translations:  91%|█████████ | 1453/1598 [07:05<00:37,  3.83it/s]"
          ]
        },
        {
          "output_type": "stream",
          "name": "stdout",
          "text": [
            "Warning: Empty prediction for input: What gift are you going to buy him?\n"
          ]
        },
        {
          "output_type": "stream",
          "name": "stderr",
          "text": [
            "\rGenerating translations:  91%|█████████ | 1454/1598 [07:05<00:36,  3.90it/s]"
          ]
        },
        {
          "output_type": "stream",
          "name": "stdout",
          "text": [
            "Warning: Empty prediction for input: But none of them escaped with injuries.\n"
          ]
        },
        {
          "output_type": "stream",
          "name": "stderr",
          "text": [
            "\rGenerating translations:  91%|█████████ | 1455/1598 [07:06<00:36,  3.88it/s]"
          ]
        },
        {
          "output_type": "stream",
          "name": "stdout",
          "text": [
            "Warning: Empty prediction for input: I don't know what automatic (VPN) is.\n"
          ]
        },
        {
          "output_type": "stream",
          "name": "stderr",
          "text": [
            "\rGenerating translations:  91%|█████████ | 1456/1598 [07:06<00:36,  3.89it/s]"
          ]
        },
        {
          "output_type": "stream",
          "name": "stdout",
          "text": [
            "Warning: Empty prediction for input: They need your help to acquire and preserve their Christian identity.\n"
          ]
        },
        {
          "output_type": "stream",
          "name": "stderr",
          "text": [
            "\rGenerating translations:  91%|█████████ | 1457/1598 [07:06<00:40,  3.45it/s]"
          ]
        },
        {
          "output_type": "stream",
          "name": "stdout",
          "text": [
            "Warning: Empty prediction for input: These astrologers came from the eastern regions, probably from the occult worship's center, Unholy Babylon, where they worshipped false gods.\n"
          ]
        },
        {
          "output_type": "stream",
          "name": "stderr",
          "text": [
            "\rGenerating translations:  91%|█████████ | 1458/1598 [07:07<00:40,  3.43it/s]"
          ]
        },
        {
          "output_type": "stream",
          "name": "stdout",
          "text": [
            "Warning: Empty prediction for input: You know about 2019! I don't know what you're thinking! What do you think about 2019?\n"
          ]
        },
        {
          "output_type": "stream",
          "name": "stderr",
          "text": [
            "\rGenerating translations:  91%|█████████▏| 1459/1598 [07:07<00:40,  3.45it/s]"
          ]
        },
        {
          "output_type": "stream",
          "name": "stdout",
          "text": [
            "Warning: Empty prediction for input: If you keep the receipt safe and bring the tops within a week, we will change it.\n"
          ]
        },
        {
          "output_type": "stream",
          "name": "stderr",
          "text": [
            "\rGenerating translations:  91%|█████████▏| 1460/1598 [07:07<00:41,  3.30it/s]"
          ]
        },
        {
          "output_type": "stream",
          "name": "stdout",
          "text": [
            "Warning: Empty prediction for input: Nationals coming from United Arab Emirates, Qatar, Oman, Kuwait, or transiting there, must be in 14-day quarantine.\n"
          ]
        },
        {
          "output_type": "stream",
          "name": "stderr",
          "text": [
            "\rGenerating translations:  91%|█████████▏| 1461/1598 [07:08<00:38,  3.53it/s]"
          ]
        },
        {
          "output_type": "stream",
          "name": "stdout",
          "text": [
            "Warning: Empty prediction for input: Don't tell me the price.\n"
          ]
        },
        {
          "output_type": "stream",
          "name": "stderr",
          "text": [
            "\rGenerating translations:  91%|█████████▏| 1462/1598 [07:08<00:37,  3.63it/s]"
          ]
        },
        {
          "output_type": "stream",
          "name": "stdout",
          "text": [
            "Warning: Empty prediction for input: Isn't this hard work for you?\n"
          ]
        },
        {
          "output_type": "stream",
          "name": "stderr",
          "text": [
            "\rGenerating translations:  92%|█████████▏| 1463/1598 [07:08<00:39,  3.42it/s]"
          ]
        },
        {
          "output_type": "stream",
          "name": "stdout",
          "text": [
            "Warning: Empty prediction for input: On Sunday, the second day of the flood, an appeal was sent to all the congregations in Kingston asking for help with food, clothing and drinking water.\n"
          ]
        },
        {
          "output_type": "stream",
          "name": "stderr",
          "text": [
            "\rGenerating translations:  92%|█████████▏| 1464/1598 [07:08<00:36,  3.63it/s]"
          ]
        },
        {
          "output_type": "stream",
          "name": "stdout",
          "text": [
            "Warning: Empty prediction for input: He stopped working.\n"
          ]
        },
        {
          "output_type": "stream",
          "name": "stderr",
          "text": [
            "\rGenerating translations:  92%|█████████▏| 1465/1598 [07:09<00:37,  3.59it/s]"
          ]
        },
        {
          "output_type": "stream",
          "name": "stdout",
          "text": [
            "Warning: Empty prediction for input: Then Jesus answered them, The people of this world marry, and they are married:\n"
          ]
        },
        {
          "output_type": "stream",
          "name": "stderr",
          "text": [
            "\rGenerating translations:  92%|█████████▏| 1466/1598 [07:09<00:35,  3.67it/s]"
          ]
        },
        {
          "output_type": "stream",
          "name": "stdout",
          "text": [
            "Warning: Empty prediction for input: Add half a cup of vinegar to it.\n"
          ]
        },
        {
          "output_type": "stream",
          "name": "stderr",
          "text": [
            "\rGenerating translations:  92%|█████████▏| 1467/1598 [07:09<00:34,  3.84it/s]"
          ]
        },
        {
          "output_type": "stream",
          "name": "stdout",
          "text": [
            "Warning: Empty prediction for input: How did I endure?\n"
          ]
        },
        {
          "output_type": "stream",
          "name": "stderr",
          "text": [
            "\rGenerating translations:  92%|█████████▏| 1468/1598 [07:09<00:34,  3.74it/s]"
          ]
        },
        {
          "output_type": "stream",
          "name": "stdout",
          "text": [
            "Warning: Empty prediction for input: For example, they pump out the excess molecules and the concentration is different.\n"
          ]
        },
        {
          "output_type": "stream",
          "name": "stderr",
          "text": [
            "\rGenerating translations:  92%|█████████▏| 1469/1598 [07:10<00:33,  3.83it/s]"
          ]
        },
        {
          "output_type": "stream",
          "name": "stdout",
          "text": [
            "Warning: Empty prediction for input: There were six teams in the competition.\n"
          ]
        },
        {
          "output_type": "stream",
          "name": "stderr",
          "text": [
            "\rGenerating translations:  92%|█████████▏| 1470/1598 [07:10<00:37,  3.38it/s]"
          ]
        },
        {
          "output_type": "stream",
          "name": "stdout",
          "text": [
            "Warning: Empty prediction for input: We have seen elephants, tigers, lions, rhinoceros, bears and many other animals. It was nice to see the tiger lying on the tree.\n"
          ]
        },
        {
          "output_type": "stream",
          "name": "stderr",
          "text": [
            "\rGenerating translations:  92%|█████████▏| 1471/1598 [07:10<00:37,  3.40it/s]"
          ]
        },
        {
          "output_type": "stream",
          "name": "stdout",
          "text": [
            "Warning: Empty prediction for input: In 277 regulated markets, 2.2.\n"
          ]
        },
        {
          "output_type": "stream",
          "name": "stderr",
          "text": [
            "\rGenerating translations:  92%|█████████▏| 1472/1598 [07:11<00:37,  3.38it/s]"
          ]
        },
        {
          "output_type": "stream",
          "name": "stdout",
          "text": [
            "Warning: Empty prediction for input: Okay. Both of you can share and eat. Where is your mother late? Are they sick?\n"
          ]
        },
        {
          "output_type": "stream",
          "name": "stderr",
          "text": [
            "\rGenerating translations:  92%|█████████▏| 1473/1598 [07:11<00:36,  3.40it/s]"
          ]
        },
        {
          "output_type": "stream",
          "name": "stdout",
          "text": [
            "Warning: Empty prediction for input: Bharathiraja solomonised their wedding.\n"
          ]
        },
        {
          "output_type": "stream",
          "name": "stderr",
          "text": [
            "\rGenerating translations:  92%|█████████▏| 1474/1598 [07:11<00:40,  3.04it/s]"
          ]
        },
        {
          "output_type": "stream",
          "name": "stdout",
          "text": [
            "Warning: Empty prediction for input: King Abraham passed through the mountains above his donkey on his way to Mount Moriah.\n"
          ]
        },
        {
          "output_type": "stream",
          "name": "stderr",
          "text": [
            "\rGenerating translations:  92%|█████████▏| 1475/1598 [07:12<00:49,  2.47it/s]"
          ]
        },
        {
          "output_type": "stream",
          "name": "stdout",
          "text": [
            "Warning: Empty prediction for input: In ancient times, when God ordained people in Israel to be custodian, he warned his people not to be in the close association of the degraded nations around them.\n"
          ]
        },
        {
          "output_type": "stream",
          "name": "stderr",
          "text": [
            "\rGenerating translations:  92%|█████████▏| 1476/1598 [07:12<00:47,  2.55it/s]"
          ]
        },
        {
          "output_type": "stream",
          "name": "stdout",
          "text": [
            "Warning: Empty prediction for input: 1.2 Planting of Mega Trees\n"
          ]
        },
        {
          "output_type": "stream",
          "name": "stderr",
          "text": [
            "\rGenerating translations:  92%|█████████▏| 1477/1598 [07:13<00:48,  2.52it/s]"
          ]
        },
        {
          "output_type": "stream",
          "name": "stdout",
          "text": [
            "Warning: Empty prediction for input: The Railway Board has approved restructuring in the Modi cabinet.\n"
          ]
        },
        {
          "output_type": "stream",
          "name": "stderr",
          "text": [
            "\rGenerating translations:  92%|█████████▏| 1478/1598 [07:13<00:47,  2.54it/s]"
          ]
        },
        {
          "output_type": "stream",
          "name": "stdout",
          "text": [
            "Warning: Empty prediction for input: But now the number of couples going to the divorce court is increasing.\n"
          ]
        },
        {
          "output_type": "stream",
          "name": "stderr",
          "text": [
            "\rGenerating translations:  93%|█████████▎| 1479/1598 [07:13<00:44,  2.69it/s]"
          ]
        },
        {
          "output_type": "stream",
          "name": "stdout",
          "text": [
            "Warning: Empty prediction for input: What can we expect?\n"
          ]
        },
        {
          "output_type": "stream",
          "name": "stderr",
          "text": [
            "\rGenerating translations:  93%|█████████▎| 1480/1598 [07:14<00:45,  2.62it/s]"
          ]
        },
        {
          "output_type": "stream",
          "name": "stdout",
          "text": [
            "Warning: Empty prediction for input: The incident took place in Dhaka's Jigatala area.\n"
          ]
        },
        {
          "output_type": "stream",
          "name": "stderr",
          "text": [
            "\rGenerating translations:  93%|█████████▎| 1481/1598 [07:14<00:49,  2.38it/s]"
          ]
        },
        {
          "output_type": "stream",
          "name": "stdout",
          "text": [
            "Warning: Empty prediction for input: Yes. You will get a scholarship from your father's income. Ask the clerk in the office. They'll tell you all the details.\n"
          ]
        },
        {
          "output_type": "stream",
          "name": "stderr",
          "text": [
            "\rGenerating translations:  93%|█████████▎| 1482/1598 [07:15<00:48,  2.38it/s]"
          ]
        },
        {
          "output_type": "stream",
          "name": "stdout",
          "text": [
            "Warning: Empty prediction for input: Both parties are fully committed to the economic restructuring policy that over the past decade has created the worst social consequences for working class, small farmers and businessmen, creating a huge gulf between rich and poor.\n"
          ]
        },
        {
          "output_type": "stream",
          "name": "stderr",
          "text": [
            "\rGenerating translations:  93%|█████████▎| 1483/1598 [07:15<00:43,  2.63it/s]"
          ]
        },
        {
          "output_type": "stream",
          "name": "stdout",
          "text": [
            "Warning: Empty prediction for input: Further, action is being taken to auction such properties as and when required.\n"
          ]
        },
        {
          "output_type": "stream",
          "name": "stderr",
          "text": [
            "\rGenerating translations:  93%|█████████▎| 1484/1598 [07:15<00:41,  2.76it/s]"
          ]
        },
        {
          "output_type": "stream",
          "name": "stdout",
          "text": [
            "Warning: Empty prediction for input: Four in Kolkata and Howrah, two in North 24 Parganas, and one in Hooghly.\n"
          ]
        },
        {
          "output_type": "stream",
          "name": "stderr",
          "text": [
            "\rGenerating translations:  93%|█████████▎| 1485/1598 [07:16<00:38,  2.96it/s]"
          ]
        },
        {
          "output_type": "stream",
          "name": "stdout",
          "text": [
            "Warning: Empty prediction for input: They expect the makers to make the official announcement of the film very soon.\n"
          ]
        },
        {
          "output_type": "stream",
          "name": "stderr",
          "text": [
            "\rGenerating translations:  93%|█████████▎| 1486/1598 [07:16<00:36,  3.09it/s]"
          ]
        },
        {
          "output_type": "stream",
          "name": "stdout",
          "text": [
            "Warning: Empty prediction for input: How does the Law show that we should treat others the way we would expect all of us to do?\n"
          ]
        },
        {
          "output_type": "stream",
          "name": "stderr",
          "text": [
            "\rGenerating translations:  93%|█████████▎| 1487/1598 [07:16<00:36,  3.03it/s]"
          ]
        },
        {
          "output_type": "stream",
          "name": "stdout",
          "text": [
            "Warning: Empty prediction for input: I thought I'd go for a walk too. But I can't. The doctor (doctor) will be late at night to come home after seeing everyone.\n"
          ]
        },
        {
          "output_type": "stream",
          "name": "stderr",
          "text": [
            "\rGenerating translations:  93%|█████████▎| 1488/1598 [07:17<00:33,  3.26it/s]"
          ]
        },
        {
          "output_type": "stream",
          "name": "stdout",
          "text": [
            "Warning: Empty prediction for input: He left the BJP and joined the Congress.\n"
          ]
        },
        {
          "output_type": "stream",
          "name": "stderr",
          "text": [
            "\rGenerating translations:  93%|█████████▎| 1489/1598 [07:17<00:32,  3.37it/s]"
          ]
        },
        {
          "output_type": "stream",
          "name": "stdout",
          "text": [
            "Warning: Empty prediction for input: Cars, lorries and buses are allowed.\n"
          ]
        },
        {
          "output_type": "stream",
          "name": "stderr",
          "text": [
            "\rGenerating translations:  93%|█████████▎| 1490/1598 [07:17<00:30,  3.52it/s]"
          ]
        },
        {
          "output_type": "stream",
          "name": "stdout",
          "text": [
            "Warning: Empty prediction for input: The future of the students is at stake.\n"
          ]
        },
        {
          "output_type": "stream",
          "name": "stderr",
          "text": [
            "\rGenerating translations:  93%|█████████▎| 1491/1598 [07:17<00:29,  3.67it/s]"
          ]
        },
        {
          "output_type": "stream",
          "name": "stdout",
          "text": [
            "Warning: Empty prediction for input: Twelve people have died in two road accidents.\n"
          ]
        },
        {
          "output_type": "stream",
          "name": "stderr",
          "text": [
            "\rGenerating translations:  93%|█████████▎| 1492/1598 [07:18<00:31,  3.37it/s]"
          ]
        },
        {
          "output_type": "stream",
          "name": "stdout",
          "text": [
            "Warning: Empty prediction for input: If there is heavy rain in Chennai, Kancheepuram and Tiruvallur districts, the low-lying areas will be flooded.\n"
          ]
        },
        {
          "output_type": "stream",
          "name": "stderr",
          "text": [
            "\rGenerating translations:  93%|█████████▎| 1493/1598 [07:18<00:30,  3.47it/s]"
          ]
        },
        {
          "output_type": "stream",
          "name": "stdout",
          "text": [
            "Warning: Empty prediction for input: Police, fire, forest and revenue officials joined the rescue efforts.\n"
          ]
        },
        {
          "output_type": "stream",
          "name": "stderr",
          "text": [
            "\rGenerating translations:  93%|█████████▎| 1494/1598 [07:18<00:29,  3.57it/s]"
          ]
        },
        {
          "output_type": "stream",
          "name": "stdout",
          "text": [
            "Warning: Empty prediction for input: So is Mithun Chakraborty's case.\n"
          ]
        },
        {
          "output_type": "stream",
          "name": "stderr",
          "text": [
            "\rGenerating translations:  94%|█████████▎| 1495/1598 [07:18<00:27,  3.68it/s]"
          ]
        },
        {
          "output_type": "stream",
          "name": "stdout",
          "text": [
            "Warning: Empty prediction for input: Or are we going to miss it?\n"
          ]
        },
        {
          "output_type": "stream",
          "name": "stderr",
          "text": [
            "\rGenerating translations:  94%|█████████▎| 1496/1598 [07:19<00:26,  3.86it/s]"
          ]
        },
        {
          "output_type": "stream",
          "name": "stdout",
          "text": [
            "Warning: Empty prediction for input: We need love.\n"
          ]
        },
        {
          "output_type": "stream",
          "name": "stderr",
          "text": [
            "\rGenerating translations:  94%|█████████▎| 1497/1598 [07:19<00:29,  3.47it/s]"
          ]
        },
        {
          "output_type": "stream",
          "name": "stdout",
          "text": [
            "Warning: Empty prediction for input: Even when our humans are weak, if we ask Jehovah for help, he will strengthen us and help us to do his will.\n"
          ]
        },
        {
          "output_type": "stream",
          "name": "stderr",
          "text": [
            "\rGenerating translations:  94%|█████████▎| 1498/1598 [07:19<00:30,  3.31it/s]"
          ]
        },
        {
          "output_type": "stream",
          "name": "stdout",
          "text": [
            "Warning: Empty prediction for input: The Congress is contesting this election in alliance with the Jharkhand Mukti Morcha and the Rashtriya Janata Dal.\n"
          ]
        },
        {
          "output_type": "stream",
          "name": "stderr",
          "text": [
            "\rGenerating translations:  94%|█████████▍| 1499/1598 [07:20<00:29,  3.33it/s]"
          ]
        },
        {
          "output_type": "stream",
          "name": "stdout",
          "text": [
            "Warning: Empty prediction for input: The total income from the budget for the year 2003-2004 is Rs. 22,665.90 crore.\n"
          ]
        },
        {
          "output_type": "stream",
          "name": "stderr",
          "text": [
            "\rGenerating translations:  94%|█████████▍| 1500/1598 [07:20<00:28,  3.47it/s]"
          ]
        },
        {
          "output_type": "stream",
          "name": "stdout",
          "text": [
            "Warning: Empty prediction for input: It's not right to do that.\n"
          ]
        },
        {
          "output_type": "stream",
          "name": "stderr",
          "text": [
            "\rGenerating translations:  94%|█████████▍| 1501/1598 [07:20<00:30,  3.22it/s]"
          ]
        },
        {
          "output_type": "stream",
          "name": "stdout",
          "text": [
            "Warning: Empty prediction for input: He said, \"I don't know if he's Bhavan or not: one thing I know, when I went blind, I'll see it now.\"\n"
          ]
        },
        {
          "output_type": "stream",
          "name": "stderr",
          "text": [
            "\rGenerating translations:  94%|█████████▍| 1502/1598 [07:20<00:27,  3.46it/s]"
          ]
        },
        {
          "output_type": "stream",
          "name": "stdout",
          "text": [
            "Warning: Empty prediction for input: He was told to leave the house.\n"
          ]
        },
        {
          "output_type": "stream",
          "name": "stderr",
          "text": [
            "\rGenerating translations:  94%|█████████▍| 1503/1598 [07:21<00:28,  3.37it/s]"
          ]
        },
        {
          "output_type": "stream",
          "name": "stdout",
          "text": [
            "Warning: Empty prediction for input: Here's a look at the import basket of goods exported by India in 2018-19(P):\n"
          ]
        },
        {
          "output_type": "stream",
          "name": "stderr",
          "text": [
            "\rGenerating translations:  94%|█████████▍| 1504/1598 [07:21<00:27,  3.45it/s]"
          ]
        },
        {
          "output_type": "stream",
          "name": "stdout",
          "text": [
            "Warning: Empty prediction for input: What's wrong with being a double occult?\n"
          ]
        },
        {
          "output_type": "stream",
          "name": "stderr",
          "text": [
            "\rGenerating translations:  94%|█████████▍| 1505/1598 [07:21<00:27,  3.42it/s]"
          ]
        },
        {
          "output_type": "stream",
          "name": "stdout",
          "text": [
            "Warning: Empty prediction for input: After informing the police about the accident, the police reached the spot and shifted the injured to the hospital.\n"
          ]
        },
        {
          "output_type": "stream",
          "name": "stderr",
          "text": [
            "\rGenerating translations:  94%|█████████▍| 1506/1598 [07:22<00:27,  3.35it/s]"
          ]
        },
        {
          "output_type": "stream",
          "name": "stdout",
          "text": [
            "Warning: Empty prediction for input: But, to our surprise, someone had this note on the door: These beautiful home owners, sorry to break the lock.\n"
          ]
        },
        {
          "output_type": "stream",
          "name": "stderr",
          "text": [
            "\rGenerating translations:  94%|█████████▍| 1507/1598 [07:22<00:25,  3.55it/s]"
          ]
        },
        {
          "output_type": "stream",
          "name": "stdout",
          "text": [
            "Warning: Empty prediction for input: Here are the events:\n"
          ]
        },
        {
          "output_type": "stream",
          "name": "stderr",
          "text": [
            "\rGenerating translations:  94%|█████████▍| 1508/1598 [07:22<00:25,  3.56it/s]"
          ]
        },
        {
          "output_type": "stream",
          "name": "stdout",
          "text": [
            "Warning: Empty prediction for input: Till date, 24,271 copies have been made from 27 districts out of 32 districts.\n"
          ]
        },
        {
          "output_type": "stream",
          "name": "stderr",
          "text": [
            "\rGenerating translations:  94%|█████████▍| 1509/1598 [07:22<00:24,  3.63it/s]"
          ]
        },
        {
          "output_type": "stream",
          "name": "stdout",
          "text": [
            "Warning: Empty prediction for input: There's a serious indictment on them.\n"
          ]
        },
        {
          "output_type": "stream",
          "name": "stderr",
          "text": [
            "\rGenerating translations:  94%|█████████▍| 1510/1598 [07:23<00:29,  2.96it/s]"
          ]
        },
        {
          "output_type": "stream",
          "name": "stdout",
          "text": [
            "Warning: Empty prediction for input: Give me half a kilo. Add 1/2 kg of brinjal and half a kilo of okra. The tomatoes are very bad. Is this the case, or is there something good inside?\n"
          ]
        },
        {
          "output_type": "stream",
          "name": "stderr",
          "text": [
            "\rGenerating translations:  95%|█████████▍| 1511/1598 [07:23<00:26,  3.24it/s]"
          ]
        },
        {
          "output_type": "stream",
          "name": "stdout",
          "text": [
            "Warning: Empty prediction for input: The prize for this event is Rs.\n"
          ]
        },
        {
          "output_type": "stream",
          "name": "stderr",
          "text": [
            "\rGenerating translations:  95%|█████████▍| 1512/1598 [07:24<00:28,  3.03it/s]"
          ]
        },
        {
          "output_type": "stream",
          "name": "stdout",
          "text": [
            "Warning: Empty prediction for input: Mary's regular follow-up visits to psycho-health social workers, and they say she can't afford a dark compulsion that has taken her life, it's unthinkable.\n"
          ]
        },
        {
          "output_type": "stream",
          "name": "stderr",
          "text": [
            "\rGenerating translations:  95%|█████████▍| 1513/1598 [07:24<00:27,  3.13it/s]"
          ]
        },
        {
          "output_type": "stream",
          "name": "stdout",
          "text": [
            "Warning: Empty prediction for input: Oh, I see! I am very happy. What gift did you get for your grandfather?\n"
          ]
        },
        {
          "output_type": "stream",
          "name": "stderr",
          "text": [
            "\rGenerating translations:  95%|█████████▍| 1514/1598 [07:24<00:28,  2.97it/s]"
          ]
        },
        {
          "output_type": "stream",
          "name": "stdout",
          "text": [
            "Warning: Empty prediction for input: This illegal trade happens at the international level, all the artifacts are stolen for order. They've found a missing stained glass window at a restaurant in Tokyo.\n"
          ]
        },
        {
          "output_type": "stream",
          "name": "stderr",
          "text": [
            "\rGenerating translations:  95%|█████████▍| 1515/1598 [07:25<00:30,  2.76it/s]"
          ]
        },
        {
          "output_type": "stream",
          "name": "stdout",
          "text": [
            "Warning: Empty prediction for input: Sincere prayer is definitely more effective than worrying and trying as much as you can to solve a problem.\n"
          ]
        },
        {
          "output_type": "stream",
          "name": "stderr",
          "text": [
            "\rGenerating translations:  95%|█████████▍| 1516/1598 [07:25<00:28,  2.87it/s]"
          ]
        },
        {
          "output_type": "stream",
          "name": "stdout",
          "text": [
            "Warning: Empty prediction for input: Out of the park!\n"
          ]
        },
        {
          "output_type": "stream",
          "name": "stderr",
          "text": [
            "\rGenerating translations:  95%|█████████▍| 1517/1598 [07:26<00:32,  2.46it/s]"
          ]
        },
        {
          "output_type": "stream",
          "name": "stdout",
          "text": [
            "Warning: Empty prediction for input: It's true that your views should be present in a very short time, but if you collect information, analyze everything in small groups, do all the hard work, it's not a waste.\n"
          ]
        },
        {
          "output_type": "stream",
          "name": "stderr",
          "text": [
            "\rGenerating translations:  95%|█████████▍| 1518/1598 [07:26<00:32,  2.46it/s]"
          ]
        },
        {
          "output_type": "stream",
          "name": "stdout",
          "text": [
            "Warning: Empty prediction for input: The candidates contesting in the Rajya Sabha polls have been announced by the DMK.\n"
          ]
        },
        {
          "output_type": "stream",
          "name": "stderr",
          "text": [
            "\rGenerating translations:  95%|█████████▌| 1519/1598 [07:26<00:31,  2.54it/s]"
          ]
        },
        {
          "output_type": "stream",
          "name": "stdout",
          "text": [
            "Warning: Empty prediction for input: The wind was so strong that the fire spread very fast.\n"
          ]
        },
        {
          "output_type": "stream",
          "name": "stderr",
          "text": [
            "\rGenerating translations:  95%|█████████▌| 1520/1598 [07:27<00:28,  2.71it/s]"
          ]
        },
        {
          "output_type": "stream",
          "name": "stdout",
          "text": [
            "Warning: Empty prediction for input: The investigation is continuing.\n"
          ]
        },
        {
          "output_type": "stream",
          "name": "stderr",
          "text": [
            "\rGenerating translations:  95%|█████████▌| 1521/1598 [07:27<00:28,  2.67it/s]"
          ]
        },
        {
          "output_type": "stream",
          "name": "stdout",
          "text": [
            "Warning: Empty prediction for input: He said, it's a conspiracy of a political party.\n"
          ]
        },
        {
          "output_type": "stream",
          "name": "stderr",
          "text": [
            "\rGenerating translations:  95%|█████████▌| 1522/1598 [07:27<00:30,  2.51it/s]"
          ]
        },
        {
          "output_type": "stream",
          "name": "stdout",
          "text": [
            "Warning: Empty prediction for input: It is Allah who has sent down the Book in truth and the Path of Justice. The last day of our dreams is now!\n"
          ]
        },
        {
          "output_type": "stream",
          "name": "stderr",
          "text": [
            "\rGenerating translations:  95%|█████████▌| 1523/1598 [07:28<00:28,  2.67it/s]"
          ]
        },
        {
          "output_type": "stream",
          "name": "stdout",
          "text": [
            "Warning: Empty prediction for input: But winning is not an end-point in life.\n"
          ]
        },
        {
          "output_type": "stream",
          "name": "stderr",
          "text": [
            "\rGenerating translations:  95%|█████████▌| 1524/1598 [07:28<00:27,  2.69it/s]"
          ]
        },
        {
          "output_type": "stream",
          "name": "stdout",
          "text": [
            "Warning: Empty prediction for input: Lake Petn Itz in northern Guatemala is best known for the last Maya city Tayasal (or Noh Petn) to defy the Spanish until 1697.\n"
          ]
        },
        {
          "output_type": "stream",
          "name": "stderr",
          "text": [
            "\rGenerating translations:  95%|█████████▌| 1525/1598 [07:28<00:24,  3.03it/s]"
          ]
        },
        {
          "output_type": "stream",
          "name": "stdout",
          "text": [
            "Warning: Empty prediction for input: What will the government do next?\n"
          ]
        },
        {
          "output_type": "stream",
          "name": "stderr",
          "text": [
            "\rGenerating translations:  95%|█████████▌| 1526/1598 [07:29<00:21,  3.36it/s]"
          ]
        },
        {
          "output_type": "stream",
          "name": "stdout",
          "text": [
            "Warning: Empty prediction for input: Others are not.\n"
          ]
        },
        {
          "output_type": "stream",
          "name": "stderr",
          "text": [
            "\rGenerating translations:  96%|█████████▌| 1527/1598 [07:29<00:20,  3.51it/s]"
          ]
        },
        {
          "output_type": "stream",
          "name": "stdout",
          "text": [
            "Warning: Empty prediction for input: District Union wise sale of milk\n"
          ]
        },
        {
          "output_type": "stream",
          "name": "stderr",
          "text": [
            "\rGenerating translations:  96%|█████████▌| 1528/1598 [07:29<00:20,  3.46it/s]"
          ]
        },
        {
          "output_type": "stream",
          "name": "stdout",
          "text": [
            "Warning: Empty prediction for input: We're going to try to buy our place in the reformed UN Security Council.\n"
          ]
        },
        {
          "output_type": "stream",
          "name": "stderr",
          "text": [
            "\rGenerating translations:  96%|█████████▌| 1529/1598 [07:29<00:21,  3.26it/s]"
          ]
        },
        {
          "output_type": "stream",
          "name": "stdout",
          "text": [
            "Warning: Empty prediction for input: According to the latest guidelines, major ports invest their provident and surplus funds in nationalized banks as fixed deposits, earning returns ranging from 5.5 to 8 percent.\n"
          ]
        },
        {
          "output_type": "stream",
          "name": "stderr",
          "text": [
            "\rGenerating translations:  96%|█████████▌| 1530/1598 [07:30<00:19,  3.47it/s]"
          ]
        },
        {
          "output_type": "stream",
          "name": "stdout",
          "text": [
            "Warning: Empty prediction for input: The husband killed his wife.\n"
          ]
        },
        {
          "output_type": "stream",
          "name": "stderr",
          "text": [
            "\rGenerating translations:  96%|█████████▌| 1531/1598 [07:30<00:19,  3.47it/s]"
          ]
        },
        {
          "output_type": "stream",
          "name": "stdout",
          "text": [
            "Warning: Empty prediction for input: The Academy of Motion Picture Arts and Sciences (AMPAS) is an annual Academy Award for Best Director.\n"
          ]
        },
        {
          "output_type": "stream",
          "name": "stderr",
          "text": [
            "\rGenerating translations:  96%|█████████▌| 1532/1598 [07:30<00:18,  3.60it/s]"
          ]
        },
        {
          "output_type": "stream",
          "name": "stdout",
          "text": [
            "Warning: Empty prediction for input: Success will come.\n"
          ]
        },
        {
          "output_type": "stream",
          "name": "stderr",
          "text": [
            "\rGenerating translations:  96%|█████████▌| 1533/1598 [07:31<00:17,  3.73it/s]"
          ]
        },
        {
          "output_type": "stream",
          "name": "stdout",
          "text": [
            "Warning: Empty prediction for input: Who's behind these breaches?\n"
          ]
        },
        {
          "output_type": "stream",
          "name": "stderr",
          "text": [
            "\rGenerating translations:  96%|█████████▌| 1534/1598 [07:31<00:18,  3.53it/s]"
          ]
        },
        {
          "output_type": "stream",
          "name": "stdout",
          "text": [
            "Warning: Empty prediction for input: Because he refused to take oath in the Sixth Amendment, he could not practice as a lawyer.\n"
          ]
        },
        {
          "output_type": "stream",
          "name": "stderr",
          "text": [
            "\rGenerating translations:  96%|█████████▌| 1535/1598 [07:31<00:17,  3.63it/s]"
          ]
        },
        {
          "output_type": "stream",
          "name": "stdout",
          "text": [
            "Warning: Empty prediction for input: This former became an ancestress with Jesus.\n"
          ]
        },
        {
          "output_type": "stream",
          "name": "stderr",
          "text": [
            "\rGenerating translations:  96%|█████████▌| 1536/1598 [07:31<00:16,  3.68it/s]"
          ]
        },
        {
          "output_type": "stream",
          "name": "stdout",
          "text": [
            "Warning: Empty prediction for input: I don't know why this is happening.\n"
          ]
        },
        {
          "output_type": "stream",
          "name": "stderr",
          "text": [
            "\rGenerating translations:  96%|█████████▌| 1537/1598 [07:32<00:16,  3.77it/s]"
          ]
        },
        {
          "output_type": "stream",
          "name": "stdout",
          "text": [
            "Warning: Empty prediction for input: He resigned over corruption charges.\n"
          ]
        },
        {
          "output_type": "stream",
          "name": "stderr",
          "text": [
            "\rGenerating translations:  96%|█████████▌| 1538/1598 [07:32<00:17,  3.49it/s]"
          ]
        },
        {
          "output_type": "stream",
          "name": "stdout",
          "text": [
            "Warning: Empty prediction for input: com/nutshell: In doing this, we're using Sapiens: A brief History of Humankind as one of the major sources.\n"
          ]
        },
        {
          "output_type": "stream",
          "name": "stderr",
          "text": [
            "\rGenerating translations:  96%|█████████▋| 1539/1598 [07:32<00:16,  3.68it/s]"
          ]
        },
        {
          "output_type": "stream",
          "name": "stdout",
          "text": [
            "Warning: Empty prediction for input: I always do this.\n"
          ]
        },
        {
          "output_type": "stream",
          "name": "stderr",
          "text": [
            "\rGenerating translations:  96%|█████████▋| 1540/1598 [07:32<00:15,  3.70it/s]"
          ]
        },
        {
          "output_type": "stream",
          "name": "stdout",
          "text": [
            "Warning: Empty prediction for input: He was very talented, he was kind.\n"
          ]
        },
        {
          "output_type": "stream",
          "name": "stderr",
          "text": [
            "\rGenerating translations:  96%|█████████▋| 1541/1598 [07:33<00:16,  3.55it/s]"
          ]
        },
        {
          "output_type": "stream",
          "name": "stdout",
          "text": [
            "Warning: Empty prediction for input: The family lives in Guwahati's satellite town Ganeshguri, Assam.\n"
          ]
        },
        {
          "output_type": "stream",
          "name": "stderr",
          "text": [
            "\rGenerating translations:  96%|█████████▋| 1542/1598 [07:33<00:15,  3.56it/s]"
          ]
        },
        {
          "output_type": "stream",
          "name": "stdout",
          "text": [
            "Warning: Empty prediction for input: The cause of the fire could not be immediately ascertained.\n"
          ]
        },
        {
          "output_type": "stream",
          "name": "stderr",
          "text": [
            "\rGenerating translations:  97%|█████████▋| 1543/1598 [07:33<00:15,  3.58it/s]"
          ]
        },
        {
          "output_type": "stream",
          "name": "stdout",
          "text": [
            "Warning: Empty prediction for input: \"We're trying to get them all together,\" he said.\n"
          ]
        },
        {
          "output_type": "stream",
          "name": "stderr",
          "text": [
            "\rGenerating translations:  97%|█████████▋| 1544/1598 [07:34<00:16,  3.21it/s]"
          ]
        },
        {
          "output_type": "stream",
          "name": "stdout",
          "text": [
            "Warning: Empty prediction for input: It's not like that. Grandparents, uncles, aunts and their son Karthik had come from the village. We all went to the zoo together and came back late at night.\n"
          ]
        },
        {
          "output_type": "stream",
          "name": "stderr",
          "text": [
            "\rGenerating translations:  97%|█████████▋| 1545/1598 [07:34<00:15,  3.40it/s]"
          ]
        },
        {
          "output_type": "stream",
          "name": "stdout",
          "text": [
            "Warning: Empty prediction for input: Prakash Raj as Ganga Prasad\n"
          ]
        },
        {
          "output_type": "stream",
          "name": "stderr",
          "text": [
            "\rGenerating translations:  97%|█████████▋| 1546/1598 [07:34<00:16,  3.09it/s]"
          ]
        },
        {
          "output_type": "stream",
          "name": "stdout",
          "text": [
            "Warning: Empty prediction for input: District Differently Abled Welfare Officers and State Commissioner for the Differently Abled, State Resource Training Centre Campus, Jawaharlal Nehru Inner Ring Road, K.K. Chennai, Nagar 600\n"
          ]
        },
        {
          "output_type": "stream",
          "name": "stderr",
          "text": [
            "\rGenerating translations:  97%|█████████▋| 1547/1598 [07:35<00:15,  3.36it/s]"
          ]
        },
        {
          "output_type": "stream",
          "name": "stdout",
          "text": [
            "Warning: Empty prediction for input: He is from Tamil Nadu.\n"
          ]
        },
        {
          "output_type": "stream",
          "name": "stderr",
          "text": [
            "\rGenerating translations:  97%|█████████▋| 1548/1598 [07:35<00:14,  3.45it/s]"
          ]
        },
        {
          "output_type": "stream",
          "name": "stdout",
          "text": [
            "Warning: Empty prediction for input: Besides, Brijesh Patel will be the IPL chairman.\n"
          ]
        },
        {
          "output_type": "stream",
          "name": "stderr",
          "text": [
            "\rGenerating translations:  97%|█████████▋| 1549/1598 [07:35<00:13,  3.63it/s]"
          ]
        },
        {
          "output_type": "stream",
          "name": "stdout",
          "text": [
            "Warning: Empty prediction for input: Everything was fine.\n"
          ]
        },
        {
          "output_type": "stream",
          "name": "stderr",
          "text": [
            "\rGenerating translations:  97%|█████████▋| 1550/1598 [07:35<00:13,  3.47it/s]"
          ]
        },
        {
          "output_type": "stream",
          "name": "stdout",
          "text": [
            "Warning: Empty prediction for input: I was cleverly leading my mind... For the children of men, their life is a good thing. Until then.\n"
          ]
        },
        {
          "output_type": "stream",
          "name": "stderr",
          "text": [
            "\rGenerating translations:  97%|█████████▋| 1551/1598 [07:36<00:13,  3.59it/s]"
          ]
        },
        {
          "output_type": "stream",
          "name": "stdout",
          "text": [
            "Warning: Empty prediction for input: I learnt a lot from him.\n"
          ]
        },
        {
          "output_type": "stream",
          "name": "stderr",
          "text": [
            "\rGenerating translations:  97%|█████████▋| 1552/1598 [07:36<00:12,  3.71it/s]"
          ]
        },
        {
          "output_type": "stream",
          "name": "stdout",
          "text": [
            "Warning: Empty prediction for input: The Modi government wants poverty elimination.\n"
          ]
        },
        {
          "output_type": "stream",
          "name": "stderr",
          "text": [
            "\rGenerating translations:  97%|█████████▋| 1553/1598 [07:36<00:12,  3.61it/s]"
          ]
        },
        {
          "output_type": "stream",
          "name": "stdout",
          "text": [
            "Warning: Empty prediction for input: Eluru Lok Sabha Constituency latest updates, news, election results, party, votes, candidates names.\n"
          ]
        },
        {
          "output_type": "stream",
          "name": "stderr",
          "text": [
            "\rGenerating translations:  97%|█████████▋| 1554/1598 [07:37<00:12,  3.57it/s]"
          ]
        },
        {
          "output_type": "stream",
          "name": "stdout",
          "text": [
            "Warning: Empty prediction for input: So, what he means is that my boy always thought he could express himself free.\n"
          ]
        },
        {
          "output_type": "stream",
          "name": "stderr",
          "text": [
            "\rGenerating translations:  97%|█████████▋| 1555/1598 [07:37<00:13,  3.28it/s]"
          ]
        },
        {
          "output_type": "stream",
          "name": "stdout",
          "text": [
            "Warning: Empty prediction for input: As the Bible prophecy says, the time is near. But some people blame God for pollution, saying that man is the only solution, the only hope.\n"
          ]
        },
        {
          "output_type": "stream",
          "name": "stderr",
          "text": [
            "\rGenerating translations:  97%|█████████▋| 1556/1598 [07:37<00:12,  3.39it/s]"
          ]
        },
        {
          "output_type": "stream",
          "name": "stdout",
          "text": [
            "Warning: Empty prediction for input: Former President Pranab Mukherjee passes away\n"
          ]
        },
        {
          "output_type": "stream",
          "name": "stderr",
          "text": [
            "\rGenerating translations:  97%|█████████▋| 1557/1598 [07:37<00:11,  3.64it/s]"
          ]
        },
        {
          "output_type": "stream",
          "name": "stdout",
          "text": [
            "Warning: Empty prediction for input: They have asked the question.\n"
          ]
        },
        {
          "output_type": "stream",
          "name": "stderr",
          "text": [
            "\rGenerating translations:  97%|█████████▋| 1558/1598 [07:38<00:10,  3.74it/s]"
          ]
        },
        {
          "output_type": "stream",
          "name": "stdout",
          "text": [
            "Warning: Empty prediction for input: It's not released yet.\n"
          ]
        },
        {
          "output_type": "stream",
          "name": "stderr",
          "text": [
            "\rGenerating translations:  98%|█████████▊| 1559/1598 [07:38<00:12,  3.17it/s]"
          ]
        },
        {
          "output_type": "stream",
          "name": "stdout",
          "text": [
            "Warning: Empty prediction for input: But young people who want to catch Jehovah need to be careful when using this modern communication method.\n"
          ]
        },
        {
          "output_type": "stream",
          "name": "stderr",
          "text": [
            "\rGenerating translations:  98%|█████████▊| 1560/1598 [07:38<00:12,  3.13it/s]"
          ]
        },
        {
          "output_type": "stream",
          "name": "stdout",
          "text": [
            "Warning: Empty prediction for input: We've all got along.\n"
          ]
        },
        {
          "output_type": "stream",
          "name": "stderr",
          "text": [
            "\rGenerating translations:  98%|█████████▊| 1561/1598 [07:39<00:12,  3.04it/s]"
          ]
        },
        {
          "output_type": "stream",
          "name": "stdout",
          "text": [
            "Warning: Empty prediction for input: They're taking him home.\n"
          ]
        },
        {
          "output_type": "stream",
          "name": "stderr",
          "text": [
            "\rGenerating translations:  98%|█████████▊| 1562/1598 [07:39<00:13,  2.63it/s]"
          ]
        },
        {
          "output_type": "stream",
          "name": "stdout",
          "text": [
            "Warning: Empty prediction for input: The first time diagnose of the anoxia nervosa was in 1873, but it is said that symptoms have been present since 300 years ago.\n"
          ]
        },
        {
          "output_type": "stream",
          "name": "stderr",
          "text": [
            "\rGenerating translations:  98%|█████████▊| 1563/1598 [07:40<00:13,  2.67it/s]"
          ]
        },
        {
          "output_type": "stream",
          "name": "stdout",
          "text": [
            "Warning: Empty prediction for input: I haven't heard from him yet.\n"
          ]
        },
        {
          "output_type": "stream",
          "name": "stderr",
          "text": [
            "\rGenerating translations:  98%|█████████▊| 1564/1598 [07:40<00:11,  2.87it/s]"
          ]
        },
        {
          "output_type": "stream",
          "name": "stdout",
          "text": [
            "Warning: Empty prediction for input: 100 fees.\n"
          ]
        },
        {
          "output_type": "stream",
          "name": "stderr",
          "text": [
            "\rGenerating translations:  98%|█████████▊| 1565/1598 [07:40<00:13,  2.51it/s]"
          ]
        },
        {
          "output_type": "stream",
          "name": "stdout",
          "text": [
            "Warning: Empty prediction for input: You've messed up our ideals, our morals, our faith, our souls. You've seen people like a stepping stone.\n"
          ]
        },
        {
          "output_type": "stream",
          "name": "stderr",
          "text": [
            "\rGenerating translations:  98%|█████████▊| 1566/1598 [07:41<00:13,  2.30it/s]"
          ]
        },
        {
          "output_type": "stream",
          "name": "stdout",
          "text": [
            "Warning: Empty prediction for input: When it comes to Sri Lankan Tamils, you know the mindset of the people in Tamil Nadu and the mindset of Tamils in India and abroad.\n"
          ]
        },
        {
          "output_type": "stream",
          "name": "stderr",
          "text": [
            "Generating translations:  98%|█████████▊| 1568/1598 [07:41<00:09,  3.06it/s]"
          ]
        },
        {
          "output_type": "stream",
          "name": "stdout",
          "text": [
            "Warning: Empty prediction for input: But he didn't agree.\n",
            "Warning: Empty prediction for input: Hi.\n"
          ]
        },
        {
          "output_type": "stream",
          "name": "stderr",
          "text": [
            "\rGenerating translations:  98%|█████████▊| 1569/1598 [07:42<00:08,  3.39it/s]"
          ]
        },
        {
          "output_type": "stream",
          "name": "stdout",
          "text": [
            "Warning: Empty prediction for input: Two people...\n"
          ]
        },
        {
          "output_type": "stream",
          "name": "stderr",
          "text": [
            "\rGenerating translations:  98%|█████████▊| 1570/1598 [07:42<00:07,  3.54it/s]"
          ]
        },
        {
          "output_type": "stream",
          "name": "stdout",
          "text": [
            "Warning: Empty prediction for input: I just say what comes to my mind.\n"
          ]
        },
        {
          "output_type": "stream",
          "name": "stderr",
          "text": [
            "\rGenerating translations:  98%|█████████▊| 1571/1598 [07:42<00:07,  3.65it/s]"
          ]
        },
        {
          "output_type": "stream",
          "name": "stdout",
          "text": [
            "Warning: Empty prediction for input: I don't think there's any problem.\n"
          ]
        },
        {
          "output_type": "stream",
          "name": "stderr",
          "text": [
            "\rGenerating translations:  98%|█████████▊| 1572/1598 [07:42<00:07,  3.48it/s]"
          ]
        },
        {
          "output_type": "stream",
          "name": "stdout",
          "text": [
            "Warning: Empty prediction for input: It was a flight urgent! In time, they migrated into the mountains, and some settled in Pella, Perea province.\n"
          ]
        },
        {
          "output_type": "stream",
          "name": "stderr",
          "text": [
            "\rGenerating translations:  98%|█████████▊| 1573/1598 [07:43<00:06,  3.62it/s]"
          ]
        },
        {
          "output_type": "stream",
          "name": "stdout",
          "text": [
            "Warning: Empty prediction for input: I just froze.\n"
          ]
        },
        {
          "output_type": "stream",
          "name": "stderr",
          "text": [
            "\rGenerating translations:  98%|█████████▊| 1574/1598 [07:43<00:06,  3.75it/s]"
          ]
        },
        {
          "output_type": "stream",
          "name": "stdout",
          "text": [
            "Warning: Empty prediction for input: Why do they choose it?\n"
          ]
        },
        {
          "output_type": "stream",
          "name": "stderr",
          "text": [
            "\rGenerating translations:  99%|█████████▊| 1575/1598 [07:43<00:06,  3.56it/s]"
          ]
        },
        {
          "output_type": "stream",
          "name": "stdout",
          "text": [
            "Warning: Empty prediction for input: Although Asian tsunami is a natural disaster, it is impossible to say how much it has affected the lives of millions of people.\n"
          ]
        },
        {
          "output_type": "stream",
          "name": "stderr",
          "text": [
            "\rGenerating translations:  99%|█████████▊| 1576/1598 [07:43<00:05,  3.85it/s]"
          ]
        },
        {
          "output_type": "stream",
          "name": "stdout",
          "text": [
            "Warning: Empty prediction for input: Dying trees\n"
          ]
        },
        {
          "output_type": "stream",
          "name": "stderr",
          "text": [
            "\rGenerating translations:  99%|█████████▊| 1577/1598 [07:44<00:05,  3.80it/s]"
          ]
        },
        {
          "output_type": "stream",
          "name": "stdout",
          "text": [
            "Warning: Empty prediction for input: But all the operations have stopped.\n"
          ]
        },
        {
          "output_type": "stream",
          "name": "stderr",
          "text": [
            "\rGenerating translations:  99%|█████████▊| 1578/1598 [07:44<00:05,  3.63it/s]"
          ]
        },
        {
          "output_type": "stream",
          "name": "stdout",
          "text": [
            "Warning: Empty prediction for input: At the same time, they are mobilizing forces outside the Sinhala chauvinist organisations parliament.\n"
          ]
        },
        {
          "output_type": "stream",
          "name": "stderr",
          "text": [
            "\rGenerating translations:  99%|█████████▉| 1579/1598 [07:44<00:05,  3.42it/s]"
          ]
        },
        {
          "output_type": "stream",
          "name": "stdout",
          "text": [
            "Warning: Empty prediction for input: Consider what Jesus said in a prayer to his Father: This is the gene of eternal life, to know you, the only true God.\n"
          ]
        },
        {
          "output_type": "stream",
          "name": "stderr",
          "text": [
            "\rGenerating translations:  99%|█████████▉| 1580/1598 [07:45<00:06,  2.74it/s]"
          ]
        },
        {
          "output_type": "stream",
          "name": "stdout",
          "text": [
            "Warning: Empty prediction for input: Kane Williamson (captain), Tom Latham, Tom Blundell, Ross Taylor, Henry Nicholls, BJ Watling, Colin de Grandhomme, Tim Southee, Neil Wagner, Trent Boult, Ajaz Patel, Kyle Jamieson, Daryl Mitchell.\n"
          ]
        },
        {
          "output_type": "stream",
          "name": "stderr",
          "text": [
            "\rGenerating translations:  99%|█████████▉| 1581/1598 [07:45<00:05,  3.03it/s]"
          ]
        },
        {
          "output_type": "stream",
          "name": "stdout",
          "text": [
            "Warning: Empty prediction for input: Tibetan group protests against China in Delhi.\n"
          ]
        },
        {
          "output_type": "stream",
          "name": "stderr",
          "text": [
            "\rGenerating translations:  99%|█████████▉| 1582/1598 [07:45<00:05,  3.08it/s]"
          ]
        },
        {
          "output_type": "stream",
          "name": "stdout",
          "text": [
            "Warning: Empty prediction for input: TVS Apache RR310 is the current flagship model in the Indian bike manufacturer's market.\n"
          ]
        },
        {
          "output_type": "stream",
          "name": "stderr",
          "text": [
            "\rGenerating translations:  99%|█████████▉| 1583/1598 [07:46<00:04,  3.19it/s]"
          ]
        },
        {
          "output_type": "stream",
          "name": "stdout",
          "text": [
            "Warning: Empty prediction for input: Its homonymous capital Valencia is the third largest city and metropolitan area in Spain.\n"
          ]
        },
        {
          "output_type": "stream",
          "name": "stderr",
          "text": [
            "\rGenerating translations:  99%|█████████▉| 1584/1598 [07:46<00:04,  3.29it/s]"
          ]
        },
        {
          "output_type": "stream",
          "name": "stdout",
          "text": [
            "Warning: Empty prediction for input: So, you register for me. The officer was suddenly surprised.\n"
          ]
        },
        {
          "output_type": "stream",
          "name": "stderr",
          "text": [
            "\rGenerating translations:  99%|█████████▉| 1585/1598 [07:46<00:03,  3.27it/s]"
          ]
        },
        {
          "output_type": "stream",
          "name": "stdout",
          "text": [
            "Warning: Empty prediction for input: Of Argentina's 2,500 indigenous animal species, 500 are endangered, according to Buenos Aires newspaper Clarn.\n"
          ]
        },
        {
          "output_type": "stream",
          "name": "stderr",
          "text": [
            "\rGenerating translations:  99%|█████████▉| 1586/1598 [07:47<00:04,  2.70it/s]"
          ]
        },
        {
          "output_type": "stream",
          "name": "stdout",
          "text": [
            "Warning: Empty prediction for input: Then we sent Jesus, son of Mary, through them, confirming what was said in the Torah that preceded him, confirming the Gospel, which had a guiding light, confirming what was said in the previous Torah and guiding the listeners.\n"
          ]
        },
        {
          "output_type": "stream",
          "name": "stderr",
          "text": [
            "\rGenerating translations:  99%|█████████▉| 1587/1598 [07:47<00:03,  2.99it/s]"
          ]
        },
        {
          "output_type": "stream",
          "name": "stdout",
          "text": [
            "Warning: Empty prediction for input: But the man died that afternoon.\n"
          ]
        },
        {
          "output_type": "stream",
          "name": "stderr",
          "text": [
            "\rGenerating translations:  99%|█████████▉| 1588/1598 [07:47<00:03,  3.24it/s]"
          ]
        },
        {
          "output_type": "stream",
          "name": "stdout",
          "text": [
            "Warning: Empty prediction for input: It's a new high.\n"
          ]
        },
        {
          "output_type": "stream",
          "name": "stderr",
          "text": [
            "\rGenerating translations:  99%|█████████▉| 1589/1598 [07:48<00:02,  3.20it/s]"
          ]
        },
        {
          "output_type": "stream",
          "name": "stdout",
          "text": [
            "Warning: Empty prediction for input: If you can't qualify for the CSK team and playoffs in IPL history, that's the first time.\n"
          ]
        },
        {
          "output_type": "stream",
          "name": "stderr",
          "text": [
            "\rGenerating translations:  99%|█████████▉| 1590/1598 [07:48<00:02,  2.98it/s]"
          ]
        },
        {
          "output_type": "stream",
          "name": "stdout",
          "text": [
            "Warning: Empty prediction for input: Do they not understand that if we had wished, we would have punished them for their sins and given them the earth as heirs? We shut their hearts so that they don't hear.\n"
          ]
        },
        {
          "output_type": "stream",
          "name": "stderr",
          "text": [
            "\rGenerating translations: 100%|█████████▉| 1591/1598 [07:48<00:02,  3.00it/s]"
          ]
        },
        {
          "output_type": "stream",
          "name": "stdout",
          "text": [
            "Warning: Empty prediction for input: If they are conscious of their spiritual needs, this is the most important education a person can have. Matthew 5: 3.\n"
          ]
        },
        {
          "output_type": "stream",
          "name": "stderr",
          "text": [
            "\rGenerating translations: 100%|█████████▉| 1592/1598 [07:49<00:01,  3.02it/s]"
          ]
        },
        {
          "output_type": "stream",
          "name": "stdout",
          "text": [
            "Warning: Empty prediction for input: Students studying in Tamil Nadu or any other state in India will be given scholarship, but they should be native Tamil Nadu.\n"
          ]
        },
        {
          "output_type": "stream",
          "name": "stderr",
          "text": [
            "\rGenerating translations: 100%|█████████▉| 1593/1598 [07:49<00:01,  3.21it/s]"
          ]
        },
        {
          "output_type": "stream",
          "name": "stdout",
          "text": [
            "Warning: Empty prediction for input: I got a phone call.\n"
          ]
        },
        {
          "output_type": "stream",
          "name": "stderr",
          "text": [
            "\rGenerating translations: 100%|█████████▉| 1594/1598 [07:49<00:01,  3.13it/s]"
          ]
        },
        {
          "output_type": "stream",
          "name": "stdout",
          "text": [
            "Warning: Empty prediction for input: I have eaten. But the tension (anxiety) comes and the head hurts. Can you go to the canteen for tea?\n"
          ]
        },
        {
          "output_type": "stream",
          "name": "stderr",
          "text": [
            "\rGenerating translations: 100%|█████████▉| 1595/1598 [07:50<00:00,  3.23it/s]"
          ]
        },
        {
          "output_type": "stream",
          "name": "stdout",
          "text": [
            "Warning: Empty prediction for input: Vijay is busy shooting for Atlee's film Bigil.\n"
          ]
        },
        {
          "output_type": "stream",
          "name": "stderr",
          "text": [
            "\rGenerating translations: 100%|█████████▉| 1596/1598 [07:50<00:00,  3.15it/s]"
          ]
        },
        {
          "output_type": "stream",
          "name": "stdout",
          "text": [
            "Warning: Empty prediction for input: Argentina, Uruguay, United States and Yugoslavia all won their respective groups and qualified for semi-finals.\n"
          ]
        },
        {
          "output_type": "stream",
          "name": "stderr",
          "text": [
            "\rGenerating translations: 100%|█████████▉| 1597/1598 [07:50<00:00,  3.30it/s]"
          ]
        },
        {
          "output_type": "stream",
          "name": "stdout",
          "text": [
            "Warning: Empty prediction for input: Hello! Sorry to disturb you. Are you from this college?\n"
          ]
        },
        {
          "output_type": "stream",
          "name": "stderr",
          "text": [
            "Generating translations: 100%|██████████| 1598/1598 [07:50<00:00,  3.39it/s]"
          ]
        },
        {
          "output_type": "stream",
          "name": "stdout",
          "text": [
            "Warning: Empty prediction for input: Two others escaped.\n"
          ]
        },
        {
          "output_type": "stream",
          "name": "stderr",
          "text": [
            "\n"
          ]
        },
        {
          "output_type": "error",
          "ename": "ZeroDivisionError",
          "evalue": "float division by zero",
          "traceback": [
            "\u001b[0;31m---------------------------------------------------------------------------\u001b[0m",
            "\u001b[0;31mZeroDivisionError\u001b[0m                         Traceback (most recent call last)",
            "\u001b[0;32m<ipython-input-8-dfe490ae3a55>\u001b[0m in \u001b[0;36m<cell line: 0>\u001b[0;34m()\u001b[0m\n\u001b[1;32m     45\u001b[0m \u001b[0;34m\u001b[0m\u001b[0m\n\u001b[1;32m     46\u001b[0m \u001b[0;31m# Compute metrics\u001b[0m\u001b[0;34m\u001b[0m\u001b[0;34m\u001b[0m\u001b[0m\n\u001b[0;32m---> 47\u001b[0;31m \u001b[0mbleu_result\u001b[0m \u001b[0;34m=\u001b[0m \u001b[0mbleu\u001b[0m\u001b[0;34m.\u001b[0m\u001b[0mcompute\u001b[0m\u001b[0;34m(\u001b[0m\u001b[0mpredictions\u001b[0m\u001b[0;34m=\u001b[0m\u001b[0mpredictions\u001b[0m\u001b[0;34m,\u001b[0m \u001b[0mreferences\u001b[0m\u001b[0;34m=\u001b[0m\u001b[0;34m[\u001b[0m\u001b[0;34m[\u001b[0m\u001b[0mref\u001b[0m\u001b[0;34m]\u001b[0m \u001b[0;32mfor\u001b[0m \u001b[0mref\u001b[0m \u001b[0;32min\u001b[0m \u001b[0mreferences\u001b[0m\u001b[0;34m]\u001b[0m\u001b[0;34m)\u001b[0m\u001b[0;34m\u001b[0m\u001b[0;34m\u001b[0m\u001b[0m\n\u001b[0m\u001b[1;32m     48\u001b[0m \u001b[0mrouge_result\u001b[0m \u001b[0;34m=\u001b[0m \u001b[0mrouge\u001b[0m\u001b[0;34m.\u001b[0m\u001b[0mcompute\u001b[0m\u001b[0;34m(\u001b[0m\u001b[0mpredictions\u001b[0m\u001b[0;34m=\u001b[0m\u001b[0mpredictions\u001b[0m\u001b[0;34m,\u001b[0m \u001b[0mreferences\u001b[0m\u001b[0;34m=\u001b[0m\u001b[0mreferences\u001b[0m\u001b[0;34m)\u001b[0m\u001b[0;34m\u001b[0m\u001b[0;34m\u001b[0m\u001b[0m\n\u001b[1;32m     49\u001b[0m \u001b[0;34m\u001b[0m\u001b[0m\n",
            "\u001b[0;32m/usr/local/lib/python3.11/dist-packages/evaluate/module.py\u001b[0m in \u001b[0;36mcompute\u001b[0;34m(self, predictions, references, **kwargs)\u001b[0m\n\u001b[1;32m    465\u001b[0m             \u001b[0minputs\u001b[0m \u001b[0;34m=\u001b[0m \u001b[0;34m{\u001b[0m\u001b[0minput_name\u001b[0m\u001b[0;34m:\u001b[0m \u001b[0mself\u001b[0m\u001b[0;34m.\u001b[0m\u001b[0mdata\u001b[0m\u001b[0;34m[\u001b[0m\u001b[0minput_name\u001b[0m\u001b[0;34m]\u001b[0m \u001b[0;32mfor\u001b[0m \u001b[0minput_name\u001b[0m \u001b[0;32min\u001b[0m \u001b[0mself\u001b[0m\u001b[0;34m.\u001b[0m\u001b[0m_feature_names\u001b[0m\u001b[0;34m(\u001b[0m\u001b[0;34m)\u001b[0m\u001b[0;34m}\u001b[0m\u001b[0;34m\u001b[0m\u001b[0;34m\u001b[0m\u001b[0m\n\u001b[1;32m    466\u001b[0m             \u001b[0;32mwith\u001b[0m \u001b[0mtemp_seed\u001b[0m\u001b[0;34m(\u001b[0m\u001b[0mself\u001b[0m\u001b[0;34m.\u001b[0m\u001b[0mseed\u001b[0m\u001b[0;34m)\u001b[0m\u001b[0;34m:\u001b[0m\u001b[0;34m\u001b[0m\u001b[0;34m\u001b[0m\u001b[0m\n\u001b[0;32m--> 467\u001b[0;31m                 \u001b[0moutput\u001b[0m \u001b[0;34m=\u001b[0m \u001b[0mself\u001b[0m\u001b[0;34m.\u001b[0m\u001b[0m_compute\u001b[0m\u001b[0;34m(\u001b[0m\u001b[0;34m**\u001b[0m\u001b[0minputs\u001b[0m\u001b[0;34m,\u001b[0m \u001b[0;34m**\u001b[0m\u001b[0mcompute_kwargs\u001b[0m\u001b[0;34m)\u001b[0m\u001b[0;34m\u001b[0m\u001b[0;34m\u001b[0m\u001b[0m\n\u001b[0m\u001b[1;32m    468\u001b[0m \u001b[0;34m\u001b[0m\u001b[0m\n\u001b[1;32m    469\u001b[0m             \u001b[0;32mif\u001b[0m \u001b[0mself\u001b[0m\u001b[0;34m.\u001b[0m\u001b[0mbuf_writer\u001b[0m \u001b[0;32mis\u001b[0m \u001b[0;32mnot\u001b[0m \u001b[0;32mNone\u001b[0m\u001b[0;34m:\u001b[0m\u001b[0;34m\u001b[0m\u001b[0;34m\u001b[0m\u001b[0m\n",
            "\u001b[0;32m~/.cache/huggingface/modules/evaluate_modules/metrics/evaluate-metric--bleu/9e0985c1200e367cce45605ce0ecb5ede079894e0f24f54613fca08eeb8aff76/bleu.py\u001b[0m in \u001b[0;36m_compute\u001b[0;34m(self, predictions, references, tokenizer, max_order, smooth)\u001b[0m\n\u001b[1;32m    120\u001b[0m         \u001b[0mreferences\u001b[0m \u001b[0;34m=\u001b[0m \u001b[0;34m[\u001b[0m\u001b[0;34m[\u001b[0m\u001b[0mtokenizer\u001b[0m\u001b[0;34m(\u001b[0m\u001b[0mr\u001b[0m\u001b[0;34m)\u001b[0m \u001b[0;32mfor\u001b[0m \u001b[0mr\u001b[0m \u001b[0;32min\u001b[0m \u001b[0mref\u001b[0m\u001b[0;34m]\u001b[0m \u001b[0;32mfor\u001b[0m \u001b[0mref\u001b[0m \u001b[0;32min\u001b[0m \u001b[0mreferences\u001b[0m\u001b[0;34m]\u001b[0m\u001b[0;34m\u001b[0m\u001b[0;34m\u001b[0m\u001b[0m\n\u001b[1;32m    121\u001b[0m         \u001b[0mpredictions\u001b[0m \u001b[0;34m=\u001b[0m \u001b[0;34m[\u001b[0m\u001b[0mtokenizer\u001b[0m\u001b[0;34m(\u001b[0m\u001b[0mp\u001b[0m\u001b[0;34m)\u001b[0m \u001b[0;32mfor\u001b[0m \u001b[0mp\u001b[0m \u001b[0;32min\u001b[0m \u001b[0mpredictions\u001b[0m\u001b[0;34m]\u001b[0m\u001b[0;34m\u001b[0m\u001b[0;34m\u001b[0m\u001b[0m\n\u001b[0;32m--> 122\u001b[0;31m         score = compute_bleu(\n\u001b[0m\u001b[1;32m    123\u001b[0m             \u001b[0mreference_corpus\u001b[0m\u001b[0;34m=\u001b[0m\u001b[0mreferences\u001b[0m\u001b[0;34m,\u001b[0m \u001b[0mtranslation_corpus\u001b[0m\u001b[0;34m=\u001b[0m\u001b[0mpredictions\u001b[0m\u001b[0;34m,\u001b[0m \u001b[0mmax_order\u001b[0m\u001b[0;34m=\u001b[0m\u001b[0mmax_order\u001b[0m\u001b[0;34m,\u001b[0m \u001b[0msmooth\u001b[0m\u001b[0;34m=\u001b[0m\u001b[0msmooth\u001b[0m\u001b[0;34m\u001b[0m\u001b[0;34m\u001b[0m\u001b[0m\n\u001b[1;32m    124\u001b[0m         )\n",
            "\u001b[0;32m~/.cache/huggingface/modules/evaluate_modules/metrics/evaluate-metric--bleu/9e0985c1200e367cce45605ce0ecb5ede079894e0f24f54613fca08eeb8aff76/nmt_bleu.py\u001b[0m in \u001b[0;36mcompute_bleu\u001b[0;34m(reference_corpus, translation_corpus, max_order, smooth)\u001b[0m\n\u001b[1;32m    106\u001b[0m     \u001b[0mbp\u001b[0m \u001b[0;34m=\u001b[0m \u001b[0;36m1.\u001b[0m\u001b[0;34m\u001b[0m\u001b[0;34m\u001b[0m\u001b[0m\n\u001b[1;32m    107\u001b[0m   \u001b[0;32melse\u001b[0m\u001b[0;34m:\u001b[0m\u001b[0;34m\u001b[0m\u001b[0;34m\u001b[0m\u001b[0m\n\u001b[0;32m--> 108\u001b[0;31m     \u001b[0mbp\u001b[0m \u001b[0;34m=\u001b[0m \u001b[0mmath\u001b[0m\u001b[0;34m.\u001b[0m\u001b[0mexp\u001b[0m\u001b[0;34m(\u001b[0m\u001b[0;36m1\u001b[0m \u001b[0;34m-\u001b[0m \u001b[0;36m1.\u001b[0m \u001b[0;34m/\u001b[0m \u001b[0mratio\u001b[0m\u001b[0;34m)\u001b[0m\u001b[0;34m\u001b[0m\u001b[0;34m\u001b[0m\u001b[0m\n\u001b[0m\u001b[1;32m    109\u001b[0m \u001b[0;34m\u001b[0m\u001b[0m\n\u001b[1;32m    110\u001b[0m   \u001b[0mbleu\u001b[0m \u001b[0;34m=\u001b[0m \u001b[0mgeo_mean\u001b[0m \u001b[0;34m*\u001b[0m \u001b[0mbp\u001b[0m\u001b[0;34m\u001b[0m\u001b[0;34m\u001b[0m\u001b[0m\n",
            "\u001b[0;31mZeroDivisionError\u001b[0m: float division by zero"
          ]
        }
      ]
    }
  ]
}